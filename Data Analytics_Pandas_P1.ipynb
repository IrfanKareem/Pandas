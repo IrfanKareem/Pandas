{
 "cells": [
  {
   "cell_type": "code",
   "execution_count": 1,
   "metadata": {},
   "outputs": [],
   "source": [
    "import pandas as pd"
   ]
  },
  {
   "cell_type": "code",
   "execution_count": 2,
   "metadata": {},
   "outputs": [],
   "source": [
    "weather_data={\n",
    "'Day':['3/1/2019','3/2/2019','3/3/2019','3/4/2019'],\n",
    "'Temperature':[15,17,14,21],\n",
    "'Windspeed':[6,7,10,12],\n",
    "'Event':['Rain','Sunny','Rain','Sunny']\n",
    "}"
   ]
  },
  {
   "cell_type": "code",
   "execution_count": 3,
   "metadata": {},
   "outputs": [],
   "source": [
    "dfd=pd.DataFrame(weather_data)"
   ]
  },
  {
   "cell_type": "code",
   "execution_count": 4,
   "metadata": {},
   "outputs": [
    {
     "name": "stdout",
     "output_type": "stream",
     "text": [
      "        Day  Temperature  Windspeed  Event\n",
      "0  3/1/2019           15          6   Rain\n",
      "1  3/2/2019           17          7  Sunny\n",
      "2  3/3/2019           14         10   Rain\n",
      "3  3/4/2019           21         12  Sunny\n"
     ]
    }
   ],
   "source": [
    "print(dfd)"
   ]
  },
  {
   "cell_type": "code",
   "execution_count": 5,
   "metadata": {},
   "outputs": [],
   "source": [
    "weather_data=[\n",
    "('3/1/2019',15,6,'Rain'),\n",
    "('3/2/2019',17,7,'Sunny'),\n",
    "('3/3/2019',14,10,'Rain'),\n",
    "('3/4/2019',21,12,'Sunny')]"
   ]
  },
  {
   "cell_type": "code",
   "execution_count": 6,
   "metadata": {},
   "outputs": [],
   "source": [
    "dft=pd.DataFrame(weather_data, columns=[\"Day\",\"Temperature\",\"Windspeed\",\"Event\"])"
   ]
  },
  {
   "cell_type": "code",
   "execution_count": 7,
   "metadata": {},
   "outputs": [
    {
     "name": "stdout",
     "output_type": "stream",
     "text": [
      "        Day  Temperature  Windspeed  Event\n",
      "0  3/1/2019           15          6   Rain\n",
      "1  3/2/2019           17          7  Sunny\n",
      "2  3/3/2019           14         10   Rain\n",
      "3  3/4/2019           21         12  Sunny\n"
     ]
    }
   ],
   "source": [
    "print(dft)"
   ]
  },
  {
   "cell_type": "code",
   "execution_count": 8,
   "metadata": {},
   "outputs": [],
   "source": [
    "weather_data=[\n",
    "{'Day':'1/1/2019','Temperature':15,'Windspeed':6,'Event':'Rain'},\n",
    "{'Day':'1/2/2019','Temperature':17,'Windspeed':7,'Event':'Sunny'},\n",
    "{'Day':'1/3/2019','Temperature':14,'Windspeed':10,'Event':'Rain'},\n",
    "{'Day':'1/4/2019','Temperature':21,'Windspeed':12,'Event':'Sunny'}\n",
    "]"
   ]
  },
  {
   "cell_type": "code",
   "execution_count": 9,
   "metadata": {},
   "outputs": [],
   "source": [
    "dfdl=pd.DataFrame(weather_data)"
   ]
  },
  {
   "cell_type": "code",
   "execution_count": 10,
   "metadata": {},
   "outputs": [
    {
     "name": "stdout",
     "output_type": "stream",
     "text": [
      "        Day  Event  Temperature  Windspeed\n",
      "0  1/1/2019   Rain           15          6\n",
      "1  1/2/2019  Sunny           17          7\n",
      "2  1/3/2019   Rain           14         10\n",
      "3  1/4/2019  Sunny           21         12\n"
     ]
    }
   ],
   "source": [
    "print(dfdl)"
   ]
  },
  {
   "cell_type": "code",
   "execution_count": 11,
   "metadata": {},
   "outputs": [],
   "source": [
    "dfc= pd.read_csv('WHO_csv.csv')"
   ]
  },
  {
   "cell_type": "code",
   "execution_count": 12,
   "metadata": {},
   "outputs": [
    {
     "name": "stdout",
     "output_type": "stream",
     "text": [
      "                                       Country                 Region  \\\n",
      "0                                  Afghanistan  Eastern Mediterranean   \n",
      "1                                      Albania                 Europe   \n",
      "2                                      Algeria                 Africa   \n",
      "3                                      Andorra                 Europe   \n",
      "4                                       Angola                 Africa   \n",
      "5                          Antigua and Barbuda               Americas   \n",
      "6                                    Argentina               Americas   \n",
      "7                                      Armenia                 Europe   \n",
      "8                                    Australia        Western Pacific   \n",
      "9                                      Austria                 Europe   \n",
      "10                                  Azerbaijan                 Europe   \n",
      "11                                     Bahamas               Americas   \n",
      "12                                     Bahrain  Eastern Mediterranean   \n",
      "13                                  Bangladesh        South-East Asia   \n",
      "14                                    Barbados               Americas   \n",
      "15                                     Belarus                 Europe   \n",
      "16                                     Belgium                 Europe   \n",
      "17                                      Belize               Americas   \n",
      "18                                       Benin                 Africa   \n",
      "19                                      Bhutan        South-East Asia   \n",
      "20            Bolivia (Plurinational State of)               Americas   \n",
      "21                      Bosnia and Herzegovina                 Europe   \n",
      "22                                    Botswana                 Africa   \n",
      "23                                      Brazil               Americas   \n",
      "24                           Brunei Darussalam        Western Pacific   \n",
      "25                                    Bulgaria                 Europe   \n",
      "26                                Burkina Faso                 Africa   \n",
      "27                                     Burundi                 Africa   \n",
      "28                                    Cambodia        Western Pacific   \n",
      "29                                    Cameroon                 Africa   \n",
      "..                                         ...                    ...   \n",
      "164                                   Suriname               Americas   \n",
      "165                                  Swaziland                 Africa   \n",
      "166                                     Sweden                 Europe   \n",
      "167                                Switzerland                 Europe   \n",
      "168                       Syrian Arab Republic  Eastern Mediterranean   \n",
      "169                                 Tajikistan                 Europe   \n",
      "170                                   Thailand        South-East Asia   \n",
      "171  The former Yugoslav Republic of Macedonia                 Europe   \n",
      "172                                Timor-Leste        South-East Asia   \n",
      "173                                       Togo                 Africa   \n",
      "174                                      Tonga        Western Pacific   \n",
      "175                        Trinidad and Tobago               Americas   \n",
      "176                                    Tunisia  Eastern Mediterranean   \n",
      "177                                     Turkey                 Europe   \n",
      "178                               Turkmenistan                 Europe   \n",
      "179                                     Tuvalu        Western Pacific   \n",
      "180                                     Uganda                 Africa   \n",
      "181                                    Ukraine                 Europe   \n",
      "182                       United Arab Emirates  Eastern Mediterranean   \n",
      "183                             United Kingdom                 Europe   \n",
      "184                United Republic of Tanzania                 Africa   \n",
      "185                   United States of America               Americas   \n",
      "186                                    Uruguay               Americas   \n",
      "187                                 Uzbekistan                 Europe   \n",
      "188                                    Vanuatu        Western Pacific   \n",
      "189         Venezuela (Bolivarian Republic of)               Americas   \n",
      "190                                   Viet Nam        Western Pacific   \n",
      "191                                      Yemen  Eastern Mediterranean   \n",
      "192                                     Zambia                 Africa   \n",
      "193                                   Zimbabwe                 Africa   \n",
      "\n",
      "     Population  Under15  Over60  FertilityRate  LifeExpectancy  \\\n",
      "0         29825    47.42    3.82           5.40              60   \n",
      "1          3162    21.33   14.93           1.75              74   \n",
      "2         38482    27.42    7.17           2.83              73   \n",
      "3            78    15.20   22.86            NaN              82   \n",
      "4         20821    47.58    3.84           6.10              51   \n",
      "5            89    25.96   12.35           2.12              75   \n",
      "6         41087    24.42   14.97           2.20              76   \n",
      "7          2969    20.34   14.06           1.74              71   \n",
      "8         23050    18.95   19.46           1.89              82   \n",
      "9          8464    14.51   23.52           1.44              81   \n",
      "10         9309    22.25    8.24           1.96              71   \n",
      "11          372    21.62   11.24           1.90              75   \n",
      "12         1318    20.16    3.38           2.12              79   \n",
      "13       155000    30.57    6.89           2.24              70   \n",
      "14          283    18.99   15.78           1.84              78   \n",
      "15         9405    15.10   19.31           1.47              71   \n",
      "16        11060    16.88   23.81           1.85              80   \n",
      "17          324    34.40    5.74           2.76              74   \n",
      "18        10051    42.95    4.54           5.01              57   \n",
      "19          742    28.53    6.90           2.32              67   \n",
      "20        10496    35.23    7.28           3.31              67   \n",
      "21         3834    16.35   20.52           1.26              76   \n",
      "22         2004    33.75    5.63           2.71              66   \n",
      "23       199000    24.56   10.81           1.82              74   \n",
      "24          412    25.75    7.03           2.03              77   \n",
      "25         7278    13.53   26.11           1.51              74   \n",
      "26        16460    45.66    3.88           5.78              56   \n",
      "27         9850    44.20    3.87           6.21              53   \n",
      "28        14865    31.23    7.67           2.93              65   \n",
      "29        21700    43.08    4.89           4.94              53   \n",
      "..          ...      ...     ...            ...             ...   \n",
      "164         535    27.83    9.55           2.32              72   \n",
      "165        1231    38.05    5.34           3.48              50   \n",
      "166        9511    16.71   25.32           1.93              82   \n",
      "167        7997    14.79   23.25           1.51              83   \n",
      "168       21890    35.35    6.09           3.04              75   \n",
      "169        8009    35.75    4.80           3.81              68   \n",
      "170       66785    18.47   13.96           1.43              74   \n",
      "171        2106    16.89   17.56           1.44              75   \n",
      "172        1114    46.33    5.16           6.11              64   \n",
      "173        6643    41.89    4.44           4.75              56   \n",
      "174         105    37.33    7.96           3.86              72   \n",
      "175        1337    20.73   13.18           1.80              71   \n",
      "176       10875    23.22   10.49           2.04              76   \n",
      "177       73997    26.00   10.56           2.08              76   \n",
      "178        5173    28.65    6.30           2.38              63   \n",
      "179          10    30.61    9.07            NaN              64   \n",
      "180       36346    48.54    3.72           6.06              56   \n",
      "181       45530    14.18   20.76           1.45              71   \n",
      "182        9206    14.41    0.81           1.84              76   \n",
      "183       62783    17.54   23.06           1.90              80   \n",
      "184       47783    44.85    4.89           5.36              59   \n",
      "185      318000    19.63   19.31           2.00              79   \n",
      "186        3395    22.05   18.59           2.07              77   \n",
      "187       28541    28.90    6.38           2.38              68   \n",
      "188         247    37.37    6.02           3.46              72   \n",
      "189       29955    28.84    9.17           2.44              75   \n",
      "190       90796    22.87    9.32           1.79              75   \n",
      "191       23852    40.72    4.54           4.35              64   \n",
      "192       14075    46.73    3.95           5.77              55   \n",
      "193       13724    40.24    5.68           3.64              54   \n",
      "\n",
      "     ChildMortality  CellularSubscribers  LiteracyRate      GNI  \\\n",
      "0              98.5                54.26           NaN   1140.0   \n",
      "1              16.7                96.39           NaN   8820.0   \n",
      "2              20.0                98.99           NaN   8310.0   \n",
      "3               3.2                75.49           NaN      NaN   \n",
      "4             163.5                48.38          70.1   5230.0   \n",
      "5               9.9               196.41          99.0  17900.0   \n",
      "6              14.2               134.92          97.8  17130.0   \n",
      "7              16.4               103.57          99.6   6100.0   \n",
      "8               4.9               108.34           NaN  38110.0   \n",
      "9               4.0               154.78           NaN  42050.0   \n",
      "10             35.2               108.75           NaN   8960.0   \n",
      "11             16.9                86.06           NaN      NaN   \n",
      "12              9.6               127.96          91.9      NaN   \n",
      "13             40.9                56.06          56.8   1940.0   \n",
      "14             18.4               127.01           NaN      NaN   \n",
      "15              5.2               111.88           NaN  14460.0   \n",
      "16              4.2               116.61           NaN  39190.0   \n",
      "17             18.3                69.96           NaN   6090.0   \n",
      "18             89.5                85.33          42.4   1620.0   \n",
      "19             44.6                65.58           NaN   5570.0   \n",
      "20             41.4                82.82           NaN   4890.0   \n",
      "21              6.7                84.52          97.9   9190.0   \n",
      "22             53.3               142.82          84.5  14550.0   \n",
      "23             14.4               124.26           NaN  11420.0   \n",
      "24              8.0               109.17          95.2      NaN   \n",
      "25             12.1               140.68           NaN  14160.0   \n",
      "26            102.4                45.27           NaN   1300.0   \n",
      "27            104.3                22.33          67.2    610.0   \n",
      "28             39.7                96.17           NaN   2230.0   \n",
      "29             94.9                52.35           NaN   2330.0   \n",
      "..              ...                  ...           ...      ...   \n",
      "164            20.8               178.88          94.7      NaN   \n",
      "165            79.7                63.70          87.4   5930.0   \n",
      "166             2.9               118.57           NaN  42200.0   \n",
      "167             4.3               131.43           NaN  52570.0   \n",
      "168            15.1                63.17          83.4      NaN   \n",
      "169            58.3                90.64          99.7   2300.0   \n",
      "170            13.2               111.63           NaN   8360.0   \n",
      "171             7.4               107.24          97.3  11090.0   \n",
      "172            56.7                53.23          58.3      NaN   \n",
      "173            95.5                50.45           NaN   1040.0   \n",
      "174            12.8                52.63           NaN   5000.0   \n",
      "175            20.7               135.64          98.8      NaN   \n",
      "176            16.1               116.93           NaN   9030.0   \n",
      "177            14.2                88.70           NaN  16940.0   \n",
      "178            52.8                68.77          99.6   8690.0   \n",
      "179            29.7                21.63           NaN      NaN   \n",
      "180            68.9                48.38          73.2   1310.0   \n",
      "181            10.7               122.98          99.7   7040.0   \n",
      "182             8.4               148.62           NaN  47890.0   \n",
      "183             4.8               130.75           NaN  36010.0   \n",
      "184            54.0                55.53          73.2   1500.0   \n",
      "185             7.1                92.72           NaN  48820.0   \n",
      "186             7.2               140.75          98.1  14640.0   \n",
      "187            39.6                91.65          99.4   3420.0   \n",
      "188            17.9                55.76          82.6   4330.0   \n",
      "189            15.3                97.78           NaN  12430.0   \n",
      "190            23.0               143.39          93.2   3250.0   \n",
      "191            60.0                47.05          63.9   2170.0   \n",
      "192            88.5                60.59          71.2   1490.0   \n",
      "193            89.8                72.13          92.2      NaN   \n",
      "\n",
      "     PrimarySchoolEnrollmentMale  PrimarySchoolEnrollmentFemale  \n",
      "0                            NaN                            NaN  \n",
      "1                            NaN                            NaN  \n",
      "2                           98.2                           96.4  \n",
      "3                           78.4                           79.4  \n",
      "4                           93.1                           78.2  \n",
      "5                           91.1                           84.5  \n",
      "6                            NaN                            NaN  \n",
      "7                            NaN                            NaN  \n",
      "8                           96.9                           97.5  \n",
      "9                            NaN                            NaN  \n",
      "10                          85.3                           84.1  \n",
      "11                           NaN                            NaN  \n",
      "12                           NaN                            NaN  \n",
      "13                           NaN                            NaN  \n",
      "14                           NaN                            NaN  \n",
      "15                           NaN                            NaN  \n",
      "16                          98.9                           99.2  \n",
      "17                           NaN                            NaN  \n",
      "18                           NaN                            NaN  \n",
      "19                          88.3                           91.5  \n",
      "20                          91.2                           91.5  \n",
      "21                          86.5                           88.4  \n",
      "22                           NaN                            NaN  \n",
      "23                           NaN                            NaN  \n",
      "24                           NaN                            NaN  \n",
      "25                          99.3                           99.7  \n",
      "26                          60.7                           55.9  \n",
      "27                           NaN                            NaN  \n",
      "28                          96.4                           95.4  \n",
      "29                          99.6                           87.4  \n",
      "..                           ...                            ...  \n",
      "164                          NaN                            NaN  \n",
      "165                          NaN                            NaN  \n",
      "166                         99.7                           99.0  \n",
      "167                         98.9                           99.5  \n",
      "168                          NaN                            NaN  \n",
      "169                         99.5                           96.0  \n",
      "170                          NaN                            NaN  \n",
      "171                         97.3                           99.2  \n",
      "172                         86.2                           85.6  \n",
      "173                          NaN                            NaN  \n",
      "174                          NaN                            NaN  \n",
      "175                         97.7                           97.0  \n",
      "176                          NaN                            NaN  \n",
      "177                         99.5                           98.3  \n",
      "178                          NaN                            NaN  \n",
      "179                          NaN                            NaN  \n",
      "180                         89.7                           92.3  \n",
      "181                         90.8                           91.5  \n",
      "182                          NaN                            NaN  \n",
      "183                         99.8                           99.6  \n",
      "184                          NaN                            NaN  \n",
      "185                         95.4                           96.1  \n",
      "186                          NaN                            NaN  \n",
      "187                         93.3                           91.0  \n",
      "188                          NaN                            NaN  \n",
      "189                         94.7                           95.1  \n",
      "190                          NaN                            NaN  \n",
      "191                         85.5                           70.5  \n",
      "192                         91.4                           93.9  \n",
      "193                          NaN                            NaN  \n",
      "\n",
      "[194 rows x 13 columns]\n"
     ]
    }
   ],
   "source": [
    "print(dfc)"
   ]
  },
  {
   "cell_type": "code",
   "execution_count": 13,
   "metadata": {},
   "outputs": [],
   "source": [
    "df=pd.read_csv('weather.csv')"
   ]
  },
  {
   "cell_type": "code",
   "execution_count": 14,
   "metadata": {},
   "outputs": [
    {
     "name": "stdout",
     "output_type": "stream",
     "text": [
      "  Weather Report   Unnamed: 1 Unnamed: 2 Unnamed: 3\n",
      "0           Date  Temperature  Windspeed      Event\n",
      "1       3/1/2019           30          6       Rain\n",
      "2       3/2/2019           32          7      Sunny\n",
      "3       3/3/2019           34         10       Rain\n",
      "4       3/4/2019           36         12      Sunny\n"
     ]
    }
   ],
   "source": [
    "print(df)"
   ]
  },
  {
   "cell_type": "code",
   "execution_count": 15,
   "metadata": {},
   "outputs": [],
   "source": [
    "df1=pd.read_csv('weather.csv',skiprows=1)"
   ]
  },
  {
   "cell_type": "code",
   "execution_count": 16,
   "metadata": {},
   "outputs": [
    {
     "name": "stdout",
     "output_type": "stream",
     "text": [
      "       Date  Temperature  Windspeed  Event\n",
      "0  3/1/2019           30          6   Rain\n",
      "1  3/2/2019           32          7  Sunny\n",
      "2  3/3/2019           34         10   Rain\n",
      "3  3/4/2019           36         12  Sunny\n"
     ]
    }
   ],
   "source": [
    "print(df1)"
   ]
  },
  {
   "cell_type": "code",
   "execution_count": 17,
   "metadata": {},
   "outputs": [],
   "source": [
    "dfs2= pd.read_csv('Weather.csv',header=1)"
   ]
  },
  {
   "cell_type": "code",
   "execution_count": 18,
   "metadata": {},
   "outputs": [
    {
     "name": "stdout",
     "output_type": "stream",
     "text": [
      "       Date  Temperature  Windspeed  Event\n",
      "0  3/1/2019           30          6   Rain\n",
      "1  3/2/2019           32          7  Sunny\n",
      "2  3/3/2019           34         10   Rain\n",
      "3  3/4/2019           36         12  Sunny\n"
     ]
    }
   ],
   "source": [
    "print(dfs2)"
   ]
  },
  {
   "cell_type": "code",
   "execution_count": 19,
   "metadata": {},
   "outputs": [],
   "source": [
    "dfh= pd.read_csv('Weather_header.csv')"
   ]
  },
  {
   "cell_type": "code",
   "execution_count": 20,
   "metadata": {},
   "outputs": [
    {
     "name": "stdout",
     "output_type": "stream",
     "text": [
      "   3/1/2019  30   6   Rain\n",
      "0  3/2/2019  32   7  Sunny\n",
      "1  3/3/2019  34  10   Rain\n",
      "2  3/4/2019  36  12  Sunny\n"
     ]
    }
   ],
   "source": [
    "print(dfh)"
   ]
  },
  {
   "cell_type": "code",
   "execution_count": 21,
   "metadata": {},
   "outputs": [
    {
     "name": "stdout",
     "output_type": "stream",
     "text": [
      "          0   1   2      3\n",
      "0  3/1/2019  30   6   Rain\n",
      "1  3/2/2019  32   7  Sunny\n",
      "2  3/3/2019  34  10   Rain\n",
      "3  3/4/2019  36  12  Sunny\n"
     ]
    }
   ],
   "source": [
    "dfhs1= pd.read_csv('Weather_header.csv',header=None)\n",
    "print(dfhs1)"
   ]
  },
  {
   "cell_type": "code",
   "execution_count": 22,
   "metadata": {},
   "outputs": [
    {
     "name": "stdout",
     "output_type": "stream",
     "text": [
      "       Date  Temperature  Windspeed  Event\n",
      "0  3/1/2019           30          6   Rain\n",
      "1  3/2/2019           32          7  Sunny\n",
      "2  3/3/2019           34         10   Rain\n",
      "3  3/4/2019           36         12  Sunny\n"
     ]
    }
   ],
   "source": [
    "dfhs2= pd.read_csv('Weather_header.csv',\n",
    "names=['Date','Temperature',\n",
    "'Windspeed','Event'])\n",
    "print(dfhs2)"
   ]
  },
  {
   "cell_type": "code",
   "execution_count": 23,
   "metadata": {},
   "outputs": [
    {
     "name": "stdout",
     "output_type": "stream",
     "text": [
      "       Date  Temperature  Windspeed  Event\n",
      "0  3/1/2019           30          6   Rain\n",
      "1  3/2/2019           32          7  Sunny\n"
     ]
    }
   ],
   "source": [
    "dffl= pd.read_csv('Weather1.csv',nrows=2)\n",
    "print(dffl)"
   ]
  },
  {
   "cell_type": "code",
   "execution_count": 24,
   "metadata": {},
   "outputs": [],
   "source": [
    "Family= pd.read_csv('Family.csv')"
   ]
  },
  {
   "cell_type": "code",
   "execution_count": 25,
   "metadata": {},
   "outputs": [
    {
     "name": "stdout",
     "output_type": "stream",
     "text": [
      "               Name           ID          Program\n",
      "0      Irfan Kareem  F2018279005           MS(CS)\n",
      "1     Rizwan Kareem  F2017279005          BS Math\n",
      "2      Ayyan Kareem  F2016279004  FSC Pre-Medical\n",
      "3  Family Data Base          NaN              NaN\n"
     ]
    }
   ],
   "source": [
    "print(Family)"
   ]
  },
  {
   "cell_type": "code",
   "execution_count": 26,
   "metadata": {},
   "outputs": [
    {
     "name": "stdout",
     "output_type": "stream",
     "text": [
      "            Name           ID          Program\n",
      "0   Irfan Kareem  F2018279005           MS(CS)\n",
      "1  Rizwan Kareem  F2017279005          BS Math\n",
      "2   Ayyan Kareem  F2016279004  FSC Pre-Medical\n"
     ]
    },
    {
     "name": "stderr",
     "output_type": "stream",
     "text": [
      "C:\\Users\\iwx499921\\AppData\\Local\\Continuum\\anaconda3\\lib\\site-packages\\ipykernel_launcher.py:1: ParserWarning: Falling back to the 'python' engine because the 'c' engine does not support skipfooter; you can avoid this warning by specifying engine='python'.\n",
      "  \"\"\"Entry point for launching an IPython kernel.\n"
     ]
    }
   ],
   "source": [
    "Family= pd.read_csv('Family.csv',skipfooter=1)\n",
    "print(Family)"
   ]
  },
  {
   "cell_type": "code",
   "execution_count": 27,
   "metadata": {},
   "outputs": [
    {
     "name": "stdout",
     "output_type": "stream",
     "text": [
      "                                       Country                 Region  \\\n",
      "0                                  Afghanistan  Eastern Mediterranean   \n",
      "1                                      Albania                 Europe   \n",
      "2                                      Algeria                 Africa   \n",
      "3                                      Andorra                 Europe   \n",
      "4                                       Angola                 Africa   \n",
      "5                          Antigua and Barbuda               Americas   \n",
      "6                                    Argentina               Americas   \n",
      "7                                      Armenia                 Europe   \n",
      "8                                    Australia        Western Pacific   \n",
      "9                                      Austria                 Europe   \n",
      "10                                  Azerbaijan                 Europe   \n",
      "11                                     Bahamas               Americas   \n",
      "12                                     Bahrain  Eastern Mediterranean   \n",
      "13                                  Bangladesh        South-East Asia   \n",
      "14                                    Barbados               Americas   \n",
      "15                                     Belarus                 Europe   \n",
      "16                                     Belgium                 Europe   \n",
      "17                                      Belize               Americas   \n",
      "18                                       Benin                 Africa   \n",
      "19                                      Bhutan        South-East Asia   \n",
      "20            Bolivia (Plurinational State of)               Americas   \n",
      "21                      Bosnia and Herzegovina                 Europe   \n",
      "22                                    Botswana                 Africa   \n",
      "23                                      Brazil               Americas   \n",
      "24                           Brunei Darussalam        Western Pacific   \n",
      "25                                    Bulgaria                 Europe   \n",
      "26                                Burkina Faso                 Africa   \n",
      "27                                     Burundi                 Africa   \n",
      "28                                    Cambodia        Western Pacific   \n",
      "29                                    Cameroon                 Africa   \n",
      "..                                         ...                    ...   \n",
      "164                                   Suriname               Americas   \n",
      "165                                  Swaziland                 Africa   \n",
      "166                                     Sweden                 Europe   \n",
      "167                                Switzerland                 Europe   \n",
      "168                       Syrian Arab Republic  Eastern Mediterranean   \n",
      "169                                 Tajikistan                 Europe   \n",
      "170                                   Thailand        South-East Asia   \n",
      "171  The former Yugoslav Republic of Macedonia                 Europe   \n",
      "172                                Timor-Leste        South-East Asia   \n",
      "173                                       Togo                 Africa   \n",
      "174                                      Tonga        Western Pacific   \n",
      "175                        Trinidad and Tobago               Americas   \n",
      "176                                    Tunisia  Eastern Mediterranean   \n",
      "177                                     Turkey                 Europe   \n",
      "178                               Turkmenistan                 Europe   \n",
      "179                                     Tuvalu        Western Pacific   \n",
      "180                                     Uganda                 Africa   \n",
      "181                                    Ukraine                 Europe   \n",
      "182                       United Arab Emirates  Eastern Mediterranean   \n",
      "183                             United Kingdom                 Europe   \n",
      "184                United Republic of Tanzania                 Africa   \n",
      "185                   United States of America               Americas   \n",
      "186                                    Uruguay               Americas   \n",
      "187                                 Uzbekistan                 Europe   \n",
      "188                                    Vanuatu        Western Pacific   \n",
      "189         Venezuela (Bolivarian Republic of)               Americas   \n",
      "190                                   Viet Nam        Western Pacific   \n",
      "191                                      Yemen  Eastern Mediterranean   \n",
      "192                                     Zambia                 Africa   \n",
      "193                                   Zimbabwe                 Africa   \n",
      "\n",
      "     Population  Under15  Over60  FertilityRate  LifeExpectancy  \\\n",
      "0         29825    47.42    3.82           5.40              60   \n",
      "1          3162    21.33   14.93           1.75              74   \n",
      "2         38482    27.42    7.17           2.83              73   \n",
      "3            78    15.20   22.86            NaN              82   \n",
      "4         20821    47.58    3.84           6.10              51   \n",
      "5            89    25.96   12.35           2.12              75   \n",
      "6         41087    24.42   14.97           2.20              76   \n",
      "7          2969    20.34   14.06           1.74              71   \n",
      "8         23050    18.95   19.46           1.89              82   \n",
      "9          8464    14.51   23.52           1.44              81   \n",
      "10         9309    22.25    8.24           1.96              71   \n",
      "11          372    21.62   11.24           1.90              75   \n",
      "12         1318    20.16    3.38           2.12              79   \n",
      "13       155000    30.57    6.89           2.24              70   \n",
      "14          283    18.99   15.78           1.84              78   \n",
      "15         9405    15.10   19.31           1.47              71   \n",
      "16        11060    16.88   23.81           1.85              80   \n",
      "17          324    34.40    5.74           2.76              74   \n",
      "18        10051    42.95    4.54           5.01              57   \n",
      "19          742    28.53    6.90           2.32              67   \n",
      "20        10496    35.23    7.28           3.31              67   \n",
      "21         3834    16.35   20.52           1.26              76   \n",
      "22         2004    33.75    5.63           2.71              66   \n",
      "23       199000    24.56   10.81           1.82              74   \n",
      "24          412    25.75    7.03           2.03              77   \n",
      "25         7278    13.53   26.11           1.51              74   \n",
      "26        16460    45.66    3.88           5.78              56   \n",
      "27         9850    44.20    3.87           6.21              53   \n",
      "28        14865    31.23    7.67           2.93              65   \n",
      "29        21700    43.08    4.89           4.94              53   \n",
      "..          ...      ...     ...            ...             ...   \n",
      "164         535    27.83    9.55           2.32              72   \n",
      "165        1231    38.05    5.34           3.48              50   \n",
      "166        9511    16.71   25.32           1.93              82   \n",
      "167        7997    14.79   23.25           1.51              83   \n",
      "168       21890    35.35    6.09           3.04              75   \n",
      "169        8009    35.75    4.80           3.81              68   \n",
      "170       66785    18.47   13.96           1.43              74   \n",
      "171        2106    16.89   17.56           1.44              75   \n",
      "172        1114    46.33    5.16           6.11              64   \n",
      "173        6643    41.89    4.44           4.75              56   \n",
      "174         105    37.33    7.96           3.86              72   \n",
      "175        1337    20.73   13.18           1.80              71   \n",
      "176       10875    23.22   10.49           2.04              76   \n",
      "177       73997    26.00   10.56           2.08              76   \n",
      "178        5173    28.65    6.30           2.38              63   \n",
      "179          10    30.61    9.07            NaN              64   \n",
      "180       36346    48.54    3.72           6.06              56   \n",
      "181       45530    14.18   20.76           1.45              71   \n",
      "182        9206    14.41    0.81           1.84              76   \n",
      "183       62783    17.54   23.06           1.90              80   \n",
      "184       47783    44.85    4.89           5.36              59   \n",
      "185      318000    19.63   19.31           2.00              79   \n",
      "186        3395    22.05   18.59           2.07              77   \n",
      "187       28541    28.90    6.38           2.38              68   \n",
      "188         247    37.37    6.02           3.46              72   \n",
      "189       29955    28.84    9.17           2.44              75   \n",
      "190       90796    22.87    9.32           1.79              75   \n",
      "191       23852    40.72    4.54           4.35              64   \n",
      "192       14075    46.73    3.95           5.77              55   \n",
      "193       13724    40.24    5.68           3.64              54   \n",
      "\n",
      "     ChildMortality  CellularSubscribers  LiteracyRate      GNI  \\\n",
      "0              98.5                54.26           NaN   1140.0   \n",
      "1              16.7                96.39           NaN   8820.0   \n",
      "2              20.0                98.99           NaN   8310.0   \n",
      "3               3.2                75.49           NaN      NaN   \n",
      "4             163.5                48.38          70.1   5230.0   \n",
      "5               9.9               196.41          99.0  17900.0   \n",
      "6              14.2               134.92          97.8  17130.0   \n",
      "7              16.4               103.57          99.6   6100.0   \n",
      "8               4.9               108.34           NaN  38110.0   \n",
      "9               4.0               154.78           NaN  42050.0   \n",
      "10             35.2               108.75           NaN   8960.0   \n",
      "11             16.9                86.06           NaN      NaN   \n",
      "12              9.6               127.96          91.9      NaN   \n",
      "13             40.9                56.06          56.8   1940.0   \n",
      "14             18.4               127.01           NaN      NaN   \n",
      "15              5.2               111.88           NaN  14460.0   \n",
      "16              4.2               116.61           NaN  39190.0   \n",
      "17             18.3                69.96           NaN   6090.0   \n",
      "18             89.5                85.33          42.4   1620.0   \n",
      "19             44.6                65.58           NaN   5570.0   \n",
      "20             41.4                82.82           NaN   4890.0   \n",
      "21              6.7                84.52          97.9   9190.0   \n",
      "22             53.3               142.82          84.5  14550.0   \n",
      "23             14.4               124.26           NaN  11420.0   \n",
      "24              8.0               109.17          95.2      NaN   \n",
      "25             12.1               140.68           NaN  14160.0   \n",
      "26            102.4                45.27           NaN   1300.0   \n",
      "27            104.3                22.33          67.2    610.0   \n",
      "28             39.7                96.17           NaN   2230.0   \n",
      "29             94.9                52.35           NaN   2330.0   \n",
      "..              ...                  ...           ...      ...   \n",
      "164            20.8               178.88          94.7      NaN   \n",
      "165            79.7                63.70          87.4   5930.0   \n",
      "166             2.9               118.57           NaN  42200.0   \n",
      "167             4.3               131.43           NaN  52570.0   \n",
      "168            15.1                63.17          83.4      NaN   \n",
      "169            58.3                90.64          99.7   2300.0   \n",
      "170            13.2               111.63           NaN   8360.0   \n",
      "171             7.4               107.24          97.3  11090.0   \n",
      "172            56.7                53.23          58.3      NaN   \n",
      "173            95.5                50.45           NaN   1040.0   \n",
      "174            12.8                52.63           NaN   5000.0   \n",
      "175            20.7               135.64          98.8      NaN   \n",
      "176            16.1               116.93           NaN   9030.0   \n",
      "177            14.2                88.70           NaN  16940.0   \n",
      "178            52.8                68.77          99.6   8690.0   \n",
      "179            29.7                21.63           NaN      NaN   \n",
      "180            68.9                48.38          73.2   1310.0   \n",
      "181            10.7               122.98          99.7   7040.0   \n",
      "182             8.4               148.62           NaN  47890.0   \n",
      "183             4.8               130.75           NaN  36010.0   \n",
      "184            54.0                55.53          73.2   1500.0   \n",
      "185             7.1                92.72           NaN  48820.0   \n",
      "186             7.2               140.75          98.1  14640.0   \n",
      "187            39.6                91.65          99.4   3420.0   \n",
      "188            17.9                55.76          82.6   4330.0   \n",
      "189            15.3                97.78           NaN  12430.0   \n",
      "190            23.0               143.39          93.2   3250.0   \n",
      "191            60.0                47.05          63.9   2170.0   \n",
      "192            88.5                60.59          71.2   1490.0   \n",
      "193            89.8                72.13          92.2      NaN   \n",
      "\n",
      "     PrimarySchoolEnrollmentMale  PrimarySchoolEnrollmentFemale  \n",
      "0                            NaN                            NaN  \n",
      "1                            NaN                            NaN  \n",
      "2                           98.2                           96.4  \n",
      "3                           78.4                           79.4  \n",
      "4                           93.1                           78.2  \n",
      "5                           91.1                           84.5  \n",
      "6                            NaN                            NaN  \n",
      "7                            NaN                            NaN  \n",
      "8                           96.9                           97.5  \n",
      "9                            NaN                            NaN  \n",
      "10                          85.3                           84.1  \n",
      "11                           NaN                            NaN  \n",
      "12                           NaN                            NaN  \n",
      "13                           NaN                            NaN  \n",
      "14                           NaN                            NaN  \n",
      "15                           NaN                            NaN  \n",
      "16                          98.9                           99.2  \n",
      "17                           NaN                            NaN  \n",
      "18                           NaN                            NaN  \n",
      "19                          88.3                           91.5  \n",
      "20                          91.2                           91.5  \n",
      "21                          86.5                           88.4  \n",
      "22                           NaN                            NaN  \n",
      "23                           NaN                            NaN  \n",
      "24                           NaN                            NaN  \n",
      "25                          99.3                           99.7  \n",
      "26                          60.7                           55.9  \n",
      "27                           NaN                            NaN  \n",
      "28                          96.4                           95.4  \n",
      "29                          99.6                           87.4  \n",
      "..                           ...                            ...  \n",
      "164                          NaN                            NaN  \n",
      "165                          NaN                            NaN  \n",
      "166                         99.7                           99.0  \n",
      "167                         98.9                           99.5  \n",
      "168                          NaN                            NaN  \n",
      "169                         99.5                           96.0  \n",
      "170                          NaN                            NaN  \n",
      "171                         97.3                           99.2  \n",
      "172                         86.2                           85.6  \n",
      "173                          NaN                            NaN  \n",
      "174                          NaN                            NaN  \n",
      "175                         97.7                           97.0  \n",
      "176                          NaN                            NaN  \n",
      "177                         99.5                           98.3  \n",
      "178                          NaN                            NaN  \n",
      "179                          NaN                            NaN  \n",
      "180                         89.7                           92.3  \n",
      "181                         90.8                           91.5  \n",
      "182                          NaN                            NaN  \n",
      "183                         99.8                           99.6  \n",
      "184                          NaN                            NaN  \n",
      "185                         95.4                           96.1  \n",
      "186                          NaN                            NaN  \n",
      "187                         93.3                           91.0  \n",
      "188                          NaN                            NaN  \n",
      "189                         94.7                           95.1  \n",
      "190                          NaN                            NaN  \n",
      "191                         85.5                           70.5  \n",
      "192                         91.4                           93.9  \n",
      "193                          NaN                            NaN  \n",
      "\n",
      "[194 rows x 13 columns]\n"
     ]
    }
   ],
   "source": [
    "dfe=pd.read_excel(\"WHO_ex.xlsx\")\n",
    "print(dfe)"
   ]
  },
  {
   "cell_type": "code",
   "execution_count": 28,
   "metadata": {},
   "outputs": [],
   "source": [
    "irfan = pd.ExcelFile('Weather_subject.xlsx')\n",
    "df1 = pd.read_excel(irfan, 'Weather')\n",
    "df2 = pd.read_excel(irfan, 'Subject')"
   ]
  },
  {
   "cell_type": "code",
   "execution_count": 29,
   "metadata": {},
   "outputs": [
    {
     "name": "stdout",
     "output_type": "stream",
     "text": [
      "         Day  Event  Temperature  Windspeed\n",
      "0 2019-03-01   Rain           30          6\n",
      "1 2019-03-02  Sunny           32          7\n",
      "2 2019-03-03   Rain           34         10\n",
      "3 2019-03-04  Sunny           36         12\n"
     ]
    }
   ],
   "source": [
    "print(df1)"
   ]
  },
  {
   "cell_type": "code",
   "execution_count": 30,
   "metadata": {},
   "outputs": [
    {
     "name": "stdout",
     "output_type": "stream",
     "text": [
      "   Marks     Name Result Subject\n",
      "0    100    Irfan   Pass    Math\n",
      "1     98    Riwan   Pass     Phy\n",
      "2     97    Ahmed   Pass    Chem\n",
      "3     95  Mansoor   Pass     Bio\n"
     ]
    }
   ],
   "source": [
    "print(df2)"
   ]
  },
  {
   "cell_type": "code",
   "execution_count": 31,
   "metadata": {},
   "outputs": [],
   "source": [
    "#Write Function of Data Frame\n",
    "subject_data=pd.DataFrame({\n",
    "'Name':['Irfan','Ali','Ahmed','Abdullah'],\n",
    "'Marks':[100,98,97,95],\n",
    "'Result':['Pass','Pass','Pass','Pass'],\n",
    "'Subject':['Math','Phy','Chem','Bio']\n",
    "})"
   ]
  },
  {
   "cell_type": "code",
   "execution_count": 32,
   "metadata": {},
   "outputs": [],
   "source": [
    "#Write .csv Format File (Example-1)\n",
    "subject_data.to_csv('csvformatexample1.csv')"
   ]
  },
  {
   "cell_type": "code",
   "execution_count": 33,
   "metadata": {},
   "outputs": [],
   "source": [
    "#Write .csv Format File (without Index) (Example-1)\n",
    "subject_data.to_csv('csvformatexample1index.csv',index=False)"
   ]
  },
  {
   "cell_type": "code",
   "execution_count": 34,
   "metadata": {},
   "outputs": [],
   "source": [
    "#Write .csv Format File (without Index)/Selected Columns Required (Example-1)\n",
    "subject_data.to_csv('csvformatexample1fc.csv',\n",
    "index=False,columns=['Name','Marks'])"
   ]
  },
  {
   "cell_type": "code",
   "execution_count": 35,
   "metadata": {},
   "outputs": [],
   "source": [
    "#Write .csv Format File Skip Header (Example-1)\n",
    "subject_data.to_csv('csvformatexamplsh.csv',index=False,header=False)"
   ]
  },
  {
   "cell_type": "code",
   "execution_count": 36,
   "metadata": {},
   "outputs": [],
   "source": [
    "#Write .xlsx Format File (Example-2)\n",
    "subject_data.to_excel(\"exformat1.xlsx\",sheet_name=\"Student\")"
   ]
  },
  {
   "cell_type": "code",
   "execution_count": 37,
   "metadata": {},
   "outputs": [],
   "source": [
    "#Write .xlsx Format File (Without Index and mentioned row and col no) (Example-2)\n",
    "subject_data.to_excel(\"exformat2.xlsx\",sheet_name=\"Student\",\n",
    "startrow=3,startcol=3,index=False)"
   ]
  },
  {
   "cell_type": "code",
   "execution_count": 38,
   "metadata": {},
   "outputs": [],
   "source": [
    "weather_data=pd.DataFrame({\n",
    "'day':['3/1/2019','3/2/2019','3/3/2019','3/4/2019'],\n",
    "'temperature':[15,17,14,21],\n",
    "'windspeed':[6,7,10,12],\n",
    "'event':['Rain','Sunny','Rain','Sunny']\n",
    "})"
   ]
  },
  {
   "cell_type": "code",
   "execution_count": 39,
   "metadata": {},
   "outputs": [],
   "source": [
    "#Write .xlsx Format File (For multiple worksheets of the same workbook) (Example-2)\n",
    "with pd.ExcelWriter('TwoTabSheet.xlsx') as writer:\n",
    " weather_data.to_excel(writer,sheet_name=\"Weather\",index=False)\n",
    " subject_data.to_excel(writer,sheet_name=\"Subject\",index=False)"
   ]
  },
  {
   "cell_type": "code",
   "execution_count": 40,
   "metadata": {},
   "outputs": [],
   "source": [
    "with pd.ExcelWriter('Threetabsheet.xlsx') as writer:\n",
    "    weather_data.to_excel(writer,sheet_name=\"Temperature\",index=False)\n",
    "    weather_data.to_excel (writer,sheet_name=\"windspeed\" ,index=False)\n",
    "    weather_data.to_excel (writer,sheet_name=\"event\" ,index=False)"
   ]
  },
  {
   "cell_type": "code",
   "execution_count": 41,
   "metadata": {},
   "outputs": [
    {
     "name": "stdout",
     "output_type": "stream",
     "text": [
      "       Date  Temperature  Windspeed  Event\n",
      "0  3/2/2019           30          6   Rain\n",
      "1  3/3/2019           32          7  Sunny\n",
      "2  3/4/2019           34         10   Rain\n",
      "3  3/5/2019           36         12  Sunny\n"
     ]
    }
   ],
   "source": [
    "#Date Time Format Issue\n",
    "DT= pd.read_csv(\"DateIssue.csv\")\n",
    "print(DT)"
   ]
  },
  {
   "cell_type": "code",
   "execution_count": 42,
   "metadata": {},
   "outputs": [
    {
     "data": {
      "text/plain": [
       "str"
      ]
     },
     "execution_count": 42,
     "metadata": {},
     "output_type": "execute_result"
    }
   ],
   "source": [
    "type(DT.Date[0])"
   ]
  },
  {
   "cell_type": "code",
   "execution_count": 43,
   "metadata": {},
   "outputs": [],
   "source": [
    "DT.set_index('Date',inplace=True)"
   ]
  },
  {
   "cell_type": "code",
   "execution_count": 44,
   "metadata": {},
   "outputs": [
    {
     "name": "stdout",
     "output_type": "stream",
     "text": [
      "          Temperature  Windspeed  Event\n",
      "Date                                   \n",
      "3/2/2019           30          6   Rain\n",
      "3/3/2019           32          7  Sunny\n",
      "3/4/2019           34         10   Rain\n",
      "3/5/2019           36         12  Sunny\n"
     ]
    }
   ],
   "source": [
    "print(DT)"
   ]
  },
  {
   "cell_type": "code",
   "execution_count": 45,
   "metadata": {},
   "outputs": [],
   "source": [
    "#Operations on Data Frames\n",
    "WHO= pd.read_csv(\"WHO_csv.csv\")"
   ]
  },
  {
   "cell_type": "code",
   "execution_count": 46,
   "metadata": {},
   "outputs": [
    {
     "name": "stdout",
     "output_type": "stream",
     "text": [
      "                                       Country                 Region  \\\n",
      "0                                  Afghanistan  Eastern Mediterranean   \n",
      "1                                      Albania                 Europe   \n",
      "2                                      Algeria                 Africa   \n",
      "3                                      Andorra                 Europe   \n",
      "4                                       Angola                 Africa   \n",
      "5                          Antigua and Barbuda               Americas   \n",
      "6                                    Argentina               Americas   \n",
      "7                                      Armenia                 Europe   \n",
      "8                                    Australia        Western Pacific   \n",
      "9                                      Austria                 Europe   \n",
      "10                                  Azerbaijan                 Europe   \n",
      "11                                     Bahamas               Americas   \n",
      "12                                     Bahrain  Eastern Mediterranean   \n",
      "13                                  Bangladesh        South-East Asia   \n",
      "14                                    Barbados               Americas   \n",
      "15                                     Belarus                 Europe   \n",
      "16                                     Belgium                 Europe   \n",
      "17                                      Belize               Americas   \n",
      "18                                       Benin                 Africa   \n",
      "19                                      Bhutan        South-East Asia   \n",
      "20            Bolivia (Plurinational State of)               Americas   \n",
      "21                      Bosnia and Herzegovina                 Europe   \n",
      "22                                    Botswana                 Africa   \n",
      "23                                      Brazil               Americas   \n",
      "24                           Brunei Darussalam        Western Pacific   \n",
      "25                                    Bulgaria                 Europe   \n",
      "26                                Burkina Faso                 Africa   \n",
      "27                                     Burundi                 Africa   \n",
      "28                                    Cambodia        Western Pacific   \n",
      "29                                    Cameroon                 Africa   \n",
      "..                                         ...                    ...   \n",
      "164                                   Suriname               Americas   \n",
      "165                                  Swaziland                 Africa   \n",
      "166                                     Sweden                 Europe   \n",
      "167                                Switzerland                 Europe   \n",
      "168                       Syrian Arab Republic  Eastern Mediterranean   \n",
      "169                                 Tajikistan                 Europe   \n",
      "170                                   Thailand        South-East Asia   \n",
      "171  The former Yugoslav Republic of Macedonia                 Europe   \n",
      "172                                Timor-Leste        South-East Asia   \n",
      "173                                       Togo                 Africa   \n",
      "174                                      Tonga        Western Pacific   \n",
      "175                        Trinidad and Tobago               Americas   \n",
      "176                                    Tunisia  Eastern Mediterranean   \n",
      "177                                     Turkey                 Europe   \n",
      "178                               Turkmenistan                 Europe   \n",
      "179                                     Tuvalu        Western Pacific   \n",
      "180                                     Uganda                 Africa   \n",
      "181                                    Ukraine                 Europe   \n",
      "182                       United Arab Emirates  Eastern Mediterranean   \n",
      "183                             United Kingdom                 Europe   \n",
      "184                United Republic of Tanzania                 Africa   \n",
      "185                   United States of America               Americas   \n",
      "186                                    Uruguay               Americas   \n",
      "187                                 Uzbekistan                 Europe   \n",
      "188                                    Vanuatu        Western Pacific   \n",
      "189         Venezuela (Bolivarian Republic of)               Americas   \n",
      "190                                   Viet Nam        Western Pacific   \n",
      "191                                      Yemen  Eastern Mediterranean   \n",
      "192                                     Zambia                 Africa   \n",
      "193                                   Zimbabwe                 Africa   \n",
      "\n",
      "     Population  Under15  Over60  FertilityRate  LifeExpectancy  \\\n",
      "0         29825    47.42    3.82           5.40              60   \n",
      "1          3162    21.33   14.93           1.75              74   \n",
      "2         38482    27.42    7.17           2.83              73   \n",
      "3            78    15.20   22.86            NaN              82   \n",
      "4         20821    47.58    3.84           6.10              51   \n",
      "5            89    25.96   12.35           2.12              75   \n",
      "6         41087    24.42   14.97           2.20              76   \n",
      "7          2969    20.34   14.06           1.74              71   \n",
      "8         23050    18.95   19.46           1.89              82   \n",
      "9          8464    14.51   23.52           1.44              81   \n",
      "10         9309    22.25    8.24           1.96              71   \n",
      "11          372    21.62   11.24           1.90              75   \n",
      "12         1318    20.16    3.38           2.12              79   \n",
      "13       155000    30.57    6.89           2.24              70   \n",
      "14          283    18.99   15.78           1.84              78   \n",
      "15         9405    15.10   19.31           1.47              71   \n",
      "16        11060    16.88   23.81           1.85              80   \n",
      "17          324    34.40    5.74           2.76              74   \n",
      "18        10051    42.95    4.54           5.01              57   \n",
      "19          742    28.53    6.90           2.32              67   \n",
      "20        10496    35.23    7.28           3.31              67   \n",
      "21         3834    16.35   20.52           1.26              76   \n",
      "22         2004    33.75    5.63           2.71              66   \n",
      "23       199000    24.56   10.81           1.82              74   \n",
      "24          412    25.75    7.03           2.03              77   \n",
      "25         7278    13.53   26.11           1.51              74   \n",
      "26        16460    45.66    3.88           5.78              56   \n",
      "27         9850    44.20    3.87           6.21              53   \n",
      "28        14865    31.23    7.67           2.93              65   \n",
      "29        21700    43.08    4.89           4.94              53   \n",
      "..          ...      ...     ...            ...             ...   \n",
      "164         535    27.83    9.55           2.32              72   \n",
      "165        1231    38.05    5.34           3.48              50   \n",
      "166        9511    16.71   25.32           1.93              82   \n",
      "167        7997    14.79   23.25           1.51              83   \n",
      "168       21890    35.35    6.09           3.04              75   \n",
      "169        8009    35.75    4.80           3.81              68   \n",
      "170       66785    18.47   13.96           1.43              74   \n",
      "171        2106    16.89   17.56           1.44              75   \n",
      "172        1114    46.33    5.16           6.11              64   \n",
      "173        6643    41.89    4.44           4.75              56   \n",
      "174         105    37.33    7.96           3.86              72   \n",
      "175        1337    20.73   13.18           1.80              71   \n",
      "176       10875    23.22   10.49           2.04              76   \n",
      "177       73997    26.00   10.56           2.08              76   \n",
      "178        5173    28.65    6.30           2.38              63   \n",
      "179          10    30.61    9.07            NaN              64   \n",
      "180       36346    48.54    3.72           6.06              56   \n",
      "181       45530    14.18   20.76           1.45              71   \n",
      "182        9206    14.41    0.81           1.84              76   \n",
      "183       62783    17.54   23.06           1.90              80   \n",
      "184       47783    44.85    4.89           5.36              59   \n",
      "185      318000    19.63   19.31           2.00              79   \n",
      "186        3395    22.05   18.59           2.07              77   \n",
      "187       28541    28.90    6.38           2.38              68   \n",
      "188         247    37.37    6.02           3.46              72   \n",
      "189       29955    28.84    9.17           2.44              75   \n",
      "190       90796    22.87    9.32           1.79              75   \n",
      "191       23852    40.72    4.54           4.35              64   \n",
      "192       14075    46.73    3.95           5.77              55   \n",
      "193       13724    40.24    5.68           3.64              54   \n",
      "\n",
      "     ChildMortality  CellularSubscribers  LiteracyRate      GNI  \\\n",
      "0              98.5                54.26           NaN   1140.0   \n",
      "1              16.7                96.39           NaN   8820.0   \n",
      "2              20.0                98.99           NaN   8310.0   \n",
      "3               3.2                75.49           NaN      NaN   \n",
      "4             163.5                48.38          70.1   5230.0   \n",
      "5               9.9               196.41          99.0  17900.0   \n",
      "6              14.2               134.92          97.8  17130.0   \n",
      "7              16.4               103.57          99.6   6100.0   \n",
      "8               4.9               108.34           NaN  38110.0   \n",
      "9               4.0               154.78           NaN  42050.0   \n",
      "10             35.2               108.75           NaN   8960.0   \n",
      "11             16.9                86.06           NaN      NaN   \n",
      "12              9.6               127.96          91.9      NaN   \n",
      "13             40.9                56.06          56.8   1940.0   \n",
      "14             18.4               127.01           NaN      NaN   \n",
      "15              5.2               111.88           NaN  14460.0   \n",
      "16              4.2               116.61           NaN  39190.0   \n",
      "17             18.3                69.96           NaN   6090.0   \n",
      "18             89.5                85.33          42.4   1620.0   \n",
      "19             44.6                65.58           NaN   5570.0   \n",
      "20             41.4                82.82           NaN   4890.0   \n",
      "21              6.7                84.52          97.9   9190.0   \n",
      "22             53.3               142.82          84.5  14550.0   \n",
      "23             14.4               124.26           NaN  11420.0   \n",
      "24              8.0               109.17          95.2      NaN   \n",
      "25             12.1               140.68           NaN  14160.0   \n",
      "26            102.4                45.27           NaN   1300.0   \n",
      "27            104.3                22.33          67.2    610.0   \n",
      "28             39.7                96.17           NaN   2230.0   \n",
      "29             94.9                52.35           NaN   2330.0   \n",
      "..              ...                  ...           ...      ...   \n",
      "164            20.8               178.88          94.7      NaN   \n",
      "165            79.7                63.70          87.4   5930.0   \n",
      "166             2.9               118.57           NaN  42200.0   \n",
      "167             4.3               131.43           NaN  52570.0   \n",
      "168            15.1                63.17          83.4      NaN   \n",
      "169            58.3                90.64          99.7   2300.0   \n",
      "170            13.2               111.63           NaN   8360.0   \n",
      "171             7.4               107.24          97.3  11090.0   \n",
      "172            56.7                53.23          58.3      NaN   \n",
      "173            95.5                50.45           NaN   1040.0   \n",
      "174            12.8                52.63           NaN   5000.0   \n",
      "175            20.7               135.64          98.8      NaN   \n",
      "176            16.1               116.93           NaN   9030.0   \n",
      "177            14.2                88.70           NaN  16940.0   \n",
      "178            52.8                68.77          99.6   8690.0   \n",
      "179            29.7                21.63           NaN      NaN   \n",
      "180            68.9                48.38          73.2   1310.0   \n",
      "181            10.7               122.98          99.7   7040.0   \n",
      "182             8.4               148.62           NaN  47890.0   \n",
      "183             4.8               130.75           NaN  36010.0   \n",
      "184            54.0                55.53          73.2   1500.0   \n",
      "185             7.1                92.72           NaN  48820.0   \n",
      "186             7.2               140.75          98.1  14640.0   \n",
      "187            39.6                91.65          99.4   3420.0   \n",
      "188            17.9                55.76          82.6   4330.0   \n",
      "189            15.3                97.78           NaN  12430.0   \n",
      "190            23.0               143.39          93.2   3250.0   \n",
      "191            60.0                47.05          63.9   2170.0   \n",
      "192            88.5                60.59          71.2   1490.0   \n",
      "193            89.8                72.13          92.2      NaN   \n",
      "\n",
      "     PrimarySchoolEnrollmentMale  PrimarySchoolEnrollmentFemale  \n",
      "0                            NaN                            NaN  \n",
      "1                            NaN                            NaN  \n",
      "2                           98.2                           96.4  \n",
      "3                           78.4                           79.4  \n",
      "4                           93.1                           78.2  \n",
      "5                           91.1                           84.5  \n",
      "6                            NaN                            NaN  \n",
      "7                            NaN                            NaN  \n",
      "8                           96.9                           97.5  \n",
      "9                            NaN                            NaN  \n",
      "10                          85.3                           84.1  \n",
      "11                           NaN                            NaN  \n",
      "12                           NaN                            NaN  \n",
      "13                           NaN                            NaN  \n",
      "14                           NaN                            NaN  \n",
      "15                           NaN                            NaN  \n",
      "16                          98.9                           99.2  \n",
      "17                           NaN                            NaN  \n",
      "18                           NaN                            NaN  \n",
      "19                          88.3                           91.5  \n",
      "20                          91.2                           91.5  \n",
      "21                          86.5                           88.4  \n",
      "22                           NaN                            NaN  \n",
      "23                           NaN                            NaN  \n",
      "24                           NaN                            NaN  \n",
      "25                          99.3                           99.7  \n",
      "26                          60.7                           55.9  \n",
      "27                           NaN                            NaN  \n",
      "28                          96.4                           95.4  \n",
      "29                          99.6                           87.4  \n",
      "..                           ...                            ...  \n",
      "164                          NaN                            NaN  \n",
      "165                          NaN                            NaN  \n",
      "166                         99.7                           99.0  \n",
      "167                         98.9                           99.5  \n",
      "168                          NaN                            NaN  \n",
      "169                         99.5                           96.0  \n",
      "170                          NaN                            NaN  \n",
      "171                         97.3                           99.2  \n",
      "172                         86.2                           85.6  \n",
      "173                          NaN                            NaN  \n",
      "174                          NaN                            NaN  \n",
      "175                         97.7                           97.0  \n",
      "176                          NaN                            NaN  \n",
      "177                         99.5                           98.3  \n",
      "178                          NaN                            NaN  \n",
      "179                          NaN                            NaN  \n",
      "180                         89.7                           92.3  \n",
      "181                         90.8                           91.5  \n",
      "182                          NaN                            NaN  \n",
      "183                         99.8                           99.6  \n",
      "184                          NaN                            NaN  \n",
      "185                         95.4                           96.1  \n",
      "186                          NaN                            NaN  \n",
      "187                         93.3                           91.0  \n",
      "188                          NaN                            NaN  \n",
      "189                         94.7                           95.1  \n",
      "190                          NaN                            NaN  \n",
      "191                         85.5                           70.5  \n",
      "192                         91.4                           93.9  \n",
      "193                          NaN                            NaN  \n",
      "\n",
      "[194 rows x 13 columns]\n"
     ]
    }
   ],
   "source": [
    "print(WHO)"
   ]
  },
  {
   "cell_type": "code",
   "execution_count": 47,
   "metadata": {},
   "outputs": [
    {
     "data": {
      "text/html": [
       "<div>\n",
       "<style scoped>\n",
       "    .dataframe tbody tr th:only-of-type {\n",
       "        vertical-align: middle;\n",
       "    }\n",
       "\n",
       "    .dataframe tbody tr th {\n",
       "        vertical-align: top;\n",
       "    }\n",
       "\n",
       "    .dataframe thead th {\n",
       "        text-align: right;\n",
       "    }\n",
       "</style>\n",
       "<table border=\"1\" class=\"dataframe\">\n",
       "  <thead>\n",
       "    <tr style=\"text-align: right;\">\n",
       "      <th></th>\n",
       "      <th>Country</th>\n",
       "      <th>Region</th>\n",
       "      <th>Population</th>\n",
       "      <th>Under15</th>\n",
       "      <th>Over60</th>\n",
       "      <th>FertilityRate</th>\n",
       "      <th>LifeExpectancy</th>\n",
       "      <th>ChildMortality</th>\n",
       "      <th>CellularSubscribers</th>\n",
       "      <th>LiteracyRate</th>\n",
       "      <th>GNI</th>\n",
       "      <th>PrimarySchoolEnrollmentMale</th>\n",
       "      <th>PrimarySchoolEnrollmentFemale</th>\n",
       "    </tr>\n",
       "  </thead>\n",
       "  <tbody>\n",
       "    <tr>\n",
       "      <th>0</th>\n",
       "      <td>Afghanistan</td>\n",
       "      <td>Eastern Mediterranean</td>\n",
       "      <td>29825</td>\n",
       "      <td>47.42</td>\n",
       "      <td>3.82</td>\n",
       "      <td>5.40</td>\n",
       "      <td>60</td>\n",
       "      <td>98.5</td>\n",
       "      <td>54.26</td>\n",
       "      <td>NaN</td>\n",
       "      <td>1140.0</td>\n",
       "      <td>NaN</td>\n",
       "      <td>NaN</td>\n",
       "    </tr>\n",
       "    <tr>\n",
       "      <th>1</th>\n",
       "      <td>Albania</td>\n",
       "      <td>Europe</td>\n",
       "      <td>3162</td>\n",
       "      <td>21.33</td>\n",
       "      <td>14.93</td>\n",
       "      <td>1.75</td>\n",
       "      <td>74</td>\n",
       "      <td>16.7</td>\n",
       "      <td>96.39</td>\n",
       "      <td>NaN</td>\n",
       "      <td>8820.0</td>\n",
       "      <td>NaN</td>\n",
       "      <td>NaN</td>\n",
       "    </tr>\n",
       "    <tr>\n",
       "      <th>2</th>\n",
       "      <td>Algeria</td>\n",
       "      <td>Africa</td>\n",
       "      <td>38482</td>\n",
       "      <td>27.42</td>\n",
       "      <td>7.17</td>\n",
       "      <td>2.83</td>\n",
       "      <td>73</td>\n",
       "      <td>20.0</td>\n",
       "      <td>98.99</td>\n",
       "      <td>NaN</td>\n",
       "      <td>8310.0</td>\n",
       "      <td>98.2</td>\n",
       "      <td>96.4</td>\n",
       "    </tr>\n",
       "    <tr>\n",
       "      <th>3</th>\n",
       "      <td>Andorra</td>\n",
       "      <td>Europe</td>\n",
       "      <td>78</td>\n",
       "      <td>15.20</td>\n",
       "      <td>22.86</td>\n",
       "      <td>NaN</td>\n",
       "      <td>82</td>\n",
       "      <td>3.2</td>\n",
       "      <td>75.49</td>\n",
       "      <td>NaN</td>\n",
       "      <td>NaN</td>\n",
       "      <td>78.4</td>\n",
       "      <td>79.4</td>\n",
       "    </tr>\n",
       "    <tr>\n",
       "      <th>4</th>\n",
       "      <td>Angola</td>\n",
       "      <td>Africa</td>\n",
       "      <td>20821</td>\n",
       "      <td>47.58</td>\n",
       "      <td>3.84</td>\n",
       "      <td>6.10</td>\n",
       "      <td>51</td>\n",
       "      <td>163.5</td>\n",
       "      <td>48.38</td>\n",
       "      <td>70.1</td>\n",
       "      <td>5230.0</td>\n",
       "      <td>93.1</td>\n",
       "      <td>78.2</td>\n",
       "    </tr>\n",
       "  </tbody>\n",
       "</table>\n",
       "</div>"
      ],
      "text/plain": [
       "       Country                 Region  Population  Under15  Over60  \\\n",
       "0  Afghanistan  Eastern Mediterranean       29825    47.42    3.82   \n",
       "1      Albania                 Europe        3162    21.33   14.93   \n",
       "2      Algeria                 Africa       38482    27.42    7.17   \n",
       "3      Andorra                 Europe          78    15.20   22.86   \n",
       "4       Angola                 Africa       20821    47.58    3.84   \n",
       "\n",
       "   FertilityRate  LifeExpectancy  ChildMortality  CellularSubscribers  \\\n",
       "0           5.40              60            98.5                54.26   \n",
       "1           1.75              74            16.7                96.39   \n",
       "2           2.83              73            20.0                98.99   \n",
       "3            NaN              82             3.2                75.49   \n",
       "4           6.10              51           163.5                48.38   \n",
       "\n",
       "   LiteracyRate     GNI  PrimarySchoolEnrollmentMale  \\\n",
       "0           NaN  1140.0                          NaN   \n",
       "1           NaN  8820.0                          NaN   \n",
       "2           NaN  8310.0                         98.2   \n",
       "3           NaN     NaN                         78.4   \n",
       "4          70.1  5230.0                         93.1   \n",
       "\n",
       "   PrimarySchoolEnrollmentFemale  \n",
       "0                            NaN  \n",
       "1                            NaN  \n",
       "2                           96.4  \n",
       "3                           79.4  \n",
       "4                           78.2  "
      ]
     },
     "execution_count": 47,
     "metadata": {},
     "output_type": "execute_result"
    }
   ],
   "source": [
    "WHO.head()"
   ]
  },
  {
   "cell_type": "code",
   "execution_count": 48,
   "metadata": {},
   "outputs": [
    {
     "data": {
      "text/html": [
       "<div>\n",
       "<style scoped>\n",
       "    .dataframe tbody tr th:only-of-type {\n",
       "        vertical-align: middle;\n",
       "    }\n",
       "\n",
       "    .dataframe tbody tr th {\n",
       "        vertical-align: top;\n",
       "    }\n",
       "\n",
       "    .dataframe thead th {\n",
       "        text-align: right;\n",
       "    }\n",
       "</style>\n",
       "<table border=\"1\" class=\"dataframe\">\n",
       "  <thead>\n",
       "    <tr style=\"text-align: right;\">\n",
       "      <th></th>\n",
       "      <th>Country</th>\n",
       "      <th>Region</th>\n",
       "      <th>Population</th>\n",
       "      <th>Under15</th>\n",
       "      <th>Over60</th>\n",
       "      <th>FertilityRate</th>\n",
       "      <th>LifeExpectancy</th>\n",
       "      <th>ChildMortality</th>\n",
       "      <th>CellularSubscribers</th>\n",
       "      <th>LiteracyRate</th>\n",
       "      <th>GNI</th>\n",
       "      <th>PrimarySchoolEnrollmentMale</th>\n",
       "      <th>PrimarySchoolEnrollmentFemale</th>\n",
       "    </tr>\n",
       "  </thead>\n",
       "  <tbody>\n",
       "    <tr>\n",
       "      <th>0</th>\n",
       "      <td>Afghanistan</td>\n",
       "      <td>Eastern Mediterranean</td>\n",
       "      <td>29825</td>\n",
       "      <td>47.42</td>\n",
       "      <td>3.82</td>\n",
       "      <td>5.40</td>\n",
       "      <td>60</td>\n",
       "      <td>98.5</td>\n",
       "      <td>54.26</td>\n",
       "      <td>NaN</td>\n",
       "      <td>1140.0</td>\n",
       "      <td>NaN</td>\n",
       "      <td>NaN</td>\n",
       "    </tr>\n",
       "    <tr>\n",
       "      <th>1</th>\n",
       "      <td>Albania</td>\n",
       "      <td>Europe</td>\n",
       "      <td>3162</td>\n",
       "      <td>21.33</td>\n",
       "      <td>14.93</td>\n",
       "      <td>1.75</td>\n",
       "      <td>74</td>\n",
       "      <td>16.7</td>\n",
       "      <td>96.39</td>\n",
       "      <td>NaN</td>\n",
       "      <td>8820.0</td>\n",
       "      <td>NaN</td>\n",
       "      <td>NaN</td>\n",
       "    </tr>\n",
       "  </tbody>\n",
       "</table>\n",
       "</div>"
      ],
      "text/plain": [
       "       Country                 Region  Population  Under15  Over60  \\\n",
       "0  Afghanistan  Eastern Mediterranean       29825    47.42    3.82   \n",
       "1      Albania                 Europe        3162    21.33   14.93   \n",
       "\n",
       "   FertilityRate  LifeExpectancy  ChildMortality  CellularSubscribers  \\\n",
       "0           5.40              60            98.5                54.26   \n",
       "1           1.75              74            16.7                96.39   \n",
       "\n",
       "   LiteracyRate     GNI  PrimarySchoolEnrollmentMale  \\\n",
       "0           NaN  1140.0                          NaN   \n",
       "1           NaN  8820.0                          NaN   \n",
       "\n",
       "   PrimarySchoolEnrollmentFemale  \n",
       "0                            NaN  \n",
       "1                            NaN  "
      ]
     },
     "execution_count": 48,
     "metadata": {},
     "output_type": "execute_result"
    }
   ],
   "source": [
    "WHO.head(2)"
   ]
  },
  {
   "cell_type": "code",
   "execution_count": 49,
   "metadata": {},
   "outputs": [
    {
     "data": {
      "text/html": [
       "<div>\n",
       "<style scoped>\n",
       "    .dataframe tbody tr th:only-of-type {\n",
       "        vertical-align: middle;\n",
       "    }\n",
       "\n",
       "    .dataframe tbody tr th {\n",
       "        vertical-align: top;\n",
       "    }\n",
       "\n",
       "    .dataframe thead th {\n",
       "        text-align: right;\n",
       "    }\n",
       "</style>\n",
       "<table border=\"1\" class=\"dataframe\">\n",
       "  <thead>\n",
       "    <tr style=\"text-align: right;\">\n",
       "      <th></th>\n",
       "      <th>Country</th>\n",
       "      <th>Region</th>\n",
       "      <th>Population</th>\n",
       "      <th>Under15</th>\n",
       "      <th>Over60</th>\n",
       "      <th>FertilityRate</th>\n",
       "      <th>LifeExpectancy</th>\n",
       "      <th>ChildMortality</th>\n",
       "      <th>CellularSubscribers</th>\n",
       "      <th>LiteracyRate</th>\n",
       "      <th>GNI</th>\n",
       "      <th>PrimarySchoolEnrollmentMale</th>\n",
       "      <th>PrimarySchoolEnrollmentFemale</th>\n",
       "    </tr>\n",
       "  </thead>\n",
       "  <tbody>\n",
       "    <tr>\n",
       "      <th>189</th>\n",
       "      <td>Venezuela (Bolivarian Republic of)</td>\n",
       "      <td>Americas</td>\n",
       "      <td>29955</td>\n",
       "      <td>28.84</td>\n",
       "      <td>9.17</td>\n",
       "      <td>2.44</td>\n",
       "      <td>75</td>\n",
       "      <td>15.3</td>\n",
       "      <td>97.78</td>\n",
       "      <td>NaN</td>\n",
       "      <td>12430.0</td>\n",
       "      <td>94.7</td>\n",
       "      <td>95.1</td>\n",
       "    </tr>\n",
       "    <tr>\n",
       "      <th>190</th>\n",
       "      <td>Viet Nam</td>\n",
       "      <td>Western Pacific</td>\n",
       "      <td>90796</td>\n",
       "      <td>22.87</td>\n",
       "      <td>9.32</td>\n",
       "      <td>1.79</td>\n",
       "      <td>75</td>\n",
       "      <td>23.0</td>\n",
       "      <td>143.39</td>\n",
       "      <td>93.2</td>\n",
       "      <td>3250.0</td>\n",
       "      <td>NaN</td>\n",
       "      <td>NaN</td>\n",
       "    </tr>\n",
       "    <tr>\n",
       "      <th>191</th>\n",
       "      <td>Yemen</td>\n",
       "      <td>Eastern Mediterranean</td>\n",
       "      <td>23852</td>\n",
       "      <td>40.72</td>\n",
       "      <td>4.54</td>\n",
       "      <td>4.35</td>\n",
       "      <td>64</td>\n",
       "      <td>60.0</td>\n",
       "      <td>47.05</td>\n",
       "      <td>63.9</td>\n",
       "      <td>2170.0</td>\n",
       "      <td>85.5</td>\n",
       "      <td>70.5</td>\n",
       "    </tr>\n",
       "    <tr>\n",
       "      <th>192</th>\n",
       "      <td>Zambia</td>\n",
       "      <td>Africa</td>\n",
       "      <td>14075</td>\n",
       "      <td>46.73</td>\n",
       "      <td>3.95</td>\n",
       "      <td>5.77</td>\n",
       "      <td>55</td>\n",
       "      <td>88.5</td>\n",
       "      <td>60.59</td>\n",
       "      <td>71.2</td>\n",
       "      <td>1490.0</td>\n",
       "      <td>91.4</td>\n",
       "      <td>93.9</td>\n",
       "    </tr>\n",
       "    <tr>\n",
       "      <th>193</th>\n",
       "      <td>Zimbabwe</td>\n",
       "      <td>Africa</td>\n",
       "      <td>13724</td>\n",
       "      <td>40.24</td>\n",
       "      <td>5.68</td>\n",
       "      <td>3.64</td>\n",
       "      <td>54</td>\n",
       "      <td>89.8</td>\n",
       "      <td>72.13</td>\n",
       "      <td>92.2</td>\n",
       "      <td>NaN</td>\n",
       "      <td>NaN</td>\n",
       "      <td>NaN</td>\n",
       "    </tr>\n",
       "  </tbody>\n",
       "</table>\n",
       "</div>"
      ],
      "text/plain": [
       "                                Country                 Region  Population  \\\n",
       "189  Venezuela (Bolivarian Republic of)               Americas       29955   \n",
       "190                            Viet Nam        Western Pacific       90796   \n",
       "191                               Yemen  Eastern Mediterranean       23852   \n",
       "192                              Zambia                 Africa       14075   \n",
       "193                            Zimbabwe                 Africa       13724   \n",
       "\n",
       "     Under15  Over60  FertilityRate  LifeExpectancy  ChildMortality  \\\n",
       "189    28.84    9.17           2.44              75            15.3   \n",
       "190    22.87    9.32           1.79              75            23.0   \n",
       "191    40.72    4.54           4.35              64            60.0   \n",
       "192    46.73    3.95           5.77              55            88.5   \n",
       "193    40.24    5.68           3.64              54            89.8   \n",
       "\n",
       "     CellularSubscribers  LiteracyRate      GNI  PrimarySchoolEnrollmentMale  \\\n",
       "189                97.78           NaN  12430.0                         94.7   \n",
       "190               143.39          93.2   3250.0                          NaN   \n",
       "191                47.05          63.9   2170.0                         85.5   \n",
       "192                60.59          71.2   1490.0                         91.4   \n",
       "193                72.13          92.2      NaN                          NaN   \n",
       "\n",
       "     PrimarySchoolEnrollmentFemale  \n",
       "189                           95.1  \n",
       "190                            NaN  \n",
       "191                           70.5  \n",
       "192                           93.9  \n",
       "193                            NaN  "
      ]
     },
     "execution_count": 49,
     "metadata": {},
     "output_type": "execute_result"
    }
   ],
   "source": [
    "WHO.tail()"
   ]
  },
  {
   "cell_type": "code",
   "execution_count": 50,
   "metadata": {},
   "outputs": [
    {
     "data": {
      "text/html": [
       "<div>\n",
       "<style scoped>\n",
       "    .dataframe tbody tr th:only-of-type {\n",
       "        vertical-align: middle;\n",
       "    }\n",
       "\n",
       "    .dataframe tbody tr th {\n",
       "        vertical-align: top;\n",
       "    }\n",
       "\n",
       "    .dataframe thead th {\n",
       "        text-align: right;\n",
       "    }\n",
       "</style>\n",
       "<table border=\"1\" class=\"dataframe\">\n",
       "  <thead>\n",
       "    <tr style=\"text-align: right;\">\n",
       "      <th></th>\n",
       "      <th>Country</th>\n",
       "      <th>Region</th>\n",
       "      <th>Population</th>\n",
       "      <th>Under15</th>\n",
       "      <th>Over60</th>\n",
       "      <th>FertilityRate</th>\n",
       "      <th>LifeExpectancy</th>\n",
       "      <th>ChildMortality</th>\n",
       "      <th>CellularSubscribers</th>\n",
       "      <th>LiteracyRate</th>\n",
       "      <th>GNI</th>\n",
       "      <th>PrimarySchoolEnrollmentMale</th>\n",
       "      <th>PrimarySchoolEnrollmentFemale</th>\n",
       "    </tr>\n",
       "  </thead>\n",
       "  <tbody>\n",
       "    <tr>\n",
       "      <th>192</th>\n",
       "      <td>Zambia</td>\n",
       "      <td>Africa</td>\n",
       "      <td>14075</td>\n",
       "      <td>46.73</td>\n",
       "      <td>3.95</td>\n",
       "      <td>5.77</td>\n",
       "      <td>55</td>\n",
       "      <td>88.5</td>\n",
       "      <td>60.59</td>\n",
       "      <td>71.2</td>\n",
       "      <td>1490.0</td>\n",
       "      <td>91.4</td>\n",
       "      <td>93.9</td>\n",
       "    </tr>\n",
       "    <tr>\n",
       "      <th>193</th>\n",
       "      <td>Zimbabwe</td>\n",
       "      <td>Africa</td>\n",
       "      <td>13724</td>\n",
       "      <td>40.24</td>\n",
       "      <td>5.68</td>\n",
       "      <td>3.64</td>\n",
       "      <td>54</td>\n",
       "      <td>89.8</td>\n",
       "      <td>72.13</td>\n",
       "      <td>92.2</td>\n",
       "      <td>NaN</td>\n",
       "      <td>NaN</td>\n",
       "      <td>NaN</td>\n",
       "    </tr>\n",
       "  </tbody>\n",
       "</table>\n",
       "</div>"
      ],
      "text/plain": [
       "      Country  Region  Population  Under15  Over60  FertilityRate  \\\n",
       "192    Zambia  Africa       14075    46.73    3.95           5.77   \n",
       "193  Zimbabwe  Africa       13724    40.24    5.68           3.64   \n",
       "\n",
       "     LifeExpectancy  ChildMortality  CellularSubscribers  LiteracyRate  \\\n",
       "192              55            88.5                60.59          71.2   \n",
       "193              54            89.8                72.13          92.2   \n",
       "\n",
       "        GNI  PrimarySchoolEnrollmentMale  PrimarySchoolEnrollmentFemale  \n",
       "192  1490.0                         91.4                           93.9  \n",
       "193     NaN                          NaN                            NaN  "
      ]
     },
     "execution_count": 50,
     "metadata": {},
     "output_type": "execute_result"
    }
   ],
   "source": [
    "WHO.tail(2)"
   ]
  },
  {
   "cell_type": "code",
   "execution_count": 51,
   "metadata": {},
   "outputs": [
    {
     "data": {
      "text/plain": [
       "(194, 13)"
      ]
     },
     "execution_count": 51,
     "metadata": {},
     "output_type": "execute_result"
    }
   ],
   "source": [
    "#Shape of the Data Frame\n",
    "WHO.shape"
   ]
  },
  {
   "cell_type": "code",
   "execution_count": 52,
   "metadata": {},
   "outputs": [],
   "source": [
    "rows,columns= WHO.shape"
   ]
  },
  {
   "cell_type": "code",
   "execution_count": 53,
   "metadata": {},
   "outputs": [
    {
     "name": "stdout",
     "output_type": "stream",
     "text": [
      "194 13\n"
     ]
    }
   ],
   "source": [
    "print(rows,columns)"
   ]
  },
  {
   "cell_type": "code",
   "execution_count": 54,
   "metadata": {},
   "outputs": [
    {
     "name": "stdout",
     "output_type": "stream",
     "text": [
      "194\n"
     ]
    }
   ],
   "source": [
    "print(rows)"
   ]
  },
  {
   "cell_type": "code",
   "execution_count": 55,
   "metadata": {},
   "outputs": [
    {
     "name": "stdout",
     "output_type": "stream",
     "text": [
      "13\n"
     ]
    }
   ],
   "source": [
    "print(columns)"
   ]
  },
  {
   "cell_type": "code",
   "execution_count": 56,
   "metadata": {},
   "outputs": [
    {
     "data": {
      "text/plain": [
       "Index(['Country', 'Region', 'Population', 'Under15', 'Over60', 'FertilityRate',\n",
       "       'LifeExpectancy', 'ChildMortality', 'CellularSubscribers',\n",
       "       'LiteracyRate', 'GNI', 'PrimarySchoolEnrollmentMale',\n",
       "       'PrimarySchoolEnrollmentFemale'],\n",
       "      dtype='object')"
      ]
     },
     "execution_count": 56,
     "metadata": {},
     "output_type": "execute_result"
    }
   ],
   "source": [
    "#How To Get Variables Name List\n",
    "WHO.columns"
   ]
  },
  {
   "cell_type": "code",
   "execution_count": 57,
   "metadata": {},
   "outputs": [
    {
     "data": {
      "text/html": [
       "<div>\n",
       "<style scoped>\n",
       "    .dataframe tbody tr th:only-of-type {\n",
       "        vertical-align: middle;\n",
       "    }\n",
       "\n",
       "    .dataframe tbody tr th {\n",
       "        vertical-align: top;\n",
       "    }\n",
       "\n",
       "    .dataframe thead th {\n",
       "        text-align: right;\n",
       "    }\n",
       "</style>\n",
       "<table border=\"1\" class=\"dataframe\">\n",
       "  <thead>\n",
       "    <tr style=\"text-align: right;\">\n",
       "      <th></th>\n",
       "      <th>Country</th>\n",
       "      <th>Region</th>\n",
       "      <th>Population</th>\n",
       "      <th>Under15</th>\n",
       "      <th>Over60</th>\n",
       "      <th>FertilityRate</th>\n",
       "      <th>LifeExpectancy</th>\n",
       "      <th>ChildMortality</th>\n",
       "      <th>CellularSubscribers</th>\n",
       "      <th>LiteracyRate</th>\n",
       "      <th>GNI</th>\n",
       "      <th>PrimarySchoolEnrollmentMale</th>\n",
       "      <th>PrimarySchoolEnrollmentFemale</th>\n",
       "    </tr>\n",
       "  </thead>\n",
       "  <tbody>\n",
       "    <tr>\n",
       "      <th>0</th>\n",
       "      <td>Afghanistan</td>\n",
       "      <td>Eastern Mediterranean</td>\n",
       "      <td>29825</td>\n",
       "      <td>47.42</td>\n",
       "      <td>3.82</td>\n",
       "      <td>5.40</td>\n",
       "      <td>60</td>\n",
       "      <td>98.5</td>\n",
       "      <td>54.26</td>\n",
       "      <td>NaN</td>\n",
       "      <td>1140.0</td>\n",
       "      <td>NaN</td>\n",
       "      <td>NaN</td>\n",
       "    </tr>\n",
       "    <tr>\n",
       "      <th>1</th>\n",
       "      <td>Albania</td>\n",
       "      <td>Europe</td>\n",
       "      <td>3162</td>\n",
       "      <td>21.33</td>\n",
       "      <td>14.93</td>\n",
       "      <td>1.75</td>\n",
       "      <td>74</td>\n",
       "      <td>16.7</td>\n",
       "      <td>96.39</td>\n",
       "      <td>NaN</td>\n",
       "      <td>8820.0</td>\n",
       "      <td>NaN</td>\n",
       "      <td>NaN</td>\n",
       "    </tr>\n",
       "    <tr>\n",
       "      <th>2</th>\n",
       "      <td>Algeria</td>\n",
       "      <td>Africa</td>\n",
       "      <td>38482</td>\n",
       "      <td>27.42</td>\n",
       "      <td>7.17</td>\n",
       "      <td>2.83</td>\n",
       "      <td>73</td>\n",
       "      <td>20.0</td>\n",
       "      <td>98.99</td>\n",
       "      <td>NaN</td>\n",
       "      <td>8310.0</td>\n",
       "      <td>98.2</td>\n",
       "      <td>96.4</td>\n",
       "    </tr>\n",
       "    <tr>\n",
       "      <th>3</th>\n",
       "      <td>Andorra</td>\n",
       "      <td>Europe</td>\n",
       "      <td>78</td>\n",
       "      <td>15.20</td>\n",
       "      <td>22.86</td>\n",
       "      <td>NaN</td>\n",
       "      <td>82</td>\n",
       "      <td>3.2</td>\n",
       "      <td>75.49</td>\n",
       "      <td>NaN</td>\n",
       "      <td>NaN</td>\n",
       "      <td>78.4</td>\n",
       "      <td>79.4</td>\n",
       "    </tr>\n",
       "    <tr>\n",
       "      <th>4</th>\n",
       "      <td>Angola</td>\n",
       "      <td>Africa</td>\n",
       "      <td>20821</td>\n",
       "      <td>47.58</td>\n",
       "      <td>3.84</td>\n",
       "      <td>6.10</td>\n",
       "      <td>51</td>\n",
       "      <td>163.5</td>\n",
       "      <td>48.38</td>\n",
       "      <td>70.1</td>\n",
       "      <td>5230.0</td>\n",
       "      <td>93.1</td>\n",
       "      <td>78.2</td>\n",
       "    </tr>\n",
       "    <tr>\n",
       "      <th>5</th>\n",
       "      <td>Antigua and Barbuda</td>\n",
       "      <td>Americas</td>\n",
       "      <td>89</td>\n",
       "      <td>25.96</td>\n",
       "      <td>12.35</td>\n",
       "      <td>2.12</td>\n",
       "      <td>75</td>\n",
       "      <td>9.9</td>\n",
       "      <td>196.41</td>\n",
       "      <td>99.0</td>\n",
       "      <td>17900.0</td>\n",
       "      <td>91.1</td>\n",
       "      <td>84.5</td>\n",
       "    </tr>\n",
       "    <tr>\n",
       "      <th>6</th>\n",
       "      <td>Argentina</td>\n",
       "      <td>Americas</td>\n",
       "      <td>41087</td>\n",
       "      <td>24.42</td>\n",
       "      <td>14.97</td>\n",
       "      <td>2.20</td>\n",
       "      <td>76</td>\n",
       "      <td>14.2</td>\n",
       "      <td>134.92</td>\n",
       "      <td>97.8</td>\n",
       "      <td>17130.0</td>\n",
       "      <td>NaN</td>\n",
       "      <td>NaN</td>\n",
       "    </tr>\n",
       "    <tr>\n",
       "      <th>7</th>\n",
       "      <td>Armenia</td>\n",
       "      <td>Europe</td>\n",
       "      <td>2969</td>\n",
       "      <td>20.34</td>\n",
       "      <td>14.06</td>\n",
       "      <td>1.74</td>\n",
       "      <td>71</td>\n",
       "      <td>16.4</td>\n",
       "      <td>103.57</td>\n",
       "      <td>99.6</td>\n",
       "      <td>6100.0</td>\n",
       "      <td>NaN</td>\n",
       "      <td>NaN</td>\n",
       "    </tr>\n",
       "    <tr>\n",
       "      <th>8</th>\n",
       "      <td>Australia</td>\n",
       "      <td>Western Pacific</td>\n",
       "      <td>23050</td>\n",
       "      <td>18.95</td>\n",
       "      <td>19.46</td>\n",
       "      <td>1.89</td>\n",
       "      <td>82</td>\n",
       "      <td>4.9</td>\n",
       "      <td>108.34</td>\n",
       "      <td>NaN</td>\n",
       "      <td>38110.0</td>\n",
       "      <td>96.9</td>\n",
       "      <td>97.5</td>\n",
       "    </tr>\n",
       "    <tr>\n",
       "      <th>9</th>\n",
       "      <td>Austria</td>\n",
       "      <td>Europe</td>\n",
       "      <td>8464</td>\n",
       "      <td>14.51</td>\n",
       "      <td>23.52</td>\n",
       "      <td>1.44</td>\n",
       "      <td>81</td>\n",
       "      <td>4.0</td>\n",
       "      <td>154.78</td>\n",
       "      <td>NaN</td>\n",
       "      <td>42050.0</td>\n",
       "      <td>NaN</td>\n",
       "      <td>NaN</td>\n",
       "    </tr>\n",
       "    <tr>\n",
       "      <th>10</th>\n",
       "      <td>Azerbaijan</td>\n",
       "      <td>Europe</td>\n",
       "      <td>9309</td>\n",
       "      <td>22.25</td>\n",
       "      <td>8.24</td>\n",
       "      <td>1.96</td>\n",
       "      <td>71</td>\n",
       "      <td>35.2</td>\n",
       "      <td>108.75</td>\n",
       "      <td>NaN</td>\n",
       "      <td>8960.0</td>\n",
       "      <td>85.3</td>\n",
       "      <td>84.1</td>\n",
       "    </tr>\n",
       "    <tr>\n",
       "      <th>11</th>\n",
       "      <td>Bahamas</td>\n",
       "      <td>Americas</td>\n",
       "      <td>372</td>\n",
       "      <td>21.62</td>\n",
       "      <td>11.24</td>\n",
       "      <td>1.90</td>\n",
       "      <td>75</td>\n",
       "      <td>16.9</td>\n",
       "      <td>86.06</td>\n",
       "      <td>NaN</td>\n",
       "      <td>NaN</td>\n",
       "      <td>NaN</td>\n",
       "      <td>NaN</td>\n",
       "    </tr>\n",
       "    <tr>\n",
       "      <th>12</th>\n",
       "      <td>Bahrain</td>\n",
       "      <td>Eastern Mediterranean</td>\n",
       "      <td>1318</td>\n",
       "      <td>20.16</td>\n",
       "      <td>3.38</td>\n",
       "      <td>2.12</td>\n",
       "      <td>79</td>\n",
       "      <td>9.6</td>\n",
       "      <td>127.96</td>\n",
       "      <td>91.9</td>\n",
       "      <td>NaN</td>\n",
       "      <td>NaN</td>\n",
       "      <td>NaN</td>\n",
       "    </tr>\n",
       "    <tr>\n",
       "      <th>13</th>\n",
       "      <td>Bangladesh</td>\n",
       "      <td>South-East Asia</td>\n",
       "      <td>155000</td>\n",
       "      <td>30.57</td>\n",
       "      <td>6.89</td>\n",
       "      <td>2.24</td>\n",
       "      <td>70</td>\n",
       "      <td>40.9</td>\n",
       "      <td>56.06</td>\n",
       "      <td>56.8</td>\n",
       "      <td>1940.0</td>\n",
       "      <td>NaN</td>\n",
       "      <td>NaN</td>\n",
       "    </tr>\n",
       "    <tr>\n",
       "      <th>14</th>\n",
       "      <td>Barbados</td>\n",
       "      <td>Americas</td>\n",
       "      <td>283</td>\n",
       "      <td>18.99</td>\n",
       "      <td>15.78</td>\n",
       "      <td>1.84</td>\n",
       "      <td>78</td>\n",
       "      <td>18.4</td>\n",
       "      <td>127.01</td>\n",
       "      <td>NaN</td>\n",
       "      <td>NaN</td>\n",
       "      <td>NaN</td>\n",
       "      <td>NaN</td>\n",
       "    </tr>\n",
       "    <tr>\n",
       "      <th>15</th>\n",
       "      <td>Belarus</td>\n",
       "      <td>Europe</td>\n",
       "      <td>9405</td>\n",
       "      <td>15.10</td>\n",
       "      <td>19.31</td>\n",
       "      <td>1.47</td>\n",
       "      <td>71</td>\n",
       "      <td>5.2</td>\n",
       "      <td>111.88</td>\n",
       "      <td>NaN</td>\n",
       "      <td>14460.0</td>\n",
       "      <td>NaN</td>\n",
       "      <td>NaN</td>\n",
       "    </tr>\n",
       "    <tr>\n",
       "      <th>16</th>\n",
       "      <td>Belgium</td>\n",
       "      <td>Europe</td>\n",
       "      <td>11060</td>\n",
       "      <td>16.88</td>\n",
       "      <td>23.81</td>\n",
       "      <td>1.85</td>\n",
       "      <td>80</td>\n",
       "      <td>4.2</td>\n",
       "      <td>116.61</td>\n",
       "      <td>NaN</td>\n",
       "      <td>39190.0</td>\n",
       "      <td>98.9</td>\n",
       "      <td>99.2</td>\n",
       "    </tr>\n",
       "    <tr>\n",
       "      <th>17</th>\n",
       "      <td>Belize</td>\n",
       "      <td>Americas</td>\n",
       "      <td>324</td>\n",
       "      <td>34.40</td>\n",
       "      <td>5.74</td>\n",
       "      <td>2.76</td>\n",
       "      <td>74</td>\n",
       "      <td>18.3</td>\n",
       "      <td>69.96</td>\n",
       "      <td>NaN</td>\n",
       "      <td>6090.0</td>\n",
       "      <td>NaN</td>\n",
       "      <td>NaN</td>\n",
       "    </tr>\n",
       "    <tr>\n",
       "      <th>18</th>\n",
       "      <td>Benin</td>\n",
       "      <td>Africa</td>\n",
       "      <td>10051</td>\n",
       "      <td>42.95</td>\n",
       "      <td>4.54</td>\n",
       "      <td>5.01</td>\n",
       "      <td>57</td>\n",
       "      <td>89.5</td>\n",
       "      <td>85.33</td>\n",
       "      <td>42.4</td>\n",
       "      <td>1620.0</td>\n",
       "      <td>NaN</td>\n",
       "      <td>NaN</td>\n",
       "    </tr>\n",
       "    <tr>\n",
       "      <th>19</th>\n",
       "      <td>Bhutan</td>\n",
       "      <td>South-East Asia</td>\n",
       "      <td>742</td>\n",
       "      <td>28.53</td>\n",
       "      <td>6.90</td>\n",
       "      <td>2.32</td>\n",
       "      <td>67</td>\n",
       "      <td>44.6</td>\n",
       "      <td>65.58</td>\n",
       "      <td>NaN</td>\n",
       "      <td>5570.0</td>\n",
       "      <td>88.3</td>\n",
       "      <td>91.5</td>\n",
       "    </tr>\n",
       "    <tr>\n",
       "      <th>20</th>\n",
       "      <td>Bolivia (Plurinational State of)</td>\n",
       "      <td>Americas</td>\n",
       "      <td>10496</td>\n",
       "      <td>35.23</td>\n",
       "      <td>7.28</td>\n",
       "      <td>3.31</td>\n",
       "      <td>67</td>\n",
       "      <td>41.4</td>\n",
       "      <td>82.82</td>\n",
       "      <td>NaN</td>\n",
       "      <td>4890.0</td>\n",
       "      <td>91.2</td>\n",
       "      <td>91.5</td>\n",
       "    </tr>\n",
       "    <tr>\n",
       "      <th>21</th>\n",
       "      <td>Bosnia and Herzegovina</td>\n",
       "      <td>Europe</td>\n",
       "      <td>3834</td>\n",
       "      <td>16.35</td>\n",
       "      <td>20.52</td>\n",
       "      <td>1.26</td>\n",
       "      <td>76</td>\n",
       "      <td>6.7</td>\n",
       "      <td>84.52</td>\n",
       "      <td>97.9</td>\n",
       "      <td>9190.0</td>\n",
       "      <td>86.5</td>\n",
       "      <td>88.4</td>\n",
       "    </tr>\n",
       "    <tr>\n",
       "      <th>22</th>\n",
       "      <td>Botswana</td>\n",
       "      <td>Africa</td>\n",
       "      <td>2004</td>\n",
       "      <td>33.75</td>\n",
       "      <td>5.63</td>\n",
       "      <td>2.71</td>\n",
       "      <td>66</td>\n",
       "      <td>53.3</td>\n",
       "      <td>142.82</td>\n",
       "      <td>84.5</td>\n",
       "      <td>14550.0</td>\n",
       "      <td>NaN</td>\n",
       "      <td>NaN</td>\n",
       "    </tr>\n",
       "    <tr>\n",
       "      <th>23</th>\n",
       "      <td>Brazil</td>\n",
       "      <td>Americas</td>\n",
       "      <td>199000</td>\n",
       "      <td>24.56</td>\n",
       "      <td>10.81</td>\n",
       "      <td>1.82</td>\n",
       "      <td>74</td>\n",
       "      <td>14.4</td>\n",
       "      <td>124.26</td>\n",
       "      <td>NaN</td>\n",
       "      <td>11420.0</td>\n",
       "      <td>NaN</td>\n",
       "      <td>NaN</td>\n",
       "    </tr>\n",
       "    <tr>\n",
       "      <th>24</th>\n",
       "      <td>Brunei Darussalam</td>\n",
       "      <td>Western Pacific</td>\n",
       "      <td>412</td>\n",
       "      <td>25.75</td>\n",
       "      <td>7.03</td>\n",
       "      <td>2.03</td>\n",
       "      <td>77</td>\n",
       "      <td>8.0</td>\n",
       "      <td>109.17</td>\n",
       "      <td>95.2</td>\n",
       "      <td>NaN</td>\n",
       "      <td>NaN</td>\n",
       "      <td>NaN</td>\n",
       "    </tr>\n",
       "    <tr>\n",
       "      <th>25</th>\n",
       "      <td>Bulgaria</td>\n",
       "      <td>Europe</td>\n",
       "      <td>7278</td>\n",
       "      <td>13.53</td>\n",
       "      <td>26.11</td>\n",
       "      <td>1.51</td>\n",
       "      <td>74</td>\n",
       "      <td>12.1</td>\n",
       "      <td>140.68</td>\n",
       "      <td>NaN</td>\n",
       "      <td>14160.0</td>\n",
       "      <td>99.3</td>\n",
       "      <td>99.7</td>\n",
       "    </tr>\n",
       "    <tr>\n",
       "      <th>26</th>\n",
       "      <td>Burkina Faso</td>\n",
       "      <td>Africa</td>\n",
       "      <td>16460</td>\n",
       "      <td>45.66</td>\n",
       "      <td>3.88</td>\n",
       "      <td>5.78</td>\n",
       "      <td>56</td>\n",
       "      <td>102.4</td>\n",
       "      <td>45.27</td>\n",
       "      <td>NaN</td>\n",
       "      <td>1300.0</td>\n",
       "      <td>60.7</td>\n",
       "      <td>55.9</td>\n",
       "    </tr>\n",
       "    <tr>\n",
       "      <th>27</th>\n",
       "      <td>Burundi</td>\n",
       "      <td>Africa</td>\n",
       "      <td>9850</td>\n",
       "      <td>44.20</td>\n",
       "      <td>3.87</td>\n",
       "      <td>6.21</td>\n",
       "      <td>53</td>\n",
       "      <td>104.3</td>\n",
       "      <td>22.33</td>\n",
       "      <td>67.2</td>\n",
       "      <td>610.0</td>\n",
       "      <td>NaN</td>\n",
       "      <td>NaN</td>\n",
       "    </tr>\n",
       "    <tr>\n",
       "      <th>28</th>\n",
       "      <td>Cambodia</td>\n",
       "      <td>Western Pacific</td>\n",
       "      <td>14865</td>\n",
       "      <td>31.23</td>\n",
       "      <td>7.67</td>\n",
       "      <td>2.93</td>\n",
       "      <td>65</td>\n",
       "      <td>39.7</td>\n",
       "      <td>96.17</td>\n",
       "      <td>NaN</td>\n",
       "      <td>2230.0</td>\n",
       "      <td>96.4</td>\n",
       "      <td>95.4</td>\n",
       "    </tr>\n",
       "    <tr>\n",
       "      <th>29</th>\n",
       "      <td>Cameroon</td>\n",
       "      <td>Africa</td>\n",
       "      <td>21700</td>\n",
       "      <td>43.08</td>\n",
       "      <td>4.89</td>\n",
       "      <td>4.94</td>\n",
       "      <td>53</td>\n",
       "      <td>94.9</td>\n",
       "      <td>52.35</td>\n",
       "      <td>NaN</td>\n",
       "      <td>2330.0</td>\n",
       "      <td>99.6</td>\n",
       "      <td>87.4</td>\n",
       "    </tr>\n",
       "    <tr>\n",
       "      <th>...</th>\n",
       "      <td>...</td>\n",
       "      <td>...</td>\n",
       "      <td>...</td>\n",
       "      <td>...</td>\n",
       "      <td>...</td>\n",
       "      <td>...</td>\n",
       "      <td>...</td>\n",
       "      <td>...</td>\n",
       "      <td>...</td>\n",
       "      <td>...</td>\n",
       "      <td>...</td>\n",
       "      <td>...</td>\n",
       "      <td>...</td>\n",
       "    </tr>\n",
       "    <tr>\n",
       "      <th>164</th>\n",
       "      <td>Suriname</td>\n",
       "      <td>Americas</td>\n",
       "      <td>535</td>\n",
       "      <td>27.83</td>\n",
       "      <td>9.55</td>\n",
       "      <td>2.32</td>\n",
       "      <td>72</td>\n",
       "      <td>20.8</td>\n",
       "      <td>178.88</td>\n",
       "      <td>94.7</td>\n",
       "      <td>NaN</td>\n",
       "      <td>NaN</td>\n",
       "      <td>NaN</td>\n",
       "    </tr>\n",
       "    <tr>\n",
       "      <th>165</th>\n",
       "      <td>Swaziland</td>\n",
       "      <td>Africa</td>\n",
       "      <td>1231</td>\n",
       "      <td>38.05</td>\n",
       "      <td>5.34</td>\n",
       "      <td>3.48</td>\n",
       "      <td>50</td>\n",
       "      <td>79.7</td>\n",
       "      <td>63.70</td>\n",
       "      <td>87.4</td>\n",
       "      <td>5930.0</td>\n",
       "      <td>NaN</td>\n",
       "      <td>NaN</td>\n",
       "    </tr>\n",
       "    <tr>\n",
       "      <th>166</th>\n",
       "      <td>Sweden</td>\n",
       "      <td>Europe</td>\n",
       "      <td>9511</td>\n",
       "      <td>16.71</td>\n",
       "      <td>25.32</td>\n",
       "      <td>1.93</td>\n",
       "      <td>82</td>\n",
       "      <td>2.9</td>\n",
       "      <td>118.57</td>\n",
       "      <td>NaN</td>\n",
       "      <td>42200.0</td>\n",
       "      <td>99.7</td>\n",
       "      <td>99.0</td>\n",
       "    </tr>\n",
       "    <tr>\n",
       "      <th>167</th>\n",
       "      <td>Switzerland</td>\n",
       "      <td>Europe</td>\n",
       "      <td>7997</td>\n",
       "      <td>14.79</td>\n",
       "      <td>23.25</td>\n",
       "      <td>1.51</td>\n",
       "      <td>83</td>\n",
       "      <td>4.3</td>\n",
       "      <td>131.43</td>\n",
       "      <td>NaN</td>\n",
       "      <td>52570.0</td>\n",
       "      <td>98.9</td>\n",
       "      <td>99.5</td>\n",
       "    </tr>\n",
       "    <tr>\n",
       "      <th>168</th>\n",
       "      <td>Syrian Arab Republic</td>\n",
       "      <td>Eastern Mediterranean</td>\n",
       "      <td>21890</td>\n",
       "      <td>35.35</td>\n",
       "      <td>6.09</td>\n",
       "      <td>3.04</td>\n",
       "      <td>75</td>\n",
       "      <td>15.1</td>\n",
       "      <td>63.17</td>\n",
       "      <td>83.4</td>\n",
       "      <td>NaN</td>\n",
       "      <td>NaN</td>\n",
       "      <td>NaN</td>\n",
       "    </tr>\n",
       "    <tr>\n",
       "      <th>169</th>\n",
       "      <td>Tajikistan</td>\n",
       "      <td>Europe</td>\n",
       "      <td>8009</td>\n",
       "      <td>35.75</td>\n",
       "      <td>4.80</td>\n",
       "      <td>3.81</td>\n",
       "      <td>68</td>\n",
       "      <td>58.3</td>\n",
       "      <td>90.64</td>\n",
       "      <td>99.7</td>\n",
       "      <td>2300.0</td>\n",
       "      <td>99.5</td>\n",
       "      <td>96.0</td>\n",
       "    </tr>\n",
       "    <tr>\n",
       "      <th>170</th>\n",
       "      <td>Thailand</td>\n",
       "      <td>South-East Asia</td>\n",
       "      <td>66785</td>\n",
       "      <td>18.47</td>\n",
       "      <td>13.96</td>\n",
       "      <td>1.43</td>\n",
       "      <td>74</td>\n",
       "      <td>13.2</td>\n",
       "      <td>111.63</td>\n",
       "      <td>NaN</td>\n",
       "      <td>8360.0</td>\n",
       "      <td>NaN</td>\n",
       "      <td>NaN</td>\n",
       "    </tr>\n",
       "    <tr>\n",
       "      <th>171</th>\n",
       "      <td>The former Yugoslav Republic of Macedonia</td>\n",
       "      <td>Europe</td>\n",
       "      <td>2106</td>\n",
       "      <td>16.89</td>\n",
       "      <td>17.56</td>\n",
       "      <td>1.44</td>\n",
       "      <td>75</td>\n",
       "      <td>7.4</td>\n",
       "      <td>107.24</td>\n",
       "      <td>97.3</td>\n",
       "      <td>11090.0</td>\n",
       "      <td>97.3</td>\n",
       "      <td>99.2</td>\n",
       "    </tr>\n",
       "    <tr>\n",
       "      <th>172</th>\n",
       "      <td>Timor-Leste</td>\n",
       "      <td>South-East Asia</td>\n",
       "      <td>1114</td>\n",
       "      <td>46.33</td>\n",
       "      <td>5.16</td>\n",
       "      <td>6.11</td>\n",
       "      <td>64</td>\n",
       "      <td>56.7</td>\n",
       "      <td>53.23</td>\n",
       "      <td>58.3</td>\n",
       "      <td>NaN</td>\n",
       "      <td>86.2</td>\n",
       "      <td>85.6</td>\n",
       "    </tr>\n",
       "    <tr>\n",
       "      <th>173</th>\n",
       "      <td>Togo</td>\n",
       "      <td>Africa</td>\n",
       "      <td>6643</td>\n",
       "      <td>41.89</td>\n",
       "      <td>4.44</td>\n",
       "      <td>4.75</td>\n",
       "      <td>56</td>\n",
       "      <td>95.5</td>\n",
       "      <td>50.45</td>\n",
       "      <td>NaN</td>\n",
       "      <td>1040.0</td>\n",
       "      <td>NaN</td>\n",
       "      <td>NaN</td>\n",
       "    </tr>\n",
       "    <tr>\n",
       "      <th>174</th>\n",
       "      <td>Tonga</td>\n",
       "      <td>Western Pacific</td>\n",
       "      <td>105</td>\n",
       "      <td>37.33</td>\n",
       "      <td>7.96</td>\n",
       "      <td>3.86</td>\n",
       "      <td>72</td>\n",
       "      <td>12.8</td>\n",
       "      <td>52.63</td>\n",
       "      <td>NaN</td>\n",
       "      <td>5000.0</td>\n",
       "      <td>NaN</td>\n",
       "      <td>NaN</td>\n",
       "    </tr>\n",
       "    <tr>\n",
       "      <th>175</th>\n",
       "      <td>Trinidad and Tobago</td>\n",
       "      <td>Americas</td>\n",
       "      <td>1337</td>\n",
       "      <td>20.73</td>\n",
       "      <td>13.18</td>\n",
       "      <td>1.80</td>\n",
       "      <td>71</td>\n",
       "      <td>20.7</td>\n",
       "      <td>135.64</td>\n",
       "      <td>98.8</td>\n",
       "      <td>NaN</td>\n",
       "      <td>97.7</td>\n",
       "      <td>97.0</td>\n",
       "    </tr>\n",
       "    <tr>\n",
       "      <th>176</th>\n",
       "      <td>Tunisia</td>\n",
       "      <td>Eastern Mediterranean</td>\n",
       "      <td>10875</td>\n",
       "      <td>23.22</td>\n",
       "      <td>10.49</td>\n",
       "      <td>2.04</td>\n",
       "      <td>76</td>\n",
       "      <td>16.1</td>\n",
       "      <td>116.93</td>\n",
       "      <td>NaN</td>\n",
       "      <td>9030.0</td>\n",
       "      <td>NaN</td>\n",
       "      <td>NaN</td>\n",
       "    </tr>\n",
       "    <tr>\n",
       "      <th>177</th>\n",
       "      <td>Turkey</td>\n",
       "      <td>Europe</td>\n",
       "      <td>73997</td>\n",
       "      <td>26.00</td>\n",
       "      <td>10.56</td>\n",
       "      <td>2.08</td>\n",
       "      <td>76</td>\n",
       "      <td>14.2</td>\n",
       "      <td>88.70</td>\n",
       "      <td>NaN</td>\n",
       "      <td>16940.0</td>\n",
       "      <td>99.5</td>\n",
       "      <td>98.3</td>\n",
       "    </tr>\n",
       "    <tr>\n",
       "      <th>178</th>\n",
       "      <td>Turkmenistan</td>\n",
       "      <td>Europe</td>\n",
       "      <td>5173</td>\n",
       "      <td>28.65</td>\n",
       "      <td>6.30</td>\n",
       "      <td>2.38</td>\n",
       "      <td>63</td>\n",
       "      <td>52.8</td>\n",
       "      <td>68.77</td>\n",
       "      <td>99.6</td>\n",
       "      <td>8690.0</td>\n",
       "      <td>NaN</td>\n",
       "      <td>NaN</td>\n",
       "    </tr>\n",
       "    <tr>\n",
       "      <th>179</th>\n",
       "      <td>Tuvalu</td>\n",
       "      <td>Western Pacific</td>\n",
       "      <td>10</td>\n",
       "      <td>30.61</td>\n",
       "      <td>9.07</td>\n",
       "      <td>NaN</td>\n",
       "      <td>64</td>\n",
       "      <td>29.7</td>\n",
       "      <td>21.63</td>\n",
       "      <td>NaN</td>\n",
       "      <td>NaN</td>\n",
       "      <td>NaN</td>\n",
       "      <td>NaN</td>\n",
       "    </tr>\n",
       "    <tr>\n",
       "      <th>180</th>\n",
       "      <td>Uganda</td>\n",
       "      <td>Africa</td>\n",
       "      <td>36346</td>\n",
       "      <td>48.54</td>\n",
       "      <td>3.72</td>\n",
       "      <td>6.06</td>\n",
       "      <td>56</td>\n",
       "      <td>68.9</td>\n",
       "      <td>48.38</td>\n",
       "      <td>73.2</td>\n",
       "      <td>1310.0</td>\n",
       "      <td>89.7</td>\n",
       "      <td>92.3</td>\n",
       "    </tr>\n",
       "    <tr>\n",
       "      <th>181</th>\n",
       "      <td>Ukraine</td>\n",
       "      <td>Europe</td>\n",
       "      <td>45530</td>\n",
       "      <td>14.18</td>\n",
       "      <td>20.76</td>\n",
       "      <td>1.45</td>\n",
       "      <td>71</td>\n",
       "      <td>10.7</td>\n",
       "      <td>122.98</td>\n",
       "      <td>99.7</td>\n",
       "      <td>7040.0</td>\n",
       "      <td>90.8</td>\n",
       "      <td>91.5</td>\n",
       "    </tr>\n",
       "    <tr>\n",
       "      <th>182</th>\n",
       "      <td>United Arab Emirates</td>\n",
       "      <td>Eastern Mediterranean</td>\n",
       "      <td>9206</td>\n",
       "      <td>14.41</td>\n",
       "      <td>0.81</td>\n",
       "      <td>1.84</td>\n",
       "      <td>76</td>\n",
       "      <td>8.4</td>\n",
       "      <td>148.62</td>\n",
       "      <td>NaN</td>\n",
       "      <td>47890.0</td>\n",
       "      <td>NaN</td>\n",
       "      <td>NaN</td>\n",
       "    </tr>\n",
       "    <tr>\n",
       "      <th>183</th>\n",
       "      <td>United Kingdom</td>\n",
       "      <td>Europe</td>\n",
       "      <td>62783</td>\n",
       "      <td>17.54</td>\n",
       "      <td>23.06</td>\n",
       "      <td>1.90</td>\n",
       "      <td>80</td>\n",
       "      <td>4.8</td>\n",
       "      <td>130.75</td>\n",
       "      <td>NaN</td>\n",
       "      <td>36010.0</td>\n",
       "      <td>99.8</td>\n",
       "      <td>99.6</td>\n",
       "    </tr>\n",
       "    <tr>\n",
       "      <th>184</th>\n",
       "      <td>United Republic of Tanzania</td>\n",
       "      <td>Africa</td>\n",
       "      <td>47783</td>\n",
       "      <td>44.85</td>\n",
       "      <td>4.89</td>\n",
       "      <td>5.36</td>\n",
       "      <td>59</td>\n",
       "      <td>54.0</td>\n",
       "      <td>55.53</td>\n",
       "      <td>73.2</td>\n",
       "      <td>1500.0</td>\n",
       "      <td>NaN</td>\n",
       "      <td>NaN</td>\n",
       "    </tr>\n",
       "    <tr>\n",
       "      <th>185</th>\n",
       "      <td>United States of America</td>\n",
       "      <td>Americas</td>\n",
       "      <td>318000</td>\n",
       "      <td>19.63</td>\n",
       "      <td>19.31</td>\n",
       "      <td>2.00</td>\n",
       "      <td>79</td>\n",
       "      <td>7.1</td>\n",
       "      <td>92.72</td>\n",
       "      <td>NaN</td>\n",
       "      <td>48820.0</td>\n",
       "      <td>95.4</td>\n",
       "      <td>96.1</td>\n",
       "    </tr>\n",
       "    <tr>\n",
       "      <th>186</th>\n",
       "      <td>Uruguay</td>\n",
       "      <td>Americas</td>\n",
       "      <td>3395</td>\n",
       "      <td>22.05</td>\n",
       "      <td>18.59</td>\n",
       "      <td>2.07</td>\n",
       "      <td>77</td>\n",
       "      <td>7.2</td>\n",
       "      <td>140.75</td>\n",
       "      <td>98.1</td>\n",
       "      <td>14640.0</td>\n",
       "      <td>NaN</td>\n",
       "      <td>NaN</td>\n",
       "    </tr>\n",
       "    <tr>\n",
       "      <th>187</th>\n",
       "      <td>Uzbekistan</td>\n",
       "      <td>Europe</td>\n",
       "      <td>28541</td>\n",
       "      <td>28.90</td>\n",
       "      <td>6.38</td>\n",
       "      <td>2.38</td>\n",
       "      <td>68</td>\n",
       "      <td>39.6</td>\n",
       "      <td>91.65</td>\n",
       "      <td>99.4</td>\n",
       "      <td>3420.0</td>\n",
       "      <td>93.3</td>\n",
       "      <td>91.0</td>\n",
       "    </tr>\n",
       "    <tr>\n",
       "      <th>188</th>\n",
       "      <td>Vanuatu</td>\n",
       "      <td>Western Pacific</td>\n",
       "      <td>247</td>\n",
       "      <td>37.37</td>\n",
       "      <td>6.02</td>\n",
       "      <td>3.46</td>\n",
       "      <td>72</td>\n",
       "      <td>17.9</td>\n",
       "      <td>55.76</td>\n",
       "      <td>82.6</td>\n",
       "      <td>4330.0</td>\n",
       "      <td>NaN</td>\n",
       "      <td>NaN</td>\n",
       "    </tr>\n",
       "    <tr>\n",
       "      <th>189</th>\n",
       "      <td>Venezuela (Bolivarian Republic of)</td>\n",
       "      <td>Americas</td>\n",
       "      <td>29955</td>\n",
       "      <td>28.84</td>\n",
       "      <td>9.17</td>\n",
       "      <td>2.44</td>\n",
       "      <td>75</td>\n",
       "      <td>15.3</td>\n",
       "      <td>97.78</td>\n",
       "      <td>NaN</td>\n",
       "      <td>12430.0</td>\n",
       "      <td>94.7</td>\n",
       "      <td>95.1</td>\n",
       "    </tr>\n",
       "    <tr>\n",
       "      <th>190</th>\n",
       "      <td>Viet Nam</td>\n",
       "      <td>Western Pacific</td>\n",
       "      <td>90796</td>\n",
       "      <td>22.87</td>\n",
       "      <td>9.32</td>\n",
       "      <td>1.79</td>\n",
       "      <td>75</td>\n",
       "      <td>23.0</td>\n",
       "      <td>143.39</td>\n",
       "      <td>93.2</td>\n",
       "      <td>3250.0</td>\n",
       "      <td>NaN</td>\n",
       "      <td>NaN</td>\n",
       "    </tr>\n",
       "    <tr>\n",
       "      <th>191</th>\n",
       "      <td>Yemen</td>\n",
       "      <td>Eastern Mediterranean</td>\n",
       "      <td>23852</td>\n",
       "      <td>40.72</td>\n",
       "      <td>4.54</td>\n",
       "      <td>4.35</td>\n",
       "      <td>64</td>\n",
       "      <td>60.0</td>\n",
       "      <td>47.05</td>\n",
       "      <td>63.9</td>\n",
       "      <td>2170.0</td>\n",
       "      <td>85.5</td>\n",
       "      <td>70.5</td>\n",
       "    </tr>\n",
       "    <tr>\n",
       "      <th>192</th>\n",
       "      <td>Zambia</td>\n",
       "      <td>Africa</td>\n",
       "      <td>14075</td>\n",
       "      <td>46.73</td>\n",
       "      <td>3.95</td>\n",
       "      <td>5.77</td>\n",
       "      <td>55</td>\n",
       "      <td>88.5</td>\n",
       "      <td>60.59</td>\n",
       "      <td>71.2</td>\n",
       "      <td>1490.0</td>\n",
       "      <td>91.4</td>\n",
       "      <td>93.9</td>\n",
       "    </tr>\n",
       "    <tr>\n",
       "      <th>193</th>\n",
       "      <td>Zimbabwe</td>\n",
       "      <td>Africa</td>\n",
       "      <td>13724</td>\n",
       "      <td>40.24</td>\n",
       "      <td>5.68</td>\n",
       "      <td>3.64</td>\n",
       "      <td>54</td>\n",
       "      <td>89.8</td>\n",
       "      <td>72.13</td>\n",
       "      <td>92.2</td>\n",
       "      <td>NaN</td>\n",
       "      <td>NaN</td>\n",
       "      <td>NaN</td>\n",
       "    </tr>\n",
       "  </tbody>\n",
       "</table>\n",
       "<p>194 rows × 13 columns</p>\n",
       "</div>"
      ],
      "text/plain": [
       "                                       Country                 Region  \\\n",
       "0                                  Afghanistan  Eastern Mediterranean   \n",
       "1                                      Albania                 Europe   \n",
       "2                                      Algeria                 Africa   \n",
       "3                                      Andorra                 Europe   \n",
       "4                                       Angola                 Africa   \n",
       "5                          Antigua and Barbuda               Americas   \n",
       "6                                    Argentina               Americas   \n",
       "7                                      Armenia                 Europe   \n",
       "8                                    Australia        Western Pacific   \n",
       "9                                      Austria                 Europe   \n",
       "10                                  Azerbaijan                 Europe   \n",
       "11                                     Bahamas               Americas   \n",
       "12                                     Bahrain  Eastern Mediterranean   \n",
       "13                                  Bangladesh        South-East Asia   \n",
       "14                                    Barbados               Americas   \n",
       "15                                     Belarus                 Europe   \n",
       "16                                     Belgium                 Europe   \n",
       "17                                      Belize               Americas   \n",
       "18                                       Benin                 Africa   \n",
       "19                                      Bhutan        South-East Asia   \n",
       "20            Bolivia (Plurinational State of)               Americas   \n",
       "21                      Bosnia and Herzegovina                 Europe   \n",
       "22                                    Botswana                 Africa   \n",
       "23                                      Brazil               Americas   \n",
       "24                           Brunei Darussalam        Western Pacific   \n",
       "25                                    Bulgaria                 Europe   \n",
       "26                                Burkina Faso                 Africa   \n",
       "27                                     Burundi                 Africa   \n",
       "28                                    Cambodia        Western Pacific   \n",
       "29                                    Cameroon                 Africa   \n",
       "..                                         ...                    ...   \n",
       "164                                   Suriname               Americas   \n",
       "165                                  Swaziland                 Africa   \n",
       "166                                     Sweden                 Europe   \n",
       "167                                Switzerland                 Europe   \n",
       "168                       Syrian Arab Republic  Eastern Mediterranean   \n",
       "169                                 Tajikistan                 Europe   \n",
       "170                                   Thailand        South-East Asia   \n",
       "171  The former Yugoslav Republic of Macedonia                 Europe   \n",
       "172                                Timor-Leste        South-East Asia   \n",
       "173                                       Togo                 Africa   \n",
       "174                                      Tonga        Western Pacific   \n",
       "175                        Trinidad and Tobago               Americas   \n",
       "176                                    Tunisia  Eastern Mediterranean   \n",
       "177                                     Turkey                 Europe   \n",
       "178                               Turkmenistan                 Europe   \n",
       "179                                     Tuvalu        Western Pacific   \n",
       "180                                     Uganda                 Africa   \n",
       "181                                    Ukraine                 Europe   \n",
       "182                       United Arab Emirates  Eastern Mediterranean   \n",
       "183                             United Kingdom                 Europe   \n",
       "184                United Republic of Tanzania                 Africa   \n",
       "185                   United States of America               Americas   \n",
       "186                                    Uruguay               Americas   \n",
       "187                                 Uzbekistan                 Europe   \n",
       "188                                    Vanuatu        Western Pacific   \n",
       "189         Venezuela (Bolivarian Republic of)               Americas   \n",
       "190                                   Viet Nam        Western Pacific   \n",
       "191                                      Yemen  Eastern Mediterranean   \n",
       "192                                     Zambia                 Africa   \n",
       "193                                   Zimbabwe                 Africa   \n",
       "\n",
       "     Population  Under15  Over60  FertilityRate  LifeExpectancy  \\\n",
       "0         29825    47.42    3.82           5.40              60   \n",
       "1          3162    21.33   14.93           1.75              74   \n",
       "2         38482    27.42    7.17           2.83              73   \n",
       "3            78    15.20   22.86            NaN              82   \n",
       "4         20821    47.58    3.84           6.10              51   \n",
       "5            89    25.96   12.35           2.12              75   \n",
       "6         41087    24.42   14.97           2.20              76   \n",
       "7          2969    20.34   14.06           1.74              71   \n",
       "8         23050    18.95   19.46           1.89              82   \n",
       "9          8464    14.51   23.52           1.44              81   \n",
       "10         9309    22.25    8.24           1.96              71   \n",
       "11          372    21.62   11.24           1.90              75   \n",
       "12         1318    20.16    3.38           2.12              79   \n",
       "13       155000    30.57    6.89           2.24              70   \n",
       "14          283    18.99   15.78           1.84              78   \n",
       "15         9405    15.10   19.31           1.47              71   \n",
       "16        11060    16.88   23.81           1.85              80   \n",
       "17          324    34.40    5.74           2.76              74   \n",
       "18        10051    42.95    4.54           5.01              57   \n",
       "19          742    28.53    6.90           2.32              67   \n",
       "20        10496    35.23    7.28           3.31              67   \n",
       "21         3834    16.35   20.52           1.26              76   \n",
       "22         2004    33.75    5.63           2.71              66   \n",
       "23       199000    24.56   10.81           1.82              74   \n",
       "24          412    25.75    7.03           2.03              77   \n",
       "25         7278    13.53   26.11           1.51              74   \n",
       "26        16460    45.66    3.88           5.78              56   \n",
       "27         9850    44.20    3.87           6.21              53   \n",
       "28        14865    31.23    7.67           2.93              65   \n",
       "29        21700    43.08    4.89           4.94              53   \n",
       "..          ...      ...     ...            ...             ...   \n",
       "164         535    27.83    9.55           2.32              72   \n",
       "165        1231    38.05    5.34           3.48              50   \n",
       "166        9511    16.71   25.32           1.93              82   \n",
       "167        7997    14.79   23.25           1.51              83   \n",
       "168       21890    35.35    6.09           3.04              75   \n",
       "169        8009    35.75    4.80           3.81              68   \n",
       "170       66785    18.47   13.96           1.43              74   \n",
       "171        2106    16.89   17.56           1.44              75   \n",
       "172        1114    46.33    5.16           6.11              64   \n",
       "173        6643    41.89    4.44           4.75              56   \n",
       "174         105    37.33    7.96           3.86              72   \n",
       "175        1337    20.73   13.18           1.80              71   \n",
       "176       10875    23.22   10.49           2.04              76   \n",
       "177       73997    26.00   10.56           2.08              76   \n",
       "178        5173    28.65    6.30           2.38              63   \n",
       "179          10    30.61    9.07            NaN              64   \n",
       "180       36346    48.54    3.72           6.06              56   \n",
       "181       45530    14.18   20.76           1.45              71   \n",
       "182        9206    14.41    0.81           1.84              76   \n",
       "183       62783    17.54   23.06           1.90              80   \n",
       "184       47783    44.85    4.89           5.36              59   \n",
       "185      318000    19.63   19.31           2.00              79   \n",
       "186        3395    22.05   18.59           2.07              77   \n",
       "187       28541    28.90    6.38           2.38              68   \n",
       "188         247    37.37    6.02           3.46              72   \n",
       "189       29955    28.84    9.17           2.44              75   \n",
       "190       90796    22.87    9.32           1.79              75   \n",
       "191       23852    40.72    4.54           4.35              64   \n",
       "192       14075    46.73    3.95           5.77              55   \n",
       "193       13724    40.24    5.68           3.64              54   \n",
       "\n",
       "     ChildMortality  CellularSubscribers  LiteracyRate      GNI  \\\n",
       "0              98.5                54.26           NaN   1140.0   \n",
       "1              16.7                96.39           NaN   8820.0   \n",
       "2              20.0                98.99           NaN   8310.0   \n",
       "3               3.2                75.49           NaN      NaN   \n",
       "4             163.5                48.38          70.1   5230.0   \n",
       "5               9.9               196.41          99.0  17900.0   \n",
       "6              14.2               134.92          97.8  17130.0   \n",
       "7              16.4               103.57          99.6   6100.0   \n",
       "8               4.9               108.34           NaN  38110.0   \n",
       "9               4.0               154.78           NaN  42050.0   \n",
       "10             35.2               108.75           NaN   8960.0   \n",
       "11             16.9                86.06           NaN      NaN   \n",
       "12              9.6               127.96          91.9      NaN   \n",
       "13             40.9                56.06          56.8   1940.0   \n",
       "14             18.4               127.01           NaN      NaN   \n",
       "15              5.2               111.88           NaN  14460.0   \n",
       "16              4.2               116.61           NaN  39190.0   \n",
       "17             18.3                69.96           NaN   6090.0   \n",
       "18             89.5                85.33          42.4   1620.0   \n",
       "19             44.6                65.58           NaN   5570.0   \n",
       "20             41.4                82.82           NaN   4890.0   \n",
       "21              6.7                84.52          97.9   9190.0   \n",
       "22             53.3               142.82          84.5  14550.0   \n",
       "23             14.4               124.26           NaN  11420.0   \n",
       "24              8.0               109.17          95.2      NaN   \n",
       "25             12.1               140.68           NaN  14160.0   \n",
       "26            102.4                45.27           NaN   1300.0   \n",
       "27            104.3                22.33          67.2    610.0   \n",
       "28             39.7                96.17           NaN   2230.0   \n",
       "29             94.9                52.35           NaN   2330.0   \n",
       "..              ...                  ...           ...      ...   \n",
       "164            20.8               178.88          94.7      NaN   \n",
       "165            79.7                63.70          87.4   5930.0   \n",
       "166             2.9               118.57           NaN  42200.0   \n",
       "167             4.3               131.43           NaN  52570.0   \n",
       "168            15.1                63.17          83.4      NaN   \n",
       "169            58.3                90.64          99.7   2300.0   \n",
       "170            13.2               111.63           NaN   8360.0   \n",
       "171             7.4               107.24          97.3  11090.0   \n",
       "172            56.7                53.23          58.3      NaN   \n",
       "173            95.5                50.45           NaN   1040.0   \n",
       "174            12.8                52.63           NaN   5000.0   \n",
       "175            20.7               135.64          98.8      NaN   \n",
       "176            16.1               116.93           NaN   9030.0   \n",
       "177            14.2                88.70           NaN  16940.0   \n",
       "178            52.8                68.77          99.6   8690.0   \n",
       "179            29.7                21.63           NaN      NaN   \n",
       "180            68.9                48.38          73.2   1310.0   \n",
       "181            10.7               122.98          99.7   7040.0   \n",
       "182             8.4               148.62           NaN  47890.0   \n",
       "183             4.8               130.75           NaN  36010.0   \n",
       "184            54.0                55.53          73.2   1500.0   \n",
       "185             7.1                92.72           NaN  48820.0   \n",
       "186             7.2               140.75          98.1  14640.0   \n",
       "187            39.6                91.65          99.4   3420.0   \n",
       "188            17.9                55.76          82.6   4330.0   \n",
       "189            15.3                97.78           NaN  12430.0   \n",
       "190            23.0               143.39          93.2   3250.0   \n",
       "191            60.0                47.05          63.9   2170.0   \n",
       "192            88.5                60.59          71.2   1490.0   \n",
       "193            89.8                72.13          92.2      NaN   \n",
       "\n",
       "     PrimarySchoolEnrollmentMale  PrimarySchoolEnrollmentFemale  \n",
       "0                            NaN                            NaN  \n",
       "1                            NaN                            NaN  \n",
       "2                           98.2                           96.4  \n",
       "3                           78.4                           79.4  \n",
       "4                           93.1                           78.2  \n",
       "5                           91.1                           84.5  \n",
       "6                            NaN                            NaN  \n",
       "7                            NaN                            NaN  \n",
       "8                           96.9                           97.5  \n",
       "9                            NaN                            NaN  \n",
       "10                          85.3                           84.1  \n",
       "11                           NaN                            NaN  \n",
       "12                           NaN                            NaN  \n",
       "13                           NaN                            NaN  \n",
       "14                           NaN                            NaN  \n",
       "15                           NaN                            NaN  \n",
       "16                          98.9                           99.2  \n",
       "17                           NaN                            NaN  \n",
       "18                           NaN                            NaN  \n",
       "19                          88.3                           91.5  \n",
       "20                          91.2                           91.5  \n",
       "21                          86.5                           88.4  \n",
       "22                           NaN                            NaN  \n",
       "23                           NaN                            NaN  \n",
       "24                           NaN                            NaN  \n",
       "25                          99.3                           99.7  \n",
       "26                          60.7                           55.9  \n",
       "27                           NaN                            NaN  \n",
       "28                          96.4                           95.4  \n",
       "29                          99.6                           87.4  \n",
       "..                           ...                            ...  \n",
       "164                          NaN                            NaN  \n",
       "165                          NaN                            NaN  \n",
       "166                         99.7                           99.0  \n",
       "167                         98.9                           99.5  \n",
       "168                          NaN                            NaN  \n",
       "169                         99.5                           96.0  \n",
       "170                          NaN                            NaN  \n",
       "171                         97.3                           99.2  \n",
       "172                         86.2                           85.6  \n",
       "173                          NaN                            NaN  \n",
       "174                          NaN                            NaN  \n",
       "175                         97.7                           97.0  \n",
       "176                          NaN                            NaN  \n",
       "177                         99.5                           98.3  \n",
       "178                          NaN                            NaN  \n",
       "179                          NaN                            NaN  \n",
       "180                         89.7                           92.3  \n",
       "181                         90.8                           91.5  \n",
       "182                          NaN                            NaN  \n",
       "183                         99.8                           99.6  \n",
       "184                          NaN                            NaN  \n",
       "185                         95.4                           96.1  \n",
       "186                          NaN                            NaN  \n",
       "187                         93.3                           91.0  \n",
       "188                          NaN                            NaN  \n",
       "189                         94.7                           95.1  \n",
       "190                          NaN                            NaN  \n",
       "191                         85.5                           70.5  \n",
       "192                         91.4                           93.9  \n",
       "193                          NaN                            NaN  \n",
       "\n",
       "[194 rows x 13 columns]"
      ]
     },
     "execution_count": 57,
     "metadata": {},
     "output_type": "execute_result"
    }
   ],
   "source": [
    "#Slicing Subsets of Rows and Columns in Python\n",
    "#Print Each Rows and Columns(Using Index)\n",
    "WHO[:]"
   ]
  },
  {
   "cell_type": "code",
   "execution_count": 58,
   "metadata": {},
   "outputs": [
    {
     "data": {
      "text/html": [
       "<div>\n",
       "<style scoped>\n",
       "    .dataframe tbody tr th:only-of-type {\n",
       "        vertical-align: middle;\n",
       "    }\n",
       "\n",
       "    .dataframe tbody tr th {\n",
       "        vertical-align: top;\n",
       "    }\n",
       "\n",
       "    .dataframe thead th {\n",
       "        text-align: right;\n",
       "    }\n",
       "</style>\n",
       "<table border=\"1\" class=\"dataframe\">\n",
       "  <thead>\n",
       "    <tr style=\"text-align: right;\">\n",
       "      <th></th>\n",
       "      <th>Country</th>\n",
       "      <th>Region</th>\n",
       "      <th>Population</th>\n",
       "      <th>Under15</th>\n",
       "      <th>Over60</th>\n",
       "      <th>FertilityRate</th>\n",
       "      <th>LifeExpectancy</th>\n",
       "      <th>ChildMortality</th>\n",
       "      <th>CellularSubscribers</th>\n",
       "      <th>LiteracyRate</th>\n",
       "      <th>GNI</th>\n",
       "      <th>PrimarySchoolEnrollmentMale</th>\n",
       "      <th>PrimarySchoolEnrollmentFemale</th>\n",
       "    </tr>\n",
       "  </thead>\n",
       "  <tbody>\n",
       "    <tr>\n",
       "      <th>10</th>\n",
       "      <td>Azerbaijan</td>\n",
       "      <td>Europe</td>\n",
       "      <td>9309</td>\n",
       "      <td>22.25</td>\n",
       "      <td>8.24</td>\n",
       "      <td>1.96</td>\n",
       "      <td>71</td>\n",
       "      <td>35.2</td>\n",
       "      <td>108.75</td>\n",
       "      <td>NaN</td>\n",
       "      <td>8960.0</td>\n",
       "      <td>85.3</td>\n",
       "      <td>84.1</td>\n",
       "    </tr>\n",
       "    <tr>\n",
       "      <th>11</th>\n",
       "      <td>Bahamas</td>\n",
       "      <td>Americas</td>\n",
       "      <td>372</td>\n",
       "      <td>21.62</td>\n",
       "      <td>11.24</td>\n",
       "      <td>1.90</td>\n",
       "      <td>75</td>\n",
       "      <td>16.9</td>\n",
       "      <td>86.06</td>\n",
       "      <td>NaN</td>\n",
       "      <td>NaN</td>\n",
       "      <td>NaN</td>\n",
       "      <td>NaN</td>\n",
       "    </tr>\n",
       "    <tr>\n",
       "      <th>12</th>\n",
       "      <td>Bahrain</td>\n",
       "      <td>Eastern Mediterranean</td>\n",
       "      <td>1318</td>\n",
       "      <td>20.16</td>\n",
       "      <td>3.38</td>\n",
       "      <td>2.12</td>\n",
       "      <td>79</td>\n",
       "      <td>9.6</td>\n",
       "      <td>127.96</td>\n",
       "      <td>91.9</td>\n",
       "      <td>NaN</td>\n",
       "      <td>NaN</td>\n",
       "      <td>NaN</td>\n",
       "    </tr>\n",
       "    <tr>\n",
       "      <th>13</th>\n",
       "      <td>Bangladesh</td>\n",
       "      <td>South-East Asia</td>\n",
       "      <td>155000</td>\n",
       "      <td>30.57</td>\n",
       "      <td>6.89</td>\n",
       "      <td>2.24</td>\n",
       "      <td>70</td>\n",
       "      <td>40.9</td>\n",
       "      <td>56.06</td>\n",
       "      <td>56.8</td>\n",
       "      <td>1940.0</td>\n",
       "      <td>NaN</td>\n",
       "      <td>NaN</td>\n",
       "    </tr>\n",
       "  </tbody>\n",
       "</table>\n",
       "</div>"
      ],
      "text/plain": [
       "       Country                 Region  Population  Under15  Over60  \\\n",
       "10  Azerbaijan                 Europe        9309    22.25    8.24   \n",
       "11     Bahamas               Americas         372    21.62   11.24   \n",
       "12     Bahrain  Eastern Mediterranean        1318    20.16    3.38   \n",
       "13  Bangladesh        South-East Asia      155000    30.57    6.89   \n",
       "\n",
       "    FertilityRate  LifeExpectancy  ChildMortality  CellularSubscribers  \\\n",
       "10           1.96              71            35.2               108.75   \n",
       "11           1.90              75            16.9                86.06   \n",
       "12           2.12              79             9.6               127.96   \n",
       "13           2.24              70            40.9                56.06   \n",
       "\n",
       "    LiteracyRate     GNI  PrimarySchoolEnrollmentMale  \\\n",
       "10           NaN  8960.0                         85.3   \n",
       "11           NaN     NaN                          NaN   \n",
       "12          91.9     NaN                          NaN   \n",
       "13          56.8  1940.0                          NaN   \n",
       "\n",
       "    PrimarySchoolEnrollmentFemale  \n",
       "10                           84.1  \n",
       "11                            NaN  \n",
       "12                            NaN  \n",
       "13                            NaN  "
      ]
     },
     "execution_count": 58,
     "metadata": {},
     "output_type": "execute_result"
    }
   ],
   "source": [
    "#Print Specific Rows(Using Index)\n",
    "WHO[10:14]"
   ]
  },
  {
   "cell_type": "code",
   "execution_count": 59,
   "metadata": {},
   "outputs": [
    {
     "data": {
      "text/html": [
       "<div>\n",
       "<style scoped>\n",
       "    .dataframe tbody tr th:only-of-type {\n",
       "        vertical-align: middle;\n",
       "    }\n",
       "\n",
       "    .dataframe tbody tr th {\n",
       "        vertical-align: top;\n",
       "    }\n",
       "\n",
       "    .dataframe thead th {\n",
       "        text-align: right;\n",
       "    }\n",
       "</style>\n",
       "<table border=\"1\" class=\"dataframe\">\n",
       "  <thead>\n",
       "    <tr style=\"text-align: right;\">\n",
       "      <th></th>\n",
       "      <th>Region</th>\n",
       "      <th>Population</th>\n",
       "      <th>Under15</th>\n",
       "    </tr>\n",
       "  </thead>\n",
       "  <tbody>\n",
       "    <tr>\n",
       "      <th>0</th>\n",
       "      <td>Eastern Mediterranean</td>\n",
       "      <td>29825</td>\n",
       "      <td>47.42</td>\n",
       "    </tr>\n",
       "    <tr>\n",
       "      <th>1</th>\n",
       "      <td>Europe</td>\n",
       "      <td>3162</td>\n",
       "      <td>21.33</td>\n",
       "    </tr>\n",
       "    <tr>\n",
       "      <th>2</th>\n",
       "      <td>Africa</td>\n",
       "      <td>38482</td>\n",
       "      <td>27.42</td>\n",
       "    </tr>\n",
       "    <tr>\n",
       "      <th>3</th>\n",
       "      <td>Europe</td>\n",
       "      <td>78</td>\n",
       "      <td>15.20</td>\n",
       "    </tr>\n",
       "    <tr>\n",
       "      <th>4</th>\n",
       "      <td>Africa</td>\n",
       "      <td>20821</td>\n",
       "      <td>47.58</td>\n",
       "    </tr>\n",
       "    <tr>\n",
       "      <th>5</th>\n",
       "      <td>Americas</td>\n",
       "      <td>89</td>\n",
       "      <td>25.96</td>\n",
       "    </tr>\n",
       "    <tr>\n",
       "      <th>6</th>\n",
       "      <td>Americas</td>\n",
       "      <td>41087</td>\n",
       "      <td>24.42</td>\n",
       "    </tr>\n",
       "    <tr>\n",
       "      <th>7</th>\n",
       "      <td>Europe</td>\n",
       "      <td>2969</td>\n",
       "      <td>20.34</td>\n",
       "    </tr>\n",
       "    <tr>\n",
       "      <th>8</th>\n",
       "      <td>Western Pacific</td>\n",
       "      <td>23050</td>\n",
       "      <td>18.95</td>\n",
       "    </tr>\n",
       "    <tr>\n",
       "      <th>9</th>\n",
       "      <td>Europe</td>\n",
       "      <td>8464</td>\n",
       "      <td>14.51</td>\n",
       "    </tr>\n",
       "    <tr>\n",
       "      <th>10</th>\n",
       "      <td>Europe</td>\n",
       "      <td>9309</td>\n",
       "      <td>22.25</td>\n",
       "    </tr>\n",
       "    <tr>\n",
       "      <th>11</th>\n",
       "      <td>Americas</td>\n",
       "      <td>372</td>\n",
       "      <td>21.62</td>\n",
       "    </tr>\n",
       "    <tr>\n",
       "      <th>12</th>\n",
       "      <td>Eastern Mediterranean</td>\n",
       "      <td>1318</td>\n",
       "      <td>20.16</td>\n",
       "    </tr>\n",
       "    <tr>\n",
       "      <th>13</th>\n",
       "      <td>South-East Asia</td>\n",
       "      <td>155000</td>\n",
       "      <td>30.57</td>\n",
       "    </tr>\n",
       "    <tr>\n",
       "      <th>14</th>\n",
       "      <td>Americas</td>\n",
       "      <td>283</td>\n",
       "      <td>18.99</td>\n",
       "    </tr>\n",
       "    <tr>\n",
       "      <th>15</th>\n",
       "      <td>Europe</td>\n",
       "      <td>9405</td>\n",
       "      <td>15.10</td>\n",
       "    </tr>\n",
       "    <tr>\n",
       "      <th>16</th>\n",
       "      <td>Europe</td>\n",
       "      <td>11060</td>\n",
       "      <td>16.88</td>\n",
       "    </tr>\n",
       "    <tr>\n",
       "      <th>17</th>\n",
       "      <td>Americas</td>\n",
       "      <td>324</td>\n",
       "      <td>34.40</td>\n",
       "    </tr>\n",
       "    <tr>\n",
       "      <th>18</th>\n",
       "      <td>Africa</td>\n",
       "      <td>10051</td>\n",
       "      <td>42.95</td>\n",
       "    </tr>\n",
       "    <tr>\n",
       "      <th>19</th>\n",
       "      <td>South-East Asia</td>\n",
       "      <td>742</td>\n",
       "      <td>28.53</td>\n",
       "    </tr>\n",
       "    <tr>\n",
       "      <th>20</th>\n",
       "      <td>Americas</td>\n",
       "      <td>10496</td>\n",
       "      <td>35.23</td>\n",
       "    </tr>\n",
       "    <tr>\n",
       "      <th>21</th>\n",
       "      <td>Europe</td>\n",
       "      <td>3834</td>\n",
       "      <td>16.35</td>\n",
       "    </tr>\n",
       "    <tr>\n",
       "      <th>22</th>\n",
       "      <td>Africa</td>\n",
       "      <td>2004</td>\n",
       "      <td>33.75</td>\n",
       "    </tr>\n",
       "    <tr>\n",
       "      <th>23</th>\n",
       "      <td>Americas</td>\n",
       "      <td>199000</td>\n",
       "      <td>24.56</td>\n",
       "    </tr>\n",
       "    <tr>\n",
       "      <th>24</th>\n",
       "      <td>Western Pacific</td>\n",
       "      <td>412</td>\n",
       "      <td>25.75</td>\n",
       "    </tr>\n",
       "    <tr>\n",
       "      <th>25</th>\n",
       "      <td>Europe</td>\n",
       "      <td>7278</td>\n",
       "      <td>13.53</td>\n",
       "    </tr>\n",
       "    <tr>\n",
       "      <th>26</th>\n",
       "      <td>Africa</td>\n",
       "      <td>16460</td>\n",
       "      <td>45.66</td>\n",
       "    </tr>\n",
       "    <tr>\n",
       "      <th>27</th>\n",
       "      <td>Africa</td>\n",
       "      <td>9850</td>\n",
       "      <td>44.20</td>\n",
       "    </tr>\n",
       "    <tr>\n",
       "      <th>28</th>\n",
       "      <td>Western Pacific</td>\n",
       "      <td>14865</td>\n",
       "      <td>31.23</td>\n",
       "    </tr>\n",
       "    <tr>\n",
       "      <th>29</th>\n",
       "      <td>Africa</td>\n",
       "      <td>21700</td>\n",
       "      <td>43.08</td>\n",
       "    </tr>\n",
       "    <tr>\n",
       "      <th>...</th>\n",
       "      <td>...</td>\n",
       "      <td>...</td>\n",
       "      <td>...</td>\n",
       "    </tr>\n",
       "    <tr>\n",
       "      <th>164</th>\n",
       "      <td>Americas</td>\n",
       "      <td>535</td>\n",
       "      <td>27.83</td>\n",
       "    </tr>\n",
       "    <tr>\n",
       "      <th>165</th>\n",
       "      <td>Africa</td>\n",
       "      <td>1231</td>\n",
       "      <td>38.05</td>\n",
       "    </tr>\n",
       "    <tr>\n",
       "      <th>166</th>\n",
       "      <td>Europe</td>\n",
       "      <td>9511</td>\n",
       "      <td>16.71</td>\n",
       "    </tr>\n",
       "    <tr>\n",
       "      <th>167</th>\n",
       "      <td>Europe</td>\n",
       "      <td>7997</td>\n",
       "      <td>14.79</td>\n",
       "    </tr>\n",
       "    <tr>\n",
       "      <th>168</th>\n",
       "      <td>Eastern Mediterranean</td>\n",
       "      <td>21890</td>\n",
       "      <td>35.35</td>\n",
       "    </tr>\n",
       "    <tr>\n",
       "      <th>169</th>\n",
       "      <td>Europe</td>\n",
       "      <td>8009</td>\n",
       "      <td>35.75</td>\n",
       "    </tr>\n",
       "    <tr>\n",
       "      <th>170</th>\n",
       "      <td>South-East Asia</td>\n",
       "      <td>66785</td>\n",
       "      <td>18.47</td>\n",
       "    </tr>\n",
       "    <tr>\n",
       "      <th>171</th>\n",
       "      <td>Europe</td>\n",
       "      <td>2106</td>\n",
       "      <td>16.89</td>\n",
       "    </tr>\n",
       "    <tr>\n",
       "      <th>172</th>\n",
       "      <td>South-East Asia</td>\n",
       "      <td>1114</td>\n",
       "      <td>46.33</td>\n",
       "    </tr>\n",
       "    <tr>\n",
       "      <th>173</th>\n",
       "      <td>Africa</td>\n",
       "      <td>6643</td>\n",
       "      <td>41.89</td>\n",
       "    </tr>\n",
       "    <tr>\n",
       "      <th>174</th>\n",
       "      <td>Western Pacific</td>\n",
       "      <td>105</td>\n",
       "      <td>37.33</td>\n",
       "    </tr>\n",
       "    <tr>\n",
       "      <th>175</th>\n",
       "      <td>Americas</td>\n",
       "      <td>1337</td>\n",
       "      <td>20.73</td>\n",
       "    </tr>\n",
       "    <tr>\n",
       "      <th>176</th>\n",
       "      <td>Eastern Mediterranean</td>\n",
       "      <td>10875</td>\n",
       "      <td>23.22</td>\n",
       "    </tr>\n",
       "    <tr>\n",
       "      <th>177</th>\n",
       "      <td>Europe</td>\n",
       "      <td>73997</td>\n",
       "      <td>26.00</td>\n",
       "    </tr>\n",
       "    <tr>\n",
       "      <th>178</th>\n",
       "      <td>Europe</td>\n",
       "      <td>5173</td>\n",
       "      <td>28.65</td>\n",
       "    </tr>\n",
       "    <tr>\n",
       "      <th>179</th>\n",
       "      <td>Western Pacific</td>\n",
       "      <td>10</td>\n",
       "      <td>30.61</td>\n",
       "    </tr>\n",
       "    <tr>\n",
       "      <th>180</th>\n",
       "      <td>Africa</td>\n",
       "      <td>36346</td>\n",
       "      <td>48.54</td>\n",
       "    </tr>\n",
       "    <tr>\n",
       "      <th>181</th>\n",
       "      <td>Europe</td>\n",
       "      <td>45530</td>\n",
       "      <td>14.18</td>\n",
       "    </tr>\n",
       "    <tr>\n",
       "      <th>182</th>\n",
       "      <td>Eastern Mediterranean</td>\n",
       "      <td>9206</td>\n",
       "      <td>14.41</td>\n",
       "    </tr>\n",
       "    <tr>\n",
       "      <th>183</th>\n",
       "      <td>Europe</td>\n",
       "      <td>62783</td>\n",
       "      <td>17.54</td>\n",
       "    </tr>\n",
       "    <tr>\n",
       "      <th>184</th>\n",
       "      <td>Africa</td>\n",
       "      <td>47783</td>\n",
       "      <td>44.85</td>\n",
       "    </tr>\n",
       "    <tr>\n",
       "      <th>185</th>\n",
       "      <td>Americas</td>\n",
       "      <td>318000</td>\n",
       "      <td>19.63</td>\n",
       "    </tr>\n",
       "    <tr>\n",
       "      <th>186</th>\n",
       "      <td>Americas</td>\n",
       "      <td>3395</td>\n",
       "      <td>22.05</td>\n",
       "    </tr>\n",
       "    <tr>\n",
       "      <th>187</th>\n",
       "      <td>Europe</td>\n",
       "      <td>28541</td>\n",
       "      <td>28.90</td>\n",
       "    </tr>\n",
       "    <tr>\n",
       "      <th>188</th>\n",
       "      <td>Western Pacific</td>\n",
       "      <td>247</td>\n",
       "      <td>37.37</td>\n",
       "    </tr>\n",
       "    <tr>\n",
       "      <th>189</th>\n",
       "      <td>Americas</td>\n",
       "      <td>29955</td>\n",
       "      <td>28.84</td>\n",
       "    </tr>\n",
       "    <tr>\n",
       "      <th>190</th>\n",
       "      <td>Western Pacific</td>\n",
       "      <td>90796</td>\n",
       "      <td>22.87</td>\n",
       "    </tr>\n",
       "    <tr>\n",
       "      <th>191</th>\n",
       "      <td>Eastern Mediterranean</td>\n",
       "      <td>23852</td>\n",
       "      <td>40.72</td>\n",
       "    </tr>\n",
       "    <tr>\n",
       "      <th>192</th>\n",
       "      <td>Africa</td>\n",
       "      <td>14075</td>\n",
       "      <td>46.73</td>\n",
       "    </tr>\n",
       "    <tr>\n",
       "      <th>193</th>\n",
       "      <td>Africa</td>\n",
       "      <td>13724</td>\n",
       "      <td>40.24</td>\n",
       "    </tr>\n",
       "  </tbody>\n",
       "</table>\n",
       "<p>194 rows × 3 columns</p>\n",
       "</div>"
      ],
      "text/plain": [
       "                    Region  Population  Under15\n",
       "0    Eastern Mediterranean       29825    47.42\n",
       "1                   Europe        3162    21.33\n",
       "2                   Africa       38482    27.42\n",
       "3                   Europe          78    15.20\n",
       "4                   Africa       20821    47.58\n",
       "5                 Americas          89    25.96\n",
       "6                 Americas       41087    24.42\n",
       "7                   Europe        2969    20.34\n",
       "8          Western Pacific       23050    18.95\n",
       "9                   Europe        8464    14.51\n",
       "10                  Europe        9309    22.25\n",
       "11                Americas         372    21.62\n",
       "12   Eastern Mediterranean        1318    20.16\n",
       "13         South-East Asia      155000    30.57\n",
       "14                Americas         283    18.99\n",
       "15                  Europe        9405    15.10\n",
       "16                  Europe       11060    16.88\n",
       "17                Americas         324    34.40\n",
       "18                  Africa       10051    42.95\n",
       "19         South-East Asia         742    28.53\n",
       "20                Americas       10496    35.23\n",
       "21                  Europe        3834    16.35\n",
       "22                  Africa        2004    33.75\n",
       "23                Americas      199000    24.56\n",
       "24         Western Pacific         412    25.75\n",
       "25                  Europe        7278    13.53\n",
       "26                  Africa       16460    45.66\n",
       "27                  Africa        9850    44.20\n",
       "28         Western Pacific       14865    31.23\n",
       "29                  Africa       21700    43.08\n",
       "..                     ...         ...      ...\n",
       "164               Americas         535    27.83\n",
       "165                 Africa        1231    38.05\n",
       "166                 Europe        9511    16.71\n",
       "167                 Europe        7997    14.79\n",
       "168  Eastern Mediterranean       21890    35.35\n",
       "169                 Europe        8009    35.75\n",
       "170        South-East Asia       66785    18.47\n",
       "171                 Europe        2106    16.89\n",
       "172        South-East Asia        1114    46.33\n",
       "173                 Africa        6643    41.89\n",
       "174        Western Pacific         105    37.33\n",
       "175               Americas        1337    20.73\n",
       "176  Eastern Mediterranean       10875    23.22\n",
       "177                 Europe       73997    26.00\n",
       "178                 Europe        5173    28.65\n",
       "179        Western Pacific          10    30.61\n",
       "180                 Africa       36346    48.54\n",
       "181                 Europe       45530    14.18\n",
       "182  Eastern Mediterranean        9206    14.41\n",
       "183                 Europe       62783    17.54\n",
       "184                 Africa       47783    44.85\n",
       "185               Americas      318000    19.63\n",
       "186               Americas        3395    22.05\n",
       "187                 Europe       28541    28.90\n",
       "188        Western Pacific         247    37.37\n",
       "189               Americas       29955    28.84\n",
       "190        Western Pacific       90796    22.87\n",
       "191  Eastern Mediterranean       23852    40.72\n",
       "192                 Africa       14075    46.73\n",
       "193                 Africa       13724    40.24\n",
       "\n",
       "[194 rows x 3 columns]"
      ]
     },
     "execution_count": 59,
     "metadata": {},
     "output_type": "execute_result"
    }
   ],
   "source": [
    "#Print Specific Columns(Using Index)\n",
    "WHO.iloc[:,1:4]"
   ]
  },
  {
   "cell_type": "code",
   "execution_count": 60,
   "metadata": {},
   "outputs": [
    {
     "data": {
      "text/html": [
       "<div>\n",
       "<style scoped>\n",
       "    .dataframe tbody tr th:only-of-type {\n",
       "        vertical-align: middle;\n",
       "    }\n",
       "\n",
       "    .dataframe tbody tr th {\n",
       "        vertical-align: top;\n",
       "    }\n",
       "\n",
       "    .dataframe thead th {\n",
       "        text-align: right;\n",
       "    }\n",
       "</style>\n",
       "<table border=\"1\" class=\"dataframe\">\n",
       "  <thead>\n",
       "    <tr style=\"text-align: right;\">\n",
       "      <th></th>\n",
       "      <th>Region</th>\n",
       "      <th>Population</th>\n",
       "      <th>Under15</th>\n",
       "    </tr>\n",
       "  </thead>\n",
       "  <tbody>\n",
       "    <tr>\n",
       "      <th>14</th>\n",
       "      <td>Americas</td>\n",
       "      <td>283</td>\n",
       "      <td>18.99</td>\n",
       "    </tr>\n",
       "    <tr>\n",
       "      <th>15</th>\n",
       "      <td>Europe</td>\n",
       "      <td>9405</td>\n",
       "      <td>15.10</td>\n",
       "    </tr>\n",
       "    <tr>\n",
       "      <th>16</th>\n",
       "      <td>Europe</td>\n",
       "      <td>11060</td>\n",
       "      <td>16.88</td>\n",
       "    </tr>\n",
       "    <tr>\n",
       "      <th>17</th>\n",
       "      <td>Americas</td>\n",
       "      <td>324</td>\n",
       "      <td>34.40</td>\n",
       "    </tr>\n",
       "    <tr>\n",
       "      <th>18</th>\n",
       "      <td>Africa</td>\n",
       "      <td>10051</td>\n",
       "      <td>42.95</td>\n",
       "    </tr>\n",
       "    <tr>\n",
       "      <th>19</th>\n",
       "      <td>South-East Asia</td>\n",
       "      <td>742</td>\n",
       "      <td>28.53</td>\n",
       "    </tr>\n",
       "    <tr>\n",
       "      <th>20</th>\n",
       "      <td>Americas</td>\n",
       "      <td>10496</td>\n",
       "      <td>35.23</td>\n",
       "    </tr>\n",
       "    <tr>\n",
       "      <th>21</th>\n",
       "      <td>Europe</td>\n",
       "      <td>3834</td>\n",
       "      <td>16.35</td>\n",
       "    </tr>\n",
       "    <tr>\n",
       "      <th>22</th>\n",
       "      <td>Africa</td>\n",
       "      <td>2004</td>\n",
       "      <td>33.75</td>\n",
       "    </tr>\n",
       "    <tr>\n",
       "      <th>23</th>\n",
       "      <td>Americas</td>\n",
       "      <td>199000</td>\n",
       "      <td>24.56</td>\n",
       "    </tr>\n",
       "    <tr>\n",
       "      <th>24</th>\n",
       "      <td>Western Pacific</td>\n",
       "      <td>412</td>\n",
       "      <td>25.75</td>\n",
       "    </tr>\n",
       "  </tbody>\n",
       "</table>\n",
       "</div>"
      ],
      "text/plain": [
       "             Region  Population  Under15\n",
       "14         Americas         283    18.99\n",
       "15           Europe        9405    15.10\n",
       "16           Europe       11060    16.88\n",
       "17         Americas         324    34.40\n",
       "18           Africa       10051    42.95\n",
       "19  South-East Asia         742    28.53\n",
       "20         Americas       10496    35.23\n",
       "21           Europe        3834    16.35\n",
       "22           Africa        2004    33.75\n",
       "23         Americas      199000    24.56\n",
       "24  Western Pacific         412    25.75"
      ]
     },
     "execution_count": 60,
     "metadata": {},
     "output_type": "execute_result"
    }
   ],
   "source": [
    "#Print Specific Rows and Columns (Using Index)\n",
    "WHO.iloc[14:25, 1:4]"
   ]
  },
  {
   "cell_type": "code",
   "execution_count": 61,
   "metadata": {},
   "outputs": [
    {
     "data": {
      "text/plain": [
       "0                                    Afghanistan\n",
       "1                                        Albania\n",
       "2                                        Algeria\n",
       "3                                        Andorra\n",
       "4                                         Angola\n",
       "5                            Antigua and Barbuda\n",
       "6                                      Argentina\n",
       "7                                        Armenia\n",
       "8                                      Australia\n",
       "9                                        Austria\n",
       "10                                    Azerbaijan\n",
       "11                                       Bahamas\n",
       "12                                       Bahrain\n",
       "13                                    Bangladesh\n",
       "14                                      Barbados\n",
       "15                                       Belarus\n",
       "16                                       Belgium\n",
       "17                                        Belize\n",
       "18                                         Benin\n",
       "19                                        Bhutan\n",
       "20              Bolivia (Plurinational State of)\n",
       "21                        Bosnia and Herzegovina\n",
       "22                                      Botswana\n",
       "23                                        Brazil\n",
       "24                             Brunei Darussalam\n",
       "25                                      Bulgaria\n",
       "26                                  Burkina Faso\n",
       "27                                       Burundi\n",
       "28                                      Cambodia\n",
       "29                                      Cameroon\n",
       "                         ...                    \n",
       "164                                     Suriname\n",
       "165                                    Swaziland\n",
       "166                                       Sweden\n",
       "167                                  Switzerland\n",
       "168                         Syrian Arab Republic\n",
       "169                                   Tajikistan\n",
       "170                                     Thailand\n",
       "171    The former Yugoslav Republic of Macedonia\n",
       "172                                  Timor-Leste\n",
       "173                                         Togo\n",
       "174                                        Tonga\n",
       "175                          Trinidad and Tobago\n",
       "176                                      Tunisia\n",
       "177                                       Turkey\n",
       "178                                 Turkmenistan\n",
       "179                                       Tuvalu\n",
       "180                                       Uganda\n",
       "181                                      Ukraine\n",
       "182                         United Arab Emirates\n",
       "183                               United Kingdom\n",
       "184                  United Republic of Tanzania\n",
       "185                     United States of America\n",
       "186                                      Uruguay\n",
       "187                                   Uzbekistan\n",
       "188                                      Vanuatu\n",
       "189           Venezuela (Bolivarian Republic of)\n",
       "190                                     Viet Nam\n",
       "191                                        Yemen\n",
       "192                                       Zambia\n",
       "193                                     Zimbabwe\n",
       "Name: Country, Length: 194, dtype: object"
      ]
     },
     "execution_count": 61,
     "metadata": {},
     "output_type": "execute_result"
    }
   ],
   "source": [
    "#Print Specific Column(Using Variable Name)\n",
    "WHO.Country"
   ]
  },
  {
   "cell_type": "code",
   "execution_count": 62,
   "metadata": {},
   "outputs": [
    {
     "data": {
      "text/plain": [
       "0                                    Afghanistan\n",
       "1                                        Albania\n",
       "2                                        Algeria\n",
       "3                                        Andorra\n",
       "4                                         Angola\n",
       "5                            Antigua and Barbuda\n",
       "6                                      Argentina\n",
       "7                                        Armenia\n",
       "8                                      Australia\n",
       "9                                        Austria\n",
       "10                                    Azerbaijan\n",
       "11                                       Bahamas\n",
       "12                                       Bahrain\n",
       "13                                    Bangladesh\n",
       "14                                      Barbados\n",
       "15                                       Belarus\n",
       "16                                       Belgium\n",
       "17                                        Belize\n",
       "18                                         Benin\n",
       "19                                        Bhutan\n",
       "20              Bolivia (Plurinational State of)\n",
       "21                        Bosnia and Herzegovina\n",
       "22                                      Botswana\n",
       "23                                        Brazil\n",
       "24                             Brunei Darussalam\n",
       "25                                      Bulgaria\n",
       "26                                  Burkina Faso\n",
       "27                                       Burundi\n",
       "28                                      Cambodia\n",
       "29                                      Cameroon\n",
       "                         ...                    \n",
       "164                                     Suriname\n",
       "165                                    Swaziland\n",
       "166                                       Sweden\n",
       "167                                  Switzerland\n",
       "168                         Syrian Arab Republic\n",
       "169                                   Tajikistan\n",
       "170                                     Thailand\n",
       "171    The former Yugoslav Republic of Macedonia\n",
       "172                                  Timor-Leste\n",
       "173                                         Togo\n",
       "174                                        Tonga\n",
       "175                          Trinidad and Tobago\n",
       "176                                      Tunisia\n",
       "177                                       Turkey\n",
       "178                                 Turkmenistan\n",
       "179                                       Tuvalu\n",
       "180                                       Uganda\n",
       "181                                      Ukraine\n",
       "182                         United Arab Emirates\n",
       "183                               United Kingdom\n",
       "184                  United Republic of Tanzania\n",
       "185                     United States of America\n",
       "186                                      Uruguay\n",
       "187                                   Uzbekistan\n",
       "188                                      Vanuatu\n",
       "189           Venezuela (Bolivarian Republic of)\n",
       "190                                     Viet Nam\n",
       "191                                        Yemen\n",
       "192                                       Zambia\n",
       "193                                     Zimbabwe\n",
       "Name: Country, Length: 194, dtype: object"
      ]
     },
     "execution_count": 62,
     "metadata": {},
     "output_type": "execute_result"
    }
   ],
   "source": [
    "WHO['Country']"
   ]
  },
  {
   "cell_type": "code",
   "execution_count": 63,
   "metadata": {},
   "outputs": [
    {
     "data": {
      "text/html": [
       "<div>\n",
       "<style scoped>\n",
       "    .dataframe tbody tr th:only-of-type {\n",
       "        vertical-align: middle;\n",
       "    }\n",
       "\n",
       "    .dataframe tbody tr th {\n",
       "        vertical-align: top;\n",
       "    }\n",
       "\n",
       "    .dataframe thead th {\n",
       "        text-align: right;\n",
       "    }\n",
       "</style>\n",
       "<table border=\"1\" class=\"dataframe\">\n",
       "  <thead>\n",
       "    <tr style=\"text-align: right;\">\n",
       "      <th></th>\n",
       "      <th>Country</th>\n",
       "      <th>Region</th>\n",
       "      <th>Population</th>\n",
       "    </tr>\n",
       "  </thead>\n",
       "  <tbody>\n",
       "    <tr>\n",
       "      <th>0</th>\n",
       "      <td>Afghanistan</td>\n",
       "      <td>Eastern Mediterranean</td>\n",
       "      <td>29825</td>\n",
       "    </tr>\n",
       "    <tr>\n",
       "      <th>1</th>\n",
       "      <td>Albania</td>\n",
       "      <td>Europe</td>\n",
       "      <td>3162</td>\n",
       "    </tr>\n",
       "    <tr>\n",
       "      <th>2</th>\n",
       "      <td>Algeria</td>\n",
       "      <td>Africa</td>\n",
       "      <td>38482</td>\n",
       "    </tr>\n",
       "    <tr>\n",
       "      <th>3</th>\n",
       "      <td>Andorra</td>\n",
       "      <td>Europe</td>\n",
       "      <td>78</td>\n",
       "    </tr>\n",
       "    <tr>\n",
       "      <th>4</th>\n",
       "      <td>Angola</td>\n",
       "      <td>Africa</td>\n",
       "      <td>20821</td>\n",
       "    </tr>\n",
       "    <tr>\n",
       "      <th>5</th>\n",
       "      <td>Antigua and Barbuda</td>\n",
       "      <td>Americas</td>\n",
       "      <td>89</td>\n",
       "    </tr>\n",
       "    <tr>\n",
       "      <th>6</th>\n",
       "      <td>Argentina</td>\n",
       "      <td>Americas</td>\n",
       "      <td>41087</td>\n",
       "    </tr>\n",
       "    <tr>\n",
       "      <th>7</th>\n",
       "      <td>Armenia</td>\n",
       "      <td>Europe</td>\n",
       "      <td>2969</td>\n",
       "    </tr>\n",
       "    <tr>\n",
       "      <th>8</th>\n",
       "      <td>Australia</td>\n",
       "      <td>Western Pacific</td>\n",
       "      <td>23050</td>\n",
       "    </tr>\n",
       "    <tr>\n",
       "      <th>9</th>\n",
       "      <td>Austria</td>\n",
       "      <td>Europe</td>\n",
       "      <td>8464</td>\n",
       "    </tr>\n",
       "    <tr>\n",
       "      <th>10</th>\n",
       "      <td>Azerbaijan</td>\n",
       "      <td>Europe</td>\n",
       "      <td>9309</td>\n",
       "    </tr>\n",
       "    <tr>\n",
       "      <th>11</th>\n",
       "      <td>Bahamas</td>\n",
       "      <td>Americas</td>\n",
       "      <td>372</td>\n",
       "    </tr>\n",
       "    <tr>\n",
       "      <th>12</th>\n",
       "      <td>Bahrain</td>\n",
       "      <td>Eastern Mediterranean</td>\n",
       "      <td>1318</td>\n",
       "    </tr>\n",
       "    <tr>\n",
       "      <th>13</th>\n",
       "      <td>Bangladesh</td>\n",
       "      <td>South-East Asia</td>\n",
       "      <td>155000</td>\n",
       "    </tr>\n",
       "    <tr>\n",
       "      <th>14</th>\n",
       "      <td>Barbados</td>\n",
       "      <td>Americas</td>\n",
       "      <td>283</td>\n",
       "    </tr>\n",
       "    <tr>\n",
       "      <th>15</th>\n",
       "      <td>Belarus</td>\n",
       "      <td>Europe</td>\n",
       "      <td>9405</td>\n",
       "    </tr>\n",
       "    <tr>\n",
       "      <th>16</th>\n",
       "      <td>Belgium</td>\n",
       "      <td>Europe</td>\n",
       "      <td>11060</td>\n",
       "    </tr>\n",
       "    <tr>\n",
       "      <th>17</th>\n",
       "      <td>Belize</td>\n",
       "      <td>Americas</td>\n",
       "      <td>324</td>\n",
       "    </tr>\n",
       "    <tr>\n",
       "      <th>18</th>\n",
       "      <td>Benin</td>\n",
       "      <td>Africa</td>\n",
       "      <td>10051</td>\n",
       "    </tr>\n",
       "    <tr>\n",
       "      <th>19</th>\n",
       "      <td>Bhutan</td>\n",
       "      <td>South-East Asia</td>\n",
       "      <td>742</td>\n",
       "    </tr>\n",
       "    <tr>\n",
       "      <th>20</th>\n",
       "      <td>Bolivia (Plurinational State of)</td>\n",
       "      <td>Americas</td>\n",
       "      <td>10496</td>\n",
       "    </tr>\n",
       "    <tr>\n",
       "      <th>21</th>\n",
       "      <td>Bosnia and Herzegovina</td>\n",
       "      <td>Europe</td>\n",
       "      <td>3834</td>\n",
       "    </tr>\n",
       "    <tr>\n",
       "      <th>22</th>\n",
       "      <td>Botswana</td>\n",
       "      <td>Africa</td>\n",
       "      <td>2004</td>\n",
       "    </tr>\n",
       "    <tr>\n",
       "      <th>23</th>\n",
       "      <td>Brazil</td>\n",
       "      <td>Americas</td>\n",
       "      <td>199000</td>\n",
       "    </tr>\n",
       "    <tr>\n",
       "      <th>24</th>\n",
       "      <td>Brunei Darussalam</td>\n",
       "      <td>Western Pacific</td>\n",
       "      <td>412</td>\n",
       "    </tr>\n",
       "    <tr>\n",
       "      <th>25</th>\n",
       "      <td>Bulgaria</td>\n",
       "      <td>Europe</td>\n",
       "      <td>7278</td>\n",
       "    </tr>\n",
       "    <tr>\n",
       "      <th>26</th>\n",
       "      <td>Burkina Faso</td>\n",
       "      <td>Africa</td>\n",
       "      <td>16460</td>\n",
       "    </tr>\n",
       "    <tr>\n",
       "      <th>27</th>\n",
       "      <td>Burundi</td>\n",
       "      <td>Africa</td>\n",
       "      <td>9850</td>\n",
       "    </tr>\n",
       "    <tr>\n",
       "      <th>28</th>\n",
       "      <td>Cambodia</td>\n",
       "      <td>Western Pacific</td>\n",
       "      <td>14865</td>\n",
       "    </tr>\n",
       "    <tr>\n",
       "      <th>29</th>\n",
       "      <td>Cameroon</td>\n",
       "      <td>Africa</td>\n",
       "      <td>21700</td>\n",
       "    </tr>\n",
       "    <tr>\n",
       "      <th>...</th>\n",
       "      <td>...</td>\n",
       "      <td>...</td>\n",
       "      <td>...</td>\n",
       "    </tr>\n",
       "    <tr>\n",
       "      <th>164</th>\n",
       "      <td>Suriname</td>\n",
       "      <td>Americas</td>\n",
       "      <td>535</td>\n",
       "    </tr>\n",
       "    <tr>\n",
       "      <th>165</th>\n",
       "      <td>Swaziland</td>\n",
       "      <td>Africa</td>\n",
       "      <td>1231</td>\n",
       "    </tr>\n",
       "    <tr>\n",
       "      <th>166</th>\n",
       "      <td>Sweden</td>\n",
       "      <td>Europe</td>\n",
       "      <td>9511</td>\n",
       "    </tr>\n",
       "    <tr>\n",
       "      <th>167</th>\n",
       "      <td>Switzerland</td>\n",
       "      <td>Europe</td>\n",
       "      <td>7997</td>\n",
       "    </tr>\n",
       "    <tr>\n",
       "      <th>168</th>\n",
       "      <td>Syrian Arab Republic</td>\n",
       "      <td>Eastern Mediterranean</td>\n",
       "      <td>21890</td>\n",
       "    </tr>\n",
       "    <tr>\n",
       "      <th>169</th>\n",
       "      <td>Tajikistan</td>\n",
       "      <td>Europe</td>\n",
       "      <td>8009</td>\n",
       "    </tr>\n",
       "    <tr>\n",
       "      <th>170</th>\n",
       "      <td>Thailand</td>\n",
       "      <td>South-East Asia</td>\n",
       "      <td>66785</td>\n",
       "    </tr>\n",
       "    <tr>\n",
       "      <th>171</th>\n",
       "      <td>The former Yugoslav Republic of Macedonia</td>\n",
       "      <td>Europe</td>\n",
       "      <td>2106</td>\n",
       "    </tr>\n",
       "    <tr>\n",
       "      <th>172</th>\n",
       "      <td>Timor-Leste</td>\n",
       "      <td>South-East Asia</td>\n",
       "      <td>1114</td>\n",
       "    </tr>\n",
       "    <tr>\n",
       "      <th>173</th>\n",
       "      <td>Togo</td>\n",
       "      <td>Africa</td>\n",
       "      <td>6643</td>\n",
       "    </tr>\n",
       "    <tr>\n",
       "      <th>174</th>\n",
       "      <td>Tonga</td>\n",
       "      <td>Western Pacific</td>\n",
       "      <td>105</td>\n",
       "    </tr>\n",
       "    <tr>\n",
       "      <th>175</th>\n",
       "      <td>Trinidad and Tobago</td>\n",
       "      <td>Americas</td>\n",
       "      <td>1337</td>\n",
       "    </tr>\n",
       "    <tr>\n",
       "      <th>176</th>\n",
       "      <td>Tunisia</td>\n",
       "      <td>Eastern Mediterranean</td>\n",
       "      <td>10875</td>\n",
       "    </tr>\n",
       "    <tr>\n",
       "      <th>177</th>\n",
       "      <td>Turkey</td>\n",
       "      <td>Europe</td>\n",
       "      <td>73997</td>\n",
       "    </tr>\n",
       "    <tr>\n",
       "      <th>178</th>\n",
       "      <td>Turkmenistan</td>\n",
       "      <td>Europe</td>\n",
       "      <td>5173</td>\n",
       "    </tr>\n",
       "    <tr>\n",
       "      <th>179</th>\n",
       "      <td>Tuvalu</td>\n",
       "      <td>Western Pacific</td>\n",
       "      <td>10</td>\n",
       "    </tr>\n",
       "    <tr>\n",
       "      <th>180</th>\n",
       "      <td>Uganda</td>\n",
       "      <td>Africa</td>\n",
       "      <td>36346</td>\n",
       "    </tr>\n",
       "    <tr>\n",
       "      <th>181</th>\n",
       "      <td>Ukraine</td>\n",
       "      <td>Europe</td>\n",
       "      <td>45530</td>\n",
       "    </tr>\n",
       "    <tr>\n",
       "      <th>182</th>\n",
       "      <td>United Arab Emirates</td>\n",
       "      <td>Eastern Mediterranean</td>\n",
       "      <td>9206</td>\n",
       "    </tr>\n",
       "    <tr>\n",
       "      <th>183</th>\n",
       "      <td>United Kingdom</td>\n",
       "      <td>Europe</td>\n",
       "      <td>62783</td>\n",
       "    </tr>\n",
       "    <tr>\n",
       "      <th>184</th>\n",
       "      <td>United Republic of Tanzania</td>\n",
       "      <td>Africa</td>\n",
       "      <td>47783</td>\n",
       "    </tr>\n",
       "    <tr>\n",
       "      <th>185</th>\n",
       "      <td>United States of America</td>\n",
       "      <td>Americas</td>\n",
       "      <td>318000</td>\n",
       "    </tr>\n",
       "    <tr>\n",
       "      <th>186</th>\n",
       "      <td>Uruguay</td>\n",
       "      <td>Americas</td>\n",
       "      <td>3395</td>\n",
       "    </tr>\n",
       "    <tr>\n",
       "      <th>187</th>\n",
       "      <td>Uzbekistan</td>\n",
       "      <td>Europe</td>\n",
       "      <td>28541</td>\n",
       "    </tr>\n",
       "    <tr>\n",
       "      <th>188</th>\n",
       "      <td>Vanuatu</td>\n",
       "      <td>Western Pacific</td>\n",
       "      <td>247</td>\n",
       "    </tr>\n",
       "    <tr>\n",
       "      <th>189</th>\n",
       "      <td>Venezuela (Bolivarian Republic of)</td>\n",
       "      <td>Americas</td>\n",
       "      <td>29955</td>\n",
       "    </tr>\n",
       "    <tr>\n",
       "      <th>190</th>\n",
       "      <td>Viet Nam</td>\n",
       "      <td>Western Pacific</td>\n",
       "      <td>90796</td>\n",
       "    </tr>\n",
       "    <tr>\n",
       "      <th>191</th>\n",
       "      <td>Yemen</td>\n",
       "      <td>Eastern Mediterranean</td>\n",
       "      <td>23852</td>\n",
       "    </tr>\n",
       "    <tr>\n",
       "      <th>192</th>\n",
       "      <td>Zambia</td>\n",
       "      <td>Africa</td>\n",
       "      <td>14075</td>\n",
       "    </tr>\n",
       "    <tr>\n",
       "      <th>193</th>\n",
       "      <td>Zimbabwe</td>\n",
       "      <td>Africa</td>\n",
       "      <td>13724</td>\n",
       "    </tr>\n",
       "  </tbody>\n",
       "</table>\n",
       "<p>194 rows × 3 columns</p>\n",
       "</div>"
      ],
      "text/plain": [
       "                                       Country                 Region  \\\n",
       "0                                  Afghanistan  Eastern Mediterranean   \n",
       "1                                      Albania                 Europe   \n",
       "2                                      Algeria                 Africa   \n",
       "3                                      Andorra                 Europe   \n",
       "4                                       Angola                 Africa   \n",
       "5                          Antigua and Barbuda               Americas   \n",
       "6                                    Argentina               Americas   \n",
       "7                                      Armenia                 Europe   \n",
       "8                                    Australia        Western Pacific   \n",
       "9                                      Austria                 Europe   \n",
       "10                                  Azerbaijan                 Europe   \n",
       "11                                     Bahamas               Americas   \n",
       "12                                     Bahrain  Eastern Mediterranean   \n",
       "13                                  Bangladesh        South-East Asia   \n",
       "14                                    Barbados               Americas   \n",
       "15                                     Belarus                 Europe   \n",
       "16                                     Belgium                 Europe   \n",
       "17                                      Belize               Americas   \n",
       "18                                       Benin                 Africa   \n",
       "19                                      Bhutan        South-East Asia   \n",
       "20            Bolivia (Plurinational State of)               Americas   \n",
       "21                      Bosnia and Herzegovina                 Europe   \n",
       "22                                    Botswana                 Africa   \n",
       "23                                      Brazil               Americas   \n",
       "24                           Brunei Darussalam        Western Pacific   \n",
       "25                                    Bulgaria                 Europe   \n",
       "26                                Burkina Faso                 Africa   \n",
       "27                                     Burundi                 Africa   \n",
       "28                                    Cambodia        Western Pacific   \n",
       "29                                    Cameroon                 Africa   \n",
       "..                                         ...                    ...   \n",
       "164                                   Suriname               Americas   \n",
       "165                                  Swaziland                 Africa   \n",
       "166                                     Sweden                 Europe   \n",
       "167                                Switzerland                 Europe   \n",
       "168                       Syrian Arab Republic  Eastern Mediterranean   \n",
       "169                                 Tajikistan                 Europe   \n",
       "170                                   Thailand        South-East Asia   \n",
       "171  The former Yugoslav Republic of Macedonia                 Europe   \n",
       "172                                Timor-Leste        South-East Asia   \n",
       "173                                       Togo                 Africa   \n",
       "174                                      Tonga        Western Pacific   \n",
       "175                        Trinidad and Tobago               Americas   \n",
       "176                                    Tunisia  Eastern Mediterranean   \n",
       "177                                     Turkey                 Europe   \n",
       "178                               Turkmenistan                 Europe   \n",
       "179                                     Tuvalu        Western Pacific   \n",
       "180                                     Uganda                 Africa   \n",
       "181                                    Ukraine                 Europe   \n",
       "182                       United Arab Emirates  Eastern Mediterranean   \n",
       "183                             United Kingdom                 Europe   \n",
       "184                United Republic of Tanzania                 Africa   \n",
       "185                   United States of America               Americas   \n",
       "186                                    Uruguay               Americas   \n",
       "187                                 Uzbekistan                 Europe   \n",
       "188                                    Vanuatu        Western Pacific   \n",
       "189         Venezuela (Bolivarian Republic of)               Americas   \n",
       "190                                   Viet Nam        Western Pacific   \n",
       "191                                      Yemen  Eastern Mediterranean   \n",
       "192                                     Zambia                 Africa   \n",
       "193                                   Zimbabwe                 Africa   \n",
       "\n",
       "     Population  \n",
       "0         29825  \n",
       "1          3162  \n",
       "2         38482  \n",
       "3            78  \n",
       "4         20821  \n",
       "5            89  \n",
       "6         41087  \n",
       "7          2969  \n",
       "8         23050  \n",
       "9          8464  \n",
       "10         9309  \n",
       "11          372  \n",
       "12         1318  \n",
       "13       155000  \n",
       "14          283  \n",
       "15         9405  \n",
       "16        11060  \n",
       "17          324  \n",
       "18        10051  \n",
       "19          742  \n",
       "20        10496  \n",
       "21         3834  \n",
       "22         2004  \n",
       "23       199000  \n",
       "24          412  \n",
       "25         7278  \n",
       "26        16460  \n",
       "27         9850  \n",
       "28        14865  \n",
       "29        21700  \n",
       "..          ...  \n",
       "164         535  \n",
       "165        1231  \n",
       "166        9511  \n",
       "167        7997  \n",
       "168       21890  \n",
       "169        8009  \n",
       "170       66785  \n",
       "171        2106  \n",
       "172        1114  \n",
       "173        6643  \n",
       "174         105  \n",
       "175        1337  \n",
       "176       10875  \n",
       "177       73997  \n",
       "178        5173  \n",
       "179          10  \n",
       "180       36346  \n",
       "181       45530  \n",
       "182        9206  \n",
       "183       62783  \n",
       "184       47783  \n",
       "185      318000  \n",
       "186        3395  \n",
       "187       28541  \n",
       "188         247  \n",
       "189       29955  \n",
       "190       90796  \n",
       "191       23852  \n",
       "192       14075  \n",
       "193       13724  \n",
       "\n",
       "[194 rows x 3 columns]"
      ]
     },
     "execution_count": 63,
     "metadata": {},
     "output_type": "execute_result"
    }
   ],
   "source": [
    "#Print Specific Columns(Using Variable Name)\n",
    "WHO[['Country', 'Region', 'Population']]"
   ]
  },
  {
   "cell_type": "code",
   "execution_count": 64,
   "metadata": {},
   "outputs": [
    {
     "data": {
      "text/html": [
       "<div>\n",
       "<style scoped>\n",
       "    .dataframe tbody tr th:only-of-type {\n",
       "        vertical-align: middle;\n",
       "    }\n",
       "\n",
       "    .dataframe tbody tr th {\n",
       "        vertical-align: top;\n",
       "    }\n",
       "\n",
       "    .dataframe thead th {\n",
       "        text-align: right;\n",
       "    }\n",
       "</style>\n",
       "<table border=\"1\" class=\"dataframe\">\n",
       "  <thead>\n",
       "    <tr style=\"text-align: right;\">\n",
       "      <th></th>\n",
       "      <th>Country</th>\n",
       "      <th>Region</th>\n",
       "      <th>Population</th>\n",
       "    </tr>\n",
       "  </thead>\n",
       "  <tbody>\n",
       "    <tr>\n",
       "      <th>1</th>\n",
       "      <td>Albania</td>\n",
       "      <td>Europe</td>\n",
       "      <td>3162</td>\n",
       "    </tr>\n",
       "    <tr>\n",
       "      <th>2</th>\n",
       "      <td>Algeria</td>\n",
       "      <td>Africa</td>\n",
       "      <td>38482</td>\n",
       "    </tr>\n",
       "    <tr>\n",
       "      <th>3</th>\n",
       "      <td>Andorra</td>\n",
       "      <td>Europe</td>\n",
       "      <td>78</td>\n",
       "    </tr>\n",
       "    <tr>\n",
       "      <th>4</th>\n",
       "      <td>Angola</td>\n",
       "      <td>Africa</td>\n",
       "      <td>20821</td>\n",
       "    </tr>\n",
       "  </tbody>\n",
       "</table>\n",
       "</div>"
      ],
      "text/plain": [
       "   Country  Region  Population\n",
       "1  Albania  Europe        3162\n",
       "2  Algeria  Africa       38482\n",
       "3  Andorra  Europe          78\n",
       "4   Angola  Africa       20821"
      ]
     },
     "execution_count": 64,
     "metadata": {},
     "output_type": "execute_result"
    }
   ],
   "source": [
    "#Print Specific Rows and Columns(Using Variable Name)\n",
    "WHO.loc[1:4,['Country', 'Region', 'Population']]"
   ]
  },
  {
   "cell_type": "code",
   "execution_count": 65,
   "metadata": {},
   "outputs": [
    {
     "data": {
      "text/html": [
       "<div>\n",
       "<style scoped>\n",
       "    .dataframe tbody tr th:only-of-type {\n",
       "        vertical-align: middle;\n",
       "    }\n",
       "\n",
       "    .dataframe tbody tr th {\n",
       "        vertical-align: top;\n",
       "    }\n",
       "\n",
       "    .dataframe thead th {\n",
       "        text-align: right;\n",
       "    }\n",
       "</style>\n",
       "<table border=\"1\" class=\"dataframe\">\n",
       "  <thead>\n",
       "    <tr style=\"text-align: right;\">\n",
       "      <th></th>\n",
       "      <th>Country</th>\n",
       "      <th>Region</th>\n",
       "      <th>Population</th>\n",
       "    </tr>\n",
       "  </thead>\n",
       "  <tbody>\n",
       "    <tr>\n",
       "      <th>2</th>\n",
       "      <td>Algeria</td>\n",
       "      <td>Africa</td>\n",
       "      <td>38482</td>\n",
       "    </tr>\n",
       "    <tr>\n",
       "      <th>4</th>\n",
       "      <td>Angola</td>\n",
       "      <td>Africa</td>\n",
       "      <td>20821</td>\n",
       "    </tr>\n",
       "    <tr>\n",
       "      <th>50</th>\n",
       "      <td>Dominica</td>\n",
       "      <td>Americas</td>\n",
       "      <td>72</td>\n",
       "    </tr>\n",
       "    <tr>\n",
       "      <th>52</th>\n",
       "      <td>Ecuador</td>\n",
       "      <td>Americas</td>\n",
       "      <td>15492</td>\n",
       "    </tr>\n",
       "  </tbody>\n",
       "</table>\n",
       "</div>"
      ],
      "text/plain": [
       "     Country    Region  Population\n",
       "2    Algeria    Africa       38482\n",
       "4     Angola    Africa       20821\n",
       "50  Dominica  Americas          72\n",
       "52   Ecuador  Americas       15492"
      ]
     },
     "execution_count": 65,
     "metadata": {},
     "output_type": "execute_result"
    }
   ],
   "source": [
    "WHO.loc[[2,4,50,52],['Country', 'Region', 'Population']]"
   ]
  },
  {
   "cell_type": "code",
   "execution_count": 66,
   "metadata": {},
   "outputs": [
    {
     "data": {
      "text/plain": [
       "1390000"
      ]
     },
     "execution_count": 66,
     "metadata": {},
     "output_type": "execute_result"
    }
   ],
   "source": [
    "#Summary of the Data Frame\n",
    "#1-Find Max Population\n",
    "WHO['Population'].max()"
   ]
  },
  {
   "cell_type": "code",
   "execution_count": 67,
   "metadata": {},
   "outputs": [
    {
     "data": {
      "text/plain": [
       "1"
      ]
     },
     "execution_count": 67,
     "metadata": {},
     "output_type": "execute_result"
    }
   ],
   "source": [
    "#2-Find Min Population\n",
    "WHO['Population'].min()"
   ]
  },
  {
   "cell_type": "code",
   "execution_count": 68,
   "metadata": {},
   "outputs": [
    {
     "data": {
      "text/plain": [
       "137903.14124139037"
      ]
     },
     "execution_count": 68,
     "metadata": {},
     "output_type": "execute_result"
    }
   ],
   "source": [
    "#3-Find Standard Deviation Population\n",
    "WHO['Population'].std()"
   ]
  },
  {
   "cell_type": "code",
   "execution_count": 69,
   "metadata": {},
   "outputs": [
    {
     "data": {
      "text/plain": [
       "36359.97422680412"
      ]
     },
     "execution_count": 69,
     "metadata": {},
     "output_type": "execute_result"
    }
   ],
   "source": [
    "#4-Find Mean Population\n",
    "WHO['Population'].mean()"
   ]
  },
  {
   "cell_type": "code",
   "execution_count": 70,
   "metadata": {},
   "outputs": [
    {
     "data": {
      "text/html": [
       "<div>\n",
       "<style scoped>\n",
       "    .dataframe tbody tr th:only-of-type {\n",
       "        vertical-align: middle;\n",
       "    }\n",
       "\n",
       "    .dataframe tbody tr th {\n",
       "        vertical-align: top;\n",
       "    }\n",
       "\n",
       "    .dataframe thead th {\n",
       "        text-align: right;\n",
       "    }\n",
       "</style>\n",
       "<table border=\"1\" class=\"dataframe\">\n",
       "  <thead>\n",
       "    <tr style=\"text-align: right;\">\n",
       "      <th></th>\n",
       "      <th>Population</th>\n",
       "      <th>Under15</th>\n",
       "      <th>Over60</th>\n",
       "      <th>FertilityRate</th>\n",
       "      <th>LifeExpectancy</th>\n",
       "      <th>ChildMortality</th>\n",
       "      <th>CellularSubscribers</th>\n",
       "      <th>LiteracyRate</th>\n",
       "      <th>GNI</th>\n",
       "      <th>PrimarySchoolEnrollmentMale</th>\n",
       "      <th>PrimarySchoolEnrollmentFemale</th>\n",
       "    </tr>\n",
       "  </thead>\n",
       "  <tbody>\n",
       "    <tr>\n",
       "      <th>count</th>\n",
       "      <td>1.940000e+02</td>\n",
       "      <td>194.000000</td>\n",
       "      <td>194.000000</td>\n",
       "      <td>183.000000</td>\n",
       "      <td>194.000000</td>\n",
       "      <td>194.000000</td>\n",
       "      <td>184.000000</td>\n",
       "      <td>103.000000</td>\n",
       "      <td>162.000000</td>\n",
       "      <td>101.000000</td>\n",
       "      <td>101.000000</td>\n",
       "    </tr>\n",
       "    <tr>\n",
       "      <th>mean</th>\n",
       "      <td>3.635997e+04</td>\n",
       "      <td>28.732423</td>\n",
       "      <td>11.163660</td>\n",
       "      <td>2.940656</td>\n",
       "      <td>70.010309</td>\n",
       "      <td>36.148969</td>\n",
       "      <td>93.641522</td>\n",
       "      <td>83.710680</td>\n",
       "      <td>13320.925926</td>\n",
       "      <td>90.850495</td>\n",
       "      <td>89.632673</td>\n",
       "    </tr>\n",
       "    <tr>\n",
       "      <th>std</th>\n",
       "      <td>1.379031e+05</td>\n",
       "      <td>10.534573</td>\n",
       "      <td>7.149331</td>\n",
       "      <td>1.480984</td>\n",
       "      <td>9.259075</td>\n",
       "      <td>37.992935</td>\n",
       "      <td>41.400447</td>\n",
       "      <td>17.530645</td>\n",
       "      <td>15192.988650</td>\n",
       "      <td>11.017147</td>\n",
       "      <td>12.817614</td>\n",
       "    </tr>\n",
       "    <tr>\n",
       "      <th>min</th>\n",
       "      <td>1.000000e+00</td>\n",
       "      <td>13.120000</td>\n",
       "      <td>0.810000</td>\n",
       "      <td>1.260000</td>\n",
       "      <td>47.000000</td>\n",
       "      <td>2.200000</td>\n",
       "      <td>2.570000</td>\n",
       "      <td>31.100000</td>\n",
       "      <td>340.000000</td>\n",
       "      <td>37.200000</td>\n",
       "      <td>32.500000</td>\n",
       "    </tr>\n",
       "    <tr>\n",
       "      <th>25%</th>\n",
       "      <td>1.695750e+03</td>\n",
       "      <td>18.717500</td>\n",
       "      <td>5.200000</td>\n",
       "      <td>1.835000</td>\n",
       "      <td>64.000000</td>\n",
       "      <td>8.425000</td>\n",
       "      <td>63.567500</td>\n",
       "      <td>71.600000</td>\n",
       "      <td>2335.000000</td>\n",
       "      <td>87.700000</td>\n",
       "      <td>87.300000</td>\n",
       "    </tr>\n",
       "    <tr>\n",
       "      <th>50%</th>\n",
       "      <td>7.790000e+03</td>\n",
       "      <td>28.650000</td>\n",
       "      <td>8.530000</td>\n",
       "      <td>2.400000</td>\n",
       "      <td>72.500000</td>\n",
       "      <td>18.600000</td>\n",
       "      <td>97.745000</td>\n",
       "      <td>91.800000</td>\n",
       "      <td>7870.000000</td>\n",
       "      <td>94.700000</td>\n",
       "      <td>95.100000</td>\n",
       "    </tr>\n",
       "    <tr>\n",
       "      <th>75%</th>\n",
       "      <td>2.453525e+04</td>\n",
       "      <td>37.752500</td>\n",
       "      <td>16.687500</td>\n",
       "      <td>3.905000</td>\n",
       "      <td>76.000000</td>\n",
       "      <td>55.975000</td>\n",
       "      <td>120.805000</td>\n",
       "      <td>97.850000</td>\n",
       "      <td>17557.500000</td>\n",
       "      <td>98.100000</td>\n",
       "      <td>97.900000</td>\n",
       "    </tr>\n",
       "    <tr>\n",
       "      <th>max</th>\n",
       "      <td>1.390000e+06</td>\n",
       "      <td>49.990000</td>\n",
       "      <td>31.920000</td>\n",
       "      <td>7.580000</td>\n",
       "      <td>83.000000</td>\n",
       "      <td>181.600000</td>\n",
       "      <td>196.410000</td>\n",
       "      <td>99.800000</td>\n",
       "      <td>86440.000000</td>\n",
       "      <td>100.000000</td>\n",
       "      <td>100.000000</td>\n",
       "    </tr>\n",
       "  </tbody>\n",
       "</table>\n",
       "</div>"
      ],
      "text/plain": [
       "         Population     Under15      Over60  FertilityRate  LifeExpectancy  \\\n",
       "count  1.940000e+02  194.000000  194.000000     183.000000      194.000000   \n",
       "mean   3.635997e+04   28.732423   11.163660       2.940656       70.010309   \n",
       "std    1.379031e+05   10.534573    7.149331       1.480984        9.259075   \n",
       "min    1.000000e+00   13.120000    0.810000       1.260000       47.000000   \n",
       "25%    1.695750e+03   18.717500    5.200000       1.835000       64.000000   \n",
       "50%    7.790000e+03   28.650000    8.530000       2.400000       72.500000   \n",
       "75%    2.453525e+04   37.752500   16.687500       3.905000       76.000000   \n",
       "max    1.390000e+06   49.990000   31.920000       7.580000       83.000000   \n",
       "\n",
       "       ChildMortality  CellularSubscribers  LiteracyRate           GNI  \\\n",
       "count      194.000000           184.000000    103.000000    162.000000   \n",
       "mean        36.148969            93.641522     83.710680  13320.925926   \n",
       "std         37.992935            41.400447     17.530645  15192.988650   \n",
       "min          2.200000             2.570000     31.100000    340.000000   \n",
       "25%          8.425000            63.567500     71.600000   2335.000000   \n",
       "50%         18.600000            97.745000     91.800000   7870.000000   \n",
       "75%         55.975000           120.805000     97.850000  17557.500000   \n",
       "max        181.600000           196.410000     99.800000  86440.000000   \n",
       "\n",
       "       PrimarySchoolEnrollmentMale  PrimarySchoolEnrollmentFemale  \n",
       "count                   101.000000                     101.000000  \n",
       "mean                     90.850495                      89.632673  \n",
       "std                      11.017147                      12.817614  \n",
       "min                      37.200000                      32.500000  \n",
       "25%                      87.700000                      87.300000  \n",
       "50%                      94.700000                      95.100000  \n",
       "75%                      98.100000                      97.900000  \n",
       "max                     100.000000                     100.000000  "
      ]
     },
     "execution_count": 70,
     "metadata": {},
     "output_type": "execute_result"
    }
   ],
   "source": [
    "#Describe\n",
    "WHO.describe()"
   ]
  },
  {
   "cell_type": "code",
   "execution_count": 71,
   "metadata": {},
   "outputs": [
    {
     "data": {
      "text/html": [
       "<div>\n",
       "<style scoped>\n",
       "    .dataframe tbody tr th:only-of-type {\n",
       "        vertical-align: middle;\n",
       "    }\n",
       "\n",
       "    .dataframe tbody tr th {\n",
       "        vertical-align: top;\n",
       "    }\n",
       "\n",
       "    .dataframe thead th {\n",
       "        text-align: right;\n",
       "    }\n",
       "</style>\n",
       "<table border=\"1\" class=\"dataframe\">\n",
       "  <thead>\n",
       "    <tr style=\"text-align: right;\">\n",
       "      <th></th>\n",
       "      <th>Country</th>\n",
       "      <th>Region</th>\n",
       "      <th>Population</th>\n",
       "      <th>Under15</th>\n",
       "      <th>Over60</th>\n",
       "      <th>FertilityRate</th>\n",
       "      <th>LifeExpectancy</th>\n",
       "      <th>ChildMortality</th>\n",
       "      <th>CellularSubscribers</th>\n",
       "      <th>LiteracyRate</th>\n",
       "      <th>GNI</th>\n",
       "      <th>PrimarySchoolEnrollmentMale</th>\n",
       "      <th>PrimarySchoolEnrollmentFemale</th>\n",
       "    </tr>\n",
       "  </thead>\n",
       "  <tbody>\n",
       "    <tr>\n",
       "      <th>35</th>\n",
       "      <td>China</td>\n",
       "      <td>Western Pacific</td>\n",
       "      <td>1390000</td>\n",
       "      <td>17.95</td>\n",
       "      <td>13.42</td>\n",
       "      <td>1.66</td>\n",
       "      <td>76</td>\n",
       "      <td>14.0</td>\n",
       "      <td>73.19</td>\n",
       "      <td>94.3</td>\n",
       "      <td>8390.0</td>\n",
       "      <td>NaN</td>\n",
       "      <td>NaN</td>\n",
       "    </tr>\n",
       "    <tr>\n",
       "      <th>77</th>\n",
       "      <td>India</td>\n",
       "      <td>South-East Asia</td>\n",
       "      <td>1240000</td>\n",
       "      <td>29.43</td>\n",
       "      <td>8.10</td>\n",
       "      <td>2.53</td>\n",
       "      <td>65</td>\n",
       "      <td>56.3</td>\n",
       "      <td>72.00</td>\n",
       "      <td>NaN</td>\n",
       "      <td>3590.0</td>\n",
       "      <td>NaN</td>\n",
       "      <td>NaN</td>\n",
       "    </tr>\n",
       "  </tbody>\n",
       "</table>\n",
       "</div>"
      ],
      "text/plain": [
       "   Country           Region  Population  Under15  Over60  FertilityRate  \\\n",
       "35   China  Western Pacific     1390000    17.95   13.42           1.66   \n",
       "77   India  South-East Asia     1240000    29.43    8.10           2.53   \n",
       "\n",
       "    LifeExpectancy  ChildMortality  CellularSubscribers  LiteracyRate     GNI  \\\n",
       "35              76            14.0                73.19          94.3  8390.0   \n",
       "77              65            56.3                72.00           NaN  3590.0   \n",
       "\n",
       "    PrimarySchoolEnrollmentMale  PrimarySchoolEnrollmentFemale  \n",
       "35                          NaN                            NaN  \n",
       "77                          NaN                            NaN  "
      ]
     },
     "execution_count": 71,
     "metadata": {},
     "output_type": "execute_result"
    }
   ],
   "source": [
    "#Subset Operation\n",
    "WHO[WHO.Population>360000]"
   ]
  },
  {
   "cell_type": "code",
   "execution_count": 72,
   "metadata": {},
   "outputs": [
    {
     "data": {
      "text/html": [
       "<div>\n",
       "<style scoped>\n",
       "    .dataframe tbody tr th:only-of-type {\n",
       "        vertical-align: middle;\n",
       "    }\n",
       "\n",
       "    .dataframe tbody tr th {\n",
       "        vertical-align: top;\n",
       "    }\n",
       "\n",
       "    .dataframe thead th {\n",
       "        text-align: right;\n",
       "    }\n",
       "</style>\n",
       "<table border=\"1\" class=\"dataframe\">\n",
       "  <thead>\n",
       "    <tr style=\"text-align: right;\">\n",
       "      <th></th>\n",
       "      <th>Country</th>\n",
       "      <th>Region</th>\n",
       "      <th>Population</th>\n",
       "      <th>Under15</th>\n",
       "      <th>Over60</th>\n",
       "      <th>FertilityRate</th>\n",
       "      <th>LifeExpectancy</th>\n",
       "      <th>ChildMortality</th>\n",
       "      <th>CellularSubscribers</th>\n",
       "      <th>LiteracyRate</th>\n",
       "      <th>GNI</th>\n",
       "      <th>PrimarySchoolEnrollmentMale</th>\n",
       "      <th>PrimarySchoolEnrollmentFemale</th>\n",
       "    </tr>\n",
       "  </thead>\n",
       "  <tbody>\n",
       "    <tr>\n",
       "      <th>35</th>\n",
       "      <td>China</td>\n",
       "      <td>Western Pacific</td>\n",
       "      <td>1390000</td>\n",
       "      <td>17.95</td>\n",
       "      <td>13.42</td>\n",
       "      <td>1.66</td>\n",
       "      <td>76</td>\n",
       "      <td>14.0</td>\n",
       "      <td>73.19</td>\n",
       "      <td>94.3</td>\n",
       "      <td>8390.0</td>\n",
       "      <td>NaN</td>\n",
       "      <td>NaN</td>\n",
       "    </tr>\n",
       "  </tbody>\n",
       "</table>\n",
       "</div>"
      ],
      "text/plain": [
       "   Country           Region  Population  Under15  Over60  FertilityRate  \\\n",
       "35   China  Western Pacific     1390000    17.95   13.42           1.66   \n",
       "\n",
       "    LifeExpectancy  ChildMortality  CellularSubscribers  LiteracyRate     GNI  \\\n",
       "35              76            14.0                73.19          94.3  8390.0   \n",
       "\n",
       "    PrimarySchoolEnrollmentMale  PrimarySchoolEnrollmentFemale  \n",
       "35                          NaN                            NaN  "
      ]
     },
     "execution_count": 72,
     "metadata": {},
     "output_type": "execute_result"
    }
   ],
   "source": [
    "#Max Population Data Frame\n",
    "WHO[WHO.Population==WHO.Population.max()]"
   ]
  },
  {
   "cell_type": "code",
   "execution_count": 73,
   "metadata": {},
   "outputs": [
    {
     "data": {
      "text/html": [
       "<div>\n",
       "<style scoped>\n",
       "    .dataframe tbody tr th:only-of-type {\n",
       "        vertical-align: middle;\n",
       "    }\n",
       "\n",
       "    .dataframe tbody tr th {\n",
       "        vertical-align: top;\n",
       "    }\n",
       "\n",
       "    .dataframe thead th {\n",
       "        text-align: right;\n",
       "    }\n",
       "</style>\n",
       "<table border=\"1\" class=\"dataframe\">\n",
       "  <thead>\n",
       "    <tr style=\"text-align: right;\">\n",
       "      <th></th>\n",
       "      <th>Country</th>\n",
       "      <th>Region</th>\n",
       "      <th>Population</th>\n",
       "      <th>Under15</th>\n",
       "      <th>Over60</th>\n",
       "      <th>FertilityRate</th>\n",
       "      <th>LifeExpectancy</th>\n",
       "      <th>ChildMortality</th>\n",
       "      <th>CellularSubscribers</th>\n",
       "      <th>LiteracyRate</th>\n",
       "      <th>GNI</th>\n",
       "      <th>PrimarySchoolEnrollmentMale</th>\n",
       "      <th>PrimarySchoolEnrollmentFemale</th>\n",
       "    </tr>\n",
       "  </thead>\n",
       "  <tbody>\n",
       "    <tr>\n",
       "      <th>35</th>\n",
       "      <td>China</td>\n",
       "      <td>Western Pacific</td>\n",
       "      <td>1390000</td>\n",
       "      <td>17.95</td>\n",
       "      <td>13.42</td>\n",
       "      <td>1.66</td>\n",
       "      <td>76</td>\n",
       "      <td>14.0</td>\n",
       "      <td>73.19</td>\n",
       "      <td>94.3</td>\n",
       "      <td>8390.0</td>\n",
       "      <td>NaN</td>\n",
       "      <td>NaN</td>\n",
       "    </tr>\n",
       "  </tbody>\n",
       "</table>\n",
       "</div>"
      ],
      "text/plain": [
       "   Country           Region  Population  Under15  Over60  FertilityRate  \\\n",
       "35   China  Western Pacific     1390000    17.95   13.42           1.66   \n",
       "\n",
       "    LifeExpectancy  ChildMortality  CellularSubscribers  LiteracyRate     GNI  \\\n",
       "35              76            14.0                73.19          94.3  8390.0   \n",
       "\n",
       "    PrimarySchoolEnrollmentMale  PrimarySchoolEnrollmentFemale  \n",
       "35                          NaN                            NaN  "
      ]
     },
     "execution_count": 73,
     "metadata": {},
     "output_type": "execute_result"
    }
   ],
   "source": [
    "WHO[WHO.Population==WHO['Population'].max()]"
   ]
  },
  {
   "cell_type": "code",
   "execution_count": 74,
   "metadata": {},
   "outputs": [
    {
     "data": {
      "text/html": [
       "<div>\n",
       "<style scoped>\n",
       "    .dataframe tbody tr th:only-of-type {\n",
       "        vertical-align: middle;\n",
       "    }\n",
       "\n",
       "    .dataframe tbody tr th {\n",
       "        vertical-align: top;\n",
       "    }\n",
       "\n",
       "    .dataframe thead th {\n",
       "        text-align: right;\n",
       "    }\n",
       "</style>\n",
       "<table border=\"1\" class=\"dataframe\">\n",
       "  <thead>\n",
       "    <tr style=\"text-align: right;\">\n",
       "      <th></th>\n",
       "      <th>Region</th>\n",
       "      <th>CellularSubscribers</th>\n",
       "      <th>Population</th>\n",
       "    </tr>\n",
       "  </thead>\n",
       "  <tbody>\n",
       "    <tr>\n",
       "      <th>35</th>\n",
       "      <td>Western Pacific</td>\n",
       "      <td>73.19</td>\n",
       "      <td>1390000</td>\n",
       "    </tr>\n",
       "  </tbody>\n",
       "</table>\n",
       "</div>"
      ],
      "text/plain": [
       "             Region  CellularSubscribers  Population\n",
       "35  Western Pacific                73.19     1390000"
      ]
     },
     "execution_count": 74,
     "metadata": {},
     "output_type": "execute_result"
    }
   ],
   "source": [
    "#Max Population Data Frame (Specific Columns)\n",
    "WHO[['Region','CellularSubscribers','Population']][WHO.Population==\n",
    "WHO['Population'].max()]"
   ]
  },
  {
   "cell_type": "code",
   "execution_count": 75,
   "metadata": {},
   "outputs": [
    {
     "data": {
      "text/plain": [
       "RangeIndex(start=0, stop=194, step=1)"
      ]
     },
     "execution_count": 75,
     "metadata": {},
     "output_type": "execute_result"
    }
   ],
   "source": [
    "#Index of the Data Frame\n",
    "WHO.index"
   ]
  },
  {
   "cell_type": "code",
   "execution_count": 76,
   "metadata": {},
   "outputs": [
    {
     "name": "stdout",
     "output_type": "stream",
     "text": [
      "                                       Country                 Region  \\\n",
      "0                                  Afghanistan  Eastern Mediterranean   \n",
      "1                                      Albania                 Europe   \n",
      "2                                      Algeria                 Africa   \n",
      "3                                      Andorra                 Europe   \n",
      "4                                       Angola                 Africa   \n",
      "5                          Antigua and Barbuda               Americas   \n",
      "6                                    Argentina               Americas   \n",
      "7                                      Armenia                 Europe   \n",
      "8                                    Australia        Western Pacific   \n",
      "9                                      Austria                 Europe   \n",
      "10                                  Azerbaijan                 Europe   \n",
      "11                                     Bahamas               Americas   \n",
      "12                                     Bahrain  Eastern Mediterranean   \n",
      "13                                  Bangladesh        South-East Asia   \n",
      "14                                    Barbados               Americas   \n",
      "15                                     Belarus                 Europe   \n",
      "16                                     Belgium                 Europe   \n",
      "17                                      Belize               Americas   \n",
      "18                                       Benin                 Africa   \n",
      "19                                      Bhutan        South-East Asia   \n",
      "20            Bolivia (Plurinational State of)               Americas   \n",
      "21                      Bosnia and Herzegovina                 Europe   \n",
      "22                                    Botswana                 Africa   \n",
      "23                                      Brazil               Americas   \n",
      "24                           Brunei Darussalam        Western Pacific   \n",
      "25                                    Bulgaria                 Europe   \n",
      "26                                Burkina Faso                 Africa   \n",
      "27                                     Burundi                 Africa   \n",
      "28                                    Cambodia        Western Pacific   \n",
      "29                                    Cameroon                 Africa   \n",
      "..                                         ...                    ...   \n",
      "164                                   Suriname               Americas   \n",
      "165                                  Swaziland                 Africa   \n",
      "166                                     Sweden                 Europe   \n",
      "167                                Switzerland                 Europe   \n",
      "168                       Syrian Arab Republic  Eastern Mediterranean   \n",
      "169                                 Tajikistan                 Europe   \n",
      "170                                   Thailand        South-East Asia   \n",
      "171  The former Yugoslav Republic of Macedonia                 Europe   \n",
      "172                                Timor-Leste        South-East Asia   \n",
      "173                                       Togo                 Africa   \n",
      "174                                      Tonga        Western Pacific   \n",
      "175                        Trinidad and Tobago               Americas   \n",
      "176                                    Tunisia  Eastern Mediterranean   \n",
      "177                                     Turkey                 Europe   \n",
      "178                               Turkmenistan                 Europe   \n",
      "179                                     Tuvalu        Western Pacific   \n",
      "180                                     Uganda                 Africa   \n",
      "181                                    Ukraine                 Europe   \n",
      "182                       United Arab Emirates  Eastern Mediterranean   \n",
      "183                             United Kingdom                 Europe   \n",
      "184                United Republic of Tanzania                 Africa   \n",
      "185                   United States of America               Americas   \n",
      "186                                    Uruguay               Americas   \n",
      "187                                 Uzbekistan                 Europe   \n",
      "188                                    Vanuatu        Western Pacific   \n",
      "189         Venezuela (Bolivarian Republic of)               Americas   \n",
      "190                                   Viet Nam        Western Pacific   \n",
      "191                                      Yemen  Eastern Mediterranean   \n",
      "192                                     Zambia                 Africa   \n",
      "193                                   Zimbabwe                 Africa   \n",
      "\n",
      "     Population  Under15  Over60  FertilityRate  LifeExpectancy  \\\n",
      "0         29825    47.42    3.82           5.40              60   \n",
      "1          3162    21.33   14.93           1.75              74   \n",
      "2         38482    27.42    7.17           2.83              73   \n",
      "3            78    15.20   22.86            NaN              82   \n",
      "4         20821    47.58    3.84           6.10              51   \n",
      "5            89    25.96   12.35           2.12              75   \n",
      "6         41087    24.42   14.97           2.20              76   \n",
      "7          2969    20.34   14.06           1.74              71   \n",
      "8         23050    18.95   19.46           1.89              82   \n",
      "9          8464    14.51   23.52           1.44              81   \n",
      "10         9309    22.25    8.24           1.96              71   \n",
      "11          372    21.62   11.24           1.90              75   \n",
      "12         1318    20.16    3.38           2.12              79   \n",
      "13       155000    30.57    6.89           2.24              70   \n",
      "14          283    18.99   15.78           1.84              78   \n",
      "15         9405    15.10   19.31           1.47              71   \n",
      "16        11060    16.88   23.81           1.85              80   \n",
      "17          324    34.40    5.74           2.76              74   \n",
      "18        10051    42.95    4.54           5.01              57   \n",
      "19          742    28.53    6.90           2.32              67   \n",
      "20        10496    35.23    7.28           3.31              67   \n",
      "21         3834    16.35   20.52           1.26              76   \n",
      "22         2004    33.75    5.63           2.71              66   \n",
      "23       199000    24.56   10.81           1.82              74   \n",
      "24          412    25.75    7.03           2.03              77   \n",
      "25         7278    13.53   26.11           1.51              74   \n",
      "26        16460    45.66    3.88           5.78              56   \n",
      "27         9850    44.20    3.87           6.21              53   \n",
      "28        14865    31.23    7.67           2.93              65   \n",
      "29        21700    43.08    4.89           4.94              53   \n",
      "..          ...      ...     ...            ...             ...   \n",
      "164         535    27.83    9.55           2.32              72   \n",
      "165        1231    38.05    5.34           3.48              50   \n",
      "166        9511    16.71   25.32           1.93              82   \n",
      "167        7997    14.79   23.25           1.51              83   \n",
      "168       21890    35.35    6.09           3.04              75   \n",
      "169        8009    35.75    4.80           3.81              68   \n",
      "170       66785    18.47   13.96           1.43              74   \n",
      "171        2106    16.89   17.56           1.44              75   \n",
      "172        1114    46.33    5.16           6.11              64   \n",
      "173        6643    41.89    4.44           4.75              56   \n",
      "174         105    37.33    7.96           3.86              72   \n",
      "175        1337    20.73   13.18           1.80              71   \n",
      "176       10875    23.22   10.49           2.04              76   \n",
      "177       73997    26.00   10.56           2.08              76   \n",
      "178        5173    28.65    6.30           2.38              63   \n",
      "179          10    30.61    9.07            NaN              64   \n",
      "180       36346    48.54    3.72           6.06              56   \n",
      "181       45530    14.18   20.76           1.45              71   \n",
      "182        9206    14.41    0.81           1.84              76   \n",
      "183       62783    17.54   23.06           1.90              80   \n",
      "184       47783    44.85    4.89           5.36              59   \n",
      "185      318000    19.63   19.31           2.00              79   \n",
      "186        3395    22.05   18.59           2.07              77   \n",
      "187       28541    28.90    6.38           2.38              68   \n",
      "188         247    37.37    6.02           3.46              72   \n",
      "189       29955    28.84    9.17           2.44              75   \n",
      "190       90796    22.87    9.32           1.79              75   \n",
      "191       23852    40.72    4.54           4.35              64   \n",
      "192       14075    46.73    3.95           5.77              55   \n",
      "193       13724    40.24    5.68           3.64              54   \n",
      "\n",
      "     ChildMortality  CellularSubscribers  LiteracyRate      GNI  \\\n",
      "0              98.5                54.26           NaN   1140.0   \n",
      "1              16.7                96.39           NaN   8820.0   \n",
      "2              20.0                98.99           NaN   8310.0   \n",
      "3               3.2                75.49           NaN      NaN   \n",
      "4             163.5                48.38          70.1   5230.0   \n",
      "5               9.9               196.41          99.0  17900.0   \n",
      "6              14.2               134.92          97.8  17130.0   \n",
      "7              16.4               103.57          99.6   6100.0   \n",
      "8               4.9               108.34           NaN  38110.0   \n",
      "9               4.0               154.78           NaN  42050.0   \n",
      "10             35.2               108.75           NaN   8960.0   \n",
      "11             16.9                86.06           NaN      NaN   \n",
      "12              9.6               127.96          91.9      NaN   \n",
      "13             40.9                56.06          56.8   1940.0   \n",
      "14             18.4               127.01           NaN      NaN   \n",
      "15              5.2               111.88           NaN  14460.0   \n",
      "16              4.2               116.61           NaN  39190.0   \n",
      "17             18.3                69.96           NaN   6090.0   \n",
      "18             89.5                85.33          42.4   1620.0   \n",
      "19             44.6                65.58           NaN   5570.0   \n",
      "20             41.4                82.82           NaN   4890.0   \n",
      "21              6.7                84.52          97.9   9190.0   \n",
      "22             53.3               142.82          84.5  14550.0   \n",
      "23             14.4               124.26           NaN  11420.0   \n",
      "24              8.0               109.17          95.2      NaN   \n",
      "25             12.1               140.68           NaN  14160.0   \n",
      "26            102.4                45.27           NaN   1300.0   \n",
      "27            104.3                22.33          67.2    610.0   \n",
      "28             39.7                96.17           NaN   2230.0   \n",
      "29             94.9                52.35           NaN   2330.0   \n",
      "..              ...                  ...           ...      ...   \n",
      "164            20.8               178.88          94.7      NaN   \n",
      "165            79.7                63.70          87.4   5930.0   \n",
      "166             2.9               118.57           NaN  42200.0   \n",
      "167             4.3               131.43           NaN  52570.0   \n",
      "168            15.1                63.17          83.4      NaN   \n",
      "169            58.3                90.64          99.7   2300.0   \n",
      "170            13.2               111.63           NaN   8360.0   \n",
      "171             7.4               107.24          97.3  11090.0   \n",
      "172            56.7                53.23          58.3      NaN   \n",
      "173            95.5                50.45           NaN   1040.0   \n",
      "174            12.8                52.63           NaN   5000.0   \n",
      "175            20.7               135.64          98.8      NaN   \n",
      "176            16.1               116.93           NaN   9030.0   \n",
      "177            14.2                88.70           NaN  16940.0   \n",
      "178            52.8                68.77          99.6   8690.0   \n",
      "179            29.7                21.63           NaN      NaN   \n",
      "180            68.9                48.38          73.2   1310.0   \n",
      "181            10.7               122.98          99.7   7040.0   \n",
      "182             8.4               148.62           NaN  47890.0   \n",
      "183             4.8               130.75           NaN  36010.0   \n",
      "184            54.0                55.53          73.2   1500.0   \n",
      "185             7.1                92.72           NaN  48820.0   \n",
      "186             7.2               140.75          98.1  14640.0   \n",
      "187            39.6                91.65          99.4   3420.0   \n",
      "188            17.9                55.76          82.6   4330.0   \n",
      "189            15.3                97.78           NaN  12430.0   \n",
      "190            23.0               143.39          93.2   3250.0   \n",
      "191            60.0                47.05          63.9   2170.0   \n",
      "192            88.5                60.59          71.2   1490.0   \n",
      "193            89.8                72.13          92.2      NaN   \n",
      "\n",
      "     PrimarySchoolEnrollmentMale  PrimarySchoolEnrollmentFemale  \n",
      "0                            NaN                            NaN  \n",
      "1                            NaN                            NaN  \n",
      "2                           98.2                           96.4  \n",
      "3                           78.4                           79.4  \n",
      "4                           93.1                           78.2  \n",
      "5                           91.1                           84.5  \n",
      "6                            NaN                            NaN  \n",
      "7                            NaN                            NaN  \n",
      "8                           96.9                           97.5  \n",
      "9                            NaN                            NaN  \n",
      "10                          85.3                           84.1  \n",
      "11                           NaN                            NaN  \n",
      "12                           NaN                            NaN  \n",
      "13                           NaN                            NaN  \n",
      "14                           NaN                            NaN  \n",
      "15                           NaN                            NaN  \n",
      "16                          98.9                           99.2  \n",
      "17                           NaN                            NaN  \n",
      "18                           NaN                            NaN  \n",
      "19                          88.3                           91.5  \n",
      "20                          91.2                           91.5  \n",
      "21                          86.5                           88.4  \n",
      "22                           NaN                            NaN  \n",
      "23                           NaN                            NaN  \n",
      "24                           NaN                            NaN  \n",
      "25                          99.3                           99.7  \n",
      "26                          60.7                           55.9  \n",
      "27                           NaN                            NaN  \n",
      "28                          96.4                           95.4  \n",
      "29                          99.6                           87.4  \n",
      "..                           ...                            ...  \n",
      "164                          NaN                            NaN  \n",
      "165                          NaN                            NaN  \n",
      "166                         99.7                           99.0  \n",
      "167                         98.9                           99.5  \n",
      "168                          NaN                            NaN  \n",
      "169                         99.5                           96.0  \n",
      "170                          NaN                            NaN  \n",
      "171                         97.3                           99.2  \n",
      "172                         86.2                           85.6  \n",
      "173                          NaN                            NaN  \n",
      "174                          NaN                            NaN  \n",
      "175                         97.7                           97.0  \n",
      "176                          NaN                            NaN  \n",
      "177                         99.5                           98.3  \n",
      "178                          NaN                            NaN  \n",
      "179                          NaN                            NaN  \n",
      "180                         89.7                           92.3  \n",
      "181                         90.8                           91.5  \n",
      "182                          NaN                            NaN  \n",
      "183                         99.8                           99.6  \n",
      "184                          NaN                            NaN  \n",
      "185                         95.4                           96.1  \n",
      "186                          NaN                            NaN  \n",
      "187                         93.3                           91.0  \n",
      "188                          NaN                            NaN  \n",
      "189                         94.7                           95.1  \n",
      "190                          NaN                            NaN  \n",
      "191                         85.5                           70.5  \n",
      "192                         91.4                           93.9  \n",
      "193                          NaN                            NaN  \n",
      "\n",
      "[194 rows x 13 columns]\n"
     ]
    }
   ],
   "source": [
    "print(WHO)"
   ]
  },
  {
   "cell_type": "code",
   "execution_count": 77,
   "metadata": {},
   "outputs": [],
   "source": [
    "#Set Index to Specfic Column\n",
    "WHO.set_index('Country',inplace=True)"
   ]
  },
  {
   "cell_type": "code",
   "execution_count": 78,
   "metadata": {},
   "outputs": [
    {
     "name": "stdout",
     "output_type": "stream",
     "text": [
      "                                                          Region  Population  \\\n",
      "Country                                                                        \n",
      "Afghanistan                                Eastern Mediterranean       29825   \n",
      "Albania                                                   Europe        3162   \n",
      "Algeria                                                   Africa       38482   \n",
      "Andorra                                                   Europe          78   \n",
      "Angola                                                    Africa       20821   \n",
      "Antigua and Barbuda                                     Americas          89   \n",
      "Argentina                                               Americas       41087   \n",
      "Armenia                                                   Europe        2969   \n",
      "Australia                                        Western Pacific       23050   \n",
      "Austria                                                   Europe        8464   \n",
      "Azerbaijan                                                Europe        9309   \n",
      "Bahamas                                                 Americas         372   \n",
      "Bahrain                                    Eastern Mediterranean        1318   \n",
      "Bangladesh                                       South-East Asia      155000   \n",
      "Barbados                                                Americas         283   \n",
      "Belarus                                                   Europe        9405   \n",
      "Belgium                                                   Europe       11060   \n",
      "Belize                                                  Americas         324   \n",
      "Benin                                                     Africa       10051   \n",
      "Bhutan                                           South-East Asia         742   \n",
      "Bolivia (Plurinational State of)                        Americas       10496   \n",
      "Bosnia and Herzegovina                                    Europe        3834   \n",
      "Botswana                                                  Africa        2004   \n",
      "Brazil                                                  Americas      199000   \n",
      "Brunei Darussalam                                Western Pacific         412   \n",
      "Bulgaria                                                  Europe        7278   \n",
      "Burkina Faso                                              Africa       16460   \n",
      "Burundi                                                   Africa        9850   \n",
      "Cambodia                                         Western Pacific       14865   \n",
      "Cameroon                                                  Africa       21700   \n",
      "...                                                          ...         ...   \n",
      "Suriname                                                Americas         535   \n",
      "Swaziland                                                 Africa        1231   \n",
      "Sweden                                                    Europe        9511   \n",
      "Switzerland                                               Europe        7997   \n",
      "Syrian Arab Republic                       Eastern Mediterranean       21890   \n",
      "Tajikistan                                                Europe        8009   \n",
      "Thailand                                         South-East Asia       66785   \n",
      "The former Yugoslav Republic of Macedonia                 Europe        2106   \n",
      "Timor-Leste                                      South-East Asia        1114   \n",
      "Togo                                                      Africa        6643   \n",
      "Tonga                                            Western Pacific         105   \n",
      "Trinidad and Tobago                                     Americas        1337   \n",
      "Tunisia                                    Eastern Mediterranean       10875   \n",
      "Turkey                                                    Europe       73997   \n",
      "Turkmenistan                                              Europe        5173   \n",
      "Tuvalu                                           Western Pacific          10   \n",
      "Uganda                                                    Africa       36346   \n",
      "Ukraine                                                   Europe       45530   \n",
      "United Arab Emirates                       Eastern Mediterranean        9206   \n",
      "United Kingdom                                            Europe       62783   \n",
      "United Republic of Tanzania                               Africa       47783   \n",
      "United States of America                                Americas      318000   \n",
      "Uruguay                                                 Americas        3395   \n",
      "Uzbekistan                                                Europe       28541   \n",
      "Vanuatu                                          Western Pacific         247   \n",
      "Venezuela (Bolivarian Republic of)                      Americas       29955   \n",
      "Viet Nam                                         Western Pacific       90796   \n",
      "Yemen                                      Eastern Mediterranean       23852   \n",
      "Zambia                                                    Africa       14075   \n",
      "Zimbabwe                                                  Africa       13724   \n",
      "\n",
      "                                           Under15  Over60  FertilityRate  \\\n",
      "Country                                                                     \n",
      "Afghanistan                                  47.42    3.82           5.40   \n",
      "Albania                                      21.33   14.93           1.75   \n",
      "Algeria                                      27.42    7.17           2.83   \n",
      "Andorra                                      15.20   22.86            NaN   \n",
      "Angola                                       47.58    3.84           6.10   \n",
      "Antigua and Barbuda                          25.96   12.35           2.12   \n",
      "Argentina                                    24.42   14.97           2.20   \n",
      "Armenia                                      20.34   14.06           1.74   \n",
      "Australia                                    18.95   19.46           1.89   \n",
      "Austria                                      14.51   23.52           1.44   \n",
      "Azerbaijan                                   22.25    8.24           1.96   \n",
      "Bahamas                                      21.62   11.24           1.90   \n",
      "Bahrain                                      20.16    3.38           2.12   \n",
      "Bangladesh                                   30.57    6.89           2.24   \n",
      "Barbados                                     18.99   15.78           1.84   \n",
      "Belarus                                      15.10   19.31           1.47   \n",
      "Belgium                                      16.88   23.81           1.85   \n",
      "Belize                                       34.40    5.74           2.76   \n",
      "Benin                                        42.95    4.54           5.01   \n",
      "Bhutan                                       28.53    6.90           2.32   \n",
      "Bolivia (Plurinational State of)             35.23    7.28           3.31   \n",
      "Bosnia and Herzegovina                       16.35   20.52           1.26   \n",
      "Botswana                                     33.75    5.63           2.71   \n",
      "Brazil                                       24.56   10.81           1.82   \n",
      "Brunei Darussalam                            25.75    7.03           2.03   \n",
      "Bulgaria                                     13.53   26.11           1.51   \n",
      "Burkina Faso                                 45.66    3.88           5.78   \n",
      "Burundi                                      44.20    3.87           6.21   \n",
      "Cambodia                                     31.23    7.67           2.93   \n",
      "Cameroon                                     43.08    4.89           4.94   \n",
      "...                                            ...     ...            ...   \n",
      "Suriname                                     27.83    9.55           2.32   \n",
      "Swaziland                                    38.05    5.34           3.48   \n",
      "Sweden                                       16.71   25.32           1.93   \n",
      "Switzerland                                  14.79   23.25           1.51   \n",
      "Syrian Arab Republic                         35.35    6.09           3.04   \n",
      "Tajikistan                                   35.75    4.80           3.81   \n",
      "Thailand                                     18.47   13.96           1.43   \n",
      "The former Yugoslav Republic of Macedonia    16.89   17.56           1.44   \n",
      "Timor-Leste                                  46.33    5.16           6.11   \n",
      "Togo                                         41.89    4.44           4.75   \n",
      "Tonga                                        37.33    7.96           3.86   \n",
      "Trinidad and Tobago                          20.73   13.18           1.80   \n",
      "Tunisia                                      23.22   10.49           2.04   \n",
      "Turkey                                       26.00   10.56           2.08   \n",
      "Turkmenistan                                 28.65    6.30           2.38   \n",
      "Tuvalu                                       30.61    9.07            NaN   \n",
      "Uganda                                       48.54    3.72           6.06   \n",
      "Ukraine                                      14.18   20.76           1.45   \n",
      "United Arab Emirates                         14.41    0.81           1.84   \n",
      "United Kingdom                               17.54   23.06           1.90   \n",
      "United Republic of Tanzania                  44.85    4.89           5.36   \n",
      "United States of America                     19.63   19.31           2.00   \n",
      "Uruguay                                      22.05   18.59           2.07   \n",
      "Uzbekistan                                   28.90    6.38           2.38   \n",
      "Vanuatu                                      37.37    6.02           3.46   \n",
      "Venezuela (Bolivarian Republic of)           28.84    9.17           2.44   \n",
      "Viet Nam                                     22.87    9.32           1.79   \n",
      "Yemen                                        40.72    4.54           4.35   \n",
      "Zambia                                       46.73    3.95           5.77   \n",
      "Zimbabwe                                     40.24    5.68           3.64   \n",
      "\n",
      "                                           LifeExpectancy  ChildMortality  \\\n",
      "Country                                                                     \n",
      "Afghanistan                                            60            98.5   \n",
      "Albania                                                74            16.7   \n",
      "Algeria                                                73            20.0   \n",
      "Andorra                                                82             3.2   \n",
      "Angola                                                 51           163.5   \n",
      "Antigua and Barbuda                                    75             9.9   \n",
      "Argentina                                              76            14.2   \n",
      "Armenia                                                71            16.4   \n",
      "Australia                                              82             4.9   \n",
      "Austria                                                81             4.0   \n",
      "Azerbaijan                                             71            35.2   \n",
      "Bahamas                                                75            16.9   \n",
      "Bahrain                                                79             9.6   \n",
      "Bangladesh                                             70            40.9   \n",
      "Barbados                                               78            18.4   \n",
      "Belarus                                                71             5.2   \n",
      "Belgium                                                80             4.2   \n",
      "Belize                                                 74            18.3   \n",
      "Benin                                                  57            89.5   \n",
      "Bhutan                                                 67            44.6   \n",
      "Bolivia (Plurinational State of)                       67            41.4   \n",
      "Bosnia and Herzegovina                                 76             6.7   \n",
      "Botswana                                               66            53.3   \n",
      "Brazil                                                 74            14.4   \n",
      "Brunei Darussalam                                      77             8.0   \n",
      "Bulgaria                                               74            12.1   \n",
      "Burkina Faso                                           56           102.4   \n",
      "Burundi                                                53           104.3   \n",
      "Cambodia                                               65            39.7   \n",
      "Cameroon                                               53            94.9   \n",
      "...                                                   ...             ...   \n",
      "Suriname                                               72            20.8   \n",
      "Swaziland                                              50            79.7   \n",
      "Sweden                                                 82             2.9   \n",
      "Switzerland                                            83             4.3   \n",
      "Syrian Arab Republic                                   75            15.1   \n",
      "Tajikistan                                             68            58.3   \n",
      "Thailand                                               74            13.2   \n",
      "The former Yugoslav Republic of Macedonia              75             7.4   \n",
      "Timor-Leste                                            64            56.7   \n",
      "Togo                                                   56            95.5   \n",
      "Tonga                                                  72            12.8   \n",
      "Trinidad and Tobago                                    71            20.7   \n",
      "Tunisia                                                76            16.1   \n",
      "Turkey                                                 76            14.2   \n",
      "Turkmenistan                                           63            52.8   \n",
      "Tuvalu                                                 64            29.7   \n",
      "Uganda                                                 56            68.9   \n",
      "Ukraine                                                71            10.7   \n",
      "United Arab Emirates                                   76             8.4   \n",
      "United Kingdom                                         80             4.8   \n",
      "United Republic of Tanzania                            59            54.0   \n",
      "United States of America                               79             7.1   \n",
      "Uruguay                                                77             7.2   \n",
      "Uzbekistan                                             68            39.6   \n",
      "Vanuatu                                                72            17.9   \n",
      "Venezuela (Bolivarian Republic of)                     75            15.3   \n",
      "Viet Nam                                               75            23.0   \n",
      "Yemen                                                  64            60.0   \n",
      "Zambia                                                 55            88.5   \n",
      "Zimbabwe                                               54            89.8   \n",
      "\n",
      "                                           CellularSubscribers  LiteracyRate  \\\n",
      "Country                                                                        \n",
      "Afghanistan                                              54.26           NaN   \n",
      "Albania                                                  96.39           NaN   \n",
      "Algeria                                                  98.99           NaN   \n",
      "Andorra                                                  75.49           NaN   \n",
      "Angola                                                   48.38          70.1   \n",
      "Antigua and Barbuda                                     196.41          99.0   \n",
      "Argentina                                               134.92          97.8   \n",
      "Armenia                                                 103.57          99.6   \n",
      "Australia                                               108.34           NaN   \n",
      "Austria                                                 154.78           NaN   \n",
      "Azerbaijan                                              108.75           NaN   \n",
      "Bahamas                                                  86.06           NaN   \n",
      "Bahrain                                                 127.96          91.9   \n",
      "Bangladesh                                               56.06          56.8   \n",
      "Barbados                                                127.01           NaN   \n",
      "Belarus                                                 111.88           NaN   \n",
      "Belgium                                                 116.61           NaN   \n",
      "Belize                                                   69.96           NaN   \n",
      "Benin                                                    85.33          42.4   \n",
      "Bhutan                                                   65.58           NaN   \n",
      "Bolivia (Plurinational State of)                         82.82           NaN   \n",
      "Bosnia and Herzegovina                                   84.52          97.9   \n",
      "Botswana                                                142.82          84.5   \n",
      "Brazil                                                  124.26           NaN   \n",
      "Brunei Darussalam                                       109.17          95.2   \n",
      "Bulgaria                                                140.68           NaN   \n",
      "Burkina Faso                                             45.27           NaN   \n",
      "Burundi                                                  22.33          67.2   \n",
      "Cambodia                                                 96.17           NaN   \n",
      "Cameroon                                                 52.35           NaN   \n",
      "...                                                        ...           ...   \n",
      "Suriname                                                178.88          94.7   \n",
      "Swaziland                                                63.70          87.4   \n",
      "Sweden                                                  118.57           NaN   \n",
      "Switzerland                                             131.43           NaN   \n",
      "Syrian Arab Republic                                     63.17          83.4   \n",
      "Tajikistan                                               90.64          99.7   \n",
      "Thailand                                                111.63           NaN   \n",
      "The former Yugoslav Republic of Macedonia               107.24          97.3   \n",
      "Timor-Leste                                              53.23          58.3   \n",
      "Togo                                                     50.45           NaN   \n",
      "Tonga                                                    52.63           NaN   \n",
      "Trinidad and Tobago                                     135.64          98.8   \n",
      "Tunisia                                                 116.93           NaN   \n",
      "Turkey                                                   88.70           NaN   \n",
      "Turkmenistan                                             68.77          99.6   \n",
      "Tuvalu                                                   21.63           NaN   \n",
      "Uganda                                                   48.38          73.2   \n",
      "Ukraine                                                 122.98          99.7   \n",
      "United Arab Emirates                                    148.62           NaN   \n",
      "United Kingdom                                          130.75           NaN   \n",
      "United Republic of Tanzania                              55.53          73.2   \n",
      "United States of America                                 92.72           NaN   \n",
      "Uruguay                                                 140.75          98.1   \n",
      "Uzbekistan                                               91.65          99.4   \n",
      "Vanuatu                                                  55.76          82.6   \n",
      "Venezuela (Bolivarian Republic of)                       97.78           NaN   \n",
      "Viet Nam                                                143.39          93.2   \n",
      "Yemen                                                    47.05          63.9   \n",
      "Zambia                                                   60.59          71.2   \n",
      "Zimbabwe                                                 72.13          92.2   \n",
      "\n",
      "                                               GNI  \\\n",
      "Country                                              \n",
      "Afghanistan                                 1140.0   \n",
      "Albania                                     8820.0   \n",
      "Algeria                                     8310.0   \n",
      "Andorra                                        NaN   \n",
      "Angola                                      5230.0   \n",
      "Antigua and Barbuda                        17900.0   \n",
      "Argentina                                  17130.0   \n",
      "Armenia                                     6100.0   \n",
      "Australia                                  38110.0   \n",
      "Austria                                    42050.0   \n",
      "Azerbaijan                                  8960.0   \n",
      "Bahamas                                        NaN   \n",
      "Bahrain                                        NaN   \n",
      "Bangladesh                                  1940.0   \n",
      "Barbados                                       NaN   \n",
      "Belarus                                    14460.0   \n",
      "Belgium                                    39190.0   \n",
      "Belize                                      6090.0   \n",
      "Benin                                       1620.0   \n",
      "Bhutan                                      5570.0   \n",
      "Bolivia (Plurinational State of)            4890.0   \n",
      "Bosnia and Herzegovina                      9190.0   \n",
      "Botswana                                   14550.0   \n",
      "Brazil                                     11420.0   \n",
      "Brunei Darussalam                              NaN   \n",
      "Bulgaria                                   14160.0   \n",
      "Burkina Faso                                1300.0   \n",
      "Burundi                                      610.0   \n",
      "Cambodia                                    2230.0   \n",
      "Cameroon                                    2330.0   \n",
      "...                                            ...   \n",
      "Suriname                                       NaN   \n",
      "Swaziland                                   5930.0   \n",
      "Sweden                                     42200.0   \n",
      "Switzerland                                52570.0   \n",
      "Syrian Arab Republic                           NaN   \n",
      "Tajikistan                                  2300.0   \n",
      "Thailand                                    8360.0   \n",
      "The former Yugoslav Republic of Macedonia  11090.0   \n",
      "Timor-Leste                                    NaN   \n",
      "Togo                                        1040.0   \n",
      "Tonga                                       5000.0   \n",
      "Trinidad and Tobago                            NaN   \n",
      "Tunisia                                     9030.0   \n",
      "Turkey                                     16940.0   \n",
      "Turkmenistan                                8690.0   \n",
      "Tuvalu                                         NaN   \n",
      "Uganda                                      1310.0   \n",
      "Ukraine                                     7040.0   \n",
      "United Arab Emirates                       47890.0   \n",
      "United Kingdom                             36010.0   \n",
      "United Republic of Tanzania                 1500.0   \n",
      "United States of America                   48820.0   \n",
      "Uruguay                                    14640.0   \n",
      "Uzbekistan                                  3420.0   \n",
      "Vanuatu                                     4330.0   \n",
      "Venezuela (Bolivarian Republic of)         12430.0   \n",
      "Viet Nam                                    3250.0   \n",
      "Yemen                                       2170.0   \n",
      "Zambia                                      1490.0   \n",
      "Zimbabwe                                       NaN   \n",
      "\n",
      "                                           PrimarySchoolEnrollmentMale  \\\n",
      "Country                                                                  \n",
      "Afghanistan                                                        NaN   \n",
      "Albania                                                            NaN   \n",
      "Algeria                                                           98.2   \n",
      "Andorra                                                           78.4   \n",
      "Angola                                                            93.1   \n",
      "Antigua and Barbuda                                               91.1   \n",
      "Argentina                                                          NaN   \n",
      "Armenia                                                            NaN   \n",
      "Australia                                                         96.9   \n",
      "Austria                                                            NaN   \n",
      "Azerbaijan                                                        85.3   \n",
      "Bahamas                                                            NaN   \n",
      "Bahrain                                                            NaN   \n",
      "Bangladesh                                                         NaN   \n",
      "Barbados                                                           NaN   \n",
      "Belarus                                                            NaN   \n",
      "Belgium                                                           98.9   \n",
      "Belize                                                             NaN   \n",
      "Benin                                                              NaN   \n",
      "Bhutan                                                            88.3   \n",
      "Bolivia (Plurinational State of)                                  91.2   \n",
      "Bosnia and Herzegovina                                            86.5   \n",
      "Botswana                                                           NaN   \n",
      "Brazil                                                             NaN   \n",
      "Brunei Darussalam                                                  NaN   \n",
      "Bulgaria                                                          99.3   \n",
      "Burkina Faso                                                      60.7   \n",
      "Burundi                                                            NaN   \n",
      "Cambodia                                                          96.4   \n",
      "Cameroon                                                          99.6   \n",
      "...                                                                ...   \n",
      "Suriname                                                           NaN   \n",
      "Swaziland                                                          NaN   \n",
      "Sweden                                                            99.7   \n",
      "Switzerland                                                       98.9   \n",
      "Syrian Arab Republic                                               NaN   \n",
      "Tajikistan                                                        99.5   \n",
      "Thailand                                                           NaN   \n",
      "The former Yugoslav Republic of Macedonia                         97.3   \n",
      "Timor-Leste                                                       86.2   \n",
      "Togo                                                               NaN   \n",
      "Tonga                                                              NaN   \n",
      "Trinidad and Tobago                                               97.7   \n",
      "Tunisia                                                            NaN   \n",
      "Turkey                                                            99.5   \n",
      "Turkmenistan                                                       NaN   \n",
      "Tuvalu                                                             NaN   \n",
      "Uganda                                                            89.7   \n",
      "Ukraine                                                           90.8   \n",
      "United Arab Emirates                                               NaN   \n",
      "United Kingdom                                                    99.8   \n",
      "United Republic of Tanzania                                        NaN   \n",
      "United States of America                                          95.4   \n",
      "Uruguay                                                            NaN   \n",
      "Uzbekistan                                                        93.3   \n",
      "Vanuatu                                                            NaN   \n",
      "Venezuela (Bolivarian Republic of)                                94.7   \n",
      "Viet Nam                                                           NaN   \n",
      "Yemen                                                             85.5   \n",
      "Zambia                                                            91.4   \n",
      "Zimbabwe                                                           NaN   \n",
      "\n",
      "                                           PrimarySchoolEnrollmentFemale  \n",
      "Country                                                                   \n",
      "Afghanistan                                                          NaN  \n",
      "Albania                                                              NaN  \n",
      "Algeria                                                             96.4  \n",
      "Andorra                                                             79.4  \n",
      "Angola                                                              78.2  \n",
      "Antigua and Barbuda                                                 84.5  \n",
      "Argentina                                                            NaN  \n",
      "Armenia                                                              NaN  \n",
      "Australia                                                           97.5  \n",
      "Austria                                                              NaN  \n",
      "Azerbaijan                                                          84.1  \n",
      "Bahamas                                                              NaN  \n",
      "Bahrain                                                              NaN  \n",
      "Bangladesh                                                           NaN  \n",
      "Barbados                                                             NaN  \n",
      "Belarus                                                              NaN  \n",
      "Belgium                                                             99.2  \n",
      "Belize                                                               NaN  \n",
      "Benin                                                                NaN  \n",
      "Bhutan                                                              91.5  \n",
      "Bolivia (Plurinational State of)                                    91.5  \n",
      "Bosnia and Herzegovina                                              88.4  \n",
      "Botswana                                                             NaN  \n",
      "Brazil                                                               NaN  \n",
      "Brunei Darussalam                                                    NaN  \n",
      "Bulgaria                                                            99.7  \n",
      "Burkina Faso                                                        55.9  \n",
      "Burundi                                                              NaN  \n",
      "Cambodia                                                            95.4  \n",
      "Cameroon                                                            87.4  \n",
      "...                                                                  ...  \n",
      "Suriname                                                             NaN  \n",
      "Swaziland                                                            NaN  \n",
      "Sweden                                                              99.0  \n",
      "Switzerland                                                         99.5  \n",
      "Syrian Arab Republic                                                 NaN  \n",
      "Tajikistan                                                          96.0  \n",
      "Thailand                                                             NaN  \n",
      "The former Yugoslav Republic of Macedonia                           99.2  \n",
      "Timor-Leste                                                         85.6  \n",
      "Togo                                                                 NaN  \n",
      "Tonga                                                                NaN  \n",
      "Trinidad and Tobago                                                 97.0  \n",
      "Tunisia                                                              NaN  \n",
      "Turkey                                                              98.3  \n",
      "Turkmenistan                                                         NaN  \n",
      "Tuvalu                                                               NaN  \n",
      "Uganda                                                              92.3  \n",
      "Ukraine                                                             91.5  \n",
      "United Arab Emirates                                                 NaN  \n",
      "United Kingdom                                                      99.6  \n",
      "United Republic of Tanzania                                          NaN  \n",
      "United States of America                                            96.1  \n",
      "Uruguay                                                              NaN  \n",
      "Uzbekistan                                                          91.0  \n",
      "Vanuatu                                                              NaN  \n",
      "Venezuela (Bolivarian Republic of)                                  95.1  \n",
      "Viet Nam                                                             NaN  \n",
      "Yemen                                                               70.5  \n",
      "Zambia                                                              93.9  \n",
      "Zimbabwe                                                             NaN  \n",
      "\n",
      "[194 rows x 12 columns]\n"
     ]
    }
   ],
   "source": [
    "print(WHO)"
   ]
  },
  {
   "cell_type": "code",
   "execution_count": 79,
   "metadata": {},
   "outputs": [
    {
     "data": {
      "text/plain": [
       "Region                           Western Pacific\n",
       "Population                                 90796\n",
       "Under15                                    22.87\n",
       "Over60                                      9.32\n",
       "FertilityRate                               1.79\n",
       "LifeExpectancy                                75\n",
       "ChildMortality                                23\n",
       "CellularSubscribers                       143.39\n",
       "LiteracyRate                                93.2\n",
       "GNI                                         3250\n",
       "PrimarySchoolEnrollmentMale                  NaN\n",
       "PrimarySchoolEnrollmentFemale                NaN\n",
       "Name: Viet Nam, dtype: object"
      ]
     },
     "execution_count": 79,
     "metadata": {},
     "output_type": "execute_result"
    }
   ],
   "source": [
    "WHO.loc['Viet Nam']"
   ]
  },
  {
   "cell_type": "code",
   "execution_count": 80,
   "metadata": {},
   "outputs": [
    {
     "name": "stdout",
     "output_type": "stream",
     "text": [
      "                                                          Region  Population  \\\n",
      "Country                                                                        \n",
      "Afghanistan                                Eastern Mediterranean       29825   \n",
      "Albania                                                   Europe        3162   \n",
      "Algeria                                                   Africa       38482   \n",
      "Andorra                                                   Europe          78   \n",
      "Angola                                                    Africa       20821   \n",
      "Antigua and Barbuda                                     Americas          89   \n",
      "Argentina                                               Americas       41087   \n",
      "Armenia                                                   Europe        2969   \n",
      "Australia                                        Western Pacific       23050   \n",
      "Austria                                                   Europe        8464   \n",
      "Azerbaijan                                                Europe        9309   \n",
      "Bahamas                                                 Americas         372   \n",
      "Bahrain                                    Eastern Mediterranean        1318   \n",
      "Bangladesh                                       South-East Asia      155000   \n",
      "Barbados                                                Americas         283   \n",
      "Belarus                                                   Europe        9405   \n",
      "Belgium                                                   Europe       11060   \n",
      "Belize                                                  Americas         324   \n",
      "Benin                                                     Africa       10051   \n",
      "Bhutan                                           South-East Asia         742   \n",
      "Bolivia (Plurinational State of)                        Americas       10496   \n",
      "Bosnia and Herzegovina                                    Europe        3834   \n",
      "Botswana                                                  Africa        2004   \n",
      "Brazil                                                  Americas      199000   \n",
      "Brunei Darussalam                                Western Pacific         412   \n",
      "Bulgaria                                                  Europe        7278   \n",
      "Burkina Faso                                              Africa       16460   \n",
      "Burundi                                                   Africa        9850   \n",
      "Cambodia                                         Western Pacific       14865   \n",
      "Cameroon                                                  Africa       21700   \n",
      "...                                                          ...         ...   \n",
      "Suriname                                                Americas         535   \n",
      "Swaziland                                                 Africa        1231   \n",
      "Sweden                                                    Europe        9511   \n",
      "Switzerland                                               Europe        7997   \n",
      "Syrian Arab Republic                       Eastern Mediterranean       21890   \n",
      "Tajikistan                                                Europe        8009   \n",
      "Thailand                                         South-East Asia       66785   \n",
      "The former Yugoslav Republic of Macedonia                 Europe        2106   \n",
      "Timor-Leste                                      South-East Asia        1114   \n",
      "Togo                                                      Africa        6643   \n",
      "Tonga                                            Western Pacific         105   \n",
      "Trinidad and Tobago                                     Americas        1337   \n",
      "Tunisia                                    Eastern Mediterranean       10875   \n",
      "Turkey                                                    Europe       73997   \n",
      "Turkmenistan                                              Europe        5173   \n",
      "Tuvalu                                           Western Pacific          10   \n",
      "Uganda                                                    Africa       36346   \n",
      "Ukraine                                                   Europe       45530   \n",
      "United Arab Emirates                       Eastern Mediterranean        9206   \n",
      "United Kingdom                                            Europe       62783   \n",
      "United Republic of Tanzania                               Africa       47783   \n",
      "United States of America                                Americas      318000   \n",
      "Uruguay                                                 Americas        3395   \n",
      "Uzbekistan                                                Europe       28541   \n",
      "Vanuatu                                          Western Pacific         247   \n",
      "Venezuela (Bolivarian Republic of)                      Americas       29955   \n",
      "Viet Nam                                         Western Pacific       90796   \n",
      "Yemen                                      Eastern Mediterranean       23852   \n",
      "Zambia                                                    Africa       14075   \n",
      "Zimbabwe                                                  Africa       13724   \n",
      "\n",
      "                                           Under15  Over60  FertilityRate  \\\n",
      "Country                                                                     \n",
      "Afghanistan                                  47.42    3.82           5.40   \n",
      "Albania                                      21.33   14.93           1.75   \n",
      "Algeria                                      27.42    7.17           2.83   \n",
      "Andorra                                      15.20   22.86            NaN   \n",
      "Angola                                       47.58    3.84           6.10   \n",
      "Antigua and Barbuda                          25.96   12.35           2.12   \n",
      "Argentina                                    24.42   14.97           2.20   \n",
      "Armenia                                      20.34   14.06           1.74   \n",
      "Australia                                    18.95   19.46           1.89   \n",
      "Austria                                      14.51   23.52           1.44   \n",
      "Azerbaijan                                   22.25    8.24           1.96   \n",
      "Bahamas                                      21.62   11.24           1.90   \n",
      "Bahrain                                      20.16    3.38           2.12   \n",
      "Bangladesh                                   30.57    6.89           2.24   \n",
      "Barbados                                     18.99   15.78           1.84   \n",
      "Belarus                                      15.10   19.31           1.47   \n",
      "Belgium                                      16.88   23.81           1.85   \n",
      "Belize                                       34.40    5.74           2.76   \n",
      "Benin                                        42.95    4.54           5.01   \n",
      "Bhutan                                       28.53    6.90           2.32   \n",
      "Bolivia (Plurinational State of)             35.23    7.28           3.31   \n",
      "Bosnia and Herzegovina                       16.35   20.52           1.26   \n",
      "Botswana                                     33.75    5.63           2.71   \n",
      "Brazil                                       24.56   10.81           1.82   \n",
      "Brunei Darussalam                            25.75    7.03           2.03   \n",
      "Bulgaria                                     13.53   26.11           1.51   \n",
      "Burkina Faso                                 45.66    3.88           5.78   \n",
      "Burundi                                      44.20    3.87           6.21   \n",
      "Cambodia                                     31.23    7.67           2.93   \n",
      "Cameroon                                     43.08    4.89           4.94   \n",
      "...                                            ...     ...            ...   \n",
      "Suriname                                     27.83    9.55           2.32   \n",
      "Swaziland                                    38.05    5.34           3.48   \n",
      "Sweden                                       16.71   25.32           1.93   \n",
      "Switzerland                                  14.79   23.25           1.51   \n",
      "Syrian Arab Republic                         35.35    6.09           3.04   \n",
      "Tajikistan                                   35.75    4.80           3.81   \n",
      "Thailand                                     18.47   13.96           1.43   \n",
      "The former Yugoslav Republic of Macedonia    16.89   17.56           1.44   \n",
      "Timor-Leste                                  46.33    5.16           6.11   \n",
      "Togo                                         41.89    4.44           4.75   \n",
      "Tonga                                        37.33    7.96           3.86   \n",
      "Trinidad and Tobago                          20.73   13.18           1.80   \n",
      "Tunisia                                      23.22   10.49           2.04   \n",
      "Turkey                                       26.00   10.56           2.08   \n",
      "Turkmenistan                                 28.65    6.30           2.38   \n",
      "Tuvalu                                       30.61    9.07            NaN   \n",
      "Uganda                                       48.54    3.72           6.06   \n",
      "Ukraine                                      14.18   20.76           1.45   \n",
      "United Arab Emirates                         14.41    0.81           1.84   \n",
      "United Kingdom                               17.54   23.06           1.90   \n",
      "United Republic of Tanzania                  44.85    4.89           5.36   \n",
      "United States of America                     19.63   19.31           2.00   \n",
      "Uruguay                                      22.05   18.59           2.07   \n",
      "Uzbekistan                                   28.90    6.38           2.38   \n",
      "Vanuatu                                      37.37    6.02           3.46   \n",
      "Venezuela (Bolivarian Republic of)           28.84    9.17           2.44   \n",
      "Viet Nam                                     22.87    9.32           1.79   \n",
      "Yemen                                        40.72    4.54           4.35   \n",
      "Zambia                                       46.73    3.95           5.77   \n",
      "Zimbabwe                                     40.24    5.68           3.64   \n",
      "\n",
      "                                           LifeExpectancy  ChildMortality  \\\n",
      "Country                                                                     \n",
      "Afghanistan                                            60            98.5   \n",
      "Albania                                                74            16.7   \n",
      "Algeria                                                73            20.0   \n",
      "Andorra                                                82             3.2   \n",
      "Angola                                                 51           163.5   \n",
      "Antigua and Barbuda                                    75             9.9   \n",
      "Argentina                                              76            14.2   \n",
      "Armenia                                                71            16.4   \n",
      "Australia                                              82             4.9   \n",
      "Austria                                                81             4.0   \n",
      "Azerbaijan                                             71            35.2   \n",
      "Bahamas                                                75            16.9   \n",
      "Bahrain                                                79             9.6   \n",
      "Bangladesh                                             70            40.9   \n",
      "Barbados                                               78            18.4   \n",
      "Belarus                                                71             5.2   \n",
      "Belgium                                                80             4.2   \n",
      "Belize                                                 74            18.3   \n",
      "Benin                                                  57            89.5   \n",
      "Bhutan                                                 67            44.6   \n",
      "Bolivia (Plurinational State of)                       67            41.4   \n",
      "Bosnia and Herzegovina                                 76             6.7   \n",
      "Botswana                                               66            53.3   \n",
      "Brazil                                                 74            14.4   \n",
      "Brunei Darussalam                                      77             8.0   \n",
      "Bulgaria                                               74            12.1   \n",
      "Burkina Faso                                           56           102.4   \n",
      "Burundi                                                53           104.3   \n",
      "Cambodia                                               65            39.7   \n",
      "Cameroon                                               53            94.9   \n",
      "...                                                   ...             ...   \n",
      "Suriname                                               72            20.8   \n",
      "Swaziland                                              50            79.7   \n",
      "Sweden                                                 82             2.9   \n",
      "Switzerland                                            83             4.3   \n",
      "Syrian Arab Republic                                   75            15.1   \n",
      "Tajikistan                                             68            58.3   \n",
      "Thailand                                               74            13.2   \n",
      "The former Yugoslav Republic of Macedonia              75             7.4   \n",
      "Timor-Leste                                            64            56.7   \n",
      "Togo                                                   56            95.5   \n",
      "Tonga                                                  72            12.8   \n",
      "Trinidad and Tobago                                    71            20.7   \n",
      "Tunisia                                                76            16.1   \n",
      "Turkey                                                 76            14.2   \n",
      "Turkmenistan                                           63            52.8   \n",
      "Tuvalu                                                 64            29.7   \n",
      "Uganda                                                 56            68.9   \n",
      "Ukraine                                                71            10.7   \n",
      "United Arab Emirates                                   76             8.4   \n",
      "United Kingdom                                         80             4.8   \n",
      "United Republic of Tanzania                            59            54.0   \n",
      "United States of America                               79             7.1   \n",
      "Uruguay                                                77             7.2   \n",
      "Uzbekistan                                             68            39.6   \n",
      "Vanuatu                                                72            17.9   \n",
      "Venezuela (Bolivarian Republic of)                     75            15.3   \n",
      "Viet Nam                                               75            23.0   \n",
      "Yemen                                                  64            60.0   \n",
      "Zambia                                                 55            88.5   \n",
      "Zimbabwe                                               54            89.8   \n",
      "\n",
      "                                           CellularSubscribers  LiteracyRate  \\\n",
      "Country                                                                        \n",
      "Afghanistan                                              54.26           NaN   \n",
      "Albania                                                  96.39           NaN   \n",
      "Algeria                                                  98.99           NaN   \n",
      "Andorra                                                  75.49           NaN   \n",
      "Angola                                                   48.38          70.1   \n",
      "Antigua and Barbuda                                     196.41          99.0   \n",
      "Argentina                                               134.92          97.8   \n",
      "Armenia                                                 103.57          99.6   \n",
      "Australia                                               108.34           NaN   \n",
      "Austria                                                 154.78           NaN   \n",
      "Azerbaijan                                              108.75           NaN   \n",
      "Bahamas                                                  86.06           NaN   \n",
      "Bahrain                                                 127.96          91.9   \n",
      "Bangladesh                                               56.06          56.8   \n",
      "Barbados                                                127.01           NaN   \n",
      "Belarus                                                 111.88           NaN   \n",
      "Belgium                                                 116.61           NaN   \n",
      "Belize                                                   69.96           NaN   \n",
      "Benin                                                    85.33          42.4   \n",
      "Bhutan                                                   65.58           NaN   \n",
      "Bolivia (Plurinational State of)                         82.82           NaN   \n",
      "Bosnia and Herzegovina                                   84.52          97.9   \n",
      "Botswana                                                142.82          84.5   \n",
      "Brazil                                                  124.26           NaN   \n",
      "Brunei Darussalam                                       109.17          95.2   \n",
      "Bulgaria                                                140.68           NaN   \n",
      "Burkina Faso                                             45.27           NaN   \n",
      "Burundi                                                  22.33          67.2   \n",
      "Cambodia                                                 96.17           NaN   \n",
      "Cameroon                                                 52.35           NaN   \n",
      "...                                                        ...           ...   \n",
      "Suriname                                                178.88          94.7   \n",
      "Swaziland                                                63.70          87.4   \n",
      "Sweden                                                  118.57           NaN   \n",
      "Switzerland                                             131.43           NaN   \n",
      "Syrian Arab Republic                                     63.17          83.4   \n",
      "Tajikistan                                               90.64          99.7   \n",
      "Thailand                                                111.63           NaN   \n",
      "The former Yugoslav Republic of Macedonia               107.24          97.3   \n",
      "Timor-Leste                                              53.23          58.3   \n",
      "Togo                                                     50.45           NaN   \n",
      "Tonga                                                    52.63           NaN   \n",
      "Trinidad and Tobago                                     135.64          98.8   \n",
      "Tunisia                                                 116.93           NaN   \n",
      "Turkey                                                   88.70           NaN   \n",
      "Turkmenistan                                             68.77          99.6   \n",
      "Tuvalu                                                   21.63           NaN   \n",
      "Uganda                                                   48.38          73.2   \n",
      "Ukraine                                                 122.98          99.7   \n",
      "United Arab Emirates                                    148.62           NaN   \n",
      "United Kingdom                                          130.75           NaN   \n",
      "United Republic of Tanzania                              55.53          73.2   \n",
      "United States of America                                 92.72           NaN   \n",
      "Uruguay                                                 140.75          98.1   \n",
      "Uzbekistan                                               91.65          99.4   \n",
      "Vanuatu                                                  55.76          82.6   \n",
      "Venezuela (Bolivarian Republic of)                       97.78           NaN   \n",
      "Viet Nam                                                143.39          93.2   \n",
      "Yemen                                                    47.05          63.9   \n",
      "Zambia                                                   60.59          71.2   \n",
      "Zimbabwe                                                 72.13          92.2   \n",
      "\n",
      "                                               GNI  \\\n",
      "Country                                              \n",
      "Afghanistan                                 1140.0   \n",
      "Albania                                     8820.0   \n",
      "Algeria                                     8310.0   \n",
      "Andorra                                        NaN   \n",
      "Angola                                      5230.0   \n",
      "Antigua and Barbuda                        17900.0   \n",
      "Argentina                                  17130.0   \n",
      "Armenia                                     6100.0   \n",
      "Australia                                  38110.0   \n",
      "Austria                                    42050.0   \n",
      "Azerbaijan                                  8960.0   \n",
      "Bahamas                                        NaN   \n",
      "Bahrain                                        NaN   \n",
      "Bangladesh                                  1940.0   \n",
      "Barbados                                       NaN   \n",
      "Belarus                                    14460.0   \n",
      "Belgium                                    39190.0   \n",
      "Belize                                      6090.0   \n",
      "Benin                                       1620.0   \n",
      "Bhutan                                      5570.0   \n",
      "Bolivia (Plurinational State of)            4890.0   \n",
      "Bosnia and Herzegovina                      9190.0   \n",
      "Botswana                                   14550.0   \n",
      "Brazil                                     11420.0   \n",
      "Brunei Darussalam                              NaN   \n",
      "Bulgaria                                   14160.0   \n",
      "Burkina Faso                                1300.0   \n",
      "Burundi                                      610.0   \n",
      "Cambodia                                    2230.0   \n",
      "Cameroon                                    2330.0   \n",
      "...                                            ...   \n",
      "Suriname                                       NaN   \n",
      "Swaziland                                   5930.0   \n",
      "Sweden                                     42200.0   \n",
      "Switzerland                                52570.0   \n",
      "Syrian Arab Republic                           NaN   \n",
      "Tajikistan                                  2300.0   \n",
      "Thailand                                    8360.0   \n",
      "The former Yugoslav Republic of Macedonia  11090.0   \n",
      "Timor-Leste                                    NaN   \n",
      "Togo                                        1040.0   \n",
      "Tonga                                       5000.0   \n",
      "Trinidad and Tobago                            NaN   \n",
      "Tunisia                                     9030.0   \n",
      "Turkey                                     16940.0   \n",
      "Turkmenistan                                8690.0   \n",
      "Tuvalu                                         NaN   \n",
      "Uganda                                      1310.0   \n",
      "Ukraine                                     7040.0   \n",
      "United Arab Emirates                       47890.0   \n",
      "United Kingdom                             36010.0   \n",
      "United Republic of Tanzania                 1500.0   \n",
      "United States of America                   48820.0   \n",
      "Uruguay                                    14640.0   \n",
      "Uzbekistan                                  3420.0   \n",
      "Vanuatu                                     4330.0   \n",
      "Venezuela (Bolivarian Republic of)         12430.0   \n",
      "Viet Nam                                    3250.0   \n",
      "Yemen                                       2170.0   \n",
      "Zambia                                      1490.0   \n",
      "Zimbabwe                                       NaN   \n",
      "\n",
      "                                           PrimarySchoolEnrollmentMale  \\\n",
      "Country                                                                  \n",
      "Afghanistan                                                        NaN   \n",
      "Albania                                                            NaN   \n",
      "Algeria                                                           98.2   \n",
      "Andorra                                                           78.4   \n",
      "Angola                                                            93.1   \n",
      "Antigua and Barbuda                                               91.1   \n",
      "Argentina                                                          NaN   \n",
      "Armenia                                                            NaN   \n",
      "Australia                                                         96.9   \n",
      "Austria                                                            NaN   \n",
      "Azerbaijan                                                        85.3   \n",
      "Bahamas                                                            NaN   \n",
      "Bahrain                                                            NaN   \n",
      "Bangladesh                                                         NaN   \n",
      "Barbados                                                           NaN   \n",
      "Belarus                                                            NaN   \n",
      "Belgium                                                           98.9   \n",
      "Belize                                                             NaN   \n",
      "Benin                                                              NaN   \n",
      "Bhutan                                                            88.3   \n",
      "Bolivia (Plurinational State of)                                  91.2   \n",
      "Bosnia and Herzegovina                                            86.5   \n",
      "Botswana                                                           NaN   \n",
      "Brazil                                                             NaN   \n",
      "Brunei Darussalam                                                  NaN   \n",
      "Bulgaria                                                          99.3   \n",
      "Burkina Faso                                                      60.7   \n",
      "Burundi                                                            NaN   \n",
      "Cambodia                                                          96.4   \n",
      "Cameroon                                                          99.6   \n",
      "...                                                                ...   \n",
      "Suriname                                                           NaN   \n",
      "Swaziland                                                          NaN   \n",
      "Sweden                                                            99.7   \n",
      "Switzerland                                                       98.9   \n",
      "Syrian Arab Republic                                               NaN   \n",
      "Tajikistan                                                        99.5   \n",
      "Thailand                                                           NaN   \n",
      "The former Yugoslav Republic of Macedonia                         97.3   \n",
      "Timor-Leste                                                       86.2   \n",
      "Togo                                                               NaN   \n",
      "Tonga                                                              NaN   \n",
      "Trinidad and Tobago                                               97.7   \n",
      "Tunisia                                                            NaN   \n",
      "Turkey                                                            99.5   \n",
      "Turkmenistan                                                       NaN   \n",
      "Tuvalu                                                             NaN   \n",
      "Uganda                                                            89.7   \n",
      "Ukraine                                                           90.8   \n",
      "United Arab Emirates                                               NaN   \n",
      "United Kingdom                                                    99.8   \n",
      "United Republic of Tanzania                                        NaN   \n",
      "United States of America                                          95.4   \n",
      "Uruguay                                                            NaN   \n",
      "Uzbekistan                                                        93.3   \n",
      "Vanuatu                                                            NaN   \n",
      "Venezuela (Bolivarian Republic of)                                94.7   \n",
      "Viet Nam                                                           NaN   \n",
      "Yemen                                                             85.5   \n",
      "Zambia                                                            91.4   \n",
      "Zimbabwe                                                           NaN   \n",
      "\n",
      "                                           PrimarySchoolEnrollmentFemale  \n",
      "Country                                                                   \n",
      "Afghanistan                                                          NaN  \n",
      "Albania                                                              NaN  \n",
      "Algeria                                                             96.4  \n",
      "Andorra                                                             79.4  \n",
      "Angola                                                              78.2  \n",
      "Antigua and Barbuda                                                 84.5  \n",
      "Argentina                                                            NaN  \n",
      "Armenia                                                              NaN  \n",
      "Australia                                                           97.5  \n",
      "Austria                                                              NaN  \n",
      "Azerbaijan                                                          84.1  \n",
      "Bahamas                                                              NaN  \n",
      "Bahrain                                                              NaN  \n",
      "Bangladesh                                                           NaN  \n",
      "Barbados                                                             NaN  \n",
      "Belarus                                                              NaN  \n",
      "Belgium                                                             99.2  \n",
      "Belize                                                               NaN  \n",
      "Benin                                                                NaN  \n",
      "Bhutan                                                              91.5  \n",
      "Bolivia (Plurinational State of)                                    91.5  \n",
      "Bosnia and Herzegovina                                              88.4  \n",
      "Botswana                                                             NaN  \n",
      "Brazil                                                               NaN  \n",
      "Brunei Darussalam                                                    NaN  \n",
      "Bulgaria                                                            99.7  \n",
      "Burkina Faso                                                        55.9  \n",
      "Burundi                                                              NaN  \n",
      "Cambodia                                                            95.4  \n",
      "Cameroon                                                            87.4  \n",
      "...                                                                  ...  \n",
      "Suriname                                                             NaN  \n",
      "Swaziland                                                            NaN  \n",
      "Sweden                                                              99.0  \n",
      "Switzerland                                                         99.5  \n",
      "Syrian Arab Republic                                                 NaN  \n",
      "Tajikistan                                                          96.0  \n",
      "Thailand                                                             NaN  \n",
      "The former Yugoslav Republic of Macedonia                           99.2  \n",
      "Timor-Leste                                                         85.6  \n",
      "Togo                                                                 NaN  \n",
      "Tonga                                                                NaN  \n",
      "Trinidad and Tobago                                                 97.0  \n",
      "Tunisia                                                              NaN  \n",
      "Turkey                                                              98.3  \n",
      "Turkmenistan                                                         NaN  \n",
      "Tuvalu                                                               NaN  \n",
      "Uganda                                                              92.3  \n",
      "Ukraine                                                             91.5  \n",
      "United Arab Emirates                                                 NaN  \n",
      "United Kingdom                                                      99.6  \n",
      "United Republic of Tanzania                                          NaN  \n",
      "United States of America                                            96.1  \n",
      "Uruguay                                                              NaN  \n",
      "Uzbekistan                                                          91.0  \n",
      "Vanuatu                                                              NaN  \n",
      "Venezuela (Bolivarian Republic of)                                  95.1  \n",
      "Viet Nam                                                             NaN  \n",
      "Yemen                                                               70.5  \n",
      "Zambia                                                              93.9  \n",
      "Zimbabwe                                                             NaN  \n",
      "\n",
      "[194 rows x 12 columns]\n"
     ]
    }
   ],
   "source": [
    "print(WHO)"
   ]
  },
  {
   "cell_type": "code",
   "execution_count": 81,
   "metadata": {},
   "outputs": [],
   "source": [
    "#Re-Set Index to Specfic Column\n",
    "WHO.reset_index(inplace=True)"
   ]
  },
  {
   "cell_type": "code",
   "execution_count": 82,
   "metadata": {},
   "outputs": [
    {
     "name": "stdout",
     "output_type": "stream",
     "text": [
      "                                       Country                 Region  \\\n",
      "0                                  Afghanistan  Eastern Mediterranean   \n",
      "1                                      Albania                 Europe   \n",
      "2                                      Algeria                 Africa   \n",
      "3                                      Andorra                 Europe   \n",
      "4                                       Angola                 Africa   \n",
      "5                          Antigua and Barbuda               Americas   \n",
      "6                                    Argentina               Americas   \n",
      "7                                      Armenia                 Europe   \n",
      "8                                    Australia        Western Pacific   \n",
      "9                                      Austria                 Europe   \n",
      "10                                  Azerbaijan                 Europe   \n",
      "11                                     Bahamas               Americas   \n",
      "12                                     Bahrain  Eastern Mediterranean   \n",
      "13                                  Bangladesh        South-East Asia   \n",
      "14                                    Barbados               Americas   \n",
      "15                                     Belarus                 Europe   \n",
      "16                                     Belgium                 Europe   \n",
      "17                                      Belize               Americas   \n",
      "18                                       Benin                 Africa   \n",
      "19                                      Bhutan        South-East Asia   \n",
      "20            Bolivia (Plurinational State of)               Americas   \n",
      "21                      Bosnia and Herzegovina                 Europe   \n",
      "22                                    Botswana                 Africa   \n",
      "23                                      Brazil               Americas   \n",
      "24                           Brunei Darussalam        Western Pacific   \n",
      "25                                    Bulgaria                 Europe   \n",
      "26                                Burkina Faso                 Africa   \n",
      "27                                     Burundi                 Africa   \n",
      "28                                    Cambodia        Western Pacific   \n",
      "29                                    Cameroon                 Africa   \n",
      "..                                         ...                    ...   \n",
      "164                                   Suriname               Americas   \n",
      "165                                  Swaziland                 Africa   \n",
      "166                                     Sweden                 Europe   \n",
      "167                                Switzerland                 Europe   \n",
      "168                       Syrian Arab Republic  Eastern Mediterranean   \n",
      "169                                 Tajikistan                 Europe   \n",
      "170                                   Thailand        South-East Asia   \n",
      "171  The former Yugoslav Republic of Macedonia                 Europe   \n",
      "172                                Timor-Leste        South-East Asia   \n",
      "173                                       Togo                 Africa   \n",
      "174                                      Tonga        Western Pacific   \n",
      "175                        Trinidad and Tobago               Americas   \n",
      "176                                    Tunisia  Eastern Mediterranean   \n",
      "177                                     Turkey                 Europe   \n",
      "178                               Turkmenistan                 Europe   \n",
      "179                                     Tuvalu        Western Pacific   \n",
      "180                                     Uganda                 Africa   \n",
      "181                                    Ukraine                 Europe   \n",
      "182                       United Arab Emirates  Eastern Mediterranean   \n",
      "183                             United Kingdom                 Europe   \n",
      "184                United Republic of Tanzania                 Africa   \n",
      "185                   United States of America               Americas   \n",
      "186                                    Uruguay               Americas   \n",
      "187                                 Uzbekistan                 Europe   \n",
      "188                                    Vanuatu        Western Pacific   \n",
      "189         Venezuela (Bolivarian Republic of)               Americas   \n",
      "190                                   Viet Nam        Western Pacific   \n",
      "191                                      Yemen  Eastern Mediterranean   \n",
      "192                                     Zambia                 Africa   \n",
      "193                                   Zimbabwe                 Africa   \n",
      "\n",
      "     Population  Under15  Over60  FertilityRate  LifeExpectancy  \\\n",
      "0         29825    47.42    3.82           5.40              60   \n",
      "1          3162    21.33   14.93           1.75              74   \n",
      "2         38482    27.42    7.17           2.83              73   \n",
      "3            78    15.20   22.86            NaN              82   \n",
      "4         20821    47.58    3.84           6.10              51   \n",
      "5            89    25.96   12.35           2.12              75   \n",
      "6         41087    24.42   14.97           2.20              76   \n",
      "7          2969    20.34   14.06           1.74              71   \n",
      "8         23050    18.95   19.46           1.89              82   \n",
      "9          8464    14.51   23.52           1.44              81   \n",
      "10         9309    22.25    8.24           1.96              71   \n",
      "11          372    21.62   11.24           1.90              75   \n",
      "12         1318    20.16    3.38           2.12              79   \n",
      "13       155000    30.57    6.89           2.24              70   \n",
      "14          283    18.99   15.78           1.84              78   \n",
      "15         9405    15.10   19.31           1.47              71   \n",
      "16        11060    16.88   23.81           1.85              80   \n",
      "17          324    34.40    5.74           2.76              74   \n",
      "18        10051    42.95    4.54           5.01              57   \n",
      "19          742    28.53    6.90           2.32              67   \n",
      "20        10496    35.23    7.28           3.31              67   \n",
      "21         3834    16.35   20.52           1.26              76   \n",
      "22         2004    33.75    5.63           2.71              66   \n",
      "23       199000    24.56   10.81           1.82              74   \n",
      "24          412    25.75    7.03           2.03              77   \n",
      "25         7278    13.53   26.11           1.51              74   \n",
      "26        16460    45.66    3.88           5.78              56   \n",
      "27         9850    44.20    3.87           6.21              53   \n",
      "28        14865    31.23    7.67           2.93              65   \n",
      "29        21700    43.08    4.89           4.94              53   \n",
      "..          ...      ...     ...            ...             ...   \n",
      "164         535    27.83    9.55           2.32              72   \n",
      "165        1231    38.05    5.34           3.48              50   \n",
      "166        9511    16.71   25.32           1.93              82   \n",
      "167        7997    14.79   23.25           1.51              83   \n",
      "168       21890    35.35    6.09           3.04              75   \n",
      "169        8009    35.75    4.80           3.81              68   \n",
      "170       66785    18.47   13.96           1.43              74   \n",
      "171        2106    16.89   17.56           1.44              75   \n",
      "172        1114    46.33    5.16           6.11              64   \n",
      "173        6643    41.89    4.44           4.75              56   \n",
      "174         105    37.33    7.96           3.86              72   \n",
      "175        1337    20.73   13.18           1.80              71   \n",
      "176       10875    23.22   10.49           2.04              76   \n",
      "177       73997    26.00   10.56           2.08              76   \n",
      "178        5173    28.65    6.30           2.38              63   \n",
      "179          10    30.61    9.07            NaN              64   \n",
      "180       36346    48.54    3.72           6.06              56   \n",
      "181       45530    14.18   20.76           1.45              71   \n",
      "182        9206    14.41    0.81           1.84              76   \n",
      "183       62783    17.54   23.06           1.90              80   \n",
      "184       47783    44.85    4.89           5.36              59   \n",
      "185      318000    19.63   19.31           2.00              79   \n",
      "186        3395    22.05   18.59           2.07              77   \n",
      "187       28541    28.90    6.38           2.38              68   \n",
      "188         247    37.37    6.02           3.46              72   \n",
      "189       29955    28.84    9.17           2.44              75   \n",
      "190       90796    22.87    9.32           1.79              75   \n",
      "191       23852    40.72    4.54           4.35              64   \n",
      "192       14075    46.73    3.95           5.77              55   \n",
      "193       13724    40.24    5.68           3.64              54   \n",
      "\n",
      "     ChildMortality  CellularSubscribers  LiteracyRate      GNI  \\\n",
      "0              98.5                54.26           NaN   1140.0   \n",
      "1              16.7                96.39           NaN   8820.0   \n",
      "2              20.0                98.99           NaN   8310.0   \n",
      "3               3.2                75.49           NaN      NaN   \n",
      "4             163.5                48.38          70.1   5230.0   \n",
      "5               9.9               196.41          99.0  17900.0   \n",
      "6              14.2               134.92          97.8  17130.0   \n",
      "7              16.4               103.57          99.6   6100.0   \n",
      "8               4.9               108.34           NaN  38110.0   \n",
      "9               4.0               154.78           NaN  42050.0   \n",
      "10             35.2               108.75           NaN   8960.0   \n",
      "11             16.9                86.06           NaN      NaN   \n",
      "12              9.6               127.96          91.9      NaN   \n",
      "13             40.9                56.06          56.8   1940.0   \n",
      "14             18.4               127.01           NaN      NaN   \n",
      "15              5.2               111.88           NaN  14460.0   \n",
      "16              4.2               116.61           NaN  39190.0   \n",
      "17             18.3                69.96           NaN   6090.0   \n",
      "18             89.5                85.33          42.4   1620.0   \n",
      "19             44.6                65.58           NaN   5570.0   \n",
      "20             41.4                82.82           NaN   4890.0   \n",
      "21              6.7                84.52          97.9   9190.0   \n",
      "22             53.3               142.82          84.5  14550.0   \n",
      "23             14.4               124.26           NaN  11420.0   \n",
      "24              8.0               109.17          95.2      NaN   \n",
      "25             12.1               140.68           NaN  14160.0   \n",
      "26            102.4                45.27           NaN   1300.0   \n",
      "27            104.3                22.33          67.2    610.0   \n",
      "28             39.7                96.17           NaN   2230.0   \n",
      "29             94.9                52.35           NaN   2330.0   \n",
      "..              ...                  ...           ...      ...   \n",
      "164            20.8               178.88          94.7      NaN   \n",
      "165            79.7                63.70          87.4   5930.0   \n",
      "166             2.9               118.57           NaN  42200.0   \n",
      "167             4.3               131.43           NaN  52570.0   \n",
      "168            15.1                63.17          83.4      NaN   \n",
      "169            58.3                90.64          99.7   2300.0   \n",
      "170            13.2               111.63           NaN   8360.0   \n",
      "171             7.4               107.24          97.3  11090.0   \n",
      "172            56.7                53.23          58.3      NaN   \n",
      "173            95.5                50.45           NaN   1040.0   \n",
      "174            12.8                52.63           NaN   5000.0   \n",
      "175            20.7               135.64          98.8      NaN   \n",
      "176            16.1               116.93           NaN   9030.0   \n",
      "177            14.2                88.70           NaN  16940.0   \n",
      "178            52.8                68.77          99.6   8690.0   \n",
      "179            29.7                21.63           NaN      NaN   \n",
      "180            68.9                48.38          73.2   1310.0   \n",
      "181            10.7               122.98          99.7   7040.0   \n",
      "182             8.4               148.62           NaN  47890.0   \n",
      "183             4.8               130.75           NaN  36010.0   \n",
      "184            54.0                55.53          73.2   1500.0   \n",
      "185             7.1                92.72           NaN  48820.0   \n",
      "186             7.2               140.75          98.1  14640.0   \n",
      "187            39.6                91.65          99.4   3420.0   \n",
      "188            17.9                55.76          82.6   4330.0   \n",
      "189            15.3                97.78           NaN  12430.0   \n",
      "190            23.0               143.39          93.2   3250.0   \n",
      "191            60.0                47.05          63.9   2170.0   \n",
      "192            88.5                60.59          71.2   1490.0   \n",
      "193            89.8                72.13          92.2      NaN   \n",
      "\n",
      "     PrimarySchoolEnrollmentMale  PrimarySchoolEnrollmentFemale  \n",
      "0                            NaN                            NaN  \n",
      "1                            NaN                            NaN  \n",
      "2                           98.2                           96.4  \n",
      "3                           78.4                           79.4  \n",
      "4                           93.1                           78.2  \n",
      "5                           91.1                           84.5  \n",
      "6                            NaN                            NaN  \n",
      "7                            NaN                            NaN  \n",
      "8                           96.9                           97.5  \n",
      "9                            NaN                            NaN  \n",
      "10                          85.3                           84.1  \n",
      "11                           NaN                            NaN  \n",
      "12                           NaN                            NaN  \n",
      "13                           NaN                            NaN  \n",
      "14                           NaN                            NaN  \n",
      "15                           NaN                            NaN  \n",
      "16                          98.9                           99.2  \n",
      "17                           NaN                            NaN  \n",
      "18                           NaN                            NaN  \n",
      "19                          88.3                           91.5  \n",
      "20                          91.2                           91.5  \n",
      "21                          86.5                           88.4  \n",
      "22                           NaN                            NaN  \n",
      "23                           NaN                            NaN  \n",
      "24                           NaN                            NaN  \n",
      "25                          99.3                           99.7  \n",
      "26                          60.7                           55.9  \n",
      "27                           NaN                            NaN  \n",
      "28                          96.4                           95.4  \n",
      "29                          99.6                           87.4  \n",
      "..                           ...                            ...  \n",
      "164                          NaN                            NaN  \n",
      "165                          NaN                            NaN  \n",
      "166                         99.7                           99.0  \n",
      "167                         98.9                           99.5  \n",
      "168                          NaN                            NaN  \n",
      "169                         99.5                           96.0  \n",
      "170                          NaN                            NaN  \n",
      "171                         97.3                           99.2  \n",
      "172                         86.2                           85.6  \n",
      "173                          NaN                            NaN  \n",
      "174                          NaN                            NaN  \n",
      "175                         97.7                           97.0  \n",
      "176                          NaN                            NaN  \n",
      "177                         99.5                           98.3  \n",
      "178                          NaN                            NaN  \n",
      "179                          NaN                            NaN  \n",
      "180                         89.7                           92.3  \n",
      "181                         90.8                           91.5  \n",
      "182                          NaN                            NaN  \n",
      "183                         99.8                           99.6  \n",
      "184                          NaN                            NaN  \n",
      "185                         95.4                           96.1  \n",
      "186                          NaN                            NaN  \n",
      "187                         93.3                           91.0  \n",
      "188                          NaN                            NaN  \n",
      "189                         94.7                           95.1  \n",
      "190                          NaN                            NaN  \n",
      "191                         85.5                           70.5  \n",
      "192                         91.4                           93.9  \n",
      "193                          NaN                            NaN  \n",
      "\n",
      "[194 rows x 13 columns]\n"
     ]
    }
   ],
   "source": [
    "print(WHO)"
   ]
  },
  {
   "cell_type": "code",
   "execution_count": 83,
   "metadata": {},
   "outputs": [],
   "source": [
    "#Handle Missing Data in Python Pandas\n",
    "#Solution-1:Fill NaN with Zero\n",
    "MVH= pd.read_csv(\"Missing_Values_Handling.csv\")"
   ]
  },
  {
   "cell_type": "code",
   "execution_count": 84,
   "metadata": {},
   "outputs": [
    {
     "name": "stdout",
     "output_type": "stream",
     "text": [
      "         Day  Temperature  Windspeed   Event\n",
      "0   3/1/2019         32.0        6.0    Rain\n",
      "1   3/4/2019          NaN        9.0   Sunny\n",
      "2   3/5/2019         28.0        NaN    Snow\n",
      "3   3/6/2019          NaN        7.0     NaN\n",
      "4   3/7/2019         32.0        NaN    Rain\n",
      "5   3/8/2019          NaN        NaN   Sunny\n",
      "6   3/9/2019          NaN        NaN     NaN\n",
      "7  3/10/2019         34.0        8.0  Cloudy\n",
      "8  3/11/2019         40.0       12.0   Sunny\n"
     ]
    }
   ],
   "source": [
    "print(MVH)"
   ]
  },
  {
   "cell_type": "code",
   "execution_count": 85,
   "metadata": {},
   "outputs": [],
   "source": [
    "rzero=MVH.fillna(0)"
   ]
  },
  {
   "cell_type": "code",
   "execution_count": 86,
   "metadata": {},
   "outputs": [
    {
     "name": "stdout",
     "output_type": "stream",
     "text": [
      "         Day  Temperature  Windspeed   Event\n",
      "0   3/1/2019         32.0        6.0    Rain\n",
      "1   3/4/2019          0.0        9.0   Sunny\n",
      "2   3/5/2019         28.0        0.0    Snow\n",
      "3   3/6/2019          0.0        7.0       0\n",
      "4   3/7/2019         32.0        0.0    Rain\n",
      "5   3/8/2019          0.0        0.0   Sunny\n",
      "6   3/9/2019          0.0        0.0       0\n",
      "7  3/10/2019         34.0        8.0  Cloudy\n",
      "8  3/11/2019         40.0       12.0   Sunny\n"
     ]
    }
   ],
   "source": [
    "print(rzero)"
   ]
  },
  {
   "cell_type": "code",
   "execution_count": 87,
   "metadata": {},
   "outputs": [],
   "source": [
    "#Solution-2:Fill NaN with Customized Solutions\n",
    "rcs=MVH.fillna({\n",
    "'Temperature':0,\n",
    "'Windspeed':0,\n",
    "'Event':'No Event'\n",
    "})"
   ]
  },
  {
   "cell_type": "code",
   "execution_count": 88,
   "metadata": {},
   "outputs": [
    {
     "name": "stdout",
     "output_type": "stream",
     "text": [
      "         Day  Temperature  Windspeed   Event\n",
      "0   3/1/2019         32.0        6.0    Rain\n",
      "1   3/4/2019          NaN        9.0   Sunny\n",
      "2   3/5/2019         28.0        NaN    Snow\n",
      "3   3/6/2019          NaN        7.0     NaN\n",
      "4   3/7/2019         32.0        NaN    Rain\n",
      "5   3/8/2019          NaN        NaN   Sunny\n",
      "6   3/9/2019          NaN        NaN     NaN\n",
      "7  3/10/2019         34.0        8.0  Cloudy\n",
      "8  3/11/2019         40.0       12.0   Sunny\n"
     ]
    }
   ],
   "source": [
    "print(MVH)"
   ]
  },
  {
   "cell_type": "code",
   "execution_count": 89,
   "metadata": {},
   "outputs": [
    {
     "name": "stdout",
     "output_type": "stream",
     "text": [
      "         Day  Temperature  Windspeed     Event\n",
      "0   3/1/2019         32.0        6.0      Rain\n",
      "1   3/4/2019          0.0        9.0     Sunny\n",
      "2   3/5/2019         28.0        0.0      Snow\n",
      "3   3/6/2019          0.0        7.0  No Event\n",
      "4   3/7/2019         32.0        0.0      Rain\n",
      "5   3/8/2019          0.0        0.0     Sunny\n",
      "6   3/9/2019          0.0        0.0  No Event\n",
      "7  3/10/2019         34.0        8.0    Cloudy\n",
      "8  3/11/2019         40.0       12.0     Sunny\n"
     ]
    }
   ],
   "source": [
    "print(rcs)"
   ]
  },
  {
   "cell_type": "code",
   "execution_count": 90,
   "metadata": {},
   "outputs": [
    {
     "name": "stdout",
     "output_type": "stream",
     "text": [
      "         Day  Temperature  Windspeed   Event\n",
      "0   3/1/2019         32.0        6.0    Rain\n",
      "1   3/4/2019          NaN        9.0   Sunny\n",
      "2   3/5/2019         28.0        NaN    Snow\n",
      "3   3/6/2019          NaN        7.0     NaN\n",
      "4   3/7/2019         32.0        NaN    Rain\n",
      "5   3/8/2019          NaN        NaN   Sunny\n",
      "6   3/9/2019          NaN        NaN     NaN\n",
      "7  3/10/2019         34.0        8.0  Cloudy\n",
      "8  3/11/2019         40.0       12.0   Sunny\n"
     ]
    }
   ],
   "source": [
    "#Solution-3:Fill NaN with fwd fill method\n",
    "print(MVH)"
   ]
  },
  {
   "cell_type": "code",
   "execution_count": 91,
   "metadata": {},
   "outputs": [],
   "source": [
    "rff=MVH.fillna(method=\"ffill\")"
   ]
  },
  {
   "cell_type": "code",
   "execution_count": 92,
   "metadata": {},
   "outputs": [
    {
     "name": "stdout",
     "output_type": "stream",
     "text": [
      "         Day  Temperature  Windspeed   Event\n",
      "0   3/1/2019         32.0        6.0    Rain\n",
      "1   3/4/2019         32.0        9.0   Sunny\n",
      "2   3/5/2019         28.0        9.0    Snow\n",
      "3   3/6/2019         28.0        7.0    Snow\n",
      "4   3/7/2019         32.0        7.0    Rain\n",
      "5   3/8/2019         32.0        7.0   Sunny\n",
      "6   3/9/2019         32.0        7.0   Sunny\n",
      "7  3/10/2019         34.0        8.0  Cloudy\n",
      "8  3/11/2019         40.0       12.0   Sunny\n"
     ]
    }
   ],
   "source": [
    "print(rff)"
   ]
  },
  {
   "cell_type": "code",
   "execution_count": 93,
   "metadata": {},
   "outputs": [
    {
     "name": "stdout",
     "output_type": "stream",
     "text": [
      "         Day  Temperature  Windspeed   Event\n",
      "0   3/1/2019         32.0        6.0    Rain\n",
      "1   3/4/2019          NaN        9.0   Sunny\n",
      "2   3/5/2019         28.0        NaN    Snow\n",
      "3   3/6/2019          NaN        7.0     NaN\n",
      "4   3/7/2019         32.0        NaN    Rain\n",
      "5   3/8/2019          NaN        NaN   Sunny\n",
      "6   3/9/2019          NaN        NaN     NaN\n",
      "7  3/10/2019         34.0        8.0  Cloudy\n",
      "8  3/11/2019         40.0       12.0   Sunny\n"
     ]
    }
   ],
   "source": [
    "#Solution-4:Fill NaN with fwd fill method and set Limit\n",
    "print(MVH)"
   ]
  },
  {
   "cell_type": "code",
   "execution_count": 94,
   "metadata": {},
   "outputs": [],
   "source": [
    "flm=MVH.fillna(method=\"ffill\",limit=1)"
   ]
  },
  {
   "cell_type": "code",
   "execution_count": 95,
   "metadata": {},
   "outputs": [
    {
     "name": "stdout",
     "output_type": "stream",
     "text": [
      "         Day  Temperature  Windspeed   Event\n",
      "0   3/1/2019         32.0        6.0    Rain\n",
      "1   3/4/2019         32.0        9.0   Sunny\n",
      "2   3/5/2019         28.0        9.0    Snow\n",
      "3   3/6/2019         28.0        7.0    Snow\n",
      "4   3/7/2019         32.0        7.0    Rain\n",
      "5   3/8/2019         32.0        NaN   Sunny\n",
      "6   3/9/2019          NaN        NaN   Sunny\n",
      "7  3/10/2019         34.0        8.0  Cloudy\n",
      "8  3/11/2019         40.0       12.0   Sunny\n"
     ]
    }
   ],
   "source": [
    "print(flm)"
   ]
  },
  {
   "cell_type": "code",
   "execution_count": 96,
   "metadata": {},
   "outputs": [
    {
     "name": "stdout",
     "output_type": "stream",
     "text": [
      "         Day  Temperature  Windspeed   Event\n",
      "0   3/1/2019         32.0        6.0    Rain\n",
      "1   3/4/2019          NaN        9.0   Sunny\n",
      "2   3/5/2019         28.0        NaN    Snow\n",
      "3   3/6/2019          NaN        7.0     NaN\n",
      "4   3/7/2019         32.0        NaN    Rain\n",
      "5   3/8/2019          NaN        NaN   Sunny\n",
      "6   3/9/2019          NaN        NaN     NaN\n",
      "7  3/10/2019         34.0        8.0  Cloudy\n",
      "8  3/11/2019         40.0       12.0   Sunny\n"
     ]
    }
   ],
   "source": [
    "#Solution-5:Fill NaN with backwd method\n",
    "print(MVH)"
   ]
  },
  {
   "cell_type": "code",
   "execution_count": 97,
   "metadata": {},
   "outputs": [],
   "source": [
    "rbf=MVH.fillna(method=\"bfill\")"
   ]
  },
  {
   "cell_type": "code",
   "execution_count": 98,
   "metadata": {},
   "outputs": [
    {
     "name": "stdout",
     "output_type": "stream",
     "text": [
      "         Day  Temperature  Windspeed   Event\n",
      "0   3/1/2019         32.0        6.0    Rain\n",
      "1   3/4/2019         28.0        9.0   Sunny\n",
      "2   3/5/2019         28.0        7.0    Snow\n",
      "3   3/6/2019         32.0        7.0    Rain\n",
      "4   3/7/2019         32.0        8.0    Rain\n",
      "5   3/8/2019         34.0        8.0   Sunny\n",
      "6   3/9/2019         34.0        8.0  Cloudy\n",
      "7  3/10/2019         34.0        8.0  Cloudy\n",
      "8  3/11/2019         40.0       12.0   Sunny\n"
     ]
    }
   ],
   "source": [
    "print(rbf)"
   ]
  },
  {
   "cell_type": "code",
   "execution_count": 99,
   "metadata": {},
   "outputs": [
    {
     "name": "stdout",
     "output_type": "stream",
     "text": [
      "         Day  Temperature  Windspeed   Event\n",
      "0   3/1/2019         32.0        6.0    Rain\n",
      "1   3/4/2019          NaN        9.0   Sunny\n",
      "2   3/5/2019         28.0        NaN    Snow\n",
      "3   3/6/2019          NaN        7.0     NaN\n",
      "4   3/7/2019         32.0        NaN    Rain\n",
      "5   3/8/2019          NaN        NaN   Sunny\n",
      "6   3/9/2019          NaN        NaN     NaN\n",
      "7  3/10/2019         34.0        8.0  Cloudy\n",
      "8  3/11/2019         40.0       12.0   Sunny\n"
     ]
    }
   ],
   "source": [
    "#Solution-6:Fill NaN with backwd fill method and set Limit\n",
    "print(MVH)"
   ]
  },
  {
   "cell_type": "code",
   "execution_count": 100,
   "metadata": {},
   "outputs": [],
   "source": [
    "blm=MVH.fillna(method=\"bfill\",limit=1)"
   ]
  },
  {
   "cell_type": "code",
   "execution_count": 101,
   "metadata": {},
   "outputs": [
    {
     "name": "stdout",
     "output_type": "stream",
     "text": [
      "         Day  Temperature  Windspeed   Event\n",
      "0   3/1/2019         32.0        6.0    Rain\n",
      "1   3/4/2019         28.0        9.0   Sunny\n",
      "2   3/5/2019         28.0        7.0    Snow\n",
      "3   3/6/2019         32.0        7.0    Rain\n",
      "4   3/7/2019         32.0        NaN    Rain\n",
      "5   3/8/2019          NaN        NaN   Sunny\n",
      "6   3/9/2019         34.0        8.0  Cloudy\n",
      "7  3/10/2019         34.0        8.0  Cloudy\n",
      "8  3/11/2019         40.0       12.0   Sunny\n"
     ]
    }
   ],
   "source": [
    "print(blm)"
   ]
  },
  {
   "cell_type": "code",
   "execution_count": 102,
   "metadata": {},
   "outputs": [
    {
     "name": "stdout",
     "output_type": "stream",
     "text": [
      "         Day  Temperature  Windspeed   Event\n",
      "0   3/1/2019         32.0        6.0    Rain\n",
      "1   3/4/2019          NaN        9.0   Sunny\n",
      "2   3/5/2019         28.0        NaN    Snow\n",
      "3   3/6/2019          NaN        7.0     NaN\n",
      "4   3/7/2019         32.0        NaN    Rain\n",
      "5   3/8/2019          NaN        NaN   Sunny\n",
      "6   3/9/2019          NaN        NaN     NaN\n",
      "7  3/10/2019         34.0        8.0  Cloudy\n",
      "8  3/11/2019         40.0       12.0   Sunny\n"
     ]
    }
   ],
   "source": [
    "#Solution-7:Fill NaN with fwd fill method (on columns)\n",
    "print(MVH)"
   ]
  },
  {
   "cell_type": "code",
   "execution_count": 103,
   "metadata": {},
   "outputs": [],
   "source": [
    "rffc=MVH.fillna(method=\"ffill\",axis=\"columns\")"
   ]
  },
  {
   "cell_type": "code",
   "execution_count": 104,
   "metadata": {},
   "outputs": [
    {
     "name": "stdout",
     "output_type": "stream",
     "text": [
      "         Day Temperature Windspeed     Event\n",
      "0   3/1/2019          32         6      Rain\n",
      "1   3/4/2019    3/4/2019         9     Sunny\n",
      "2   3/5/2019          28        28      Snow\n",
      "3   3/6/2019    3/6/2019         7         7\n",
      "4   3/7/2019          32        32      Rain\n",
      "5   3/8/2019    3/8/2019  3/8/2019     Sunny\n",
      "6   3/9/2019    3/9/2019  3/9/2019  3/9/2019\n",
      "7  3/10/2019          34         8    Cloudy\n",
      "8  3/11/2019          40        12     Sunny\n"
     ]
    }
   ],
   "source": [
    "print(rffc)"
   ]
  },
  {
   "cell_type": "code",
   "execution_count": 105,
   "metadata": {},
   "outputs": [
    {
     "name": "stdout",
     "output_type": "stream",
     "text": [
      "         Day  Temperature  Windspeed   Event\n",
      "0   3/1/2019         32.0        6.0    Rain\n",
      "1   3/4/2019          NaN        9.0   Sunny\n",
      "2   3/5/2019         28.0        NaN    Snow\n",
      "3   3/6/2019          NaN        7.0     NaN\n",
      "4   3/7/2019         32.0        NaN    Rain\n",
      "5   3/8/2019          NaN        NaN   Sunny\n",
      "6   3/9/2019          NaN        NaN     NaN\n",
      "7  3/10/2019         34.0        8.0  Cloudy\n",
      "8  3/11/2019         40.0       12.0   Sunny\n"
     ]
    }
   ],
   "source": [
    "#Solution-7:Fill NaN with fwd fill method (on columns with limit)\n",
    "print(MVH)"
   ]
  },
  {
   "cell_type": "code",
   "execution_count": 106,
   "metadata": {},
   "outputs": [],
   "source": [
    "rffcl=MVH.fillna(method=\"ffill\",axis=\"columns\",limit=1)"
   ]
  },
  {
   "cell_type": "code",
   "execution_count": 107,
   "metadata": {},
   "outputs": [
    {
     "name": "stdout",
     "output_type": "stream",
     "text": [
      "         Day Temperature Windspeed   Event\n",
      "0   3/1/2019          32         6    Rain\n",
      "1   3/4/2019    3/4/2019         9   Sunny\n",
      "2   3/5/2019          28        28    Snow\n",
      "3   3/6/2019    3/6/2019         7       7\n",
      "4   3/7/2019          32        32    Rain\n",
      "5   3/8/2019    3/8/2019       NaN   Sunny\n",
      "6   3/9/2019    3/9/2019       NaN     NaN\n",
      "7  3/10/2019          34         8  Cloudy\n",
      "8  3/11/2019          40        12   Sunny\n"
     ]
    }
   ],
   "source": [
    "print(rffcl)"
   ]
  },
  {
   "cell_type": "code",
   "execution_count": 108,
   "metadata": {},
   "outputs": [
    {
     "name": "stdout",
     "output_type": "stream",
     "text": [
      "         Day  Temperature  Windspeed   Event\n",
      "0   3/1/2019         32.0        6.0    Rain\n",
      "1   3/4/2019          NaN        9.0   Sunny\n",
      "2   3/5/2019         28.0        NaN    Snow\n",
      "3   3/6/2019          NaN        7.0     NaN\n",
      "4   3/7/2019         32.0        NaN    Rain\n",
      "5   3/8/2019          NaN        NaN   Sunny\n",
      "6   3/9/2019          NaN        NaN     NaN\n",
      "7  3/10/2019         34.0        8.0  Cloudy\n",
      "8  3/11/2019         40.0       12.0   Sunny\n"
     ]
    }
   ],
   "source": [
    "#Solution-8:Fill NaN with bckwd fill method (on columns)\n",
    "print(MVH)"
   ]
  },
  {
   "cell_type": "code",
   "execution_count": 109,
   "metadata": {},
   "outputs": [],
   "source": [
    "rbfc=MVH.fillna(method=\"bfill\",axis=\"columns\")"
   ]
  },
  {
   "cell_type": "code",
   "execution_count": 110,
   "metadata": {},
   "outputs": [
    {
     "name": "stdout",
     "output_type": "stream",
     "text": [
      "         Day Temperature Windspeed   Event\n",
      "0   3/1/2019          32         6    Rain\n",
      "1   3/4/2019           9         9   Sunny\n",
      "2   3/5/2019          28      Snow    Snow\n",
      "3   3/6/2019           7         7     NaN\n",
      "4   3/7/2019          32      Rain    Rain\n",
      "5   3/8/2019       Sunny     Sunny   Sunny\n",
      "6   3/9/2019         NaN       NaN     NaN\n",
      "7  3/10/2019          34         8  Cloudy\n",
      "8  3/11/2019          40        12   Sunny\n"
     ]
    }
   ],
   "source": [
    "print(rbfc)"
   ]
  },
  {
   "cell_type": "code",
   "execution_count": 111,
   "metadata": {},
   "outputs": [
    {
     "name": "stdout",
     "output_type": "stream",
     "text": [
      "         Day  Temperature  Windspeed   Event\n",
      "0   3/1/2019         32.0        6.0    Rain\n",
      "1   3/4/2019          NaN        9.0   Sunny\n",
      "2   3/5/2019         28.0        NaN    Snow\n",
      "3   3/6/2019          NaN        7.0     NaN\n",
      "4   3/7/2019         32.0        NaN    Rain\n",
      "5   3/8/2019          NaN        NaN   Sunny\n",
      "6   3/9/2019          NaN        NaN     NaN\n",
      "7  3/10/2019         34.0        8.0  Cloudy\n",
      "8  3/11/2019         40.0       12.0   Sunny\n"
     ]
    }
   ],
   "source": [
    "#Solution-9:Fill NaN with bckwd fill method (on columns with limit)\n",
    "print(MVH)"
   ]
  },
  {
   "cell_type": "code",
   "execution_count": 112,
   "metadata": {},
   "outputs": [],
   "source": [
    "rbfcl=MVH.fillna(method=\"bfill\",axis=\"columns\",limit=1)"
   ]
  },
  {
   "cell_type": "code",
   "execution_count": 113,
   "metadata": {},
   "outputs": [
    {
     "name": "stdout",
     "output_type": "stream",
     "text": [
      "         Day Temperature Windspeed   Event\n",
      "0   3/1/2019          32         6    Rain\n",
      "1   3/4/2019           9         9   Sunny\n",
      "2   3/5/2019          28      Snow    Snow\n",
      "3   3/6/2019           7         7     NaN\n",
      "4   3/7/2019          32      Rain    Rain\n",
      "5   3/8/2019         NaN     Sunny   Sunny\n",
      "6   3/9/2019         NaN       NaN     NaN\n",
      "7  3/10/2019          34         8  Cloudy\n",
      "8  3/11/2019          40        12   Sunny\n"
     ]
    }
   ],
   "source": [
    "print(rbfcl)"
   ]
  },
  {
   "cell_type": "code",
   "execution_count": 114,
   "metadata": {},
   "outputs": [
    {
     "name": "stdout",
     "output_type": "stream",
     "text": [
      "         Day  Temperature  Windspeed   Event\n",
      "0   3/1/2019         32.0        6.0    Rain\n",
      "1   3/4/2019          NaN        9.0   Sunny\n",
      "2   3/5/2019         28.0        NaN    Snow\n",
      "3   3/6/2019          NaN        7.0     NaN\n",
      "4   3/7/2019         32.0        NaN    Rain\n",
      "5   3/8/2019          NaN        NaN   Sunny\n",
      "6   3/9/2019          NaN        NaN     NaN\n",
      "7  3/10/2019         34.0        8.0  Cloudy\n",
      "8  3/11/2019         40.0       12.0   Sunny\n"
     ]
    }
   ],
   "source": [
    "#Solution-10:Fill NaN using interpolate function\n",
    "print(MVH)"
   ]
  },
  {
   "cell_type": "code",
   "execution_count": 115,
   "metadata": {},
   "outputs": [],
   "source": [
    "#This is linear interpolate method\n",
    "fint=MVH.interpolate()\n"
   ]
  },
  {
   "cell_type": "code",
   "execution_count": 116,
   "metadata": {},
   "outputs": [
    {
     "name": "stdout",
     "output_type": "stream",
     "text": [
      "         Day  Temperature  Windspeed   Event\n",
      "0   3/1/2019    32.000000       6.00    Rain\n",
      "1   3/4/2019    30.000000       9.00   Sunny\n",
      "2   3/5/2019    28.000000       8.00    Snow\n",
      "3   3/6/2019    30.000000       7.00     NaN\n",
      "4   3/7/2019    32.000000       7.25    Rain\n",
      "5   3/8/2019    32.666667       7.50   Sunny\n",
      "6   3/9/2019    33.333333       7.75     NaN\n",
      "7  3/10/2019    34.000000       8.00  Cloudy\n",
      "8  3/11/2019    40.000000      12.00   Sunny\n"
     ]
    }
   ],
   "source": [
    "print(fint)"
   ]
  },
  {
   "cell_type": "code",
   "execution_count": 117,
   "metadata": {},
   "outputs": [],
   "source": [
    "#Solution-11:Fill NaN using interpolate function (time method)\n",
    "mvhp= pd.read_csv('missing_values_handling.csv',parse_dates=['Day'])"
   ]
  },
  {
   "cell_type": "code",
   "execution_count": 118,
   "metadata": {},
   "outputs": [
    {
     "name": "stdout",
     "output_type": "stream",
     "text": [
      "         Day  Temperature  Windspeed   Event\n",
      "0 2019-03-01         32.0        6.0    Rain\n",
      "1 2019-03-04          NaN        9.0   Sunny\n",
      "2 2019-03-05         28.0        NaN    Snow\n",
      "3 2019-03-06          NaN        7.0     NaN\n",
      "4 2019-03-07         32.0        NaN    Rain\n",
      "5 2019-03-08          NaN        NaN   Sunny\n",
      "6 2019-03-09          NaN        NaN     NaN\n",
      "7 2019-03-10         34.0        8.0  Cloudy\n",
      "8 2019-03-11         40.0       12.0   Sunny\n"
     ]
    }
   ],
   "source": [
    "print(mvhp)"
   ]
  },
  {
   "cell_type": "code",
   "execution_count": 119,
   "metadata": {},
   "outputs": [],
   "source": [
    "mvhp.set_index('Day',inplace=True)"
   ]
  },
  {
   "cell_type": "code",
   "execution_count": 120,
   "metadata": {},
   "outputs": [
    {
     "name": "stdout",
     "output_type": "stream",
     "text": [
      "            Temperature  Windspeed   Event\n",
      "Day                                       \n",
      "2019-03-01         32.0        6.0    Rain\n",
      "2019-03-04          NaN        9.0   Sunny\n",
      "2019-03-05         28.0        NaN    Snow\n",
      "2019-03-06          NaN        7.0     NaN\n",
      "2019-03-07         32.0        NaN    Rain\n",
      "2019-03-08          NaN        NaN   Sunny\n",
      "2019-03-09          NaN        NaN     NaN\n",
      "2019-03-10         34.0        8.0  Cloudy\n",
      "2019-03-11         40.0       12.0   Sunny\n"
     ]
    }
   ],
   "source": [
    "print(mvhp)"
   ]
  },
  {
   "cell_type": "code",
   "execution_count": 121,
   "metadata": {},
   "outputs": [],
   "source": [
    "fint=mvhp.interpolate(method=\"time\")"
   ]
  },
  {
   "cell_type": "code",
   "execution_count": 122,
   "metadata": {},
   "outputs": [
    {
     "name": "stdout",
     "output_type": "stream",
     "text": [
      "            Temperature  Windspeed   Event\n",
      "Day                                       \n",
      "2019-03-01    32.000000       6.00    Rain\n",
      "2019-03-04    29.000000       9.00   Sunny\n",
      "2019-03-05    28.000000       8.00    Snow\n",
      "2019-03-06    30.000000       7.00     NaN\n",
      "2019-03-07    32.000000       7.25    Rain\n",
      "2019-03-08    32.666667       7.50   Sunny\n",
      "2019-03-09    33.333333       7.75     NaN\n",
      "2019-03-10    34.000000       8.00  Cloudy\n",
      "2019-03-11    40.000000      12.00   Sunny\n"
     ]
    }
   ],
   "source": [
    "print(fint)"
   ]
  },
  {
   "cell_type": "code",
   "execution_count": 123,
   "metadata": {},
   "outputs": [
    {
     "name": "stdout",
     "output_type": "stream",
     "text": [
      "            Temperature  Windspeed   Event\n",
      "Day                                       \n",
      "2019-03-01         32.0        6.0    Rain\n",
      "2019-03-04          NaN        9.0   Sunny\n",
      "2019-03-05         28.0        NaN    Snow\n",
      "2019-03-06          NaN        7.0     NaN\n",
      "2019-03-07         32.0        NaN    Rain\n",
      "2019-03-08          NaN        NaN   Sunny\n",
      "2019-03-09          NaN        NaN     NaN\n",
      "2019-03-10         34.0        8.0  Cloudy\n",
      "2019-03-11         40.0       12.0   Sunny\n"
     ]
    }
   ],
   "source": [
    "#Solution-12:Drop NaN Rows\n",
    "print(mvhp)"
   ]
  },
  {
   "cell_type": "code",
   "execution_count": 124,
   "metadata": {},
   "outputs": [],
   "source": [
    "nads1=mvhp.dropna()"
   ]
  },
  {
   "cell_type": "code",
   "execution_count": 125,
   "metadata": {},
   "outputs": [
    {
     "name": "stdout",
     "output_type": "stream",
     "text": [
      "            Temperature  Windspeed   Event\n",
      "Day                                       \n",
      "2019-03-01         32.0        6.0    Rain\n",
      "2019-03-10         34.0        8.0  Cloudy\n",
      "2019-03-11         40.0       12.0   Sunny\n"
     ]
    }
   ],
   "source": [
    "print(nads1)"
   ]
  },
  {
   "cell_type": "code",
   "execution_count": 126,
   "metadata": {},
   "outputs": [
    {
     "name": "stdout",
     "output_type": "stream",
     "text": [
      "            Temperature  Windspeed   Event\n",
      "Day                                       \n",
      "2019-03-01         32.0        6.0    Rain\n",
      "2019-03-04          NaN        9.0   Sunny\n",
      "2019-03-05         28.0        NaN    Snow\n",
      "2019-03-06          NaN        7.0     NaN\n",
      "2019-03-07         32.0        NaN    Rain\n",
      "2019-03-08          NaN        NaN   Sunny\n",
      "2019-03-09          NaN        NaN     NaN\n",
      "2019-03-10         34.0        8.0  Cloudy\n",
      "2019-03-11         40.0       12.0   Sunny\n"
     ]
    }
   ],
   "source": [
    "#Solution-13:Drop NaN Rows (if each element of the row having NaN )\n",
    "print(mvhp)"
   ]
  },
  {
   "cell_type": "code",
   "execution_count": 127,
   "metadata": {},
   "outputs": [],
   "source": [
    "naall=mvhp.dropna(how=\"all\")"
   ]
  },
  {
   "cell_type": "code",
   "execution_count": 128,
   "metadata": {},
   "outputs": [
    {
     "name": "stdout",
     "output_type": "stream",
     "text": [
      "            Temperature  Windspeed   Event\n",
      "Day                                       \n",
      "2019-03-01         32.0        6.0    Rain\n",
      "2019-03-04          NaN        9.0   Sunny\n",
      "2019-03-05         28.0        NaN    Snow\n",
      "2019-03-06          NaN        7.0     NaN\n",
      "2019-03-07         32.0        NaN    Rain\n",
      "2019-03-08          NaN        NaN   Sunny\n",
      "2019-03-10         34.0        8.0  Cloudy\n",
      "2019-03-11         40.0       12.0   Sunny\n"
     ]
    }
   ],
   "source": [
    "print(naall)"
   ]
  },
  {
   "cell_type": "code",
   "execution_count": 129,
   "metadata": {},
   "outputs": [
    {
     "name": "stdout",
     "output_type": "stream",
     "text": [
      "            Temperature  Windspeed   Event\n",
      "Day                                       \n",
      "2019-03-01         32.0        6.0    Rain\n",
      "2019-03-04          NaN        9.0   Sunny\n",
      "2019-03-05         28.0        NaN    Snow\n",
      "2019-03-06          NaN        7.0     NaN\n",
      "2019-03-07         32.0        NaN    Rain\n",
      "2019-03-08          NaN        NaN   Sunny\n",
      "2019-03-09          NaN        NaN     NaN\n",
      "2019-03-10         34.0        8.0  Cloudy\n",
      "2019-03-11         40.0       12.0   Sunny\n"
     ]
    }
   ],
   "source": [
    "#Solution-14:Drop NaN Rows (By Appling thresh)\n",
    "print(mvhp)"
   ]
  },
  {
   "cell_type": "code",
   "execution_count": 130,
   "metadata": {},
   "outputs": [],
   "source": [
    "nath=mvhp.dropna(thresh=2)"
   ]
  },
  {
   "cell_type": "code",
   "execution_count": 131,
   "metadata": {},
   "outputs": [
    {
     "name": "stdout",
     "output_type": "stream",
     "text": [
      "            Temperature  Windspeed   Event\n",
      "Day                                       \n",
      "2019-03-01         32.0        6.0    Rain\n",
      "2019-03-04          NaN        9.0   Sunny\n",
      "2019-03-05         28.0        NaN    Snow\n",
      "2019-03-07         32.0        NaN    Rain\n",
      "2019-03-10         34.0        8.0  Cloudy\n",
      "2019-03-11         40.0       12.0   Sunny\n"
     ]
    }
   ],
   "source": [
    "print(nath)"
   ]
  },
  {
   "cell_type": "code",
   "execution_count": 132,
   "metadata": {},
   "outputs": [
    {
     "name": "stdout",
     "output_type": "stream",
     "text": [
      "            Temperature  Windspeed   Event\n",
      "Day                                       \n",
      "2019-03-01         32.0        6.0    Rain\n",
      "2019-03-04          NaN        9.0   Sunny\n",
      "2019-03-05         28.0        NaN    Snow\n",
      "2019-03-06          NaN        7.0     NaN\n",
      "2019-03-07         32.0        NaN    Rain\n",
      "2019-03-08          NaN        NaN   Sunny\n",
      "2019-03-09          NaN        NaN     NaN\n",
      "2019-03-10         34.0        8.0  Cloudy\n",
      "2019-03-11         40.0       12.0   Sunny\n"
     ]
    }
   ],
   "source": [
    "#Solution-15:Fill Missing Date\n",
    "print(mvhp)"
   ]
  },
  {
   "cell_type": "code",
   "execution_count": 133,
   "metadata": {},
   "outputs": [],
   "source": [
    "dt=pd.date_range(\"03-01-2019\",\"03-11-2019\")"
   ]
  },
  {
   "cell_type": "code",
   "execution_count": 134,
   "metadata": {},
   "outputs": [],
   "source": [
    "idx=pd.DatetimeIndex(dt)"
   ]
  },
  {
   "cell_type": "code",
   "execution_count": 135,
   "metadata": {},
   "outputs": [],
   "source": [
    "mvhp=mvhp.reindex(idx)"
   ]
  },
  {
   "cell_type": "code",
   "execution_count": 136,
   "metadata": {},
   "outputs": [
    {
     "name": "stdout",
     "output_type": "stream",
     "text": [
      "            Temperature  Windspeed   Event\n",
      "2019-03-01         32.0        6.0    Rain\n",
      "2019-03-02          NaN        NaN     NaN\n",
      "2019-03-03          NaN        NaN     NaN\n",
      "2019-03-04          NaN        9.0   Sunny\n",
      "2019-03-05         28.0        NaN    Snow\n",
      "2019-03-06          NaN        7.0     NaN\n",
      "2019-03-07         32.0        NaN    Rain\n",
      "2019-03-08          NaN        NaN   Sunny\n",
      "2019-03-09          NaN        NaN     NaN\n",
      "2019-03-10         34.0        8.0  Cloudy\n",
      "2019-03-11         40.0       12.0   Sunny\n"
     ]
    }
   ],
   "source": [
    "print(mvhp)"
   ]
  },
  {
   "cell_type": "code",
   "execution_count": 137,
   "metadata": {},
   "outputs": [],
   "source": [
    "#Convert Illogical Values to NaN\n",
    "Weather2= pd.read_csv(\"Weather2.csv\")"
   ]
  },
  {
   "cell_type": "code",
   "execution_count": 138,
   "metadata": {},
   "outputs": [
    {
     "name": "stdout",
     "output_type": "stream",
     "text": [
      "       Date    Temperature Windspeed  Event\n",
      "0  3/1/2019             30         6   Rain\n",
      "1  3/2/2019             32         7  Sunny\n",
      "2  3/3/2019             34       n.a   Rain\n",
      "3  3/4/2019             36        12  Sunny\n",
      "4  3/5/2019  Not Available        13   Rain\n"
     ]
    }
   ],
   "source": [
    "print(Weather2)"
   ]
  },
  {
   "cell_type": "code",
   "execution_count": 139,
   "metadata": {},
   "outputs": [],
   "source": [
    "#Solution-1\n",
    "W2P= pd.read_csv('Weather2.csv',na_values=['Not Available',\"n.a\"])"
   ]
  },
  {
   "cell_type": "code",
   "execution_count": 140,
   "metadata": {},
   "outputs": [
    {
     "name": "stdout",
     "output_type": "stream",
     "text": [
      "       Date  Temperature  Windspeed  Event\n",
      "0  3/1/2019         30.0        6.0   Rain\n",
      "1  3/2/2019         32.0        7.0  Sunny\n",
      "2  3/3/2019         34.0        NaN   Rain\n",
      "3  3/4/2019         36.0       12.0  Sunny\n",
      "4  3/5/2019          NaN       13.0   Rain\n"
     ]
    }
   ],
   "source": [
    "print(W2P)"
   ]
  },
  {
   "cell_type": "code",
   "execution_count": 141,
   "metadata": {},
   "outputs": [],
   "source": [
    "#Solution-2\n",
    "Stocks= pd.read_csv(\"Stocks.csv\")"
   ]
  },
  {
   "cell_type": "code",
   "execution_count": 142,
   "metadata": {},
   "outputs": [
    {
     "name": "stdout",
     "output_type": "stream",
     "text": [
      "  Tickers            EPS  Revenue Price         People\n",
      "0  Google          27.82       84   845     larry page\n",
      "1     WMT           4.61      484    65           n.a.\n",
      "2    MSFT             -1       85    64     bill gates\n",
      "3     RIL  not available       50  1023  mukesh ambani\n",
      "4    TATA            5.6       -1   n.a     ratan tata\n"
     ]
    }
   ],
   "source": [
    "print(Stocks)"
   ]
  },
  {
   "cell_type": "code",
   "execution_count": 143,
   "metadata": {},
   "outputs": [],
   "source": [
    "Stocks= pd.read_csv(\"Stocks.csv\",na_values=['not available',\"n.a\",\"n.a.\"])"
   ]
  },
  {
   "cell_type": "code",
   "execution_count": 144,
   "metadata": {},
   "outputs": [
    {
     "name": "stdout",
     "output_type": "stream",
     "text": [
      "  Tickers    EPS  Revenue   Price         People\n",
      "0  Google  27.82       84   845.0     larry page\n",
      "1     WMT   4.61      484    65.0            NaN\n",
      "2    MSFT  -1.00       85    64.0     bill gates\n",
      "3     RIL    NaN       50  1023.0  mukesh ambani\n",
      "4    TATA   5.60       -1     NaN     ratan tata\n"
     ]
    }
   ],
   "source": [
    "print(Stocks)"
   ]
  },
  {
   "cell_type": "code",
   "execution_count": 145,
   "metadata": {},
   "outputs": [],
   "source": [
    "#As we know that Revenue never -ve no\n",
    "st1= pd.read_csv('Stocks.csv',na_values={'EPS':[\"not available\",\"n.a\",\"n.a.\"],\n",
    "'Revenue':[\"not available\",\"n.a\",\"n.a.\",-1],\n",
    "'Price':[\"not available\",\"n.a\",\"n.a.\"],\n",
    "'People':[\"not available\",\"n.a\",\"n.a.\"]\n",
    "})"
   ]
  },
  {
   "cell_type": "code",
   "execution_count": 146,
   "metadata": {},
   "outputs": [
    {
     "name": "stdout",
     "output_type": "stream",
     "text": [
      "  Tickers    EPS  Revenue   Price         People\n",
      "0  Google  27.82     84.0   845.0     larry page\n",
      "1     WMT   4.61    484.0    65.0            NaN\n",
      "2    MSFT  -1.00     85.0    64.0     bill gates\n",
      "3     RIL    NaN     50.0  1023.0  mukesh ambani\n",
      "4    TATA   5.60      NaN     NaN     ratan tata\n"
     ]
    }
   ],
   "source": [
    "print(st1)"
   ]
  },
  {
   "cell_type": "code",
   "execution_count": 147,
   "metadata": {},
   "outputs": [],
   "source": [
    "#Solution-3::converters\n",
    "stocke=pd.read_excel(\"Stocks_ex.xlsx\",\"Stocks\")"
   ]
  },
  {
   "cell_type": "code",
   "execution_count": 148,
   "metadata": {},
   "outputs": [
    {
     "name": "stdout",
     "output_type": "stream",
     "text": [
      "  Tickers            EPS  Revenue Price         People\n",
      "0  Google          27.82       84   845     larry page\n",
      "1     WMT           4.61      484    65           n.a.\n",
      "2    MSFT             -1       85    64     bill gates\n",
      "3     RIL  not available       50  1023  mukesh ambani\n",
      "4    TATA            5.6       -1   n.a     ratan tata\n"
     ]
    }
   ],
   "source": [
    "print(stocke)"
   ]
  },
  {
   "cell_type": "code",
   "execution_count": 149,
   "metadata": {},
   "outputs": [],
   "source": [
    "#Example-1\n",
    "def convert_people_cell(cell):\n",
    "    if cell==\"n.a.\":\n",
    "        return 'Sam Walton'\n",
    "    return cell"
   ]
  },
  {
   "cell_type": "code",
   "execution_count": 150,
   "metadata": {},
   "outputs": [],
   "source": [
    "dfe=pd.read_excel(\"Stocks_ex.xlsx\",\"Stocks\",converters={\n",
    "'People':convert_people_cell\n",
    "})"
   ]
  },
  {
   "cell_type": "code",
   "execution_count": 151,
   "metadata": {},
   "outputs": [
    {
     "name": "stdout",
     "output_type": "stream",
     "text": [
      "  Tickers            EPS  Revenue Price         People\n",
      "0  Google          27.82       84   845     larry page\n",
      "1     WMT           4.61      484    65     Sam Walton\n",
      "2    MSFT             -1       85    64     bill gates\n",
      "3     RIL  not available       50  1023  mukesh ambani\n",
      "4    TATA            5.6       -1   n.a     ratan tata\n"
     ]
    }
   ],
   "source": [
    "print(dfe)"
   ]
  },
  {
   "cell_type": "code",
   "execution_count": 152,
   "metadata": {},
   "outputs": [],
   "source": [
    "#Example-2\n",
    "def convert_people_cell(cell):\n",
    "    if cell==\"n.a.\":\n",
    "        return 'Sam Walton'\n",
    "    return cell\n",
    "def convert_revenue_cell(cell):\n",
    "    if cell<0:\n",
    "        return 'NaN'\n",
    "    return cell"
   ]
  },
  {
   "cell_type": "code",
   "execution_count": 153,
   "metadata": {},
   "outputs": [
    {
     "name": "stdout",
     "output_type": "stream",
     "text": [
      "  Tickers            EPS  Revenue Price         People\n",
      "0  Google          27.82       84   845     larry page\n",
      "1     WMT           4.61      484    65           n.a.\n",
      "2    MSFT             -1       85    64     bill gates\n",
      "3     RIL  not available       50  1023  mukesh ambani\n",
      "4    TATA            5.6       -1   n.a     ratan tata\n"
     ]
    }
   ],
   "source": [
    "print(stocke)"
   ]
  },
  {
   "cell_type": "code",
   "execution_count": 154,
   "metadata": {},
   "outputs": [],
   "source": [
    "dfe1=pd.read_excel(\"Stocks_ex.xlsx\",\"Stocks\",converters={\n",
    "'People':convert_people_cell,\n",
    "'Revenue':convert_revenue_cell\n",
    "})"
   ]
  },
  {
   "cell_type": "code",
   "execution_count": 155,
   "metadata": {},
   "outputs": [
    {
     "name": "stdout",
     "output_type": "stream",
     "text": [
      "  Tickers            EPS Revenue Price         People\n",
      "0  Google          27.82      84   845     larry page\n",
      "1     WMT           4.61     484    65     Sam Walton\n",
      "2    MSFT             -1      85    64     bill gates\n",
      "3     RIL  not available      50  1023  mukesh ambani\n",
      "4    TATA            5.6     NaN   n.a     ratan tata\n"
     ]
    }
   ],
   "source": [
    "print(dfe1)"
   ]
  },
  {
   "cell_type": "code",
   "execution_count": 156,
   "metadata": {},
   "outputs": [],
   "source": [
    "#Solution-4::Replace\n",
    "import numpy as np"
   ]
  },
  {
   "cell_type": "code",
   "execution_count": 157,
   "metadata": {},
   "outputs": [],
   "source": [
    "rds= pd.read_csv('Replace_DS.csv')"
   ]
  },
  {
   "cell_type": "code",
   "execution_count": 158,
   "metadata": {},
   "outputs": [
    {
     "name": "stdout",
     "output_type": "stream",
     "text": [
      "        Day  Temperature  Windspeed     Event\n",
      "0  1-Mar-19           32          6      Rain\n",
      "1  2-Mar-19      -999999          7     Sunny\n",
      "2  3-Mar-19           28    -999999      Snow\n",
      "3  4-Mar-19      -999999          7  No Event\n",
      "4  5-Mar-19           32    -999999      Rain\n",
      "5  6-Mar-19           31          2     Sunny\n",
      "6  7-Mar-19           34          5  No Event\n"
     ]
    }
   ],
   "source": [
    "print(rds)"
   ]
  },
  {
   "cell_type": "code",
   "execution_count": 159,
   "metadata": {},
   "outputs": [],
   "source": [
    "dfr=rds.replace(-999999,np.NaN)"
   ]
  },
  {
   "cell_type": "code",
   "execution_count": 160,
   "metadata": {},
   "outputs": [
    {
     "name": "stdout",
     "output_type": "stream",
     "text": [
      "        Day  Temperature  Windspeed     Event\n",
      "0  1-Mar-19         32.0        6.0      Rain\n",
      "1  2-Mar-19          NaN        7.0     Sunny\n",
      "2  3-Mar-19         28.0        NaN      Snow\n",
      "3  4-Mar-19          NaN        7.0  No Event\n",
      "4  5-Mar-19         32.0        NaN      Rain\n",
      "5  6-Mar-19         31.0        2.0     Sunny\n",
      "6  7-Mar-19         34.0        5.0  No Event\n"
     ]
    }
   ],
   "source": [
    "print(dfr)"
   ]
  },
  {
   "cell_type": "code",
   "execution_count": 161,
   "metadata": {},
   "outputs": [
    {
     "name": "stdout",
     "output_type": "stream",
     "text": [
      "        Day  Temperature  Windspeed     Event\n",
      "0  1-Mar-19           32          6      Rain\n",
      "1  2-Mar-19      -999999          7     Sunny\n",
      "2  3-Mar-19           28    -999999      Snow\n",
      "3  4-Mar-19      -999999          7  No Event\n",
      "4  5-Mar-19           32    -999999      Rain\n",
      "5  6-Mar-19           31          2     Sunny\n",
      "6  7-Mar-19           34          5  No Event\n"
     ]
    }
   ],
   "source": [
    "#Solution-5::Replace\n",
    "print(rds)"
   ]
  },
  {
   "cell_type": "code",
   "execution_count": 162,
   "metadata": {},
   "outputs": [],
   "source": [
    "rds1=rds.replace({\n",
    "        -999999:np.NaN,\n",
    "        'No Event':np.NaN})"
   ]
  },
  {
   "cell_type": "code",
   "execution_count": 163,
   "metadata": {},
   "outputs": [
    {
     "name": "stdout",
     "output_type": "stream",
     "text": [
      "        Day  Temperature  Windspeed  Event\n",
      "0  1-Mar-19         32.0        6.0   Rain\n",
      "1  2-Mar-19          NaN        7.0  Sunny\n",
      "2  3-Mar-19         28.0        NaN   Snow\n",
      "3  4-Mar-19          NaN        7.0    NaN\n",
      "4  5-Mar-19         32.0        NaN   Rain\n",
      "5  6-Mar-19         31.0        2.0  Sunny\n",
      "6  7-Mar-19         34.0        5.0    NaN\n"
     ]
    }
   ],
   "source": [
    "print(rds1)"
   ]
  },
  {
   "cell_type": "code",
   "execution_count": 164,
   "metadata": {},
   "outputs": [],
   "source": [
    "#Solution-6::Replace\n",
    "rds2= pd.read_csv('Replace_DS1.csv')"
   ]
  },
  {
   "cell_type": "code",
   "execution_count": 165,
   "metadata": {},
   "outputs": [
    {
     "name": "stdout",
     "output_type": "stream",
     "text": [
      "        Day  Temperature  Windspeed     Event\n",
      "0  1-Mar-19           32          6      Rain\n",
      "1  2-Mar-19      -999999          7     Sunny\n",
      "2  3-Mar-19           28    -999999      Snow\n",
      "3  4-Mar-19      -999999          7  No Event\n",
      "4  5-Mar-19           32    -888888      Rain\n",
      "5  6-Mar-19           31          2     Sunny\n",
      "6  7-Mar-19           34          5  No Event\n"
     ]
    }
   ],
   "source": [
    "print(rds2)"
   ]
  },
  {
   "cell_type": "code",
   "execution_count": 166,
   "metadata": {},
   "outputs": [],
   "source": [
    "dfr=rds2.replace([-999999,-888888],np.NaN)"
   ]
  },
  {
   "cell_type": "code",
   "execution_count": 167,
   "metadata": {},
   "outputs": [
    {
     "name": "stdout",
     "output_type": "stream",
     "text": [
      "        Day  Temperature  Windspeed     Event\n",
      "0  1-Mar-19         32.0        6.0      Rain\n",
      "1  2-Mar-19          NaN        7.0     Sunny\n",
      "2  3-Mar-19         28.0        NaN      Snow\n",
      "3  4-Mar-19          NaN        7.0  No Event\n",
      "4  5-Mar-19         32.0        NaN      Rain\n",
      "5  6-Mar-19         31.0        2.0     Sunny\n",
      "6  7-Mar-19         34.0        5.0  No Event\n"
     ]
    }
   ],
   "source": [
    "print(dfr)"
   ]
  },
  {
   "cell_type": "code",
   "execution_count": 168,
   "metadata": {},
   "outputs": [],
   "source": [
    "#Solution-7::Replace\n",
    "rds3= pd.read_csv('Replace_DS2.csv')"
   ]
  },
  {
   "cell_type": "code",
   "execution_count": 169,
   "metadata": {},
   "outputs": [
    {
     "name": "stdout",
     "output_type": "stream",
     "text": [
      "        Day  Temperature  Windspeed  Event\n",
      "0  1-Mar-19           32          6   Rain\n",
      "1  2-Mar-19      -999999          7  Sunny\n",
      "2  3-Mar-19           28    -888888   Snow\n",
      "3  4-Mar-19      -999999          7      0\n",
      "4  5-Mar-19           32    -888888   Rain\n",
      "5  6-Mar-19           31          2  Sunny\n",
      "6  7-Mar-19           34          5      0\n"
     ]
    }
   ],
   "source": [
    "print(rds3)"
   ]
  },
  {
   "cell_type": "code",
   "execution_count": 170,
   "metadata": {},
   "outputs": [],
   "source": [
    "dfr6=rds3.replace({\n",
    "        'Temperature':-999999,\n",
    "        'Windspeed':-888888,\n",
    "        'Event':'0'},np.NaN)"
   ]
  },
  {
   "cell_type": "code",
   "execution_count": 171,
   "metadata": {},
   "outputs": [
    {
     "name": "stdout",
     "output_type": "stream",
     "text": [
      "        Day  Temperature  Windspeed  Event\n",
      "0  1-Mar-19         32.0        6.0   Rain\n",
      "1  2-Mar-19          NaN        7.0  Sunny\n",
      "2  3-Mar-19         28.0        NaN   Snow\n",
      "3  4-Mar-19          NaN        7.0    NaN\n",
      "4  5-Mar-19         32.0        NaN   Rain\n",
      "5  6-Mar-19         31.0        2.0  Sunny\n",
      "6  7-Mar-19         34.0        5.0    NaN\n"
     ]
    }
   ],
   "source": [
    "print(dfr6)"
   ]
  },
  {
   "cell_type": "code",
   "execution_count": 172,
   "metadata": {},
   "outputs": [],
   "source": [
    "#Solution-8::Replace And Regex\n",
    "dfrr= pd.read_csv('Replace_DS3.csv')"
   ]
  },
  {
   "cell_type": "code",
   "execution_count": 173,
   "metadata": {},
   "outputs": [
    {
     "name": "stdout",
     "output_type": "stream",
     "text": [
      "        Day Temperature Windspeed     Event\n",
      "0  1-Mar-19         32F      6MPH      Rain\n",
      "1  2-Mar-19     -999999         7     Sunny\n",
      "2  3-Mar-19         28C   -999999      Snow\n",
      "3  4-Mar-19     -999999         7  No Event\n",
      "4  5-Mar-19          32   -999999      Rain\n",
      "5  6-Mar-19          31         2     Sunny\n",
      "6  7-Mar-19          34      5MPH  No Event\n"
     ]
    }
   ],
   "source": [
    "print(dfrr)"
   ]
  },
  {
   "cell_type": "code",
   "execution_count": 174,
   "metadata": {},
   "outputs": [],
   "source": [
    "dfrrm=dfrr.replace('[A-Za-z]','',regex=True)"
   ]
  },
  {
   "cell_type": "code",
   "execution_count": 175,
   "metadata": {},
   "outputs": [
    {
     "name": "stdout",
     "output_type": "stream",
     "text": [
      "     Day Temperature Windspeed Event\n",
      "0  1--19          32         6      \n",
      "1  2--19     -999999         7      \n",
      "2  3--19          28   -999999      \n",
      "3  4--19     -999999         7      \n",
      "4  5--19          32   -999999      \n",
      "5  6--19          31         2      \n",
      "6  7--19          34         5      \n"
     ]
    }
   ],
   "source": [
    "print(dfrrm)"
   ]
  },
  {
   "cell_type": "code",
   "execution_count": 176,
   "metadata": {},
   "outputs": [],
   "source": [
    "# Above statment works for Temperature and Windspeed, but not required on Day and Event"
   ]
  },
  {
   "cell_type": "code",
   "execution_count": 177,
   "metadata": {},
   "outputs": [],
   "source": [
    "cs=dfrr.replace({\n",
    "        'Temperature':'[A-Za-z]',\n",
    "        'Windspeed':'[A-Za-z]'},'',regex=True)"
   ]
  },
  {
   "cell_type": "code",
   "execution_count": 178,
   "metadata": {},
   "outputs": [
    {
     "name": "stdout",
     "output_type": "stream",
     "text": [
      "        Day Temperature Windspeed     Event\n",
      "0  1-Mar-19          32         6      Rain\n",
      "1  2-Mar-19     -999999         7     Sunny\n",
      "2  3-Mar-19          28   -999999      Snow\n",
      "3  4-Mar-19     -999999         7  No Event\n",
      "4  5-Mar-19          32   -999999      Rain\n",
      "5  6-Mar-19          31         2     Sunny\n",
      "6  7-Mar-19          34         5  No Event\n"
     ]
    }
   ],
   "source": [
    "print(cs)"
   ]
  },
  {
   "cell_type": "code",
   "execution_count": 179,
   "metadata": {},
   "outputs": [],
   "source": [
    "#Categorical Data"
   ]
  },
  {
   "cell_type": "code",
   "execution_count": 180,
   "metadata": {},
   "outputs": [
    {
     "name": "stdout",
     "output_type": "stream",
     "text": [
      "         Score  Student\n",
      "0  Exceptional    Irfan\n",
      "1       V Good      Ali\n",
      "2         Good    Ahmed\n",
      "3         Poor    Bilal\n",
      "4       V Good     Atif\n",
      "5  Exceptional  Mansoor\n"
     ]
    }
   ],
   "source": [
    "import pandas as pd\n",
    "listc= pd.read_csv('List.csv')\n",
    "print(listc)"
   ]
  },
  {
   "cell_type": "code",
   "execution_count": 181,
   "metadata": {},
   "outputs": [
    {
     "data": {
      "text/html": [
       "<div>\n",
       "<style scoped>\n",
       "    .dataframe tbody tr th:only-of-type {\n",
       "        vertical-align: middle;\n",
       "    }\n",
       "\n",
       "    .dataframe tbody tr th {\n",
       "        vertical-align: top;\n",
       "    }\n",
       "\n",
       "    .dataframe thead th {\n",
       "        text-align: right;\n",
       "    }\n",
       "</style>\n",
       "<table border=\"1\" class=\"dataframe\">\n",
       "  <thead>\n",
       "    <tr style=\"text-align: right;\">\n",
       "      <th></th>\n",
       "      <th>Score</th>\n",
       "      <th>Student</th>\n",
       "    </tr>\n",
       "  </thead>\n",
       "  <tbody>\n",
       "    <tr>\n",
       "      <th>0</th>\n",
       "      <td>Exceptional</td>\n",
       "      <td>Irfan</td>\n",
       "    </tr>\n",
       "    <tr>\n",
       "      <th>5</th>\n",
       "      <td>Exceptional</td>\n",
       "      <td>Mansoor</td>\n",
       "    </tr>\n",
       "    <tr>\n",
       "      <th>2</th>\n",
       "      <td>Good</td>\n",
       "      <td>Ahmed</td>\n",
       "    </tr>\n",
       "    <tr>\n",
       "      <th>3</th>\n",
       "      <td>Poor</td>\n",
       "      <td>Bilal</td>\n",
       "    </tr>\n",
       "    <tr>\n",
       "      <th>1</th>\n",
       "      <td>V Good</td>\n",
       "      <td>Ali</td>\n",
       "    </tr>\n",
       "    <tr>\n",
       "      <th>4</th>\n",
       "      <td>V Good</td>\n",
       "      <td>Atif</td>\n",
       "    </tr>\n",
       "  </tbody>\n",
       "</table>\n",
       "</div>"
      ],
      "text/plain": [
       "         Score  Student\n",
       "0  Exceptional    Irfan\n",
       "5  Exceptional  Mansoor\n",
       "2         Good    Ahmed\n",
       "3         Poor    Bilal\n",
       "1       V Good      Ali\n",
       "4       V Good     Atif"
      ]
     },
     "execution_count": 181,
     "metadata": {},
     "output_type": "execute_result"
    }
   ],
   "source": [
    "listc.sort_values(\"Score\")"
   ]
  },
  {
   "cell_type": "code",
   "execution_count": 182,
   "metadata": {},
   "outputs": [
    {
     "data": {
      "text/plain": [
       "array(['Exceptional', 'V Good', 'Good', 'Poor'], dtype=object)"
      ]
     },
     "execution_count": 182,
     "metadata": {},
     "output_type": "execute_result"
    }
   ],
   "source": [
    "listc.Score.unique()"
   ]
  },
  {
   "cell_type": "code",
   "execution_count": 183,
   "metadata": {},
   "outputs": [
    {
     "name": "stderr",
     "output_type": "stream",
     "text": [
      "C:\\Users\\iwx499921\\AppData\\Local\\Continuum\\anaconda3\\lib\\site-packages\\ipykernel_launcher.py:2: FutureWarning: specifying 'categories' or 'ordered' in .astype() is deprecated; pass a CategoricalDtype instead\n",
      "  \n"
     ]
    }
   ],
   "source": [
    "listc['Score']=listc.Score.astype(\"category\",ordered=True,\n",
    "          categories=['Poor','Good','V Good','Exceptional'])"
   ]
  },
  {
   "cell_type": "code",
   "execution_count": 184,
   "metadata": {},
   "outputs": [
    {
     "data": {
      "text/html": [
       "<div>\n",
       "<style scoped>\n",
       "    .dataframe tbody tr th:only-of-type {\n",
       "        vertical-align: middle;\n",
       "    }\n",
       "\n",
       "    .dataframe tbody tr th {\n",
       "        vertical-align: top;\n",
       "    }\n",
       "\n",
       "    .dataframe thead th {\n",
       "        text-align: right;\n",
       "    }\n",
       "</style>\n",
       "<table border=\"1\" class=\"dataframe\">\n",
       "  <thead>\n",
       "    <tr style=\"text-align: right;\">\n",
       "      <th></th>\n",
       "      <th>Score</th>\n",
       "      <th>Student</th>\n",
       "    </tr>\n",
       "  </thead>\n",
       "  <tbody>\n",
       "    <tr>\n",
       "      <th>3</th>\n",
       "      <td>Poor</td>\n",
       "      <td>Bilal</td>\n",
       "    </tr>\n",
       "    <tr>\n",
       "      <th>2</th>\n",
       "      <td>Good</td>\n",
       "      <td>Ahmed</td>\n",
       "    </tr>\n",
       "    <tr>\n",
       "      <th>1</th>\n",
       "      <td>V Good</td>\n",
       "      <td>Ali</td>\n",
       "    </tr>\n",
       "    <tr>\n",
       "      <th>4</th>\n",
       "      <td>V Good</td>\n",
       "      <td>Atif</td>\n",
       "    </tr>\n",
       "    <tr>\n",
       "      <th>0</th>\n",
       "      <td>Exceptional</td>\n",
       "      <td>Irfan</td>\n",
       "    </tr>\n",
       "    <tr>\n",
       "      <th>5</th>\n",
       "      <td>Exceptional</td>\n",
       "      <td>Mansoor</td>\n",
       "    </tr>\n",
       "  </tbody>\n",
       "</table>\n",
       "</div>"
      ],
      "text/plain": [
       "         Score  Student\n",
       "3         Poor    Bilal\n",
       "2         Good    Ahmed\n",
       "1       V Good      Ali\n",
       "4       V Good     Atif\n",
       "0  Exceptional    Irfan\n",
       "5  Exceptional  Mansoor"
      ]
     },
     "execution_count": 184,
     "metadata": {},
     "output_type": "execute_result"
    }
   ],
   "source": [
    "listc.sort_values(\"Score\")"
   ]
  },
  {
   "cell_type": "code",
   "execution_count": 185,
   "metadata": {},
   "outputs": [
    {
     "data": {
      "text/html": [
       "<div>\n",
       "<style scoped>\n",
       "    .dataframe tbody tr th:only-of-type {\n",
       "        vertical-align: middle;\n",
       "    }\n",
       "\n",
       "    .dataframe tbody tr th {\n",
       "        vertical-align: top;\n",
       "    }\n",
       "\n",
       "    .dataframe thead th {\n",
       "        text-align: right;\n",
       "    }\n",
       "</style>\n",
       "<table border=\"1\" class=\"dataframe\">\n",
       "  <thead>\n",
       "    <tr style=\"text-align: right;\">\n",
       "      <th></th>\n",
       "      <th>Score</th>\n",
       "      <th>Student</th>\n",
       "    </tr>\n",
       "  </thead>\n",
       "  <tbody>\n",
       "    <tr>\n",
       "      <th>0</th>\n",
       "      <td>Exceptional</td>\n",
       "      <td>Irfan</td>\n",
       "    </tr>\n",
       "    <tr>\n",
       "      <th>1</th>\n",
       "      <td>V Good</td>\n",
       "      <td>Ali</td>\n",
       "    </tr>\n",
       "    <tr>\n",
       "      <th>2</th>\n",
       "      <td>Good</td>\n",
       "      <td>Ahmed</td>\n",
       "    </tr>\n",
       "    <tr>\n",
       "      <th>4</th>\n",
       "      <td>V Good</td>\n",
       "      <td>Atif</td>\n",
       "    </tr>\n",
       "    <tr>\n",
       "      <th>5</th>\n",
       "      <td>Exceptional</td>\n",
       "      <td>Mansoor</td>\n",
       "    </tr>\n",
       "  </tbody>\n",
       "</table>\n",
       "</div>"
      ],
      "text/plain": [
       "         Score  Student\n",
       "0  Exceptional    Irfan\n",
       "1       V Good      Ali\n",
       "2         Good    Ahmed\n",
       "4       V Good     Atif\n",
       "5  Exceptional  Mansoor"
      ]
     },
     "execution_count": 185,
     "metadata": {},
     "output_type": "execute_result"
    }
   ],
   "source": [
    "listc.loc[listc.Score >= 'Good']"
   ]
  },
  {
   "cell_type": "code",
   "execution_count": 186,
   "metadata": {},
   "outputs": [],
   "source": [
    "#Nominal Categories"
   ]
  },
  {
   "cell_type": "code",
   "execution_count": 187,
   "metadata": {},
   "outputs": [],
   "source": [
    "gender= pd.read_csv('Gender.csv')"
   ]
  },
  {
   "cell_type": "code",
   "execution_count": 188,
   "metadata": {},
   "outputs": [
    {
     "name": "stdout",
     "output_type": "stream",
     "text": [
      "            Name  Gender\n",
      "0   Irfan Kareem    Male\n",
      "1  Rizwan Kareem    Male\n",
      "2   Ayyan Kareem    Male\n",
      "3  Nouman Kareem    Male\n",
      "4   Saira Kareem  Female\n"
     ]
    }
   ],
   "source": [
    "print(gender)"
   ]
  },
  {
   "cell_type": "code",
   "execution_count": 189,
   "metadata": {},
   "outputs": [
    {
     "data": {
      "text/plain": [
       "0    1\n",
       "1    1\n",
       "2    1\n",
       "3    1\n",
       "4    0\n",
       "dtype: int8"
      ]
     },
     "execution_count": 189,
     "metadata": {},
     "output_type": "execute_result"
    }
   ],
   "source": [
    "gender.Gender.astype(\"category\").cat.codes"
   ]
  },
  {
   "cell_type": "code",
   "execution_count": 190,
   "metadata": {},
   "outputs": [],
   "source": [
    "#get_dummies\n",
    "#If we wanted to separate the distinct variables out into booleans as we would like for data science\n",
    "#models such as for example, linear regression, we can use pd.get_dummies."
   ]
  },
  {
   "cell_type": "code",
   "execution_count": 191,
   "metadata": {},
   "outputs": [],
   "source": [
    "listc= pd.read_csv('List.csv')"
   ]
  },
  {
   "cell_type": "code",
   "execution_count": 192,
   "metadata": {},
   "outputs": [
    {
     "name": "stdout",
     "output_type": "stream",
     "text": [
      "         Score  Student\n",
      "0  Exceptional    Irfan\n",
      "1       V Good      Ali\n",
      "2         Good    Ahmed\n",
      "3         Poor    Bilal\n",
      "4       V Good     Atif\n",
      "5  Exceptional  Mansoor\n"
     ]
    }
   ],
   "source": [
    "print(listc)"
   ]
  },
  {
   "cell_type": "code",
   "execution_count": 193,
   "metadata": {},
   "outputs": [
    {
     "data": {
      "text/html": [
       "<div>\n",
       "<style scoped>\n",
       "    .dataframe tbody tr th:only-of-type {\n",
       "        vertical-align: middle;\n",
       "    }\n",
       "\n",
       "    .dataframe tbody tr th {\n",
       "        vertical-align: top;\n",
       "    }\n",
       "\n",
       "    .dataframe thead th {\n",
       "        text-align: right;\n",
       "    }\n",
       "</style>\n",
       "<table border=\"1\" class=\"dataframe\">\n",
       "  <thead>\n",
       "    <tr style=\"text-align: right;\">\n",
       "      <th></th>\n",
       "      <th>Student</th>\n",
       "      <th>Score_Exceptional</th>\n",
       "      <th>Score_Good</th>\n",
       "      <th>Score_Poor</th>\n",
       "      <th>Score_V Good</th>\n",
       "    </tr>\n",
       "  </thead>\n",
       "  <tbody>\n",
       "    <tr>\n",
       "      <th>0</th>\n",
       "      <td>Irfan</td>\n",
       "      <td>1</td>\n",
       "      <td>0</td>\n",
       "      <td>0</td>\n",
       "      <td>0</td>\n",
       "    </tr>\n",
       "    <tr>\n",
       "      <th>1</th>\n",
       "      <td>Ali</td>\n",
       "      <td>0</td>\n",
       "      <td>0</td>\n",
       "      <td>0</td>\n",
       "      <td>1</td>\n",
       "    </tr>\n",
       "    <tr>\n",
       "      <th>2</th>\n",
       "      <td>Ahmed</td>\n",
       "      <td>0</td>\n",
       "      <td>1</td>\n",
       "      <td>0</td>\n",
       "      <td>0</td>\n",
       "    </tr>\n",
       "    <tr>\n",
       "      <th>3</th>\n",
       "      <td>Bilal</td>\n",
       "      <td>0</td>\n",
       "      <td>0</td>\n",
       "      <td>1</td>\n",
       "      <td>0</td>\n",
       "    </tr>\n",
       "    <tr>\n",
       "      <th>4</th>\n",
       "      <td>Atif</td>\n",
       "      <td>0</td>\n",
       "      <td>0</td>\n",
       "      <td>0</td>\n",
       "      <td>1</td>\n",
       "    </tr>\n",
       "    <tr>\n",
       "      <th>5</th>\n",
       "      <td>Mansoor</td>\n",
       "      <td>1</td>\n",
       "      <td>0</td>\n",
       "      <td>0</td>\n",
       "      <td>0</td>\n",
       "    </tr>\n",
       "  </tbody>\n",
       "</table>\n",
       "</div>"
      ],
      "text/plain": [
       "   Student  Score_Exceptional  Score_Good  Score_Poor  Score_V Good\n",
       "0    Irfan                  1           0           0             0\n",
       "1      Ali                  0           0           0             1\n",
       "2    Ahmed                  0           1           0             0\n",
       "3    Bilal                  0           0           1             0\n",
       "4     Atif                  0           0           0             1\n",
       "5  Mansoor                  1           0           0             0"
      ]
     },
     "execution_count": 193,
     "metadata": {},
     "output_type": "execute_result"
    }
   ],
   "source": [
    "pd.get_dummies(listc, columns=['Score'])"
   ]
  },
  {
   "cell_type": "code",
   "execution_count": 194,
   "metadata": {},
   "outputs": [],
   "source": [
    "#CONCATENATE (w.r.t Rows)"
   ]
  },
  {
   "cell_type": "code",
   "execution_count": 195,
   "metadata": {},
   "outputs": [],
   "source": [
    "KPK= pd.read_csv('KPK_Weather.csv')\n",
    "Punjab= pd.read_csv('Punjab_Weather.csv')"
   ]
  },
  {
   "cell_type": "code",
   "execution_count": 196,
   "metadata": {},
   "outputs": [
    {
     "name": "stdout",
     "output_type": "stream",
     "text": [
      "         City       Day  Event  Temperature  Windspeed\n",
      "0    Peshawar  3/1/2019   Rain           38         16\n",
      "1  Abbottabad  3/4/2019  Sunny           46         20\n",
      "2       Kohat  3/3/2019  Sunny           42         19\n",
      "3         Dir  3/2/2019   Rain           40         17\n"
     ]
    }
   ],
   "source": [
    "print(KPK)"
   ]
  },
  {
   "cell_type": "code",
   "execution_count": 197,
   "metadata": {},
   "outputs": [
    {
     "name": "stdout",
     "output_type": "stream",
     "text": [
      "         City       Day  Event  Temperature  Windspeed\n",
      "0      Lahore  3/1/2019   Rain           30          6\n",
      "1      Multan  3/2/2019  Sunny           32          7\n",
      "2  Faisalabad  3/3/2019   Rain           34         10\n",
      "3      Jhelum  3/4/2019  Sunny           36         12\n"
     ]
    }
   ],
   "source": [
    "print(Punjab)"
   ]
  },
  {
   "cell_type": "code",
   "execution_count": 198,
   "metadata": {},
   "outputs": [],
   "source": [
    "Weather=pd.concat([Punjab,KPK])"
   ]
  },
  {
   "cell_type": "code",
   "execution_count": 199,
   "metadata": {},
   "outputs": [
    {
     "name": "stdout",
     "output_type": "stream",
     "text": [
      "         City       Day  Event  Temperature  Windspeed\n",
      "0      Lahore  3/1/2019   Rain           30          6\n",
      "1      Multan  3/2/2019  Sunny           32          7\n",
      "2  Faisalabad  3/3/2019   Rain           34         10\n",
      "3      Jhelum  3/4/2019  Sunny           36         12\n",
      "0    Peshawar  3/1/2019   Rain           38         16\n",
      "1  Abbottabad  3/4/2019  Sunny           46         20\n",
      "2       Kohat  3/3/2019  Sunny           42         19\n",
      "3         Dir  3/2/2019   Rain           40         17\n"
     ]
    }
   ],
   "source": [
    "print(Weather)"
   ]
  },
  {
   "cell_type": "code",
   "execution_count": 200,
   "metadata": {},
   "outputs": [],
   "source": [
    "#CONCATENATE (w.r.t Rows)::Solution for Index"
   ]
  },
  {
   "cell_type": "code",
   "execution_count": 201,
   "metadata": {},
   "outputs": [
    {
     "name": "stdout",
     "output_type": "stream",
     "text": [
      "         City       Day  Event  Temperature  Windspeed\n",
      "0      Lahore  3/1/2019   Rain           30          6\n",
      "1      Multan  3/2/2019  Sunny           32          7\n",
      "2  Faisalabad  3/3/2019   Rain           34         10\n",
      "3      Jhelum  3/4/2019  Sunny           36         12\n",
      "4    Peshawar  3/1/2019   Rain           38         16\n",
      "5  Abbottabad  3/4/2019  Sunny           46         20\n",
      "6       Kohat  3/3/2019  Sunny           42         19\n",
      "7         Dir  3/2/2019   Rain           40         17\n"
     ]
    }
   ],
   "source": [
    "WeatherI=pd.concat([Punjab,KPK],ignore_index=True)\n",
    "print(WeatherI)"
   ]
  },
  {
   "cell_type": "code",
   "execution_count": 202,
   "metadata": {},
   "outputs": [],
   "source": [
    "#CONCATENATE (w.r.t Rows)::Sub Set\n",
    "WeatherS=pd.concat([Punjab,KPK],keys=['Punjab','KPK'])"
   ]
  },
  {
   "cell_type": "code",
   "execution_count": 203,
   "metadata": {},
   "outputs": [
    {
     "name": "stdout",
     "output_type": "stream",
     "text": [
      "                City       Day  Event  Temperature  Windspeed\n",
      "Punjab 0      Lahore  3/1/2019   Rain           30          6\n",
      "       1      Multan  3/2/2019  Sunny           32          7\n",
      "       2  Faisalabad  3/3/2019   Rain           34         10\n",
      "       3      Jhelum  3/4/2019  Sunny           36         12\n",
      "KPK    0    Peshawar  3/1/2019   Rain           38         16\n",
      "       1  Abbottabad  3/4/2019  Sunny           46         20\n",
      "       2       Kohat  3/3/2019  Sunny           42         19\n",
      "       3         Dir  3/2/2019   Rain           40         17\n"
     ]
    }
   ],
   "source": [
    "print(WeatherS)"
   ]
  },
  {
   "cell_type": "code",
   "execution_count": 204,
   "metadata": {},
   "outputs": [
    {
     "data": {
      "text/html": [
       "<div>\n",
       "<style scoped>\n",
       "    .dataframe tbody tr th:only-of-type {\n",
       "        vertical-align: middle;\n",
       "    }\n",
       "\n",
       "    .dataframe tbody tr th {\n",
       "        vertical-align: top;\n",
       "    }\n",
       "\n",
       "    .dataframe thead th {\n",
       "        text-align: right;\n",
       "    }\n",
       "</style>\n",
       "<table border=\"1\" class=\"dataframe\">\n",
       "  <thead>\n",
       "    <tr style=\"text-align: right;\">\n",
       "      <th></th>\n",
       "      <th>City</th>\n",
       "      <th>Day</th>\n",
       "      <th>Event</th>\n",
       "      <th>Temperature</th>\n",
       "      <th>Windspeed</th>\n",
       "    </tr>\n",
       "  </thead>\n",
       "  <tbody>\n",
       "    <tr>\n",
       "      <th>0</th>\n",
       "      <td>Lahore</td>\n",
       "      <td>3/1/2019</td>\n",
       "      <td>Rain</td>\n",
       "      <td>30</td>\n",
       "      <td>6</td>\n",
       "    </tr>\n",
       "    <tr>\n",
       "      <th>1</th>\n",
       "      <td>Multan</td>\n",
       "      <td>3/2/2019</td>\n",
       "      <td>Sunny</td>\n",
       "      <td>32</td>\n",
       "      <td>7</td>\n",
       "    </tr>\n",
       "    <tr>\n",
       "      <th>2</th>\n",
       "      <td>Faisalabad</td>\n",
       "      <td>3/3/2019</td>\n",
       "      <td>Rain</td>\n",
       "      <td>34</td>\n",
       "      <td>10</td>\n",
       "    </tr>\n",
       "    <tr>\n",
       "      <th>3</th>\n",
       "      <td>Jhelum</td>\n",
       "      <td>3/4/2019</td>\n",
       "      <td>Sunny</td>\n",
       "      <td>36</td>\n",
       "      <td>12</td>\n",
       "    </tr>\n",
       "  </tbody>\n",
       "</table>\n",
       "</div>"
      ],
      "text/plain": [
       "         City       Day  Event  Temperature  Windspeed\n",
       "0      Lahore  3/1/2019   Rain           30          6\n",
       "1      Multan  3/2/2019  Sunny           32          7\n",
       "2  Faisalabad  3/3/2019   Rain           34         10\n",
       "3      Jhelum  3/4/2019  Sunny           36         12"
      ]
     },
     "execution_count": 204,
     "metadata": {},
     "output_type": "execute_result"
    }
   ],
   "source": [
    "WeatherS.loc['Punjab']"
   ]
  },
  {
   "cell_type": "code",
   "execution_count": 205,
   "metadata": {},
   "outputs": [
    {
     "data": {
      "text/html": [
       "<div>\n",
       "<style scoped>\n",
       "    .dataframe tbody tr th:only-of-type {\n",
       "        vertical-align: middle;\n",
       "    }\n",
       "\n",
       "    .dataframe tbody tr th {\n",
       "        vertical-align: top;\n",
       "    }\n",
       "\n",
       "    .dataframe thead th {\n",
       "        text-align: right;\n",
       "    }\n",
       "</style>\n",
       "<table border=\"1\" class=\"dataframe\">\n",
       "  <thead>\n",
       "    <tr style=\"text-align: right;\">\n",
       "      <th></th>\n",
       "      <th>City</th>\n",
       "      <th>Day</th>\n",
       "      <th>Event</th>\n",
       "      <th>Temperature</th>\n",
       "      <th>Windspeed</th>\n",
       "    </tr>\n",
       "  </thead>\n",
       "  <tbody>\n",
       "    <tr>\n",
       "      <th>0</th>\n",
       "      <td>Peshawar</td>\n",
       "      <td>3/1/2019</td>\n",
       "      <td>Rain</td>\n",
       "      <td>38</td>\n",
       "      <td>16</td>\n",
       "    </tr>\n",
       "    <tr>\n",
       "      <th>1</th>\n",
       "      <td>Abbottabad</td>\n",
       "      <td>3/4/2019</td>\n",
       "      <td>Sunny</td>\n",
       "      <td>46</td>\n",
       "      <td>20</td>\n",
       "    </tr>\n",
       "    <tr>\n",
       "      <th>2</th>\n",
       "      <td>Kohat</td>\n",
       "      <td>3/3/2019</td>\n",
       "      <td>Sunny</td>\n",
       "      <td>42</td>\n",
       "      <td>19</td>\n",
       "    </tr>\n",
       "    <tr>\n",
       "      <th>3</th>\n",
       "      <td>Dir</td>\n",
       "      <td>3/2/2019</td>\n",
       "      <td>Rain</td>\n",
       "      <td>40</td>\n",
       "      <td>17</td>\n",
       "    </tr>\n",
       "  </tbody>\n",
       "</table>\n",
       "</div>"
      ],
      "text/plain": [
       "         City       Day  Event  Temperature  Windspeed\n",
       "0    Peshawar  3/1/2019   Rain           38         16\n",
       "1  Abbottabad  3/4/2019  Sunny           46         20\n",
       "2       Kohat  3/3/2019  Sunny           42         19\n",
       "3         Dir  3/2/2019   Rain           40         17"
      ]
     },
     "execution_count": 205,
     "metadata": {},
     "output_type": "execute_result"
    }
   ],
   "source": [
    "WeatherS.loc['KPK']"
   ]
  },
  {
   "cell_type": "code",
   "execution_count": 206,
   "metadata": {},
   "outputs": [],
   "source": [
    "#CONCATENATE (w.r.t Col)::Example-1"
   ]
  },
  {
   "cell_type": "code",
   "execution_count": 207,
   "metadata": {},
   "outputs": [],
   "source": [
    "WTem= pd.read_csv('WTemData.csv')\n",
    "WWS= pd.read_csv('WWSData.csv')"
   ]
  },
  {
   "cell_type": "code",
   "execution_count": 208,
   "metadata": {},
   "outputs": [
    {
     "name": "stdout",
     "output_type": "stream",
     "text": [
      "         City  Temperature\n",
      "0      Lahore           30\n",
      "1      Multan           32\n",
      "2  Faisalabad           34\n",
      "3      Jhelum           36\n"
     ]
    }
   ],
   "source": [
    "print(WTem)"
   ]
  },
  {
   "cell_type": "code",
   "execution_count": 209,
   "metadata": {},
   "outputs": [
    {
     "name": "stdout",
     "output_type": "stream",
     "text": [
      "         City  WindSpeed\n",
      "0      Lahore          7\n",
      "1      Multan          8\n",
      "2  Faisalabad          9\n",
      "3      Jhelum         10\n"
     ]
    }
   ],
   "source": [
    "print(WWS)"
   ]
  },
  {
   "cell_type": "code",
   "execution_count": 210,
   "metadata": {},
   "outputs": [
    {
     "name": "stderr",
     "output_type": "stream",
     "text": [
      "C:\\Users\\iwx499921\\AppData\\Local\\Continuum\\anaconda3\\lib\\site-packages\\ipykernel_launcher.py:1: FutureWarning: Sorting because non-concatenation axis is not aligned. A future version\n",
      "of pandas will change to not sort by default.\n",
      "\n",
      "To accept the future behavior, pass 'sort=True'.\n",
      "\n",
      "To retain the current behavior and silence the warning, pass sort=False\n",
      "\n",
      "  \"\"\"Entry point for launching an IPython kernel.\n"
     ]
    }
   ],
   "source": [
    "WDF=pd.concat([WTem,WWS])"
   ]
  },
  {
   "cell_type": "code",
   "execution_count": 211,
   "metadata": {},
   "outputs": [
    {
     "name": "stdout",
     "output_type": "stream",
     "text": [
      "         City  Temperature  WindSpeed\n",
      "0      Lahore         30.0        NaN\n",
      "1      Multan         32.0        NaN\n",
      "2  Faisalabad         34.0        NaN\n",
      "3      Jhelum         36.0        NaN\n",
      "0      Lahore          NaN        7.0\n",
      "1      Multan          NaN        8.0\n",
      "2  Faisalabad          NaN        9.0\n",
      "3      Jhelum          NaN       10.0\n"
     ]
    }
   ],
   "source": [
    "print(WDF)"
   ]
  },
  {
   "cell_type": "code",
   "execution_count": 212,
   "metadata": {},
   "outputs": [],
   "source": [
    "#CONCATENATE (w.r.t Col)::Solution\n",
    "WDF1=pd.concat([WTem,WWS],axis=1)"
   ]
  },
  {
   "cell_type": "code",
   "execution_count": 213,
   "metadata": {},
   "outputs": [
    {
     "name": "stdout",
     "output_type": "stream",
     "text": [
      "         City  Temperature        City  WindSpeed\n",
      "0      Lahore           30      Lahore          7\n",
      "1      Multan           32      Multan          8\n",
      "2  Faisalabad           34  Faisalabad          9\n",
      "3      Jhelum           36      Jhelum         10\n"
     ]
    }
   ],
   "source": [
    "print(WDF1)"
   ]
  },
  {
   "cell_type": "code",
   "execution_count": 214,
   "metadata": {},
   "outputs": [],
   "source": [
    "#CONCATENATE (w.r.t Col)::Example-2"
   ]
  },
  {
   "cell_type": "code",
   "execution_count": 215,
   "metadata": {},
   "outputs": [],
   "source": [
    "WTem1= pd.read_csv('WTem1.csv')\n",
    "WWS1= pd.read_csv('WWS1.csv')"
   ]
  },
  {
   "cell_type": "code",
   "execution_count": 216,
   "metadata": {},
   "outputs": [
    {
     "name": "stdout",
     "output_type": "stream",
     "text": [
      "         City  Temperature\n",
      "0      Lahore           30\n",
      "1      Multan           32\n",
      "2  Faisalabad           34\n",
      "3      Jhelum           36\n"
     ]
    }
   ],
   "source": [
    "print(WTem1)"
   ]
  },
  {
   "cell_type": "code",
   "execution_count": 217,
   "metadata": {},
   "outputs": [
    {
     "name": "stdout",
     "output_type": "stream",
     "text": [
      "         City  WindSpeed\n",
      "0  Faisalabad          9\n",
      "1      Jhelum         10\n",
      "2      Lahore          7\n",
      "3      Multan          8\n"
     ]
    }
   ],
   "source": [
    "print(WWS1)"
   ]
  },
  {
   "cell_type": "code",
   "execution_count": 218,
   "metadata": {},
   "outputs": [],
   "source": [
    "WDF2=pd.concat([WTem1,WWS1],axis=1)"
   ]
  },
  {
   "cell_type": "code",
   "execution_count": 219,
   "metadata": {},
   "outputs": [
    {
     "name": "stdout",
     "output_type": "stream",
     "text": [
      "         City  Temperature        City  WindSpeed\n",
      "0      Lahore           30  Faisalabad          9\n",
      "1      Multan           32      Jhelum         10\n",
      "2  Faisalabad           34      Lahore          7\n",
      "3      Jhelum           36      Multan          8\n"
     ]
    }
   ],
   "source": [
    "print(WDF2)"
   ]
  },
  {
   "cell_type": "code",
   "execution_count": 220,
   "metadata": {},
   "outputs": [],
   "source": [
    "#CONCATENATE (w.r.t Col)::Example-2::Solution"
   ]
  },
  {
   "cell_type": "code",
   "execution_count": 221,
   "metadata": {},
   "outputs": [],
   "source": [
    "weather_data_Temp=pd.DataFrame({'City':['LHR','SHD','GJW','SKT'],\n",
    "                                'temperature':[30,32,34,36]},index=[0,1,2,3])"
   ]
  },
  {
   "cell_type": "code",
   "execution_count": 222,
   "metadata": {},
   "outputs": [],
   "source": [
    "weather_data_wind=pd.DataFrame({'City':['SKT','GJW','SHD','LHR'],\n",
    "                                'windspeed':[7,8,9,10]},index=[3,2,1,0])"
   ]
  },
  {
   "cell_type": "code",
   "execution_count": 223,
   "metadata": {},
   "outputs": [],
   "source": [
    "weather_datar=pd.concat([weather_data_Temp,weather_data_wind],axis=1)"
   ]
  },
  {
   "cell_type": "code",
   "execution_count": 224,
   "metadata": {},
   "outputs": [
    {
     "name": "stdout",
     "output_type": "stream",
     "text": [
      "  City  temperature City  windspeed\n",
      "0  LHR           30  LHR         10\n",
      "1  SHD           32  SHD          9\n",
      "2  GJW           34  GJW          8\n",
      "3  SKT           36  SKT          7\n"
     ]
    }
   ],
   "source": [
    "print(weather_datar)"
   ]
  },
  {
   "cell_type": "code",
   "execution_count": 225,
   "metadata": {},
   "outputs": [],
   "source": [
    "#Merge Dataframes::Example-1"
   ]
  },
  {
   "cell_type": "code",
   "execution_count": 226,
   "metadata": {},
   "outputs": [],
   "source": [
    "weather_data_Temp=pd.DataFrame({'City':['LHR','SHD','GJW','SKT'],\n",
    "                                'temperature':[30,32,34,36]})"
   ]
  },
  {
   "cell_type": "code",
   "execution_count": 227,
   "metadata": {},
   "outputs": [],
   "source": [
    "weather_data_wind=pd.DataFrame({'City':['SKT','GJW','SHD','LHR'],\n",
    "                                'windspeed':[7,8,9,10]})"
   ]
  },
  {
   "cell_type": "code",
   "execution_count": 228,
   "metadata": {},
   "outputs": [],
   "source": [
    "wfs=pd.merge(weather_data_Temp,weather_data_wind,on=\"City\")"
   ]
  },
  {
   "cell_type": "code",
   "execution_count": 229,
   "metadata": {},
   "outputs": [
    {
     "name": "stdout",
     "output_type": "stream",
     "text": [
      "  City  temperature  windspeed\n",
      "0  LHR           30         10\n",
      "1  SHD           32          9\n",
      "2  GJW           34          8\n",
      "3  SKT           36          7\n"
     ]
    }
   ],
   "source": [
    "print(wfs)"
   ]
  },
  {
   "cell_type": "code",
   "execution_count": 230,
   "metadata": {},
   "outputs": [
    {
     "name": "stderr",
     "output_type": "stream",
     "text": [
      "C:\\Users\\iwx499921\\AppData\\Local\\Continuum\\anaconda3\\lib\\site-packages\\ipykernel_launcher.py:2: ParserWarning: Falling back to the 'python' engine because the 'c' engine does not support skipfooter; you can avoid this warning by specifying engine='python'.\n",
      "  \n"
     ]
    }
   ],
   "source": [
    "#Merge Dataframes::Example-2\n",
    "Family= pd.read_csv('Family.csv',skipfooter=1)"
   ]
  },
  {
   "cell_type": "code",
   "execution_count": 231,
   "metadata": {},
   "outputs": [
    {
     "name": "stdout",
     "output_type": "stream",
     "text": [
      "            Name           ID          Program\n",
      "0   Irfan Kareem  F2018279005           MS(CS)\n",
      "1  Rizwan Kareem  F2017279005          BS Math\n",
      "2   Ayyan Kareem  F2016279004  FSC Pre-Medical\n"
     ]
    }
   ],
   "source": [
    "print(Family)"
   ]
  },
  {
   "cell_type": "code",
   "execution_count": 232,
   "metadata": {},
   "outputs": [],
   "source": [
    "Math= pd.read_csv('Math.txt',sep=\",\")"
   ]
  },
  {
   "cell_type": "code",
   "execution_count": 233,
   "metadata": {},
   "outputs": [
    {
     "name": "stdout",
     "output_type": "stream",
     "text": [
      "            ID  Math\n",
      "0  F2017313014    98\n",
      "1  F2017313016    96\n",
      "2  F2017313018    94\n"
     ]
    }
   ],
   "source": [
    "print(Math)"
   ]
  },
  {
   "cell_type": "code",
   "execution_count": 234,
   "metadata": {},
   "outputs": [],
   "source": [
    "FR=pd.merge(Family,Math,on=\"ID\")"
   ]
  },
  {
   "cell_type": "code",
   "execution_count": 235,
   "metadata": {},
   "outputs": [
    {
     "name": "stdout",
     "output_type": "stream",
     "text": [
      "Empty DataFrame\n",
      "Columns: [Name, ID, Program, Math]\n",
      "Index: []\n"
     ]
    }
   ],
   "source": [
    "print(FR)"
   ]
  },
  {
   "cell_type": "code",
   "execution_count": 236,
   "metadata": {},
   "outputs": [],
   "source": [
    "#Merge Dataframes::Inner Join"
   ]
  },
  {
   "cell_type": "code",
   "execution_count": 237,
   "metadata": {},
   "outputs": [],
   "source": [
    "Student= pd.read_csv('ListStu.txt',sep=\",\")"
   ]
  },
  {
   "cell_type": "code",
   "execution_count": 238,
   "metadata": {},
   "outputs": [
    {
     "name": "stdout",
     "output_type": "stream",
     "text": [
      "            ID                 Name Program\n",
      "0  F2018313014           Umer Saeed  MS(DS)\n",
      "1  F2018313015            Ali Ahmed     BBA\n",
      "2  F2018313016      Ahmed Abdullah   BS(CS)\n",
      "3  F2018313017          Bilal Iqbal  MS(TE)\n",
      "4  F2018279005         Irfan Kareem  MS(CS)\n",
      "5  F2018313019  Muhammad Ijlal Khan  BS(CE)\n"
     ]
    }
   ],
   "source": [
    "print(Student)"
   ]
  },
  {
   "cell_type": "code",
   "execution_count": 239,
   "metadata": {},
   "outputs": [],
   "source": [
    "age= pd.read_csv('Listage.txt',sep=\",\")"
   ]
  },
  {
   "cell_type": "code",
   "execution_count": 240,
   "metadata": {},
   "outputs": [
    {
     "name": "stdout",
     "output_type": "stream",
     "text": [
      "            ID  age\n",
      "0  F2018313014   37\n",
      "1  F2018313016   28\n",
      "2  F2018313017   25\n",
      "3  F2018313019   28\n"
     ]
    }
   ],
   "source": [
    "print(age)"
   ]
  },
  {
   "cell_type": "code",
   "execution_count": 241,
   "metadata": {},
   "outputs": [],
   "source": [
    "table1=pd.merge(Student,age,on=\"ID\")"
   ]
  },
  {
   "cell_type": "code",
   "execution_count": 242,
   "metadata": {},
   "outputs": [
    {
     "name": "stdout",
     "output_type": "stream",
     "text": [
      "            ID                 Name Program  age\n",
      "0  F2018313014           Umer Saeed  MS(DS)   37\n",
      "1  F2018313016      Ahmed Abdullah   BS(CS)   28\n",
      "2  F2018313017          Bilal Iqbal  MS(TE)   25\n",
      "3  F2018313019  Muhammad Ijlal Khan  BS(CE)   28\n"
     ]
    }
   ],
   "source": [
    "print(table1)"
   ]
  },
  {
   "cell_type": "code",
   "execution_count": 243,
   "metadata": {},
   "outputs": [],
   "source": [
    "table2=pd.merge(Student,age,on=\"ID\",how=\"inner\")"
   ]
  },
  {
   "cell_type": "code",
   "execution_count": 244,
   "metadata": {},
   "outputs": [
    {
     "name": "stdout",
     "output_type": "stream",
     "text": [
      "            ID                 Name Program  age\n",
      "0  F2018313014           Umer Saeed  MS(DS)   37\n",
      "1  F2018313016      Ahmed Abdullah   BS(CS)   28\n",
      "2  F2018313017          Bilal Iqbal  MS(TE)   25\n",
      "3  F2018313019  Muhammad Ijlal Khan  BS(CE)   28\n"
     ]
    }
   ],
   "source": [
    "print(table2)"
   ]
  },
  {
   "cell_type": "code",
   "execution_count": 245,
   "metadata": {},
   "outputs": [],
   "source": [
    "#Merge Dataframes::Outer Join"
   ]
  },
  {
   "cell_type": "code",
   "execution_count": 246,
   "metadata": {},
   "outputs": [],
   "source": [
    "Student= pd.read_csv('ListStu.txt',sep=\",\")"
   ]
  },
  {
   "cell_type": "code",
   "execution_count": 247,
   "metadata": {},
   "outputs": [
    {
     "name": "stdout",
     "output_type": "stream",
     "text": [
      "            ID                 Name Program\n",
      "0  F2018313014           Umer Saeed  MS(DS)\n",
      "1  F2018313015            Ali Ahmed     BBA\n",
      "2  F2018313016      Ahmed Abdullah   BS(CS)\n",
      "3  F2018313017          Bilal Iqbal  MS(TE)\n",
      "4  F2018279005         Irfan Kareem  MS(CS)\n",
      "5  F2018313019  Muhammad Ijlal Khan  BS(CE)\n"
     ]
    }
   ],
   "source": [
    "print(Student)"
   ]
  },
  {
   "cell_type": "code",
   "execution_count": 248,
   "metadata": {},
   "outputs": [
    {
     "name": "stdout",
     "output_type": "stream",
     "text": [
      "            ID  age\n",
      "0  F2018313014   37\n",
      "1  F2018313016   28\n",
      "2  F2018313017   25\n",
      "3  F2018313019   28\n"
     ]
    }
   ],
   "source": [
    "age= pd.read_csv('Listage.txt',sep=\",\")\n",
    "print(age)"
   ]
  },
  {
   "cell_type": "code",
   "execution_count": 249,
   "metadata": {},
   "outputs": [],
   "source": [
    "table3=pd.merge(Student,age,on=\"ID\",how=\"outer\")"
   ]
  },
  {
   "cell_type": "code",
   "execution_count": 250,
   "metadata": {},
   "outputs": [
    {
     "name": "stdout",
     "output_type": "stream",
     "text": [
      "            ID                 Name Program   age\n",
      "0  F2018313014           Umer Saeed  MS(DS)  37.0\n",
      "1  F2018313015            Ali Ahmed     BBA   NaN\n",
      "2  F2018313016      Ahmed Abdullah   BS(CS)  28.0\n",
      "3  F2018313017          Bilal Iqbal  MS(TE)  25.0\n",
      "4  F2018279005         Irfan Kareem  MS(CS)   NaN\n",
      "5  F2018313019  Muhammad Ijlal Khan  BS(CE)  28.0\n"
     ]
    }
   ],
   "source": [
    "print(table3)"
   ]
  },
  {
   "cell_type": "code",
   "execution_count": 251,
   "metadata": {},
   "outputs": [],
   "source": [
    "#Merge Dataframes::Left Join"
   ]
  },
  {
   "cell_type": "code",
   "execution_count": 252,
   "metadata": {},
   "outputs": [],
   "source": [
    "Student= pd.read_csv('ListStu.txt',sep=\",\")"
   ]
  },
  {
   "cell_type": "code",
   "execution_count": 253,
   "metadata": {},
   "outputs": [
    {
     "name": "stdout",
     "output_type": "stream",
     "text": [
      "            ID                 Name Program\n",
      "0  F2018313014           Umer Saeed  MS(DS)\n",
      "1  F2018313015            Ali Ahmed     BBA\n",
      "2  F2018313016      Ahmed Abdullah   BS(CS)\n",
      "3  F2018313017          Bilal Iqbal  MS(TE)\n",
      "4  F2018279005         Irfan Kareem  MS(CS)\n",
      "5  F2018313019  Muhammad Ijlal Khan  BS(CE)\n"
     ]
    }
   ],
   "source": [
    "print(Student)"
   ]
  },
  {
   "cell_type": "code",
   "execution_count": 254,
   "metadata": {},
   "outputs": [
    {
     "name": "stdout",
     "output_type": "stream",
     "text": [
      "            ID  age\n",
      "0  F2018313014   37\n",
      "1  F2018313016   28\n",
      "2  F2018313017   25\n",
      "3  F2018313019   28\n"
     ]
    }
   ],
   "source": [
    "age= pd.read_csv('Listage.txt',sep=\",\")\n",
    "print(age)"
   ]
  },
  {
   "cell_type": "code",
   "execution_count": 255,
   "metadata": {},
   "outputs": [],
   "source": [
    "table4=pd.merge(Student,age,on=\"ID\",how=\"left\")"
   ]
  },
  {
   "cell_type": "code",
   "execution_count": 256,
   "metadata": {},
   "outputs": [
    {
     "name": "stdout",
     "output_type": "stream",
     "text": [
      "            ID                 Name Program   age\n",
      "0  F2018313014           Umer Saeed  MS(DS)  37.0\n",
      "1  F2018313015            Ali Ahmed     BBA   NaN\n",
      "2  F2018313016      Ahmed Abdullah   BS(CS)  28.0\n",
      "3  F2018313017          Bilal Iqbal  MS(TE)  25.0\n",
      "4  F2018279005         Irfan Kareem  MS(CS)   NaN\n",
      "5  F2018313019  Muhammad Ijlal Khan  BS(CE)  28.0\n"
     ]
    }
   ],
   "source": [
    "print(table4)"
   ]
  },
  {
   "cell_type": "code",
   "execution_count": 257,
   "metadata": {},
   "outputs": [],
   "source": [
    "#Merge Dataframes::Right Join"
   ]
  },
  {
   "cell_type": "code",
   "execution_count": 258,
   "metadata": {},
   "outputs": [],
   "source": [
    "table5=pd.merge(Student,age,on=\"ID\",how=\"right\")"
   ]
  },
  {
   "cell_type": "code",
   "execution_count": 259,
   "metadata": {},
   "outputs": [
    {
     "name": "stdout",
     "output_type": "stream",
     "text": [
      "            ID                 Name Program  age\n",
      "0  F2018313014           Umer Saeed  MS(DS)   37\n",
      "1  F2018313016      Ahmed Abdullah   BS(CS)   28\n",
      "2  F2018313017          Bilal Iqbal  MS(TE)   25\n",
      "3  F2018313019  Muhammad Ijlal Khan  BS(CE)   28\n"
     ]
    }
   ],
   "source": [
    "print(table5)"
   ]
  },
  {
   "cell_type": "code",
   "execution_count": 260,
   "metadata": {},
   "outputs": [],
   "source": [
    "#Merge Dataframes::Indicator"
   ]
  },
  {
   "cell_type": "code",
   "execution_count": 261,
   "metadata": {},
   "outputs": [],
   "source": [
    "table6=pd.merge(Student,age,on=\"ID\",how=\"outer\",indicator=True)"
   ]
  },
  {
   "cell_type": "code",
   "execution_count": 262,
   "metadata": {},
   "outputs": [
    {
     "name": "stdout",
     "output_type": "stream",
     "text": [
      "            ID                 Name Program   age     _merge\n",
      "0  F2018313014           Umer Saeed  MS(DS)  37.0       both\n",
      "1  F2018313015            Ali Ahmed     BBA   NaN  left_only\n",
      "2  F2018313016      Ahmed Abdullah   BS(CS)  28.0       both\n",
      "3  F2018313017          Bilal Iqbal  MS(TE)  25.0       both\n",
      "4  F2018279005         Irfan Kareem  MS(CS)   NaN  left_only\n",
      "5  F2018313019  Muhammad Ijlal Khan  BS(CE)  28.0       both\n"
     ]
    }
   ],
   "source": [
    "print(table6)"
   ]
  },
  {
   "cell_type": "code",
   "execution_count": 263,
   "metadata": {},
   "outputs": [],
   "source": [
    "#Merge Dataframes::Suffixes (Example-1)"
   ]
  },
  {
   "cell_type": "code",
   "execution_count": 264,
   "metadata": {},
   "outputs": [],
   "source": [
    "df1=pd.DataFrame({'ID':['F2018313014','F2018313015'],'Marks':[98,97]})"
   ]
  },
  {
   "cell_type": "code",
   "execution_count": 265,
   "metadata": {},
   "outputs": [
    {
     "name": "stdout",
     "output_type": "stream",
     "text": [
      "            ID  Marks\n",
      "0  F2018313014     98\n",
      "1  F2018313015     97\n"
     ]
    }
   ],
   "source": [
    "print(df1)"
   ]
  },
  {
   "cell_type": "code",
   "execution_count": 266,
   "metadata": {},
   "outputs": [],
   "source": [
    "df2=pd.DataFrame({'ID':['F2018313014','F2018313015'],'Marks':[96,95]})"
   ]
  },
  {
   "cell_type": "code",
   "execution_count": 267,
   "metadata": {},
   "outputs": [
    {
     "name": "stdout",
     "output_type": "stream",
     "text": [
      "            ID  Marks\n",
      "0  F2018313014     96\n",
      "1  F2018313015     95\n"
     ]
    }
   ],
   "source": [
    "print(df2)"
   ]
  },
  {
   "cell_type": "code",
   "execution_count": 268,
   "metadata": {},
   "outputs": [],
   "source": [
    "df3=pd.merge(df1,df2,on=\"ID\")"
   ]
  },
  {
   "cell_type": "code",
   "execution_count": 269,
   "metadata": {},
   "outputs": [
    {
     "name": "stdout",
     "output_type": "stream",
     "text": [
      "            ID  Marks_x  Marks_y\n",
      "0  F2018313014       98       96\n",
      "1  F2018313015       97       95\n"
     ]
    }
   ],
   "source": [
    "print(df3)"
   ]
  },
  {
   "cell_type": "code",
   "execution_count": 270,
   "metadata": {},
   "outputs": [],
   "source": [
    "#Merge Dataframes::Suffixes (Example-2)"
   ]
  },
  {
   "cell_type": "code",
   "execution_count": 271,
   "metadata": {},
   "outputs": [],
   "source": [
    "df1=pd.DataFrame({'ID':['F2018313014','F2018313015'],'Marks':[98,97]})"
   ]
  },
  {
   "cell_type": "code",
   "execution_count": 272,
   "metadata": {},
   "outputs": [
    {
     "name": "stdout",
     "output_type": "stream",
     "text": [
      "            ID  Marks\n",
      "0  F2018313014     98\n",
      "1  F2018313015     97\n"
     ]
    }
   ],
   "source": [
    "print(df1)"
   ]
  },
  {
   "cell_type": "code",
   "execution_count": 273,
   "metadata": {},
   "outputs": [],
   "source": [
    "df2=pd.DataFrame({'ID':['F2018313014','F2018313015'],'Marks':[96,95]})"
   ]
  },
  {
   "cell_type": "code",
   "execution_count": 274,
   "metadata": {},
   "outputs": [
    {
     "name": "stdout",
     "output_type": "stream",
     "text": [
      "            ID  Marks\n",
      "0  F2018313014     96\n",
      "1  F2018313015     95\n"
     ]
    }
   ],
   "source": [
    "print(df2)"
   ]
  },
  {
   "cell_type": "code",
   "execution_count": 275,
   "metadata": {},
   "outputs": [],
   "source": [
    "df3=pd.merge(df1,df2,on=\"ID\",suffixes=('_Math','_Physics'))"
   ]
  },
  {
   "cell_type": "code",
   "execution_count": 276,
   "metadata": {},
   "outputs": [
    {
     "name": "stdout",
     "output_type": "stream",
     "text": [
      "            ID  Marks_Math  Marks_Physics\n",
      "0  F2018313014          98             96\n",
      "1  F2018313015          97             95\n"
     ]
    }
   ],
   "source": [
    "print(df3)"
   ]
  },
  {
   "cell_type": "code",
   "execution_count": 277,
   "metadata": {},
   "outputs": [],
   "source": [
    "#Pivot (pivot allows us to transform or reshape data)"
   ]
  },
  {
   "cell_type": "code",
   "execution_count": 278,
   "metadata": {},
   "outputs": [],
   "source": [
    "We3= pd.read_csv('Weather3.csv')"
   ]
  },
  {
   "cell_type": "code",
   "execution_count": 279,
   "metadata": {},
   "outputs": [
    {
     "name": "stdout",
     "output_type": "stream",
     "text": [
      "       Date     City  Temperature  Humidity\n",
      "0  1-Mar-19   Lahore            5        20\n",
      "1  2-Mar-19   Lahore            8        25\n",
      "2  3-Mar-19   Lahore           10        15\n",
      "3  4-Mar-19  Karachi           15        40\n",
      "4  5-Mar-19  Karachi           18        45\n",
      "5  6-Mar-19  Karachi           20        50\n",
      "6  7-Mar-19  RWP/ISB            4        15\n",
      "7  8-Mar-19  RWP/ISB            7        20\n",
      "8  9-Mar-19  RWP/ISB            9        10\n"
     ]
    }
   ],
   "source": [
    "print(We3)"
   ]
  },
  {
   "cell_type": "code",
   "execution_count": 280,
   "metadata": {},
   "outputs": [],
   "source": [
    "df1=We3.pivot(index=\"Date\",columns=\"City\")"
   ]
  },
  {
   "cell_type": "code",
   "execution_count": 281,
   "metadata": {},
   "outputs": [
    {
     "name": "stdout",
     "output_type": "stream",
     "text": [
      "         Temperature                Humidity               \n",
      "City         Karachi Lahore RWP/ISB  Karachi Lahore RWP/ISB\n",
      "Date                                                       \n",
      "1-Mar-19         NaN    5.0     NaN      NaN   20.0     NaN\n",
      "2-Mar-19         NaN    8.0     NaN      NaN   25.0     NaN\n",
      "3-Mar-19         NaN   10.0     NaN      NaN   15.0     NaN\n",
      "4-Mar-19        15.0    NaN     NaN     40.0    NaN     NaN\n",
      "5-Mar-19        18.0    NaN     NaN     45.0    NaN     NaN\n",
      "6-Mar-19        20.0    NaN     NaN     50.0    NaN     NaN\n",
      "7-Mar-19         NaN    NaN     4.0      NaN    NaN    15.0\n",
      "8-Mar-19         NaN    NaN     7.0      NaN    NaN    20.0\n",
      "9-Mar-19         NaN    NaN     9.0      NaN    NaN    10.0\n"
     ]
    }
   ],
   "source": [
    "print(df1)"
   ]
  },
  {
   "cell_type": "code",
   "execution_count": 282,
   "metadata": {},
   "outputs": [],
   "source": [
    "# if only Temperature values required."
   ]
  },
  {
   "cell_type": "code",
   "execution_count": 283,
   "metadata": {},
   "outputs": [],
   "source": [
    "df2=We3.pivot(index=\"Date\",columns=\"City\",values='Temperature')"
   ]
  },
  {
   "cell_type": "code",
   "execution_count": 284,
   "metadata": {},
   "outputs": [
    {
     "name": "stdout",
     "output_type": "stream",
     "text": [
      "City      Karachi  Lahore  RWP/ISB\n",
      "Date                              \n",
      "1-Mar-19      NaN     5.0      NaN\n",
      "2-Mar-19      NaN     8.0      NaN\n",
      "3-Mar-19      NaN    10.0      NaN\n",
      "4-Mar-19     15.0     NaN      NaN\n",
      "5-Mar-19     18.0     NaN      NaN\n",
      "6-Mar-19     20.0     NaN      NaN\n",
      "7-Mar-19      NaN     NaN      4.0\n",
      "8-Mar-19      NaN     NaN      7.0\n",
      "9-Mar-19      NaN     NaN      9.0\n"
     ]
    }
   ],
   "source": [
    "print(df2)"
   ]
  },
  {
   "cell_type": "code",
   "execution_count": 285,
   "metadata": {},
   "outputs": [],
   "source": [
    "#Pivot Table\n",
    "# #Pivot table is used to summarize and aggregate data inside dataframe"
   ]
  },
  {
   "cell_type": "code",
   "execution_count": 286,
   "metadata": {},
   "outputs": [],
   "source": [
    "We4= pd.read_csv('Weather4.csv')"
   ]
  },
  {
   "cell_type": "code",
   "execution_count": 287,
   "metadata": {},
   "outputs": [
    {
     "name": "stdout",
     "output_type": "stream",
     "text": [
      "         Date     City  Temperature  Humidity\n",
      "0    1-Mar-19   Lahore            5        20\n",
      "1    2-Mar-19   Lahore            4        15\n",
      "2    3-Mar-19   Lahore            8        25\n",
      "3    4-Mar-19   Lahore            7        10\n",
      "4    5-Mar-19   Lahore           10        15\n",
      "5    6-Mar-19   Lahore            1         2\n",
      "6    7-Mar-19  Karachi           15        40\n",
      "7    8-Mar-19  Karachi           10        20\n",
      "8    9-Mar-19  Karachi           18        45\n",
      "9   10-Mar-19  Karachi            9        22\n",
      "10  11-Mar-19  Karachi           20        50\n",
      "11  12-Mar-19  Karachi           10        25\n",
      "12  13-Mar-19  RWP/ISB            4        15\n",
      "13  14-Mar-19  RWP/ISB            2         7\n",
      "14  15-Mar-19  RWP/ISB            7        20\n",
      "15  16-Mar-19  RWP/ISB            3        10\n",
      "16  17-Mar-19  RWP/ISB            9        10\n",
      "17  18-Mar-19  RWP/ISB            3         3\n"
     ]
    }
   ],
   "source": [
    "print(We4)"
   ]
  },
  {
   "cell_type": "code",
   "execution_count": 288,
   "metadata": {},
   "outputs": [],
   "source": [
    "#Summary of the Data (Example-1)\n",
    "\n",
    "hello=We4.pivot_table(index=\"City\",columns=\"Date\")"
   ]
  },
  {
   "cell_type": "code",
   "execution_count": 289,
   "metadata": {},
   "outputs": [
    {
     "name": "stdout",
     "output_type": "stream",
     "text": [
      "        Humidity                                                              \\\n",
      "Date    1-Mar-19 10-Mar-19 11-Mar-19 12-Mar-19 13-Mar-19 14-Mar-19 15-Mar-19   \n",
      "City                                                                           \n",
      "Karachi      NaN      22.0      50.0      25.0       NaN       NaN       NaN   \n",
      "Lahore      20.0       NaN       NaN       NaN       NaN       NaN       NaN   \n",
      "RWP/ISB      NaN       NaN       NaN       NaN      15.0       7.0      20.0   \n",
      "\n",
      "                                        ...    Temperature                     \\\n",
      "Date    16-Mar-19 17-Mar-19 18-Mar-19   ...      17-Mar-19 18-Mar-19 2-Mar-19   \n",
      "City                                    ...                                     \n",
      "Karachi       NaN       NaN       NaN   ...            NaN       NaN      NaN   \n",
      "Lahore        NaN       NaN       NaN   ...            NaN       NaN      4.0   \n",
      "RWP/ISB      10.0      10.0       3.0   ...            9.0       3.0      NaN   \n",
      "\n",
      "                                                                        \n",
      "Date    3-Mar-19 4-Mar-19 5-Mar-19 6-Mar-19 7-Mar-19 8-Mar-19 9-Mar-19  \n",
      "City                                                                    \n",
      "Karachi      NaN      NaN      NaN      NaN     15.0     10.0     18.0  \n",
      "Lahore       8.0      7.0     10.0      1.0      NaN      NaN      NaN  \n",
      "RWP/ISB      NaN      NaN      NaN      NaN      NaN      NaN      NaN  \n",
      "\n",
      "[3 rows x 36 columns]\n"
     ]
    }
   ],
   "source": [
    "print(hello)"
   ]
  },
  {
   "cell_type": "code",
   "execution_count": 290,
   "metadata": {},
   "outputs": [
    {
     "name": "stdout",
     "output_type": "stream",
     "text": [
      "Date     1-Mar-19  10-Mar-19  11-Mar-19  12-Mar-19  13-Mar-19  14-Mar-19  \\\n",
      "City                                                                       \n",
      "Karachi       NaN        9.0       20.0       10.0        NaN        NaN   \n",
      "Lahore        5.0        NaN        NaN        NaN        NaN        NaN   \n",
      "RWP/ISB       NaN        NaN        NaN        NaN        4.0        2.0   \n",
      "\n",
      "Date     15-Mar-19  16-Mar-19  17-Mar-19  18-Mar-19  2-Mar-19  3-Mar-19  \\\n",
      "City                                                                      \n",
      "Karachi        NaN        NaN        NaN        NaN       NaN       NaN   \n",
      "Lahore         NaN        NaN        NaN        NaN       4.0       8.0   \n",
      "RWP/ISB        7.0        3.0        9.0        3.0       NaN       NaN   \n",
      "\n",
      "Date     4-Mar-19  5-Mar-19  6-Mar-19  7-Mar-19  8-Mar-19  9-Mar-19  \n",
      "City                                                                 \n",
      "Karachi       NaN       NaN       NaN      15.0      10.0      18.0  \n",
      "Lahore        7.0      10.0       1.0       NaN       NaN       NaN  \n",
      "RWP/ISB       NaN       NaN       NaN       NaN       NaN       NaN  \n"
     ]
    }
   ],
   "source": [
    "#Summary of the Data (Example-2)\n",
    "hi=We4.pivot_table(index=\"City\",columns=\"Date\",values='Temperature')\n",
    "print(hi)"
   ]
  },
  {
   "cell_type": "code",
   "execution_count": 291,
   "metadata": {},
   "outputs": [],
   "source": [
    "#Summary of the Data (aggfunc:sum)\n",
    "df3=We4.pivot_table(index=\"City\",columns=\"Date\",values='Temperature',aggfunc='sum')"
   ]
  },
  {
   "cell_type": "code",
   "execution_count": 292,
   "metadata": {},
   "outputs": [
    {
     "name": "stdout",
     "output_type": "stream",
     "text": [
      "Date     1-Mar-19  10-Mar-19  11-Mar-19  12-Mar-19  13-Mar-19  14-Mar-19  \\\n",
      "City                                                                       \n",
      "Karachi       NaN        9.0       20.0       10.0        NaN        NaN   \n",
      "Lahore        5.0        NaN        NaN        NaN        NaN        NaN   \n",
      "RWP/ISB       NaN        NaN        NaN        NaN        4.0        2.0   \n",
      "\n",
      "Date     15-Mar-19  16-Mar-19  17-Mar-19  18-Mar-19  2-Mar-19  3-Mar-19  \\\n",
      "City                                                                      \n",
      "Karachi        NaN        NaN        NaN        NaN       NaN       NaN   \n",
      "Lahore         NaN        NaN        NaN        NaN       4.0       8.0   \n",
      "RWP/ISB        7.0        3.0        9.0        3.0       NaN       NaN   \n",
      "\n",
      "Date     4-Mar-19  5-Mar-19  6-Mar-19  7-Mar-19  8-Mar-19  9-Mar-19  \n",
      "City                                                                 \n",
      "Karachi       NaN       NaN       NaN      15.0      10.0      18.0  \n",
      "Lahore        7.0      10.0       1.0       NaN       NaN       NaN  \n",
      "RWP/ISB       NaN       NaN       NaN       NaN       NaN       NaN  \n"
     ]
    }
   ],
   "source": [
    "print(df3)"
   ]
  },
  {
   "cell_type": "code",
   "execution_count": 293,
   "metadata": {},
   "outputs": [],
   "source": [
    "df4=We4.pivot_table(index=\"City\",columns=\"Date\",values='Temperature',aggfunc='mean')"
   ]
  },
  {
   "cell_type": "code",
   "execution_count": 294,
   "metadata": {},
   "outputs": [
    {
     "name": "stdout",
     "output_type": "stream",
     "text": [
      "Date     1-Mar-19  10-Mar-19  11-Mar-19  12-Mar-19  13-Mar-19  14-Mar-19  \\\n",
      "City                                                                       \n",
      "Karachi       NaN        9.0       20.0       10.0        NaN        NaN   \n",
      "Lahore        5.0        NaN        NaN        NaN        NaN        NaN   \n",
      "RWP/ISB       NaN        NaN        NaN        NaN        4.0        2.0   \n",
      "\n",
      "Date     15-Mar-19  16-Mar-19  17-Mar-19  18-Mar-19  2-Mar-19  3-Mar-19  \\\n",
      "City                                                                      \n",
      "Karachi        NaN        NaN        NaN        NaN       NaN       NaN   \n",
      "Lahore         NaN        NaN        NaN        NaN       4.0       8.0   \n",
      "RWP/ISB        7.0        3.0        9.0        3.0       NaN       NaN   \n",
      "\n",
      "Date     4-Mar-19  5-Mar-19  6-Mar-19  7-Mar-19  8-Mar-19  9-Mar-19  \n",
      "City                                                                 \n",
      "Karachi       NaN       NaN       NaN      15.0      10.0      18.0  \n",
      "Lahore        7.0      10.0       1.0       NaN       NaN       NaN  \n",
      "RWP/ISB       NaN       NaN       NaN       NaN       NaN       NaN  \n"
     ]
    }
   ],
   "source": [
    "print(df4)"
   ]
  },
  {
   "cell_type": "code",
   "execution_count": 295,
   "metadata": {},
   "outputs": [],
   "source": [
    "#Melt is used to transform or reshape data"
   ]
  },
  {
   "cell_type": "code",
   "execution_count": 296,
   "metadata": {},
   "outputs": [],
   "source": [
    "we8= pd.read_csv('Weather6.csv')"
   ]
  },
  {
   "cell_type": "code",
   "execution_count": 297,
   "metadata": {},
   "outputs": [
    {
     "name": "stdout",
     "output_type": "stream",
     "text": [
      "         Day  Lahore  Karachi  RWP/ISB\n",
      "0     Monday      10       20        9\n",
      "1    Tuesday      11       21        8\n",
      "2  Wednesday      12       22        7\n",
      "3   Thursday      13       23        6\n",
      "4     Friday      14       24        5\n",
      "5   Saturday      15       25        4\n",
      "6     Sunday      16       26        3\n"
     ]
    }
   ],
   "source": [
    "print(we8)"
   ]
  },
  {
   "cell_type": "code",
   "execution_count": 298,
   "metadata": {},
   "outputs": [],
   "source": [
    "we9=pd.melt(we8,id_vars=[\"Day\"])"
   ]
  },
  {
   "cell_type": "code",
   "execution_count": 299,
   "metadata": {},
   "outputs": [
    {
     "name": "stdout",
     "output_type": "stream",
     "text": [
      "          Day variable  value\n",
      "0      Monday   Lahore     10\n",
      "1     Tuesday   Lahore     11\n",
      "2   Wednesday   Lahore     12\n",
      "3    Thursday   Lahore     13\n",
      "4      Friday   Lahore     14\n",
      "5    Saturday   Lahore     15\n",
      "6      Sunday   Lahore     16\n",
      "7      Monday  Karachi     20\n",
      "8     Tuesday  Karachi     21\n",
      "9   Wednesday  Karachi     22\n",
      "10   Thursday  Karachi     23\n",
      "11     Friday  Karachi     24\n",
      "12   Saturday  Karachi     25\n",
      "13     Sunday  Karachi     26\n",
      "14     Monday  RWP/ISB      9\n",
      "15    Tuesday  RWP/ISB      8\n",
      "16  Wednesday  RWP/ISB      7\n",
      "17   Thursday  RWP/ISB      6\n",
      "18     Friday  RWP/ISB      5\n",
      "19   Saturday  RWP/ISB      4\n",
      "20     Sunday  RWP/ISB      3\n"
     ]
    }
   ],
   "source": [
    "print(we9)"
   ]
  },
  {
   "cell_type": "code",
   "execution_count": 300,
   "metadata": {},
   "outputs": [],
   "source": [
    "#Melt (example-2) assign variable and value name"
   ]
  },
  {
   "cell_type": "code",
   "execution_count": 301,
   "metadata": {},
   "outputs": [],
   "source": [
    "we10=pd.melt(we8,id_vars=[\"Day\"],var_name=\"City\", value_name='Temp')"
   ]
  },
  {
   "cell_type": "code",
   "execution_count": 302,
   "metadata": {},
   "outputs": [
    {
     "name": "stdout",
     "output_type": "stream",
     "text": [
      "          Day     City  Temp\n",
      "0      Monday   Lahore    10\n",
      "1     Tuesday   Lahore    11\n",
      "2   Wednesday   Lahore    12\n",
      "3    Thursday   Lahore    13\n",
      "4      Friday   Lahore    14\n",
      "5    Saturday   Lahore    15\n",
      "6      Sunday   Lahore    16\n",
      "7      Monday  Karachi    20\n",
      "8     Tuesday  Karachi    21\n",
      "9   Wednesday  Karachi    22\n",
      "10   Thursday  Karachi    23\n",
      "11     Friday  Karachi    24\n",
      "12   Saturday  Karachi    25\n",
      "13     Sunday  Karachi    26\n",
      "14     Monday  RWP/ISB     9\n",
      "15    Tuesday  RWP/ISB     8\n",
      "16  Wednesday  RWP/ISB     7\n",
      "17   Thursday  RWP/ISB     6\n",
      "18     Friday  RWP/ISB     5\n",
      "19   Saturday  RWP/ISB     4\n",
      "20     Sunday  RWP/ISB     3\n"
     ]
    }
   ],
   "source": [
    "print(we10)"
   ]
  },
  {
   "cell_type": "code",
   "execution_count": 303,
   "metadata": {},
   "outputs": [],
   "source": [
    "#Melt (example-2) Filter"
   ]
  },
  {
   "cell_type": "code",
   "execution_count": 304,
   "metadata": {},
   "outputs": [],
   "source": [
    "we11=we10[we10[\"City\"]==\"Lahore\"]"
   ]
  },
  {
   "cell_type": "code",
   "execution_count": 305,
   "metadata": {},
   "outputs": [
    {
     "name": "stdout",
     "output_type": "stream",
     "text": [
      "         Day    City  Temp\n",
      "0     Monday  Lahore    10\n",
      "1    Tuesday  Lahore    11\n",
      "2  Wednesday  Lahore    12\n",
      "3   Thursday  Lahore    13\n",
      "4     Friday  Lahore    14\n",
      "5   Saturday  Lahore    15\n",
      "6     Sunday  Lahore    16\n"
     ]
    }
   ],
   "source": [
    "print(we11)"
   ]
  },
  {
   "cell_type": "code",
   "execution_count": 306,
   "metadata": {},
   "outputs": [],
   "source": [
    "#Pandas Stack (Example-1)"
   ]
  },
  {
   "cell_type": "code",
   "execution_count": 307,
   "metadata": {},
   "outputs": [],
   "source": [
    "df=pd.read_excel(\"Company.xlsx\",header=[0,1])"
   ]
  },
  {
   "cell_type": "code",
   "execution_count": 308,
   "metadata": {},
   "outputs": [
    {
     "name": "stdout",
     "output_type": "stream",
     "text": [
      "              Price                  Price to earning rate                 \n",
      "Company    Facebook Google Microsoft              Facebook Google Microsoft\n",
      "2019-03-02      150   1000       500                    33     43        83\n",
      "2019-03-03      140    950       400                    34     53        93\n",
      "2019-03-04      135    900       300                    35     63       103\n",
      "2019-03-05      130    800       200                    36     73       113\n"
     ]
    }
   ],
   "source": [
    "print(df)"
   ]
  },
  {
   "cell_type": "code",
   "execution_count": 309,
   "metadata": {},
   "outputs": [],
   "source": [
    "df1=df.stack()"
   ]
  },
  {
   "cell_type": "code",
   "execution_count": 310,
   "metadata": {},
   "outputs": [
    {
     "name": "stdout",
     "output_type": "stream",
     "text": [
      "                      Price  Price to earning rate\n",
      "           Company                                \n",
      "2019-03-02 Facebook     150                     33\n",
      "           Google      1000                     43\n",
      "           Microsoft    500                     83\n",
      "2019-03-03 Facebook     140                     34\n",
      "           Google       950                     53\n",
      "           Microsoft    400                     93\n",
      "2019-03-04 Facebook     135                     35\n",
      "           Google       900                     63\n",
      "           Microsoft    300                    103\n",
      "2019-03-05 Facebook     130                     36\n",
      "           Google       800                     73\n",
      "           Microsoft    200                    113\n"
     ]
    }
   ],
   "source": [
    "print(df1)"
   ]
  },
  {
   "cell_type": "code",
   "execution_count": 311,
   "metadata": {},
   "outputs": [],
   "source": [
    "df2=df1.stack(level=0)"
   ]
  },
  {
   "cell_type": "code",
   "execution_count": 312,
   "metadata": {},
   "outputs": [
    {
     "name": "stdout",
     "output_type": "stream",
     "text": [
      "            Company                         \n",
      "2019-03-02  Facebook   Price                     150\n",
      "                       Price to earning rate      33\n",
      "            Google     Price                    1000\n",
      "                       Price to earning rate      43\n",
      "            Microsoft  Price                     500\n",
      "                       Price to earning rate      83\n",
      "2019-03-03  Facebook   Price                     140\n",
      "                       Price to earning rate      34\n",
      "            Google     Price                     950\n",
      "                       Price to earning rate      53\n",
      "            Microsoft  Price                     400\n",
      "                       Price to earning rate      93\n",
      "2019-03-04  Facebook   Price                     135\n",
      "                       Price to earning rate      35\n",
      "            Google     Price                     900\n",
      "                       Price to earning rate      63\n",
      "            Microsoft  Price                     300\n",
      "                       Price to earning rate     103\n",
      "2019-03-05  Facebook   Price                     130\n",
      "                       Price to earning rate      36\n",
      "            Google     Price                     800\n",
      "                       Price to earning rate      73\n",
      "            Microsoft  Price                     200\n",
      "                       Price to earning rate     113\n",
      "dtype: int64\n"
     ]
    }
   ],
   "source": [
    "print(df2)"
   ]
  },
  {
   "cell_type": "code",
   "execution_count": 313,
   "metadata": {},
   "outputs": [],
   "source": [
    "#Pandas Unstack"
   ]
  },
  {
   "cell_type": "code",
   "execution_count": 314,
   "metadata": {},
   "outputs": [],
   "source": [
    "df3=df1.unstack()"
   ]
  },
  {
   "cell_type": "code",
   "execution_count": 315,
   "metadata": {},
   "outputs": [
    {
     "name": "stdout",
     "output_type": "stream",
     "text": [
      "              Price                  Price to earning rate                 \n",
      "Company    Facebook Google Microsoft              Facebook Google Microsoft\n",
      "2019-03-02      150   1000       500                    33     43        83\n",
      "2019-03-03      140    950       400                    34     53        93\n",
      "2019-03-04      135    900       300                    35     63       103\n",
      "2019-03-05      130    800       200                    36     73       113\n"
     ]
    }
   ],
   "source": [
    "print(df3)"
   ]
  },
  {
   "cell_type": "code",
   "execution_count": 316,
   "metadata": {},
   "outputs": [],
   "source": [
    "#Pandas Stack (Example-2)\n",
    "df=pd.read_excel(\"Company1.xlsx\",header=[0,1,2])"
   ]
  },
  {
   "cell_type": "code",
   "execution_count": 317,
   "metadata": {},
   "outputs": [
    {
     "name": "stdout",
     "output_type": "stream",
     "text": [
      "           Price Ratio                                                \\\n",
      "                 Price                  Price to earning rate          \n",
      "Company       Facebook Google Microsoft              Facebook Google   \n",
      "2019-03-02         150   1000       500                    33     43   \n",
      "2019-03-03         140    950       400                    34     53   \n",
      "2019-03-04         135    900       300                    35     63   \n",
      "2019-03-05         130    800       200                    36     73   \n",
      "\n",
      "                     Income Statement                                     \\\n",
      "                            Net Sales                  Net Profit          \n",
      "Company    Microsoft         Facebook Google Microsoft   Facebook Google   \n",
      "2019-03-02        83              150   1000       500         33     43   \n",
      "2019-03-03        93              140    950       400         34     53   \n",
      "2019-03-04       103              135    900       300         35     63   \n",
      "2019-03-05       113              130    800       200         36     73   \n",
      "\n",
      "                      \n",
      "                      \n",
      "Company    Microsoft  \n",
      "2019-03-02        83  \n",
      "2019-03-03        93  \n",
      "2019-03-04       103  \n",
      "2019-03-05       113  \n"
     ]
    }
   ],
   "source": [
    "print(df)"
   ]
  },
  {
   "cell_type": "code",
   "execution_count": 318,
   "metadata": {},
   "outputs": [],
   "source": [
    "df1=df.stack()"
   ]
  },
  {
   "cell_type": "code",
   "execution_count": 319,
   "metadata": {},
   "outputs": [
    {
     "name": "stdout",
     "output_type": "stream",
     "text": [
      "                     Income Statement           Price Ratio  \\\n",
      "                           Net Profit Net Sales       Price   \n",
      "           Company                                            \n",
      "2019-03-02 Facebook                33       150         150   \n",
      "           Google                  43      1000        1000   \n",
      "           Microsoft               83       500         500   \n",
      "2019-03-03 Facebook                34       140         140   \n",
      "           Google                  53       950         950   \n",
      "           Microsoft               93       400         400   \n",
      "2019-03-04 Facebook                35       135         135   \n",
      "           Google                  63       900         900   \n",
      "           Microsoft              103       300         300   \n",
      "2019-03-05 Facebook                36       130         130   \n",
      "           Google                  73       800         800   \n",
      "           Microsoft              113       200         200   \n",
      "\n",
      "                                            \n",
      "                     Price to earning rate  \n",
      "           Company                          \n",
      "2019-03-02 Facebook                     33  \n",
      "           Google                       43  \n",
      "           Microsoft                    83  \n",
      "2019-03-03 Facebook                     34  \n",
      "           Google                       53  \n",
      "           Microsoft                    93  \n",
      "2019-03-04 Facebook                     35  \n",
      "           Google                       63  \n",
      "           Microsoft                   103  \n",
      "2019-03-05 Facebook                     36  \n",
      "           Google                       73  \n",
      "           Microsoft                   113  \n"
     ]
    }
   ],
   "source": [
    "print(df1)"
   ]
  },
  {
   "cell_type": "code",
   "execution_count": 320,
   "metadata": {},
   "outputs": [],
   "source": [
    "df3=df.stack(level=0)"
   ]
  },
  {
   "cell_type": "code",
   "execution_count": 321,
   "metadata": {},
   "outputs": [
    {
     "name": "stdout",
     "output_type": "stream",
     "text": [
      "                            Net Profit                  Net Sales          \\\n",
      "Company                       Facebook Google Microsoft  Facebook  Google   \n",
      "2019-03-02 Income Statement       33.0   43.0      83.0     150.0  1000.0   \n",
      "           Price Ratio             NaN    NaN       NaN       NaN     NaN   \n",
      "2019-03-03 Income Statement       34.0   53.0      93.0     140.0   950.0   \n",
      "           Price Ratio             NaN    NaN       NaN       NaN     NaN   \n",
      "2019-03-04 Income Statement       35.0   63.0     103.0     135.0   900.0   \n",
      "           Price Ratio             NaN    NaN       NaN       NaN     NaN   \n",
      "2019-03-05 Income Statement       36.0   73.0     113.0     130.0   800.0   \n",
      "           Price Ratio             NaN    NaN       NaN       NaN     NaN   \n",
      "\n",
      "                                         Price                    \\\n",
      "Company                     Microsoft Facebook  Google Microsoft   \n",
      "2019-03-02 Income Statement     500.0      NaN     NaN       NaN   \n",
      "           Price Ratio            NaN    150.0  1000.0     500.0   \n",
      "2019-03-03 Income Statement     400.0      NaN     NaN       NaN   \n",
      "           Price Ratio            NaN    140.0   950.0     400.0   \n",
      "2019-03-04 Income Statement     300.0      NaN     NaN       NaN   \n",
      "           Price Ratio            NaN    135.0   900.0     300.0   \n",
      "2019-03-05 Income Statement     200.0      NaN     NaN       NaN   \n",
      "           Price Ratio            NaN    130.0   800.0     200.0   \n",
      "\n",
      "                            Price to earning rate                   \n",
      "Company                                  Facebook Google Microsoft  \n",
      "2019-03-02 Income Statement                   NaN    NaN       NaN  \n",
      "           Price Ratio                       33.0   43.0      83.0  \n",
      "2019-03-03 Income Statement                   NaN    NaN       NaN  \n",
      "           Price Ratio                       34.0   53.0      93.0  \n",
      "2019-03-04 Income Statement                   NaN    NaN       NaN  \n",
      "           Price Ratio                       35.0   63.0     103.0  \n",
      "2019-03-05 Income Statement                   NaN    NaN       NaN  \n",
      "           Price Ratio                       36.0   73.0     113.0  \n"
     ]
    }
   ],
   "source": [
    "print(df3)"
   ]
  },
  {
   "cell_type": "code",
   "execution_count": 322,
   "metadata": {},
   "outputs": [],
   "source": [
    "df4=df.stack(level=1)"
   ]
  },
  {
   "cell_type": "code",
   "execution_count": 323,
   "metadata": {},
   "outputs": [
    {
     "name": "stdout",
     "output_type": "stream",
     "text": [
      "                                 Income Statement                    \\\n",
      "Company                                  Facebook  Google Microsoft   \n",
      "2019-03-02 Net Profit                        33.0    43.0      83.0   \n",
      "           Net Sales                        150.0  1000.0     500.0   \n",
      "           Price                              NaN     NaN       NaN   \n",
      "           Price to earning rate              NaN     NaN       NaN   \n",
      "2019-03-03 Net Profit                        34.0    53.0      93.0   \n",
      "           Net Sales                        140.0   950.0     400.0   \n",
      "           Price                              NaN     NaN       NaN   \n",
      "           Price to earning rate              NaN     NaN       NaN   \n",
      "2019-03-04 Net Profit                        35.0    63.0     103.0   \n",
      "           Net Sales                        135.0   900.0     300.0   \n",
      "           Price                              NaN     NaN       NaN   \n",
      "           Price to earning rate              NaN     NaN       NaN   \n",
      "2019-03-05 Net Profit                        36.0    73.0     113.0   \n",
      "           Net Sales                        130.0   800.0     200.0   \n",
      "           Price                              NaN     NaN       NaN   \n",
      "           Price to earning rate              NaN     NaN       NaN   \n",
      "\n",
      "                                 Price Ratio                    \n",
      "Company                             Facebook  Google Microsoft  \n",
      "2019-03-02 Net Profit                    NaN     NaN       NaN  \n",
      "           Net Sales                     NaN     NaN       NaN  \n",
      "           Price                       150.0  1000.0     500.0  \n",
      "           Price to earning rate        33.0    43.0      83.0  \n",
      "2019-03-03 Net Profit                    NaN     NaN       NaN  \n",
      "           Net Sales                     NaN     NaN       NaN  \n",
      "           Price                       140.0   950.0     400.0  \n",
      "           Price to earning rate        34.0    53.0      93.0  \n",
      "2019-03-04 Net Profit                    NaN     NaN       NaN  \n",
      "           Net Sales                     NaN     NaN       NaN  \n",
      "           Price                       135.0   900.0     300.0  \n",
      "           Price to earning rate        35.0    63.0     103.0  \n",
      "2019-03-05 Net Profit                    NaN     NaN       NaN  \n",
      "           Net Sales                     NaN     NaN       NaN  \n",
      "           Price                       130.0   800.0     200.0  \n",
      "           Price to earning rate        36.0    73.0     113.0  \n"
     ]
    }
   ],
   "source": [
    "print(df4)"
   ]
  },
  {
   "cell_type": "code",
   "execution_count": 324,
   "metadata": {},
   "outputs": [],
   "source": [
    "df5=df.stack(level=2)"
   ]
  },
  {
   "cell_type": "code",
   "execution_count": 325,
   "metadata": {},
   "outputs": [
    {
     "name": "stdout",
     "output_type": "stream",
     "text": [
      "                     Income Statement           Price Ratio  \\\n",
      "                           Net Profit Net Sales       Price   \n",
      "           Company                                            \n",
      "2019-03-02 Facebook                33       150         150   \n",
      "           Google                  43      1000        1000   \n",
      "           Microsoft               83       500         500   \n",
      "2019-03-03 Facebook                34       140         140   \n",
      "           Google                  53       950         950   \n",
      "           Microsoft               93       400         400   \n",
      "2019-03-04 Facebook                35       135         135   \n",
      "           Google                  63       900         900   \n",
      "           Microsoft              103       300         300   \n",
      "2019-03-05 Facebook                36       130         130   \n",
      "           Google                  73       800         800   \n",
      "           Microsoft              113       200         200   \n",
      "\n",
      "                                            \n",
      "                     Price to earning rate  \n",
      "           Company                          \n",
      "2019-03-02 Facebook                     33  \n",
      "           Google                       43  \n",
      "           Microsoft                    83  \n",
      "2019-03-03 Facebook                     34  \n",
      "           Google                       53  \n",
      "           Microsoft                    93  \n",
      "2019-03-04 Facebook                     35  \n",
      "           Google                       63  \n",
      "           Microsoft                   103  \n",
      "2019-03-05 Facebook                     36  \n",
      "           Google                       73  \n",
      "           Microsoft                   113  \n"
     ]
    }
   ],
   "source": [
    "print(df5)"
   ]
  },
  {
   "cell_type": "code",
   "execution_count": 326,
   "metadata": {},
   "outputs": [],
   "source": [
    "#Python Pandas Crosstab"
   ]
  },
  {
   "cell_type": "code",
   "execution_count": 327,
   "metadata": {},
   "outputs": [],
   "source": [
    "df=pd.read_csv(\"Handedness.csv\")"
   ]
  },
  {
   "cell_type": "code",
   "execution_count": 328,
   "metadata": {},
   "outputs": [
    {
     "name": "stdout",
     "output_type": "stream",
     "text": [
      "       Name Nationality     Sex  Age Handedness\n",
      "0       Ali    Pakistan    Male   32       Left\n",
      "1      Amir   Bangadesh    Male   28       Left\n",
      "2   Tauseef         KSA    Male   28       Left\n",
      "3     Sarah    Pakistan  Female    5      Right\n",
      "4      Umer    Pakistan    Male   36      Right\n",
      "5     Ahmed    Pakistan    Male   30      Right\n",
      "6     Bilal   Bangadesh    Male   30      Right\n",
      "7     Zarah   Bangadesh  Female    5      Right\n",
      "8     Ijlal   Bangadesh    Male   30      Right\n",
      "9     Yasir         KSA    Male   30      Right\n",
      "10   Kamran         KSA    Male   30      Right\n",
      "11     Sana         KSA  Female    5      Right\n"
     ]
    }
   ],
   "source": [
    "print(df)"
   ]
  },
  {
   "cell_type": "code",
   "execution_count": 329,
   "metadata": {},
   "outputs": [],
   "source": [
    "df1=pd.crosstab(df.Nationality,df.Handedness)"
   ]
  },
  {
   "cell_type": "code",
   "execution_count": 330,
   "metadata": {},
   "outputs": [
    {
     "name": "stdout",
     "output_type": "stream",
     "text": [
      "Handedness   Left  Right\n",
      "Nationality             \n",
      "Bangadesh       1      3\n",
      "KSA             1      3\n",
      "Pakistan        1      3\n"
     ]
    }
   ],
   "source": [
    "print(df1)"
   ]
  },
  {
   "cell_type": "code",
   "execution_count": 331,
   "metadata": {},
   "outputs": [],
   "source": [
    "df2=pd.crosstab(df.Sex,df.Handedness)"
   ]
  },
  {
   "cell_type": "code",
   "execution_count": 332,
   "metadata": {},
   "outputs": [
    {
     "name": "stdout",
     "output_type": "stream",
     "text": [
      "Handedness  Left  Right\n",
      "Sex                    \n",
      "Female         0      3\n",
      "Male           3      6\n"
     ]
    }
   ],
   "source": [
    "print(df2)"
   ]
  },
  {
   "cell_type": "code",
   "execution_count": 333,
   "metadata": {},
   "outputs": [],
   "source": [
    "df3=pd.crosstab(df.Sex,df.Handedness,margins=True)"
   ]
  },
  {
   "cell_type": "code",
   "execution_count": 334,
   "metadata": {},
   "outputs": [
    {
     "name": "stdout",
     "output_type": "stream",
     "text": [
      "Handedness  Left  Right  All\n",
      "Sex                         \n",
      "Female         0      3    3\n",
      "Male           3      6    9\n",
      "All            3      9   12\n"
     ]
    }
   ],
   "source": [
    "print(df3)"
   ]
  },
  {
   "cell_type": "code",
   "execution_count": 335,
   "metadata": {},
   "outputs": [],
   "source": [
    "df4=pd.crosstab(df.Sex,[df.Handedness,df.Nationality],margins=True)"
   ]
  },
  {
   "cell_type": "code",
   "execution_count": 336,
   "metadata": {},
   "outputs": [
    {
     "name": "stdout",
     "output_type": "stream",
     "text": [
      "Handedness       Left                  Right              All\n",
      "Nationality Bangadesh KSA Pakistan Bangadesh KSA Pakistan    \n",
      "Sex                                                          \n",
      "Female              0   0        0         1   1        1   3\n",
      "Male                1   1        1         2   2        2   9\n",
      "All                 1   1        1         3   3        3  12\n"
     ]
    }
   ],
   "source": [
    "print(df4)"
   ]
  },
  {
   "cell_type": "code",
   "execution_count": 337,
   "metadata": {},
   "outputs": [],
   "source": [
    "df5=pd.crosstab([df.Sex,df.Nationality],df.Handedness,margins=True)"
   ]
  },
  {
   "cell_type": "code",
   "execution_count": 338,
   "metadata": {},
   "outputs": [
    {
     "name": "stdout",
     "output_type": "stream",
     "text": [
      "Handedness          Left  Right  All\n",
      "Sex    Nationality                  \n",
      "Female Bangadesh       0      1    1\n",
      "       KSA             0      1    1\n",
      "       Pakistan        0      1    1\n",
      "Male   Bangadesh       1      2    3\n",
      "       KSA             1      2    3\n",
      "       Pakistan        1      2    3\n",
      "All                    3      9   12\n"
     ]
    }
   ],
   "source": [
    "print(df5)"
   ]
  },
  {
   "cell_type": "code",
   "execution_count": 339,
   "metadata": {},
   "outputs": [],
   "source": [
    "df6=pd.crosstab(df.Sex,df.Handedness,normalize='index')"
   ]
  },
  {
   "cell_type": "code",
   "execution_count": 340,
   "metadata": {},
   "outputs": [
    {
     "name": "stdout",
     "output_type": "stream",
     "text": [
      "Handedness      Left     Right\n",
      "Sex                           \n",
      "Female      0.000000  1.000000\n",
      "Male        0.333333  0.666667\n"
     ]
    }
   ],
   "source": [
    "print(df6)"
   ]
  },
  {
   "cell_type": "code",
   "execution_count": 341,
   "metadata": {},
   "outputs": [],
   "source": [
    "df7=pd.crosstab(df.Sex,df.Handedness,values=df.Age,aggfunc=np.average)"
   ]
  },
  {
   "cell_type": "code",
   "execution_count": 342,
   "metadata": {},
   "outputs": [
    {
     "name": "stdout",
     "output_type": "stream",
     "text": [
      "Handedness       Left  Right\n",
      "Sex                         \n",
      "Female            NaN    5.0\n",
      "Male        29.333333   31.0\n"
     ]
    }
   ],
   "source": [
    "print(df7)"
   ]
  },
  {
   "cell_type": "code",
   "execution_count": 343,
   "metadata": {},
   "outputs": [],
   "source": [
    "#groupby"
   ]
  },
  {
   "cell_type": "code",
   "execution_count": 344,
   "metadata": {},
   "outputs": [],
   "source": [
    "df= pd.read_csv('GroupBy.csv')"
   ]
  },
  {
   "cell_type": "code",
   "execution_count": 345,
   "metadata": {},
   "outputs": [
    {
     "name": "stdout",
     "output_type": "stream",
     "text": [
      "         Date    City  Temperature  Windspeed  Event\n",
      "0    2-Mar-19  Lahore            4          9   Rain\n",
      "1    3-Mar-19  Lahore            8          6   Snow\n",
      "2    4-Mar-19  Lahore           10          7  Sunny\n",
      "3    5-Mar-19  Lahore            6         12   Snow\n",
      "4    6-Mar-19     SKT            5         10  Sunny\n",
      "5    7-Mar-19     SKT            9          5   Snow\n",
      "6    8-Mar-19     SKT           11          4   Rain\n",
      "7    9-Mar-19     SKT            7         14   Snow\n",
      "8   10-Mar-19     HFZ            8         10  Sunny\n",
      "9   11-Mar-19     HFZ           10          5   Snow\n",
      "10  12-Mar-19     HFZ           12          4   Rain\n",
      "11  13-Mar-19     HFZ            8         14   Snow\n"
     ]
    }
   ],
   "source": [
    "print(df)"
   ]
  },
  {
   "cell_type": "code",
   "execution_count": 346,
   "metadata": {},
   "outputs": [],
   "source": [
    "dfg=df.groupby('City')"
   ]
  },
  {
   "cell_type": "code",
   "execution_count": 347,
   "metadata": {},
   "outputs": [
    {
     "name": "stdout",
     "output_type": "stream",
     "text": [
      "<pandas.core.groupby.groupby.DataFrameGroupBy object at 0x000001B8DF1B3F28>\n"
     ]
    }
   ],
   "source": [
    "print(dfg)"
   ]
  },
  {
   "cell_type": "code",
   "execution_count": 348,
   "metadata": {},
   "outputs": [
    {
     "name": "stdout",
     "output_type": "stream",
     "text": [
      "('HFZ',          Date City  Temperature  Windspeed  Event\n",
      "8   10-Mar-19  HFZ            8         10  Sunny\n",
      "9   11-Mar-19  HFZ           10          5   Snow\n",
      "10  12-Mar-19  HFZ           12          4   Rain\n",
      "11  13-Mar-19  HFZ            8         14   Snow)\n",
      "<pandas.core.groupby.groupby.DataFrameGroupBy object at 0x000001B8DF1B3F28>\n",
      "('Lahore',        Date    City  Temperature  Windspeed  Event\n",
      "0  2-Mar-19  Lahore            4          9   Rain\n",
      "1  3-Mar-19  Lahore            8          6   Snow\n",
      "2  4-Mar-19  Lahore           10          7  Sunny\n",
      "3  5-Mar-19  Lahore            6         12   Snow)\n",
      "<pandas.core.groupby.groupby.DataFrameGroupBy object at 0x000001B8DF1B3F28>\n",
      "('SKT',        Date City  Temperature  Windspeed  Event\n",
      "4  6-Mar-19  SKT            5         10  Sunny\n",
      "5  7-Mar-19  SKT            9          5   Snow\n",
      "6  8-Mar-19  SKT           11          4   Rain\n",
      "7  9-Mar-19  SKT            7         14   Snow)\n",
      "<pandas.core.groupby.groupby.DataFrameGroupBy object at 0x000001B8DF1B3F28>\n"
     ]
    }
   ],
   "source": [
    "for City in dfg:\n",
    "    print(City)\n",
    "    print(dfg)"
   ]
  },
  {
   "cell_type": "code",
   "execution_count": 349,
   "metadata": {},
   "outputs": [],
   "source": [
    "dfgg=dfg.get_group('Lahore')"
   ]
  },
  {
   "cell_type": "code",
   "execution_count": 350,
   "metadata": {},
   "outputs": [
    {
     "name": "stdout",
     "output_type": "stream",
     "text": [
      "       Date    City  Temperature  Windspeed  Event\n",
      "0  2-Mar-19  Lahore            4          9   Rain\n",
      "1  3-Mar-19  Lahore            8          6   Snow\n",
      "2  4-Mar-19  Lahore           10          7  Sunny\n",
      "3  5-Mar-19  Lahore            6         12   Snow\n"
     ]
    }
   ],
   "source": [
    "print(dfgg)"
   ]
  },
  {
   "cell_type": "code",
   "execution_count": 351,
   "metadata": {},
   "outputs": [],
   "source": [
    "dfgt=dfg['Temperature'].max()"
   ]
  },
  {
   "cell_type": "code",
   "execution_count": 352,
   "metadata": {},
   "outputs": [
    {
     "name": "stdout",
     "output_type": "stream",
     "text": [
      "City\n",
      "HFZ       12\n",
      "Lahore    10\n",
      "SKT       11\n",
      "Name: Temperature, dtype: int64\n"
     ]
    }
   ],
   "source": [
    "print(dfgt)"
   ]
  },
  {
   "cell_type": "code",
   "execution_count": 353,
   "metadata": {},
   "outputs": [
    {
     "data": {
      "text/html": [
       "<div>\n",
       "<style scoped>\n",
       "    .dataframe tbody tr th:only-of-type {\n",
       "        vertical-align: middle;\n",
       "    }\n",
       "\n",
       "    .dataframe tbody tr th {\n",
       "        vertical-align: top;\n",
       "    }\n",
       "\n",
       "    .dataframe thead th {\n",
       "        text-align: right;\n",
       "    }\n",
       "</style>\n",
       "<table border=\"1\" class=\"dataframe\">\n",
       "  <thead>\n",
       "    <tr style=\"text-align: right;\">\n",
       "      <th></th>\n",
       "      <th>Temperature</th>\n",
       "      <th>Windspeed</th>\n",
       "    </tr>\n",
       "    <tr>\n",
       "      <th>City</th>\n",
       "      <th></th>\n",
       "      <th></th>\n",
       "    </tr>\n",
       "  </thead>\n",
       "  <tbody>\n",
       "    <tr>\n",
       "      <th>HFZ</th>\n",
       "      <td>9.5</td>\n",
       "      <td>8.25</td>\n",
       "    </tr>\n",
       "    <tr>\n",
       "      <th>Lahore</th>\n",
       "      <td>7.0</td>\n",
       "      <td>8.50</td>\n",
       "    </tr>\n",
       "    <tr>\n",
       "      <th>SKT</th>\n",
       "      <td>8.0</td>\n",
       "      <td>8.25</td>\n",
       "    </tr>\n",
       "  </tbody>\n",
       "</table>\n",
       "</div>"
      ],
      "text/plain": [
       "        Temperature  Windspeed\n",
       "City                          \n",
       "HFZ             9.5       8.25\n",
       "Lahore          7.0       8.50\n",
       "SKT             8.0       8.25"
      ]
     },
     "execution_count": 353,
     "metadata": {},
     "output_type": "execute_result"
    }
   ],
   "source": [
    "dfg.mean()"
   ]
  },
  {
   "cell_type": "code",
   "execution_count": 354,
   "metadata": {},
   "outputs": [
    {
     "data": {
      "text/html": [
       "<div>\n",
       "<style scoped>\n",
       "    .dataframe tbody tr th:only-of-type {\n",
       "        vertical-align: middle;\n",
       "    }\n",
       "\n",
       "    .dataframe tbody tr th {\n",
       "        vertical-align: top;\n",
       "    }\n",
       "\n",
       "    .dataframe thead tr th {\n",
       "        text-align: left;\n",
       "    }\n",
       "\n",
       "    .dataframe thead tr:last-of-type th {\n",
       "        text-align: right;\n",
       "    }\n",
       "</style>\n",
       "<table border=\"1\" class=\"dataframe\">\n",
       "  <thead>\n",
       "    <tr>\n",
       "      <th></th>\n",
       "      <th colspan=\"8\" halign=\"left\">Temperature</th>\n",
       "      <th colspan=\"8\" halign=\"left\">Windspeed</th>\n",
       "    </tr>\n",
       "    <tr>\n",
       "      <th></th>\n",
       "      <th>count</th>\n",
       "      <th>mean</th>\n",
       "      <th>std</th>\n",
       "      <th>min</th>\n",
       "      <th>25%</th>\n",
       "      <th>50%</th>\n",
       "      <th>75%</th>\n",
       "      <th>max</th>\n",
       "      <th>count</th>\n",
       "      <th>mean</th>\n",
       "      <th>std</th>\n",
       "      <th>min</th>\n",
       "      <th>25%</th>\n",
       "      <th>50%</th>\n",
       "      <th>75%</th>\n",
       "      <th>max</th>\n",
       "    </tr>\n",
       "    <tr>\n",
       "      <th>City</th>\n",
       "      <th></th>\n",
       "      <th></th>\n",
       "      <th></th>\n",
       "      <th></th>\n",
       "      <th></th>\n",
       "      <th></th>\n",
       "      <th></th>\n",
       "      <th></th>\n",
       "      <th></th>\n",
       "      <th></th>\n",
       "      <th></th>\n",
       "      <th></th>\n",
       "      <th></th>\n",
       "      <th></th>\n",
       "      <th></th>\n",
       "      <th></th>\n",
       "    </tr>\n",
       "  </thead>\n",
       "  <tbody>\n",
       "    <tr>\n",
       "      <th>HFZ</th>\n",
       "      <td>4.0</td>\n",
       "      <td>9.5</td>\n",
       "      <td>1.914854</td>\n",
       "      <td>8.0</td>\n",
       "      <td>8.0</td>\n",
       "      <td>9.0</td>\n",
       "      <td>10.5</td>\n",
       "      <td>12.0</td>\n",
       "      <td>4.0</td>\n",
       "      <td>8.25</td>\n",
       "      <td>4.645787</td>\n",
       "      <td>4.0</td>\n",
       "      <td>4.75</td>\n",
       "      <td>7.5</td>\n",
       "      <td>11.00</td>\n",
       "      <td>14.0</td>\n",
       "    </tr>\n",
       "    <tr>\n",
       "      <th>Lahore</th>\n",
       "      <td>4.0</td>\n",
       "      <td>7.0</td>\n",
       "      <td>2.581989</td>\n",
       "      <td>4.0</td>\n",
       "      <td>5.5</td>\n",
       "      <td>7.0</td>\n",
       "      <td>8.5</td>\n",
       "      <td>10.0</td>\n",
       "      <td>4.0</td>\n",
       "      <td>8.50</td>\n",
       "      <td>2.645751</td>\n",
       "      <td>6.0</td>\n",
       "      <td>6.75</td>\n",
       "      <td>8.0</td>\n",
       "      <td>9.75</td>\n",
       "      <td>12.0</td>\n",
       "    </tr>\n",
       "    <tr>\n",
       "      <th>SKT</th>\n",
       "      <td>4.0</td>\n",
       "      <td>8.0</td>\n",
       "      <td>2.581989</td>\n",
       "      <td>5.0</td>\n",
       "      <td>6.5</td>\n",
       "      <td>8.0</td>\n",
       "      <td>9.5</td>\n",
       "      <td>11.0</td>\n",
       "      <td>4.0</td>\n",
       "      <td>8.25</td>\n",
       "      <td>4.645787</td>\n",
       "      <td>4.0</td>\n",
       "      <td>4.75</td>\n",
       "      <td>7.5</td>\n",
       "      <td>11.00</td>\n",
       "      <td>14.0</td>\n",
       "    </tr>\n",
       "  </tbody>\n",
       "</table>\n",
       "</div>"
      ],
      "text/plain": [
       "       Temperature                                           Windspeed        \\\n",
       "             count mean       std  min  25%  50%   75%   max     count  mean   \n",
       "City                                                                           \n",
       "HFZ            4.0  9.5  1.914854  8.0  8.0  9.0  10.5  12.0       4.0  8.25   \n",
       "Lahore         4.0  7.0  2.581989  4.0  5.5  7.0   8.5  10.0       4.0  8.50   \n",
       "SKT            4.0  8.0  2.581989  5.0  6.5  8.0   9.5  11.0       4.0  8.25   \n",
       "\n",
       "                                               \n",
       "             std  min   25%  50%    75%   max  \n",
       "City                                           \n",
       "HFZ     4.645787  4.0  4.75  7.5  11.00  14.0  \n",
       "Lahore  2.645751  6.0  6.75  8.0   9.75  12.0  \n",
       "SKT     4.645787  4.0  4.75  7.5  11.00  14.0  "
      ]
     },
     "execution_count": 354,
     "metadata": {},
     "output_type": "execute_result"
    }
   ],
   "source": [
    "dfg.describe()"
   ]
  },
  {
   "cell_type": "code",
   "execution_count": null,
   "metadata": {},
   "outputs": [],
   "source": []
  }
 ],
 "metadata": {
  "kernelspec": {
   "display_name": "Python 3",
   "language": "python",
   "name": "python3"
  },
  "language_info": {
   "codemirror_mode": {
    "name": "ipython",
    "version": 3
   },
   "file_extension": ".py",
   "mimetype": "text/x-python",
   "name": "python",
   "nbconvert_exporter": "python",
   "pygments_lexer": "ipython3",
   "version": "3.6.5"
  }
 },
 "nbformat": 4,
 "nbformat_minor": 2
}
